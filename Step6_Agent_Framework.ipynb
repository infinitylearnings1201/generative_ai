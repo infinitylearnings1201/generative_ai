{
  "nbformat": 4,
  "nbformat_minor": 0,
  "metadata": {
    "colab": {
      "provenance": [],
      "authorship_tag": "ABX9TyNiQnzbLCNrQ6s0oOxJybqi",
      "include_colab_link": true
    },
    "kernelspec": {
      "name": "python3",
      "display_name": "Python 3"
    },
    "language_info": {
      "name": "python"
    }
  },
  "cells": [
    {
      "cell_type": "markdown",
      "metadata": {
        "id": "view-in-github",
        "colab_type": "text"
      },
      "source": [
        "<a href=\"https://colab.research.google.com/github/infinitylearnings1201/generative_ai/blob/gen_ai_fundamentals/Step6_Agent_Framework.ipynb\" target=\"_parent\"><img src=\"https://colab.research.google.com/assets/colab-badge.svg\" alt=\"Open In Colab\"/></a>"
      ]
    },
    {
      "cell_type": "code",
      "source": [
        "!pip install \"langchain[all]\"\n"
      ],
      "metadata": {
        "colab": {
          "base_uri": "https://localhost:8080/"
        },
        "id": "cbICCfxBloJ_",
        "outputId": "6cf50c9d-f699-4b95-9d19-2d16d28ead05",
        "collapsed": true
      },
      "execution_count": 1,
      "outputs": [
        {
          "output_type": "stream",
          "name": "stdout",
          "text": [
            "Requirement already satisfied: langchain[all] in /usr/local/lib/python3.10/dist-packages (0.3.4)\n",
            "\u001b[33mWARNING: langchain 0.3.4 does not provide the extra 'all'\u001b[0m\u001b[33m\n",
            "\u001b[0mRequirement already satisfied: PyYAML>=5.3 in /usr/local/lib/python3.10/dist-packages (from langchain[all]) (6.0.2)\n",
            "Requirement already satisfied: SQLAlchemy<3,>=1.4 in /usr/local/lib/python3.10/dist-packages (from langchain[all]) (2.0.36)\n",
            "Requirement already satisfied: aiohttp<4.0.0,>=3.8.3 in /usr/local/lib/python3.10/dist-packages (from langchain[all]) (3.10.10)\n",
            "Requirement already satisfied: async-timeout<5.0.0,>=4.0.0 in /usr/local/lib/python3.10/dist-packages (from langchain[all]) (4.0.3)\n",
            "Requirement already satisfied: langchain-core<0.4.0,>=0.3.12 in /usr/local/lib/python3.10/dist-packages (from langchain[all]) (0.3.13)\n",
            "Requirement already satisfied: langchain-text-splitters<0.4.0,>=0.3.0 in /usr/local/lib/python3.10/dist-packages (from langchain[all]) (0.3.0)\n",
            "Requirement already satisfied: langsmith<0.2.0,>=0.1.17 in /usr/local/lib/python3.10/dist-packages (from langchain[all]) (0.1.137)\n",
            "Requirement already satisfied: numpy<2,>=1 in /usr/local/lib/python3.10/dist-packages (from langchain[all]) (1.26.4)\n",
            "Requirement already satisfied: pydantic<3.0.0,>=2.7.4 in /usr/local/lib/python3.10/dist-packages (from langchain[all]) (2.9.2)\n",
            "Requirement already satisfied: requests<3,>=2 in /usr/local/lib/python3.10/dist-packages (from langchain[all]) (2.32.3)\n",
            "Requirement already satisfied: tenacity!=8.4.0,<10,>=8.1.0 in /usr/local/lib/python3.10/dist-packages (from langchain[all]) (9.0.0)\n",
            "Requirement already satisfied: aiohappyeyeballs>=2.3.0 in /usr/local/lib/python3.10/dist-packages (from aiohttp<4.0.0,>=3.8.3->langchain[all]) (2.4.3)\n",
            "Requirement already satisfied: aiosignal>=1.1.2 in /usr/local/lib/python3.10/dist-packages (from aiohttp<4.0.0,>=3.8.3->langchain[all]) (1.3.1)\n",
            "Requirement already satisfied: attrs>=17.3.0 in /usr/local/lib/python3.10/dist-packages (from aiohttp<4.0.0,>=3.8.3->langchain[all]) (24.2.0)\n",
            "Requirement already satisfied: frozenlist>=1.1.1 in /usr/local/lib/python3.10/dist-packages (from aiohttp<4.0.0,>=3.8.3->langchain[all]) (1.5.0)\n",
            "Requirement already satisfied: multidict<7.0,>=4.5 in /usr/local/lib/python3.10/dist-packages (from aiohttp<4.0.0,>=3.8.3->langchain[all]) (6.1.0)\n",
            "Requirement already satisfied: yarl<2.0,>=1.12.0 in /usr/local/lib/python3.10/dist-packages (from aiohttp<4.0.0,>=3.8.3->langchain[all]) (1.17.0)\n",
            "Requirement already satisfied: jsonpatch<2.0,>=1.33 in /usr/local/lib/python3.10/dist-packages (from langchain-core<0.4.0,>=0.3.12->langchain[all]) (1.33)\n",
            "Requirement already satisfied: packaging<25,>=23.2 in /usr/local/lib/python3.10/dist-packages (from langchain-core<0.4.0,>=0.3.12->langchain[all]) (24.1)\n",
            "Requirement already satisfied: typing-extensions>=4.7 in /usr/local/lib/python3.10/dist-packages (from langchain-core<0.4.0,>=0.3.12->langchain[all]) (4.12.2)\n",
            "Requirement already satisfied: httpx<1,>=0.23.0 in /usr/local/lib/python3.10/dist-packages (from langsmith<0.2.0,>=0.1.17->langchain[all]) (0.27.2)\n",
            "Requirement already satisfied: orjson<4.0.0,>=3.9.14 in /usr/local/lib/python3.10/dist-packages (from langsmith<0.2.0,>=0.1.17->langchain[all]) (3.10.10)\n",
            "Requirement already satisfied: requests-toolbelt<2.0.0,>=1.0.0 in /usr/local/lib/python3.10/dist-packages (from langsmith<0.2.0,>=0.1.17->langchain[all]) (1.0.0)\n",
            "Requirement already satisfied: annotated-types>=0.6.0 in /usr/local/lib/python3.10/dist-packages (from pydantic<3.0.0,>=2.7.4->langchain[all]) (0.7.0)\n",
            "Requirement already satisfied: pydantic-core==2.23.4 in /usr/local/lib/python3.10/dist-packages (from pydantic<3.0.0,>=2.7.4->langchain[all]) (2.23.4)\n",
            "Requirement already satisfied: charset-normalizer<4,>=2 in /usr/local/lib/python3.10/dist-packages (from requests<3,>=2->langchain[all]) (3.4.0)\n",
            "Requirement already satisfied: idna<4,>=2.5 in /usr/local/lib/python3.10/dist-packages (from requests<3,>=2->langchain[all]) (3.10)\n",
            "Requirement already satisfied: urllib3<3,>=1.21.1 in /usr/local/lib/python3.10/dist-packages (from requests<3,>=2->langchain[all]) (2.2.3)\n",
            "Requirement already satisfied: certifi>=2017.4.17 in /usr/local/lib/python3.10/dist-packages (from requests<3,>=2->langchain[all]) (2024.8.30)\n",
            "Requirement already satisfied: greenlet!=0.4.17 in /usr/local/lib/python3.10/dist-packages (from SQLAlchemy<3,>=1.4->langchain[all]) (3.1.1)\n",
            "Requirement already satisfied: anyio in /usr/local/lib/python3.10/dist-packages (from httpx<1,>=0.23.0->langsmith<0.2.0,>=0.1.17->langchain[all]) (3.7.1)\n",
            "Requirement already satisfied: httpcore==1.* in /usr/local/lib/python3.10/dist-packages (from httpx<1,>=0.23.0->langsmith<0.2.0,>=0.1.17->langchain[all]) (1.0.6)\n",
            "Requirement already satisfied: sniffio in /usr/local/lib/python3.10/dist-packages (from httpx<1,>=0.23.0->langsmith<0.2.0,>=0.1.17->langchain[all]) (1.3.1)\n",
            "Requirement already satisfied: h11<0.15,>=0.13 in /usr/local/lib/python3.10/dist-packages (from httpcore==1.*->httpx<1,>=0.23.0->langsmith<0.2.0,>=0.1.17->langchain[all]) (0.14.0)\n",
            "Requirement already satisfied: jsonpointer>=1.9 in /usr/local/lib/python3.10/dist-packages (from jsonpatch<2.0,>=1.33->langchain-core<0.4.0,>=0.3.12->langchain[all]) (3.0.0)\n",
            "Requirement already satisfied: propcache>=0.2.0 in /usr/local/lib/python3.10/dist-packages (from yarl<2.0,>=1.12.0->aiohttp<4.0.0,>=3.8.3->langchain[all]) (0.2.0)\n",
            "Requirement already satisfied: exceptiongroup in /usr/local/lib/python3.10/dist-packages (from anyio->httpx<1,>=0.23.0->langsmith<0.2.0,>=0.1.17->langchain[all]) (1.2.2)\n"
          ]
        }
      ]
    },
    {
      "cell_type": "code",
      "execution_count": 3,
      "metadata": {
        "id": "Ft6uyNamih6W",
        "colab": {
          "base_uri": "https://localhost:8080/"
        },
        "outputId": "4d17810e-4dc2-430d-c880-4c82dbfe634d",
        "collapsed": true
      },
      "outputs": [
        {
          "output_type": "stream",
          "name": "stdout",
          "text": [
            "Requirement already satisfied: langchain in /usr/local/lib/python3.10/dist-packages (0.3.4)\n",
            "Requirement already satisfied: openai in /usr/local/lib/python3.10/dist-packages (1.52.2)\n",
            "Requirement already satisfied: PyYAML>=5.3 in /usr/local/lib/python3.10/dist-packages (from langchain) (6.0.2)\n",
            "Requirement already satisfied: SQLAlchemy<3,>=1.4 in /usr/local/lib/python3.10/dist-packages (from langchain) (2.0.36)\n",
            "Requirement already satisfied: aiohttp<4.0.0,>=3.8.3 in /usr/local/lib/python3.10/dist-packages (from langchain) (3.10.10)\n",
            "Requirement already satisfied: async-timeout<5.0.0,>=4.0.0 in /usr/local/lib/python3.10/dist-packages (from langchain) (4.0.3)\n",
            "Requirement already satisfied: langchain-core<0.4.0,>=0.3.12 in /usr/local/lib/python3.10/dist-packages (from langchain) (0.3.13)\n",
            "Requirement already satisfied: langchain-text-splitters<0.4.0,>=0.3.0 in /usr/local/lib/python3.10/dist-packages (from langchain) (0.3.0)\n",
            "Requirement already satisfied: langsmith<0.2.0,>=0.1.17 in /usr/local/lib/python3.10/dist-packages (from langchain) (0.1.137)\n",
            "Requirement already satisfied: numpy<2,>=1 in /usr/local/lib/python3.10/dist-packages (from langchain) (1.26.4)\n",
            "Requirement already satisfied: pydantic<3.0.0,>=2.7.4 in /usr/local/lib/python3.10/dist-packages (from langchain) (2.9.2)\n",
            "Requirement already satisfied: requests<3,>=2 in /usr/local/lib/python3.10/dist-packages (from langchain) (2.32.3)\n",
            "Requirement already satisfied: tenacity!=8.4.0,<10,>=8.1.0 in /usr/local/lib/python3.10/dist-packages (from langchain) (9.0.0)\n",
            "Requirement already satisfied: anyio<5,>=3.5.0 in /usr/local/lib/python3.10/dist-packages (from openai) (3.7.1)\n",
            "Requirement already satisfied: distro<2,>=1.7.0 in /usr/local/lib/python3.10/dist-packages (from openai) (1.9.0)\n",
            "Requirement already satisfied: httpx<1,>=0.23.0 in /usr/local/lib/python3.10/dist-packages (from openai) (0.27.2)\n",
            "Requirement already satisfied: jiter<1,>=0.4.0 in /usr/local/lib/python3.10/dist-packages (from openai) (0.6.1)\n",
            "Requirement already satisfied: sniffio in /usr/local/lib/python3.10/dist-packages (from openai) (1.3.1)\n",
            "Requirement already satisfied: tqdm>4 in /usr/local/lib/python3.10/dist-packages (from openai) (4.66.6)\n",
            "Requirement already satisfied: typing-extensions<5,>=4.11 in /usr/local/lib/python3.10/dist-packages (from openai) (4.12.2)\n",
            "Requirement already satisfied: aiohappyeyeballs>=2.3.0 in /usr/local/lib/python3.10/dist-packages (from aiohttp<4.0.0,>=3.8.3->langchain) (2.4.3)\n",
            "Requirement already satisfied: aiosignal>=1.1.2 in /usr/local/lib/python3.10/dist-packages (from aiohttp<4.0.0,>=3.8.3->langchain) (1.3.1)\n",
            "Requirement already satisfied: attrs>=17.3.0 in /usr/local/lib/python3.10/dist-packages (from aiohttp<4.0.0,>=3.8.3->langchain) (24.2.0)\n",
            "Requirement already satisfied: frozenlist>=1.1.1 in /usr/local/lib/python3.10/dist-packages (from aiohttp<4.0.0,>=3.8.3->langchain) (1.5.0)\n",
            "Requirement already satisfied: multidict<7.0,>=4.5 in /usr/local/lib/python3.10/dist-packages (from aiohttp<4.0.0,>=3.8.3->langchain) (6.1.0)\n",
            "Requirement already satisfied: yarl<2.0,>=1.12.0 in /usr/local/lib/python3.10/dist-packages (from aiohttp<4.0.0,>=3.8.3->langchain) (1.17.0)\n",
            "Requirement already satisfied: idna>=2.8 in /usr/local/lib/python3.10/dist-packages (from anyio<5,>=3.5.0->openai) (3.10)\n",
            "Requirement already satisfied: exceptiongroup in /usr/local/lib/python3.10/dist-packages (from anyio<5,>=3.5.0->openai) (1.2.2)\n",
            "Requirement already satisfied: certifi in /usr/local/lib/python3.10/dist-packages (from httpx<1,>=0.23.0->openai) (2024.8.30)\n",
            "Requirement already satisfied: httpcore==1.* in /usr/local/lib/python3.10/dist-packages (from httpx<1,>=0.23.0->openai) (1.0.6)\n",
            "Requirement already satisfied: h11<0.15,>=0.13 in /usr/local/lib/python3.10/dist-packages (from httpcore==1.*->httpx<1,>=0.23.0->openai) (0.14.0)\n",
            "Requirement already satisfied: jsonpatch<2.0,>=1.33 in /usr/local/lib/python3.10/dist-packages (from langchain-core<0.4.0,>=0.3.12->langchain) (1.33)\n",
            "Requirement already satisfied: packaging<25,>=23.2 in /usr/local/lib/python3.10/dist-packages (from langchain-core<0.4.0,>=0.3.12->langchain) (24.1)\n",
            "Requirement already satisfied: orjson<4.0.0,>=3.9.14 in /usr/local/lib/python3.10/dist-packages (from langsmith<0.2.0,>=0.1.17->langchain) (3.10.10)\n",
            "Requirement already satisfied: requests-toolbelt<2.0.0,>=1.0.0 in /usr/local/lib/python3.10/dist-packages (from langsmith<0.2.0,>=0.1.17->langchain) (1.0.0)\n",
            "Requirement already satisfied: annotated-types>=0.6.0 in /usr/local/lib/python3.10/dist-packages (from pydantic<3.0.0,>=2.7.4->langchain) (0.7.0)\n",
            "Requirement already satisfied: pydantic-core==2.23.4 in /usr/local/lib/python3.10/dist-packages (from pydantic<3.0.0,>=2.7.4->langchain) (2.23.4)\n",
            "Requirement already satisfied: charset-normalizer<4,>=2 in /usr/local/lib/python3.10/dist-packages (from requests<3,>=2->langchain) (3.4.0)\n",
            "Requirement already satisfied: urllib3<3,>=1.21.1 in /usr/local/lib/python3.10/dist-packages (from requests<3,>=2->langchain) (2.2.3)\n",
            "Requirement already satisfied: greenlet!=0.4.17 in /usr/local/lib/python3.10/dist-packages (from SQLAlchemy<3,>=1.4->langchain) (3.1.1)\n",
            "Requirement already satisfied: jsonpointer>=1.9 in /usr/local/lib/python3.10/dist-packages (from jsonpatch<2.0,>=1.33->langchain-core<0.4.0,>=0.3.12->langchain) (3.0.0)\n",
            "Requirement already satisfied: propcache>=0.2.0 in /usr/local/lib/python3.10/dist-packages (from yarl<2.0,>=1.12.0->aiohttp<4.0.0,>=3.8.3->langchain) (0.2.0)\n"
          ]
        }
      ],
      "source": [
        "!pip install langchain openai"
      ]
    },
    {
      "cell_type": "code",
      "source": [
        "import os\n",
        "\n",
        "# Set the environment variable for the API key\n",
        "os.environ[\"OPENAI_API_KEY\"] = \"\""
      ],
      "metadata": {
        "id": "KcFdrmq0jJqq"
      },
      "execution_count": 12,
      "outputs": []
    },
    {
      "cell_type": "code",
      "source": [
        "pip install --upgrade langchain"
      ],
      "metadata": {
        "id": "htsi6z6tCK8d"
      },
      "execution_count": null,
      "outputs": []
    },
    {
      "cell_type": "code",
      "source": [
        "!pip install langchain_community"
      ],
      "metadata": {
        "colab": {
          "base_uri": "https://localhost:8080/"
        },
        "id": "lLaNCoJKEP8r",
        "outputId": "4e82710c-e339-4d6e-f30f-a06b3fb63185"
      },
      "execution_count": 2,
      "outputs": [
        {
          "output_type": "stream",
          "name": "stdout",
          "text": [
            "Collecting langchain_community\n",
            "  Downloading langchain_community-0.3.5-py3-none-any.whl.metadata (2.9 kB)\n",
            "Requirement already satisfied: PyYAML>=5.3 in /usr/local/lib/python3.10/dist-packages (from langchain_community) (6.0.2)\n",
            "Collecting SQLAlchemy<2.0.36,>=1.4 (from langchain_community)\n",
            "  Downloading SQLAlchemy-2.0.35-cp310-cp310-manylinux_2_17_x86_64.manylinux2014_x86_64.whl.metadata (9.6 kB)\n",
            "Requirement already satisfied: aiohttp<4.0.0,>=3.8.3 in /usr/local/lib/python3.10/dist-packages (from langchain_community) (3.10.10)\n",
            "Collecting dataclasses-json<0.7,>=0.5.7 (from langchain_community)\n",
            "  Downloading dataclasses_json-0.6.7-py3-none-any.whl.metadata (25 kB)\n",
            "Collecting httpx-sse<0.5.0,>=0.4.0 (from langchain_community)\n",
            "  Downloading httpx_sse-0.4.0-py3-none-any.whl.metadata (9.0 kB)\n",
            "Collecting langchain<0.4.0,>=0.3.6 (from langchain_community)\n",
            "  Downloading langchain-0.3.7-py3-none-any.whl.metadata (7.1 kB)\n",
            "Collecting langchain-core<0.4.0,>=0.3.15 (from langchain_community)\n",
            "  Downloading langchain_core-0.3.15-py3-none-any.whl.metadata (6.3 kB)\n",
            "Requirement already satisfied: langsmith<0.2.0,>=0.1.125 in /usr/local/lib/python3.10/dist-packages (from langchain_community) (0.1.137)\n",
            "Requirement already satisfied: numpy<2,>=1 in /usr/local/lib/python3.10/dist-packages (from langchain_community) (1.26.4)\n",
            "Collecting pydantic-settings<3.0.0,>=2.4.0 (from langchain_community)\n",
            "  Downloading pydantic_settings-2.6.1-py3-none-any.whl.metadata (3.5 kB)\n",
            "Requirement already satisfied: requests<3,>=2 in /usr/local/lib/python3.10/dist-packages (from langchain_community) (2.32.3)\n",
            "Requirement already satisfied: tenacity!=8.4.0,<10,>=8.1.0 in /usr/local/lib/python3.10/dist-packages (from langchain_community) (9.0.0)\n",
            "Requirement already satisfied: aiohappyeyeballs>=2.3.0 in /usr/local/lib/python3.10/dist-packages (from aiohttp<4.0.0,>=3.8.3->langchain_community) (2.4.3)\n",
            "Requirement already satisfied: aiosignal>=1.1.2 in /usr/local/lib/python3.10/dist-packages (from aiohttp<4.0.0,>=3.8.3->langchain_community) (1.3.1)\n",
            "Requirement already satisfied: attrs>=17.3.0 in /usr/local/lib/python3.10/dist-packages (from aiohttp<4.0.0,>=3.8.3->langchain_community) (24.2.0)\n",
            "Requirement already satisfied: frozenlist>=1.1.1 in /usr/local/lib/python3.10/dist-packages (from aiohttp<4.0.0,>=3.8.3->langchain_community) (1.5.0)\n",
            "Requirement already satisfied: multidict<7.0,>=4.5 in /usr/local/lib/python3.10/dist-packages (from aiohttp<4.0.0,>=3.8.3->langchain_community) (6.1.0)\n",
            "Requirement already satisfied: yarl<2.0,>=1.12.0 in /usr/local/lib/python3.10/dist-packages (from aiohttp<4.0.0,>=3.8.3->langchain_community) (1.17.0)\n",
            "Requirement already satisfied: async-timeout<5.0,>=4.0 in /usr/local/lib/python3.10/dist-packages (from aiohttp<4.0.0,>=3.8.3->langchain_community) (4.0.3)\n",
            "Collecting marshmallow<4.0.0,>=3.18.0 (from dataclasses-json<0.7,>=0.5.7->langchain_community)\n",
            "  Downloading marshmallow-3.23.1-py3-none-any.whl.metadata (7.5 kB)\n",
            "Collecting typing-inspect<1,>=0.4.0 (from dataclasses-json<0.7,>=0.5.7->langchain_community)\n",
            "  Downloading typing_inspect-0.9.0-py3-none-any.whl.metadata (1.5 kB)\n",
            "Requirement already satisfied: langchain-text-splitters<0.4.0,>=0.3.0 in /usr/local/lib/python3.10/dist-packages (from langchain<0.4.0,>=0.3.6->langchain_community) (0.3.0)\n",
            "Requirement already satisfied: pydantic<3.0.0,>=2.7.4 in /usr/local/lib/python3.10/dist-packages (from langchain<0.4.0,>=0.3.6->langchain_community) (2.9.2)\n",
            "Requirement already satisfied: jsonpatch<2.0,>=1.33 in /usr/local/lib/python3.10/dist-packages (from langchain-core<0.4.0,>=0.3.15->langchain_community) (1.33)\n",
            "Requirement already satisfied: packaging<25,>=23.2 in /usr/local/lib/python3.10/dist-packages (from langchain-core<0.4.0,>=0.3.15->langchain_community) (24.1)\n",
            "Requirement already satisfied: typing-extensions>=4.7 in /usr/local/lib/python3.10/dist-packages (from langchain-core<0.4.0,>=0.3.15->langchain_community) (4.12.2)\n",
            "Requirement already satisfied: httpx<1,>=0.23.0 in /usr/local/lib/python3.10/dist-packages (from langsmith<0.2.0,>=0.1.125->langchain_community) (0.27.2)\n",
            "Requirement already satisfied: orjson<4.0.0,>=3.9.14 in /usr/local/lib/python3.10/dist-packages (from langsmith<0.2.0,>=0.1.125->langchain_community) (3.10.10)\n",
            "Requirement already satisfied: requests-toolbelt<2.0.0,>=1.0.0 in /usr/local/lib/python3.10/dist-packages (from langsmith<0.2.0,>=0.1.125->langchain_community) (1.0.0)\n",
            "Collecting python-dotenv>=0.21.0 (from pydantic-settings<3.0.0,>=2.4.0->langchain_community)\n",
            "  Downloading python_dotenv-1.0.1-py3-none-any.whl.metadata (23 kB)\n",
            "Requirement already satisfied: charset-normalizer<4,>=2 in /usr/local/lib/python3.10/dist-packages (from requests<3,>=2->langchain_community) (3.4.0)\n",
            "Requirement already satisfied: idna<4,>=2.5 in /usr/local/lib/python3.10/dist-packages (from requests<3,>=2->langchain_community) (3.10)\n",
            "Requirement already satisfied: urllib3<3,>=1.21.1 in /usr/local/lib/python3.10/dist-packages (from requests<3,>=2->langchain_community) (2.2.3)\n",
            "Requirement already satisfied: certifi>=2017.4.17 in /usr/local/lib/python3.10/dist-packages (from requests<3,>=2->langchain_community) (2024.8.30)\n",
            "Requirement already satisfied: greenlet!=0.4.17 in /usr/local/lib/python3.10/dist-packages (from SQLAlchemy<2.0.36,>=1.4->langchain_community) (3.1.1)\n",
            "Requirement already satisfied: anyio in /usr/local/lib/python3.10/dist-packages (from httpx<1,>=0.23.0->langsmith<0.2.0,>=0.1.125->langchain_community) (3.7.1)\n",
            "Requirement already satisfied: httpcore==1.* in /usr/local/lib/python3.10/dist-packages (from httpx<1,>=0.23.0->langsmith<0.2.0,>=0.1.125->langchain_community) (1.0.6)\n",
            "Requirement already satisfied: sniffio in /usr/local/lib/python3.10/dist-packages (from httpx<1,>=0.23.0->langsmith<0.2.0,>=0.1.125->langchain_community) (1.3.1)\n",
            "Requirement already satisfied: h11<0.15,>=0.13 in /usr/local/lib/python3.10/dist-packages (from httpcore==1.*->httpx<1,>=0.23.0->langsmith<0.2.0,>=0.1.125->langchain_community) (0.14.0)\n",
            "Requirement already satisfied: jsonpointer>=1.9 in /usr/local/lib/python3.10/dist-packages (from jsonpatch<2.0,>=1.33->langchain-core<0.4.0,>=0.3.15->langchain_community) (3.0.0)\n",
            "Requirement already satisfied: annotated-types>=0.6.0 in /usr/local/lib/python3.10/dist-packages (from pydantic<3.0.0,>=2.7.4->langchain<0.4.0,>=0.3.6->langchain_community) (0.7.0)\n",
            "Requirement already satisfied: pydantic-core==2.23.4 in /usr/local/lib/python3.10/dist-packages (from pydantic<3.0.0,>=2.7.4->langchain<0.4.0,>=0.3.6->langchain_community) (2.23.4)\n",
            "Collecting mypy-extensions>=0.3.0 (from typing-inspect<1,>=0.4.0->dataclasses-json<0.7,>=0.5.7->langchain_community)\n",
            "  Downloading mypy_extensions-1.0.0-py3-none-any.whl.metadata (1.1 kB)\n",
            "Requirement already satisfied: propcache>=0.2.0 in /usr/local/lib/python3.10/dist-packages (from yarl<2.0,>=1.12.0->aiohttp<4.0.0,>=3.8.3->langchain_community) (0.2.0)\n",
            "Requirement already satisfied: exceptiongroup in /usr/local/lib/python3.10/dist-packages (from anyio->httpx<1,>=0.23.0->langsmith<0.2.0,>=0.1.125->langchain_community) (1.2.2)\n",
            "Downloading langchain_community-0.3.5-py3-none-any.whl (2.4 MB)\n",
            "\u001b[2K   \u001b[90m━━━━━━━━━━━━━━━━━━━━━━━━━━━━━━━━━━━━━━━━\u001b[0m \u001b[32m2.4/2.4 MB\u001b[0m \u001b[31m28.2 MB/s\u001b[0m eta \u001b[36m0:00:00\u001b[0m\n",
            "\u001b[?25hDownloading dataclasses_json-0.6.7-py3-none-any.whl (28 kB)\n",
            "Downloading httpx_sse-0.4.0-py3-none-any.whl (7.8 kB)\n",
            "Downloading langchain-0.3.7-py3-none-any.whl (1.0 MB)\n",
            "\u001b[2K   \u001b[90m━━━━━━━━━━━━━━━━━━━━━━━━━━━━━━━━━━━━━━━━\u001b[0m \u001b[32m1.0/1.0 MB\u001b[0m \u001b[31m44.9 MB/s\u001b[0m eta \u001b[36m0:00:00\u001b[0m\n",
            "\u001b[?25hDownloading langchain_core-0.3.15-py3-none-any.whl (408 kB)\n",
            "\u001b[2K   \u001b[90m━━━━━━━━━━━━━━━━━━━━━━━━━━━━━━━━━━━━━━━━\u001b[0m \u001b[32m408.7/408.7 kB\u001b[0m \u001b[31m24.9 MB/s\u001b[0m eta \u001b[36m0:00:00\u001b[0m\n",
            "\u001b[?25hDownloading pydantic_settings-2.6.1-py3-none-any.whl (28 kB)\n",
            "Downloading SQLAlchemy-2.0.35-cp310-cp310-manylinux_2_17_x86_64.manylinux2014_x86_64.whl (3.1 MB)\n",
            "\u001b[2K   \u001b[90m━━━━━━━━━━━━━━━━━━━━━━━━━━━━━━━━━━━━━━━━\u001b[0m \u001b[32m3.1/3.1 MB\u001b[0m \u001b[31m76.5 MB/s\u001b[0m eta \u001b[36m0:00:00\u001b[0m\n",
            "\u001b[?25hDownloading marshmallow-3.23.1-py3-none-any.whl (49 kB)\n",
            "\u001b[2K   \u001b[90m━━━━━━━━━━━━━━━━━━━━━━━━━━━━━━━━━━━━━━━━\u001b[0m \u001b[32m49.5/49.5 kB\u001b[0m \u001b[31m3.4 MB/s\u001b[0m eta \u001b[36m0:00:00\u001b[0m\n",
            "\u001b[?25hDownloading python_dotenv-1.0.1-py3-none-any.whl (19 kB)\n",
            "Downloading typing_inspect-0.9.0-py3-none-any.whl (8.8 kB)\n",
            "Downloading mypy_extensions-1.0.0-py3-none-any.whl (4.7 kB)\n",
            "Installing collected packages: SQLAlchemy, python-dotenv, mypy-extensions, marshmallow, httpx-sse, typing-inspect, pydantic-settings, dataclasses-json, langchain-core, langchain, langchain_community\n",
            "  Attempting uninstall: SQLAlchemy\n",
            "    Found existing installation: SQLAlchemy 2.0.36\n",
            "    Uninstalling SQLAlchemy-2.0.36:\n",
            "      Successfully uninstalled SQLAlchemy-2.0.36\n",
            "  Attempting uninstall: langchain-core\n",
            "    Found existing installation: langchain-core 0.3.13\n",
            "    Uninstalling langchain-core-0.3.13:\n",
            "      Successfully uninstalled langchain-core-0.3.13\n",
            "  Attempting uninstall: langchain\n",
            "    Found existing installation: langchain 0.3.4\n",
            "    Uninstalling langchain-0.3.4:\n",
            "      Successfully uninstalled langchain-0.3.4\n",
            "Successfully installed SQLAlchemy-2.0.35 dataclasses-json-0.6.7 httpx-sse-0.4.0 langchain-0.3.7 langchain-core-0.3.15 langchain_community-0.3.5 marshmallow-3.23.1 mypy-extensions-1.0.0 pydantic-settings-2.6.1 python-dotenv-1.0.1 typing-inspect-0.9.0\n"
          ]
        }
      ]
    },
    {
      "cell_type": "code",
      "source": [
        "import os\n",
        "from langchain.chat_models import ChatOpenAI\n",
        "from langchain.chains import ConversationChain\n",
        "\n",
        "# Set up your OpenAI API key in environment variables\n",
        "\n",
        "openai_api_key = os.getenv(\"OPENAI_API_KEY\")\n",
        "\n",
        "# Initialize the ChatOpenAI model with gpt-3.5-turbo\n",
        "openai_model = ChatOpenAI(model=\"gpt-3.5-turbo\", openai_api_key=openai_api_key)\n",
        "\n",
        "# Set up a conversation chain using LangChain's ConversationChain\n",
        "conversation = ConversationChain(llm=openai_model)\n",
        "\n",
        "# Example task for the financial agent\n",
        "response = conversation.predict(\n",
        "    input=\"Fetch the latest stock market trends and summarize the key sectors performing well.\"\n",
        ")\n",
        "\n",
        "print(\"Agent Response:\", response)\n"
      ],
      "metadata": {
        "colab": {
          "base_uri": "https://localhost:8080/"
        },
        "id": "eQL3Q214jJBs",
        "outputId": "5f9a6108-8748-449f-97e5-1844feb691f8"
      },
      "execution_count": 11,
      "outputs": [
        {
          "output_type": "stream",
          "name": "stdout",
          "text": [
            "Agent Response: Sure! The latest stock market trends show that technology and healthcare sectors are performing well. Technology companies such as Apple, Microsoft, and Amazon are experiencing significant growth due to their innovative products and services. In the healthcare sector, companies like Johnson & Johnson and Pfizer are seeing increased investment and positive performance. Overall, the stock market is showing positive trends in these key sectors.\n"
          ]
        }
      ]
    },
    {
      "cell_type": "code",
      "source": [
        "import os\n",
        "from langchain.chat_models import ChatOpenAI\n",
        "from langchain.chains import ConversationChain\n",
        "\n",
        "# Set up OpenAI API key\n",
        "openai_api_key = os.getenv(\"OPENAI_API_KEY\")\n",
        "\n",
        "# Initialize the ChatOpenAI model with gpt-3.5-turbo\n",
        "openai_model = ChatOpenAI(model=\"gpt-3.5-turbo\", openai_api_key=openai_api_key)\n",
        "\n",
        "# Set up a conversation chain for the investment advisor\n",
        "conversation = ConversationChain(llm=openai_model)\n",
        "\n",
        "# Step 1: Portfolio analysis request from user\n",
        "portfolio_info = \"\"\"\n",
        "The portfolio consists of 50% tech stocks, 25% government bonds, and 25% real estate investments.\n",
        "The tech stocks include companies with high volatility, while the real estate investments are stable but low-growth.\n",
        "\"\"\"\n",
        "\n",
        "# Step 2: Define the multi-step input\n",
        "# 1. Perform a risk assessment based on the portfolio.\n",
        "# 2. Suggest adjustments considering current market trends.\n",
        "complex_input = f\"\"\"\n",
        "Analyze the following investment portfolio and provide:\n",
        "1. A risk assessment based on the portfolio's composition.\n",
        "2. Suggestions for adjusting the portfolio to balance risk and maximize potential gains, given current market trends.\n",
        "\n",
        "Portfolio Details:\n",
        "{portfolio_info}\n",
        "\"\"\"\n",
        "\n",
        "# Get the agent's response\n",
        "response = conversation.predict(input=complex_input)\n",
        "\n",
        "print(\"Investment Portfolio Advisor Response:\\n\", response)\n"
      ],
      "metadata": {
        "colab": {
          "base_uri": "https://localhost:8080/"
        },
        "id": "JKBz3pynF7g7",
        "outputId": "304132db-855e-406d-e018-9a9af16dbb84"
      },
      "execution_count": 12,
      "outputs": [
        {
          "output_type": "stream",
          "name": "stdout",
          "text": [
            "Investment Portfolio Advisor Response:\n",
            " Based on the composition of the portfolio, the risk assessment would be as follows:\n",
            "\n",
            "- The 50% allocation to tech stocks with high volatility introduces a significant level of risk to the portfolio. Tech stocks are known for their price fluctuations and can be affected by various factors such as market conditions, competition, and regulatory changes.\n",
            "- The 25% allocation to government bonds is considered a low-risk investment as government bonds are generally considered safe investments with fixed interest payments and low default risk.\n",
            "- The 25% allocation to real estate investments provides stability to the portfolio but may limit potential gains due to the low-growth nature of real estate investments.\n",
            "\n",
            "To balance risk and maximize potential gains, here are some suggestions for adjusting the portfolio:\n",
            "\n",
            "1. Diversification: Consider diversifying the tech stocks with investments in other sectors such as healthcare, consumer goods, or energy. This can help reduce the overall risk exposure to the tech sector.\n",
            "2. Increase Allocation to Growth Stocks: Consider increasing the allocation to growth stocks within the tech sector that have the potential for high returns. This can help boost potential gains while maintaining some level of risk.\n",
            "3. Rebalance Real Estate Investments: Evaluate the real estate investments in the portfolio and consider reallocating funds to properties with higher growth potential or diversifying into real estate investment trusts (REITs) for added diversification.\n",
            "4. Monitor and Adjust: Regularly monitor the performance of the portfolio and adjust allocations based on market trends and economic conditions to ensure a balanced risk-return profile.\n",
            "\n",
            "These suggestions should help you balance risk and maximize potential gains based on the current market trends.\n"
          ]
        }
      ]
    },
    {
      "cell_type": "code",
      "source": [
        "import os\n",
        "\n",
        "# Set the environment variable for the API key\n",
        "os.environ[\"OPENAI_API_KEY\"] = \"\""
      ],
      "metadata": {
        "id": "NCpqjQsanfB4"
      },
      "execution_count": 5,
      "outputs": []
    },
    {
      "cell_type": "markdown",
      "source": [
        "Multi Chain"
      ],
      "metadata": {
        "id": "0Wb1SW6OGXk-"
      }
    },
    {
      "cell_type": "markdown",
      "source": [
        "Explanation of Key Components\n",
        "Sales Data Analysis Chain:\n",
        "The first chain analyzes sales data and provides a performance summary for each product category.\n",
        "Inventory Adjustment Chain:\n",
        "The second chain takes the sales analysis and suggests inventory adjustments, such as increasing stock for high-performing categories or reducing stock for those that are underperforming.\n",
        "Marketing Insights Chain:\n",
        "The third chain generates marketing strategies based on the sales performance and inventory adjustments. The goal is to suggest ways to improve sales, particularly for underperforming categories."
      ],
      "metadata": {
        "id": "IiX4fUQpluLU"
      }
    },
    {
      "cell_type": "code",
      "source": [
        "import os\n",
        "from langchain.chat_models import ChatOpenAI\n",
        "from langchain.chains import ConversationChain, SimpleSequentialChain\n",
        "\n",
        "\n",
        "openai_api_key = os.getenv(\"OPENAI_API_KEY\")\n",
        "\n",
        "# Initialize the ChatOpenAI model with gpt-3.5-turbo\n",
        "openai_model = ChatOpenAI(model=\"gpt-3.5-turbo\", openai_api_key=openai_api_key)\n",
        "\n",
        "# Define the Risk Assessment Chain\n",
        "risk_assessment_chain = ConversationChain(llm=openai_model)\n",
        "risk_assessment_prompt = \"\"\"\n",
        "Please analyze the following investment portfolio and provide a risk assessment based on its composition.\n",
        "\n",
        "Portfolio Details:\n",
        "The portfolio consists of 50% tech stocks, 25% government bonds, and 25% real estate investments.\n",
        "The tech stocks include companies with high volatility, while the real estate investments are stable but low-growth.\n",
        "\"\"\"\n",
        "\n",
        "# Run the first chain for risk assessment\n",
        "risk_assessment_response = risk_assessment_chain.predict(input=risk_assessment_prompt)\n",
        "print(\"Risk Assessment Response:\\n\", risk_assessment_response)\n",
        "\n",
        "# Define the Investment Adjustment Suggestion Chain\n",
        "adjustment_suggestion_chain = ConversationChain(llm=openai_model)\n",
        "adjustment_suggestion_prompt = f\"\"\"\n",
        "Based on the risk assessment, suggest adjustments to the portfolio to balance risk and maximize potential gains.\n",
        "\n",
        "Risk Assessment Summary:\n",
        "{risk_assessment_response}\n",
        "\"\"\"\n",
        "\n",
        "# Run the second chain for investment adjustment suggestions\n",
        "adjustment_suggestion_response = adjustment_suggestion_chain.predict(input=adjustment_suggestion_prompt)\n",
        "print(\"\\nInvestment Adjustment Suggestion Response:\\n\", adjustment_suggestion_response)\n"
      ],
      "metadata": {
        "colab": {
          "base_uri": "https://localhost:8080/"
        },
        "id": "HNuvY9csGW67",
        "outputId": "30d73b9c-e961-442c-fd5c-8160b96dd828"
      },
      "execution_count": 6,
      "outputs": [
        {
          "output_type": "stream",
          "name": "stderr",
          "text": [
            "<ipython-input-6-a9272829bfee>:12: LangChainDeprecationWarning: The class `ConversationChain` was deprecated in LangChain 0.2.7 and will be removed in 1.0. Use :meth:`~RunnableWithMessageHistory: https://python.langchain.com/v0.2/api_reference/core/runnables/langchain_core.runnables.history.RunnableWithMessageHistory.html` instead.\n",
            "  risk_assessment_chain = ConversationChain(llm=openai_model)\n",
            "/usr/local/lib/python3.10/dist-packages/pydantic/main.py:212: LangChainDeprecationWarning: Please see the migration guide at: https://python.langchain.com/docs/versions/migrating_memory/\n",
            "  validated_self = self.__pydantic_validator__.validate_python(data, self_instance=self)\n"
          ]
        },
        {
          "output_type": "stream",
          "name": "stdout",
          "text": [
            "Risk Assessment Response:\n",
            " Based on the composition of the investment portfolio you provided, I can offer a risk assessment. The portfolio is diversified across different asset classes, with 50% in tech stocks, 25% in government bonds, and 25% in real estate investments. \n",
            "\n",
            "The tech stocks with high volatility may introduce higher risk to the portfolio, as they are subject to market fluctuations and potential downturns. However, the government bonds and real estate investments provide stability and can help offset some of the risk from the tech stocks.\n",
            "\n",
            "Overall, the risk level of the portfolio may be moderate to high due to the presence of high-volatility tech stocks. It is important to consider your risk tolerance and investment goals when evaluating this portfolio.\n",
            "\n",
            "Investment Adjustment Suggestion Response:\n",
            " Based on the risk assessment of your portfolio, I would suggest adjusting the allocation to reduce the overall risk level while still maximizing potential gains. One option could be to decrease the percentage of tech stocks in your portfolio and increase the allocation to government bonds and real estate investments. This would help balance out the high volatility of the tech stocks with the stability of the other asset classes.\n",
            "\n",
            "Another approach could be to diversify further within the tech sector by investing in a mix of large-cap, mid-cap, and small-cap tech companies. This can help spread out the risk within the tech sector and potentially reduce the overall volatility of that portion of your portfolio.\n",
            "\n",
            "Ultimately, the adjustments to your portfolio should align with your risk tolerance and investment goals. It's important to regularly review and adjust your portfolio to ensure it remains in line with your financial objectives.\n"
          ]
        }
      ]
    },
    {
      "cell_type": "markdown",
      "source": [
        "Here’s a more complex example using OpenAI’s API with LangChain, where we create a multi-chain agent designed for a retail use case. The agent will perform multiple tasks, such as:\n",
        "\n",
        "1. Analyzing Sales Data: Assess the performance of different product categories.\n",
        "2. Recommending Inventory Adjustments: Suggest inventory changes based on sales trends.\n",
        "3. Providing Marketing Insights: Generate marketing recommendations to boost underperforming categories."
      ],
      "metadata": {
        "id": "4BPHk3sVoMHG"
      }
    },
    {
      "cell_type": "code",
      "source": [
        "import os\n",
        "from langchain.chat_models import ChatOpenAI\n",
        "from langchain.prompts import PromptTemplate\n",
        "from langchain.chains import LLMChain, SequentialChain\n",
        "\n",
        "# Set up your OpenAI API key\n",
        "\n",
        "openai_api_key = os.getenv(\"OPENAI_API_KEY\")\n",
        "\n",
        "# Initialize the OpenAI model with GPT-3.5 Turbo\n",
        "openai_model = ChatOpenAI(model=\"gpt-3.5-turbo\", openai_api_key=openai_api_key)\n",
        "\n",
        "# Step 1: Define the prompt and chain for Sales Data Analysis\n",
        "sales_analysis_prompt = PromptTemplate(\n",
        "    input_variables=[\"sales_data\"],\n",
        "    template=\"Analyze the following sales data and provide a summary of the performance of each product category:\\n\\n{sales_data}\"\n",
        ")\n",
        "sales_analysis_chain = LLMChain(llm=openai_model, prompt=sales_analysis_prompt, output_key=\"sales_summary\")\n",
        "\n",
        "# Step 2: Define the prompt and chain for Inventory Adjustment\n",
        "inventory_adjustment_prompt = PromptTemplate(\n",
        "    input_variables=[\"sales_summary\"],\n",
        "    template=\"Based on the sales analysis, suggest inventory adjustments for the next month to optimize sales and reduce excess stock:\\n\\n{sales_summary}\"\n",
        ")\n",
        "inventory_adjustment_chain = LLMChain(llm=openai_model, prompt=inventory_adjustment_prompt, output_key=\"inventory_recommendations\")\n",
        "\n",
        "# Step 3: Define the prompt and chain for Marketing Insights\n",
        "marketing_insights_prompt = PromptTemplate(\n",
        "    input_variables=[\"sales_summary\", \"inventory_recommendations\"],\n",
        "    template=(\n",
        "        \"Using the sales analysis and inventory adjustment recommendations, \"\n",
        "        \"provide marketing strategies to boost sales, especially for underperforming categories:\\n\\n\"\n",
        "        \"Sales Analysis Summary: {sales_summary}\\n\\n\"\n",
        "        \"Inventory Adjustment Recommendations: {inventory_recommendations}\"\n",
        "    )\n",
        ")\n",
        "marketing_insights_chain = LLMChain(llm=openai_model, prompt=marketing_insights_prompt, output_key=\"marketing_strategies\")\n",
        "\n",
        "# Combine the chains into a SequentialChain\n",
        "overall_chain = SequentialChain(\n",
        "    chains=[sales_analysis_chain, inventory_adjustment_chain, marketing_insights_chain],\n",
        "    input_variables=[\"sales_data\"],\n",
        "    output_variables=[\"sales_summary\", \"inventory_recommendations\", \"marketing_strategies\"]\n",
        ")\n",
        "\n",
        "# Run the multi-chain agent with sales data\n",
        "sales_data = \"\"\"\n",
        "- Electronics: $150,000 in sales, up 10% from last month\n",
        "- Clothing: $90,000 in sales, down 5% from last month\n",
        "- Home Goods: $120,000 in sales, stable from last month\n",
        "\"\"\"\n",
        "# Use the correct method to execute the chain\n",
        "output = overall_chain({\"sales_data\": sales_data})\n",
        "\n",
        "# Print the outputs\n",
        "print(\"Sales Summary:\\n\", output[\"sales_summary\"])\n",
        "print(\"\\nInventory Recommendations:\\n\", output[\"inventory_recommendations\"])\n",
        "print(\"\\nMarketing Strategies:\\n\", output[\"marketing_strategies\"])\n"
      ],
      "metadata": {
        "id": "wR9PxuEtljIo",
        "outputId": "682050aa-6592-4b6d-9396-4cef09562cd6",
        "colab": {
          "base_uri": "https://localhost:8080/"
        }
      },
      "execution_count": 13,
      "outputs": [
        {
          "output_type": "stream",
          "name": "stdout",
          "text": [
            "Sales Summary:\n",
            " - Electronics: The electronics category had the highest sales at $150,000 and saw an increase of 10% from last month. This indicates a positive performance in this category.\n",
            "\n",
            "- Clothing: The clothing category had sales of $90,000, which was a decrease of 5% from last month. This suggests a slight decline in performance for this category.\n",
            "\n",
            "- Home Goods: The home goods category had sales of $120,000, which remained stable from last month. This indicates that this category maintained its sales performance.\n",
            "\n",
            "Overall, electronics had the best performance with an increase in sales, while clothing saw a slight decline, and home goods remained stable. It would be important to further analyze the reasons behind these changes and identify any potential opportunities for improvement in the clothing category.\n",
            "\n",
            "Inventory Recommendations:\n",
            " Based on the sales analysis, here are some inventory adjustments that could be made for the next month:\n",
            "\n",
            "1. Increase inventory for electronics: Since the electronics category had the highest sales and saw an increase from last month, it would be beneficial to increase inventory in this category to meet the demand and maximize sales.\n",
            "\n",
            "2. Review inventory for clothing: Given the slight decline in sales for the clothing category, it would be advisable to review the current inventory levels and potentially reduce the stock of slower-moving items. Consider offering promotions or discounts to clear out excess inventory and make room for new, more popular items.\n",
            "\n",
            "3. Maintain inventory levels for home goods: Since the home goods category maintained its sales performance, it would be wise to maintain current inventory levels for this category to meet customer demand without overstocking.\n",
            "\n",
            "By making these inventory adjustments based on the sales analysis, you can optimize sales, reduce excess stock, and improve overall performance in each category.\n",
            "\n",
            "Marketing Strategies:\n",
            " Marketing Strategies to Boost Sales:\n",
            "\n",
            "1. Promote electronics through targeted marketing campaigns: Since electronics had the highest sales and saw an increase from last month, focus on promoting this category through targeted marketing campaigns. Highlight popular products, offer discounts, and showcase new arrivals to attract more customers and drive sales.\n",
            "\n",
            "2. Revamp the clothing category with a fresh marketing approach: To address the slight decline in clothing sales, consider revamping the marketing strategy for this category. Showcase seasonal trends, collaborate with influencers or fashion bloggers, and offer personalized styling tips to appeal to a wider audience and increase sales.\n",
            "\n",
            "3. Create unique promotions for home goods: To maintain the sales performance of the home goods category, create unique promotions such as bundle deals, buy-one-get-one offers, or limited-time discounts. Highlight the quality and variety of products available in this category to entice customers to make a purchase.\n",
            "\n",
            "4. Cross-promote products to increase sales across categories: Encourage customers to explore different product categories by cross-promoting items. For example, offer discounts on electronics for customers who purchase clothing items, or showcase home goods accessories that complement electronics purchases. This can help increase overall sales and encourage repeat purchases.\n",
            "\n",
            "5. Collect customer feedback and implement improvements: Gather feedback from customers to understand their preferences, shopping habits, and areas for improvement. Use this information to tailor marketing strategies, introduce new products, or enhance the shopping experience to boost sales across all categories.\n",
            "\n",
            "By implementing these marketing strategies and inventory adjustments, you can optimize sales performance, attract more customers, and improve overall business success.\n"
          ]
        }
      ]
    }
  ]
}