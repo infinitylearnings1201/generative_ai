{
 "cells": [
  {
   "cell_type": "markdown",
   "metadata": {
    "application/vnd.databricks.v1+cell": {
     "cellMetadata": {},
     "inputWidgets": {},
     "nuid": "b78238a5-71b1-4832-bb59-19872ab123a0",
     "showTitle": false,
     "tableResultSettingsMap": {},
     "title": ""
    }
   },
   "source": [
    "# Code Generator for Unit Tests and Comments/Docstrings"
   ]
  },
  {
   "cell_type": "markdown",
   "metadata": {
    "application/vnd.databricks.v1+cell": {
     "cellMetadata": {},
     "inputWidgets": {},
     "nuid": "bf0ec3e4-ab13-482f-97ec-1fc02de01c9f",
     "showTitle": false,
     "tableResultSettingsMap": {},
     "title": ""
    }
   },
   "source": [
    "## Setup"
   ]
  },
  {
   "cell_type": "code",
   "execution_count": 0,
   "metadata": {
    "application/vnd.databricks.v1+cell": {
     "cellMetadata": {},
     "inputWidgets": {},
     "nuid": "20f8f9f7-3d06-41c9-8e9e-846502e52189",
     "showTitle": false,
     "tableResultSettingsMap": {},
     "title": ""
    }
   },
   "outputs": [],
   "source": [
    "import os\n",
    "\n",
    "from dotenv import load_dotenv\n",
    "\n",
    "from openai import OpenAI\n",
    "import anthropic\n",
    "\n",
    "from huggingface_hub import login\n",
    "from transformers import AutoTokenizer, TextStreamer, AutoModelForCausalLM\n",
    "\n",
    "import gradio as gr"
   ]
  },
  {
   "cell_type": "code",
   "execution_count": 0,
   "metadata": {
    "application/vnd.databricks.v1+cell": {
     "cellMetadata": {},
     "inputWidgets": {},
     "nuid": "4c0494a6-29f6-4c97-b1b1-550fbffc1713",
     "showTitle": false,
     "tableResultSettingsMap": {},
     "title": ""
    }
   },
   "outputs": [],
   "source": [
    "load_dotenv()\n",
    "\n",
    "openai_api_key = os.getenv('OPENAI_API_KEY')\n",
    "anthropic_api_key = os.getenv('CLAUDE_API_KEY')\n",
    "hf_token = os.getenv('HF_TOKEN')"
   ]
  },
  {
   "cell_type": "code",
   "execution_count": 0,
   "metadata": {
    "application/vnd.databricks.v1+cell": {
     "cellMetadata": {},
     "inputWidgets": {},
     "nuid": "549681a9-8210-4aa5-a669-1e3554993d64",
     "showTitle": false,
     "tableResultSettingsMap": {},
     "title": ""
    }
   },
   "outputs": [],
   "source": [
    "openai = OpenAI()\n",
    "claude = anthropic.Anthropic(api_key = anthropic_api_key)"
   ]
  },
  {
   "cell_type": "code",
   "execution_count": 0,
   "metadata": {
    "application/vnd.databricks.v1+cell": {
     "cellMetadata": {},
     "inputWidgets": {},
     "nuid": "989b4c16-2564-450e-b222-7d0932a517f3",
     "showTitle": false,
     "tableResultSettingsMap": {},
     "title": ""
    }
   },
   "outputs": [],
   "source": [
    "OPENAI = 'o3-mini-2025-01-31'\n",
    "CLAUDE = 'claude-3-5-sonnet-20240620'\n",
    "\n",
    "QWEN = 'Qwen/CodeQwen1.5-7B-Chat'"
   ]
  },
  {
   "cell_type": "code",
   "execution_count": 0,
   "metadata": {
    "application/vnd.databricks.v1+cell": {
     "cellMetadata": {},
     "inputWidgets": {},
     "nuid": "8816634a-c5ba-49b5-ae1f-110cbcb6c997",
     "showTitle": false,
     "tableResultSettingsMap": {},
     "title": ""
    }
   },
   "outputs": [],
   "source": [
    "TESTING = 'Unit Tests'\n",
    "COMMENTING = 'Docstrings/Comments'"
   ]
  },
  {
   "cell_type": "markdown",
   "metadata": {
    "application/vnd.databricks.v1+cell": {
     "cellMetadata": {},
     "inputWidgets": {},
     "nuid": "69cf1e4b-1e42-41c9-86d2-9318ca8d85b7",
     "showTitle": false,
     "tableResultSettingsMap": {},
     "title": ""
    }
   },
   "source": [
    "## System and User Prompt for Unit Test and Comments"
   ]
  },
  {
   "cell_type": "code",
   "execution_count": 0,
   "metadata": {
    "application/vnd.databricks.v1+cell": {
     "cellMetadata": {},
     "inputWidgets": {},
     "nuid": "fa1dc7f5-6a1c-4322-98a9-255f12cebb90",
     "showTitle": false,
     "tableResultSettingsMap": {},
     "title": ""
    }
   },
   "outputs": [],
   "source": [
    "system_message_comment = \"\"\" You are an AI programming documentation assisstant. Your task is to generate clear, concise, \n",
    "and informativ docstrings for the provided code block given by the user. \n",
    "Analyze the code to understand its functionality and intent. Then produce a detailed documentation that includes:\n",
    "- a short summary what the code does.\n",
    "- a short description of the parameters, including their expected types\n",
    "- a short explanation what the function returns \n",
    "- if it's a complex code, and only then, some key insights\n",
    "- if applicable how the function can be used\n",
    "Ensure your documentation is written in clear gramatically correct english and in standard concentions (e.g PEP 257 for Python). \n",
    "It should be understandable and maintainable for other developers \"\"\""
   ]
  },
  {
   "cell_type": "code",
   "execution_count": 0,
   "metadata": {
    "application/vnd.databricks.v1+cell": {
     "cellMetadata": {},
     "inputWidgets": {},
     "nuid": "d1da74ee-f904-40b0-8e9e-2537de589aa8",
     "showTitle": false,
     "tableResultSettingsMap": {},
     "title": ""
    }
   },
   "outputs": [],
   "source": [
    "system_message_tests = \"\"\" You are an AI assisstant specialized for creating unit tests. Your task is to gnerate high-quality\n",
    "unit tests for code provided by the user.\n",
    "First analyze the code and identify the main functionality, parameters, return values and possible edge cases.\n",
    "Create comprehensive unit tests that cover the following aspects:\n",
    "- normal use cases with expected inputs and outputs\n",
    "- boundary cases and extreme values\n",
    "- error handling and exceptions\n",
    "- edge cases \n",
    "Use the appropriate testing framework for the programming language (e.g., pytest for Python, etc.) and explain to the user why you \n",
    "chose this specific framework.\n",
    "Structure the tests clearly with meaningful test names and add comments to explain the test logic.\n",
    "If the code block does not provide enough context, as for the necessary details.\n",
    "Supplemenet your response with a brief explanation of the testing strategy and suggestions for improving test coverage. \"\"\"\n"
   ]
  },
  {
   "cell_type": "code",
   "execution_count": 0,
   "metadata": {
    "application/vnd.databricks.v1+cell": {
     "cellMetadata": {},
     "inputWidgets": {},
     "nuid": "a727b7ab-ad8c-4a43-a740-feb87173db61",
     "showTitle": false,
     "tableResultSettingsMap": {},
     "title": ""
    }
   },
   "outputs": [],
   "source": [
    "def user_prompt_comment(code):\n",
    "    user_prompt = f\"\"\"Please add detailed docstrings to the following code: \n",
    "                    {code} \"\"\"\n",
    "    return user_prompt"
   ]
  },
  {
   "cell_type": "code",
   "execution_count": 0,
   "metadata": {
    "application/vnd.databricks.v1+cell": {
     "cellMetadata": {},
     "inputWidgets": {},
     "nuid": "6d045b2e-26a7-4e86-8e72-366bcee9ecc8",
     "showTitle": false,
     "tableResultSettingsMap": {},
     "title": ""
    }
   },
   "outputs": [],
   "source": [
    "def user_prompt_tests(code):\n",
    "    user_prompt = f\"\"\" Please generate unit tests for the following code using the appropriate framework: \n",
    "                    {code} \"\"\"\n",
    "    return user_prompt"
   ]
  },
  {
   "cell_type": "markdown",
   "metadata": {
    "application/vnd.databricks.v1+cell": {
     "cellMetadata": {},
     "inputWidgets": {},
     "nuid": "03b60c0e-d678-4b51-8abd-9d2d7b57039e",
     "showTitle": false,
     "tableResultSettingsMap": {},
     "title": ""
    }
   },
   "source": [
    "## Define Model Functions"
   ]
  },
  {
   "cell_type": "code",
   "execution_count": 0,
   "metadata": {
    "application/vnd.databricks.v1+cell": {
     "cellMetadata": {},
     "inputWidgets": {},
     "nuid": "a2b28b9e-2d2f-4899-b33d-c88e5305f919",
     "showTitle": false,
     "tableResultSettingsMap": {},
     "title": ""
    }
   },
   "outputs": [],
   "source": [
    "def stream_gpt(system_message, user_prompt):\n",
    "    stream = openai.chat.completions.create(\n",
    "        model = OPENAI,\n",
    "        messages = [\n",
    "            {'role': 'system', 'content': system_message},\n",
    "            {'role': 'user', 'content': user_prompt}\n",
    "        ],\n",
    "        stream = True\n",
    "    )\n",
    "\n",
    "    response = \"\"\n",
    "    for chunk in stream:\n",
    "        response += chunk.choices[0].delta.content or \"\"\n",
    "        yield response"
   ]
  },
  {
   "cell_type": "code",
   "execution_count": 0,
   "metadata": {
    "application/vnd.databricks.v1+cell": {
     "cellMetadata": {},
     "inputWidgets": {},
     "nuid": "213403fb-3ede-49e8-8202-41321ca12041",
     "showTitle": false,
     "tableResultSettingsMap": {},
     "title": ""
    }
   },
   "outputs": [],
   "source": [
    "def stream_claude(system_message, user_prompt):\n",
    "    response = claude.messages.stream(\n",
    "        model = CLAUDE,\n",
    "        max_tokens = 2000,\n",
    "        system = system_message, \n",
    "        messages = [\n",
    "            {'role': 'user', 'content': user_prompt}\n",
    "        ], \n",
    "        temperature = 0.4\n",
    "    )\n",
    "    reply = \"\"\n",
    "    with response as stream:\n",
    "        for text in stream.text_stream:\n",
    "            reply += text or \"\"\n",
    "            yield reply"
   ]
  },
  {
   "cell_type": "code",
   "execution_count": 0,
   "metadata": {
    "application/vnd.databricks.v1+cell": {
     "cellMetadata": {},
     "inputWidgets": {},
     "nuid": "84ded482-9d29-402f-a2e6-b706018cee65",
     "showTitle": false,
     "tableResultSettingsMap": {},
     "title": ""
    }
   },
   "outputs": [],
   "source": [
    "def stream_qwen(system_message, user_prompt):\n",
    "    tokenizer = AutoTokenizer.from_pretrained(QWEN)\n",
    "    model = AutoModelForCausalLM.from_pretrained(QWEN, device_map = 'gpu')\n",
    "    streamer = TextStreamer(tokenizer)\n",
    "    inputs = tokenizer.apply_chat_template(\n",
    "        conv = [\n",
    "            {'role': 'system', 'content': system_message},\n",
    "            {'role': 'user', 'content': user_prompt}\n",
    "        ],\n",
    "        tokenize = False,\n",
    "        add_generation_prompt = True\n",
    "    )\n",
    "\n",
    "    stream = model.text_generation(\n",
    "        prompt = inputs, \n",
    "        stream = True,\n",
    "        details = True,\n",
    "        max_new_tokens = 2000\n",
    "    )\n",
    "    reply = \"\"\n",
    "    for text in stream: \n",
    "        reply += text.token.text or \"\"\n",
    "        yield reply    "
   ]
  },
  {
   "cell_type": "code",
   "execution_count": 0,
   "metadata": {
    "application/vnd.databricks.v1+cell": {
     "cellMetadata": {},
     "inputWidgets": {},
     "nuid": "44ad0b63-d6b3-4176-81c9-3c79bf6cbf18",
     "showTitle": false,
     "tableResultSettingsMap": {},
     "title": ""
    }
   },
   "outputs": [],
   "source": [
    "def define_prompts(code, operation):\n",
    "    if operation == 'Unit Tests':\n",
    "        system_message = system_message_tests\n",
    "        user_prompt = user_prompt_tests(code)\n",
    "    elif operation == 'Docstrings/Comments':\n",
    "        system_message = system_message_comment\n",
    "        user_prompt = user_prompt_comment(code)\n",
    "    else: \n",
    "        return 'Unknown operation', ''\n",
    "\n",
    "    return system_message, user_prompt"
   ]
  },
  {
   "cell_type": "code",
   "execution_count": 0,
   "metadata": {
    "application/vnd.databricks.v1+cell": {
     "cellMetadata": {},
     "inputWidgets": {},
     "nuid": "b642a4ac-05d9-4265-aa90-bdc23b7a17b1",
     "showTitle": false,
     "tableResultSettingsMap": {},
     "title": ""
    }
   },
   "outputs": [],
   "source": [
    "def create_test_comment(code, model, operation):\n",
    "    \n",
    "    system_message, user_prompt = define_prompts(code, operation)\n",
    "    \n",
    "    if model == 'GPT-o3-mini':\n",
    "        gen = stream_gpt(system_message, user_prompt)\n",
    "    elif model == 'Claude-3.5-sonnet':\n",
    "        gen = stream_claude(system_message, user_prompt)\n",
    "    elif model == 'CodeQwen':\n",
    "        gen =  stream_qwen(system_message, user_prompt)\n",
    "    else: \n",
    "        gen =  'Unknown Model'\n",
    "\n",
    "    result = ''\n",
    "    for text in gen:\n",
    "        result = text\n",
    "    return result"
   ]
  },
  {
   "cell_type": "markdown",
   "metadata": {
    "application/vnd.databricks.v1+cell": {
     "cellMetadata": {},
     "inputWidgets": {},
     "nuid": "a3545c39-ec07-4aa6-877e-019b2d2065df",
     "showTitle": false,
     "tableResultSettingsMap": {},
     "title": ""
    }
   },
   "source": [
    "## Creating easy Gradio UI "
   ]
  },
  {
   "cell_type": "code",
   "execution_count": 0,
   "metadata": {
    "application/vnd.databricks.v1+cell": {
     "cellMetadata": {},
     "inputWidgets": {},
     "nuid": "c05ad99b-457a-4cd4-9713-771c7f18573c",
     "showTitle": false,
     "tableResultSettingsMap": {},
     "title": ""
    }
   },
   "outputs": [],
   "source": [
    "def create_ui():\n",
    "\n",
    "    with gr.Blocks(title = 'Code Generator') as ui:\n",
    "        gr.Markdown('# Code Generator for Unit Testing and Docstrings')\n",
    "    \n",
    "        with gr.Row():\n",
    "            with gr.Column(min_width = 500):\n",
    "                code = gr.Textbox(label = 'Enter your Code', \n",
    "                                  placeholder = 'Code...', lines = 20\n",
    "                                 )\n",
    "                model = gr.Dropdown(['GPT-o3-mini', 'Claude-3.5-sonnet', 'CodeQwen'],\n",
    "                                    label = 'Choose your Model',\n",
    "                                    value = 'GPT-o3-mini'\n",
    "                                   )\n",
    "                operation = gr.Dropdown(['Unit Tests', 'Docstrings/Comments'],\n",
    "                                        label = 'Choose operation',\n",
    "                                        value = 'Unit Tests'\n",
    "                                       )\n",
    "                generate_button = gr.Button('Generate')\n",
    "    \n",
    "            with gr.Column():\n",
    "                output = gr.Textbox(label = 'Generated Output',\n",
    "                                    lines = 20\n",
    "                                   )\n",
    "    \n",
    "        generate_button.click(fn = create_test_comment, inputs = [code, model, operation],\n",
    "                              outputs = output,\n",
    "                             )\n",
    "    return ui"
   ]
  },
  {
   "cell_type": "code",
   "execution_count": 0,
   "metadata": {
    "application/vnd.databricks.v1+cell": {
     "cellMetadata": {},
     "inputWidgets": {},
     "nuid": "75efa5a1-a106-438b-8766-0e516c668290",
     "showTitle": false,
     "tableResultSettingsMap": {},
     "title": ""
    }
   },
   "outputs": [],
   "source": [
    "ui = create_ui()\n",
    "ui.launch(inbrowser = True)"
   ]
  },
  {
   "cell_type": "code",
   "execution_count": 0,
   "metadata": {
    "application/vnd.databricks.v1+cell": {
     "cellMetadata": {},
     "inputWidgets": {},
     "nuid": "bc34a007-8c2d-486b-a5e1-4af3b860aa46",
     "showTitle": false,
     "tableResultSettingsMap": {},
     "title": ""
    }
   },
   "outputs": [],
   "source": []
  }
 ],
 "metadata": {
  "application/vnd.databricks.v1+notebook": {
   "computePreferences": null,
   "dashboards": [],
   "environmentMetadata": null,
   "inputWidgetPreferences": null,
   "language": "python",
   "notebookMetadata": {},
   "notebookName": "unit_testing_commets_code_generator",
   "widgets": {}
  },
  "kernelspec": {
   "display_name": "Python 3 (ipykernel)",
   "language": "python",
   "name": "python3"
  },
  "language_info": {
   "name": "python"
  }
 },
 "nbformat": 4,
 "nbformat_minor": 0
}
