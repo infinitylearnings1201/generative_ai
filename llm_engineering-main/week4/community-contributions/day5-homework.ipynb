{
 "cells": [
  {
   "cell_type": "markdown",
   "metadata": {
    "application/vnd.databricks.v1+cell": {
     "cellMetadata": {},
     "inputWidgets": {},
     "nuid": "f5a2a7b9-5c20-451f-91a0-1ac99d17f2ac",
     "showTitle": false,
     "tableResultSettingsMap": {},
     "title": ""
    }
   },
   "source": [
    "### Comment and Unit Test Generater \n",
    "\n",
    "The requirement: \n",
    "* use an LLM to generate docstring and comments for Python code\n",
    "* use an LLM to generate unit test\n",
    "\n",
    "This is my week 4 day 5 project."
   ]
  },
  {
   "cell_type": "code",
   "execution_count": 0,
   "metadata": {
    "application/vnd.databricks.v1+cell": {
     "cellMetadata": {},
     "inputWidgets": {},
     "nuid": "f6e9ebfe-ba7c-48e7-862b-104f98c9916c",
     "showTitle": false,
     "tableResultSettingsMap": {},
     "title": ""
    }
   },
   "outputs": [],
   "source": [
    "# imports\n",
    "\n",
    "import os\n",
    "import io\n",
    "import sys\n",
    "import json\n",
    "import requests\n",
    "from dotenv import load_dotenv\n",
    "from openai import OpenAI\n",
    "import google.generativeai\n",
    "import anthropic\n",
    "from IPython.display import Markdown, display, update_display\n",
    "import gradio as gr\n",
    "import subprocess\n",
    "from huggingface_hub import login, InferenceClient\n",
    "from transformers import AutoTokenizer"
   ]
  },
  {
   "cell_type": "code",
   "execution_count": 0,
   "metadata": {
    "application/vnd.databricks.v1+cell": {
     "cellMetadata": {},
     "inputWidgets": {},
     "nuid": "cc1a46be-f355-44bb-8e90-b626466716c9",
     "showTitle": false,
     "tableResultSettingsMap": {},
     "title": ""
    }
   },
   "outputs": [],
   "source": [
    "# environment\n",
    "\n",
    "load_dotenv()\n",
    "os.environ['OPENAI_API_KEY'] = os.getenv('OPENAI_API_KEY', 'your-key-if-not-using-env')\n",
    "os.environ['ANTHROPIC_API_KEY'] = os.getenv('ANTHROPIC_API_KEY', 'your-key-if-not-using-env')\n",
    "os.environ['HF_TOKEN'] = os.getenv('HF_TOKEN', 'your-key-if-not-using-env')"
   ]
  },
  {
   "cell_type": "code",
   "execution_count": 0,
   "metadata": {
    "application/vnd.databricks.v1+cell": {
     "cellMetadata": {},
     "inputWidgets": {},
     "nuid": "3cba98b5-3724-49fc-9900-5188614b129e",
     "showTitle": false,
     "tableResultSettingsMap": {},
     "title": ""
    }
   },
   "outputs": [],
   "source": [
    "# initialize\n",
    "\n",
    "openai = OpenAI()\n",
    "claude = anthropic.Anthropic()\n",
    "OPENAI_MODEL = \"gpt-4o\"\n",
    "CLAUDE_MODEL = \"claude-3-5-sonnet-20240620\""
   ]
  },
  {
   "cell_type": "code",
   "execution_count": 0,
   "metadata": {
    "application/vnd.databricks.v1+cell": {
     "cellMetadata": {},
     "inputWidgets": {},
     "nuid": "c4899b0f-163e-4db0-8b2c-476598c886d6",
     "showTitle": false,
     "tableResultSettingsMap": {},
     "title": ""
    }
   },
   "outputs": [],
   "source": [
    "hf_token = os.environ['HF_TOKEN']\n",
    "login(hf_token, add_to_git_credential=True)"
   ]
  },
  {
   "cell_type": "code",
   "execution_count": 0,
   "metadata": {
    "application/vnd.databricks.v1+cell": {
     "cellMetadata": {},
     "inputWidgets": {},
     "nuid": "cf044817-66db-47e7-a4d5-14373a431fc3",
     "showTitle": false,
     "tableResultSettingsMap": {},
     "title": ""
    }
   },
   "outputs": [],
   "source": [
    "code_qwen = \"Qwen/CodeQwen1.5-7B-Chat\"\n",
    "CODE_QWEN_URL = \"https://g39mbjooiiwkbgyz.us-east-1.aws.endpoints.huggingface.cloud\""
   ]
  },
  {
   "cell_type": "code",
   "execution_count": 0,
   "metadata": {
    "application/vnd.databricks.v1+cell": {
     "cellMetadata": {},
     "inputWidgets": {},
     "nuid": "0d344bda-7cab-49da-9c55-970de2b1c8a9",
     "showTitle": false,
     "tableResultSettingsMap": {},
     "title": ""
    }
   },
   "outputs": [],
   "source": [
    "def system_prompt_for_comment():\n",
    "    system=\"\"\"\n",
    "    You are a Python documentation expert. When writing documentation:\n",
    "    - Follow PEP 257 and Google docstring style guidelines\n",
    "    - Write clear, concise explanations\n",
    "    - Include practical examples\n",
    "    - Highlight edge cases and limitations\n",
    "    - Use type hints in docstrings\n",
    "    - Add inline comments only for complex logic\n",
    "    - Never skip documenting parameters or return values\n",
    "    - Validate that all documentation is accurate and complete\n",
    "    \"\"\"\n",
    "    return system"
   ]
  },
  {
   "cell_type": "code",
   "execution_count": 0,
   "metadata": {
    "application/vnd.databricks.v1+cell": {
     "cellMetadata": {},
     "inputWidgets": {},
     "nuid": "7ca27e74-9b0e-4ac7-82d2-2ef3a3c09388",
     "showTitle": false,
     "tableResultSettingsMap": {},
     "title": ""
    }
   },
   "outputs": [],
   "source": [
    "def system_prompt_for_unit_test():\n",
    "    system=\"\"\"\n",
    "    You are an expert Python testing engineer who specializes in creating comprehensive unit tests. Follow these principles:\n",
    "    - Use pytest as the testing framework\n",
    "    - Follow the Arrange-Act-Assert pattern\n",
    "    - Test both valid and invalid inputs\n",
    "    - Include edge cases and boundary conditions\n",
    "    - Write descriptive test names that explain the scenario being tested\n",
    "    - Create independent tests that don't rely on each other\n",
    "    - Use appropriate fixtures and parametrize when needed\n",
    "    - Add clear comments explaining complex test logic\n",
    "    - Cover error cases and exceptions\n",
    "    - Achieve high code coverage while maintaining meaningful tests\n",
    "    \"\"\"\n",
    "    return system"
   ]
  },
  {
   "cell_type": "code",
   "execution_count": 0,
   "metadata": {
    "application/vnd.databricks.v1+cell": {
     "cellMetadata": {},
     "inputWidgets": {},
     "nuid": "4eac419e-2283-41ba-a1b2-3418b92139ca",
     "showTitle": false,
     "tableResultSettingsMap": {},
     "title": ""
    }
   },
   "outputs": [],
   "source": [
    "def user_prompt_for_comment(code):\n",
    "    user = f\"\"\"\n",
    "        Please document this Python code with:\n",
    "        \n",
    "        1. A docstring containing:\n",
    "        - A clear description of purpose and functionality\n",
    "        - All parameters with types and descriptions\n",
    "        - Return values with types\n",
    "        - Exceptions that may be raised\n",
    "        - Any important notes or limitations\n",
    "        \n",
    "        2. Strategic inline comments for:\n",
    "        - Complex algorithms or business logic\n",
    "        - Non-obvious implementation choices\n",
    "        - Performance considerations\n",
    "        - Edge cases\n",
    "        \n",
    "        Here's the code to document:\n",
    "        \\n{code}\n",
    "        \"\"\"\n",
    "    return user;"
   ]
  },
  {
   "cell_type": "code",
   "execution_count": 0,
   "metadata": {
    "application/vnd.databricks.v1+cell": {
     "cellMetadata": {},
     "inputWidgets": {},
     "nuid": "0a05931b-c295-4468-a9a0-d3cfd6890d57",
     "showTitle": false,
     "tableResultSettingsMap": {},
     "title": ""
    }
   },
   "outputs": [],
   "source": [
    "def user_prompt_for_unit_test(code):\n",
    "    user = f\"\"\"\n",
    "        Please generate unit tests for the following Python code. Include:\n",
    "        \n",
    "        1. Test cases for:\n",
    "        - Normal/expected inputs\n",
    "        - Edge cases and boundary values\n",
    "        - Invalid inputs and error conditions\n",
    "        - Different combinations of parameters\n",
    "        - All public methods and functions\n",
    "        \n",
    "        2. For each test:\n",
    "        - Clear test function names describing the scenario\n",
    "        - Setup code (fixtures if needed)\n",
    "        - Test data preparation\n",
    "        - Expected outcomes\n",
    "        - Assertions checking results\n",
    "        - Comments explaining complex test logic\n",
    "        \n",
    "        3. Include any necessary:\n",
    "        - Imports\n",
    "        - Fixtures\n",
    "        - Mock objects\n",
    "        - Helper functions\n",
    "        - Test data generators\n",
    "        \n",
    "        Here's the code to test:\n",
    "        \\n{code}\n",
    "    \"\"\"\n",
    "    return user"
   ]
  },
  {
   "cell_type": "code",
   "execution_count": 0,
   "metadata": {
    "application/vnd.databricks.v1+cell": {
     "cellMetadata": {},
     "inputWidgets": {},
     "nuid": "e33a26bb-4284-408b-8f51-c3eec22ebe16",
     "showTitle": false,
     "tableResultSettingsMap": {},
     "title": ""
    }
   },
   "outputs": [],
   "source": [
    "pi = \"\"\"\n",
    "import time\n",
    "\n",
    "def calculate(iterations, param1, param2):\n",
    "    result = 1.0\n",
    "    for i in range(1, iterations+1):\n",
    "        j = i * param1 - param2\n",
    "        result -= (1/j)\n",
    "        j = i * param1 + param2\n",
    "        result += (1/j)\n",
    "    return result\n",
    "\n",
    "start_time = time.time()\n",
    "result = calculate(100_000_000, 4, 1) * 4\n",
    "end_time = time.time()\n",
    "\n",
    "print(f\"Result: {result:.12f}\")\n",
    "print(f\"Execution Time: {(end_time - start_time):.6f} seconds\")\n",
    "\"\"\""
   ]
  },
  {
   "cell_type": "code",
   "execution_count": 0,
   "metadata": {
    "application/vnd.databricks.v1+cell": {
     "cellMetadata": {},
     "inputWidgets": {},
     "nuid": "52c17c5b-fd4d-404f-9e99-8fe9df970e8b",
     "showTitle": false,
     "tableResultSettingsMap": {},
     "title": ""
    }
   },
   "outputs": [],
   "source": [
    "exec(pi)"
   ]
  },
  {
   "cell_type": "code",
   "execution_count": 0,
   "metadata": {
    "application/vnd.databricks.v1+cell": {
     "cellMetadata": {},
     "inputWidgets": {},
     "nuid": "813fd61c-e03d-42ef-a109-938da2a05ea8",
     "showTitle": false,
     "tableResultSettingsMap": {},
     "title": ""
    }
   },
   "outputs": [],
   "source": [
    "def messages_for_comment(python):\n",
    "    return [\n",
    "        {\"role\": \"system\", \"content\": system_prompt_for_comment()},\n",
    "        {\"role\": \"user\", \"content\": user_prompt_for_comment(python)}\n",
    "    ]"
   ]
  },
  {
   "cell_type": "code",
   "execution_count": 0,
   "metadata": {
    "application/vnd.databricks.v1+cell": {
     "cellMetadata": {},
     "inputWidgets": {},
     "nuid": "e09cc0fb-2ad4-476b-90c5-a5d824370f51",
     "showTitle": false,
     "tableResultSettingsMap": {},
     "title": ""
    }
   },
   "outputs": [],
   "source": [
    "def messages_for_unit_test(python):\n",
    "    return [\n",
    "        {\"role\": \"system\", \"content\": system_prompt_for_unit_test()},\n",
    "        {\"role\": \"user\", \"content\": user_prompt_for_unit_test(python)}\n",
    "    ]"
   ]
  },
  {
   "cell_type": "code",
   "execution_count": 0,
   "metadata": {
    "application/vnd.databricks.v1+cell": {
     "cellMetadata": {},
     "inputWidgets": {},
     "nuid": "53dcbfb0-3263-49fe-a409-8c4ac4ff4a61",
     "showTitle": false,
     "tableResultSettingsMap": {},
     "title": ""
    }
   },
   "outputs": [],
   "source": [
    "def stream_comment_gpt(code):\n",
    "    stream = openai.chat.completions.create(model=OPENAI_MODEL, messages=messages_for_comment(code), stream=True)\n",
    "    reply = \"\"\n",
    "    for chunk in stream:\n",
    "        fragment = chunk.choices[0].delta.content or \"\"\n",
    "        reply += fragment\n",
    "        #print(fragment, end='', flush=True)\n",
    "        yield reply.replace('```','') \n",
    "    "
   ]
  },
  {
   "cell_type": "code",
   "execution_count": 0,
   "metadata": {
    "application/vnd.databricks.v1+cell": {
     "cellMetadata": {},
     "inputWidgets": {},
     "nuid": "515a779e-b244-4149-a7b7-b6c83815316d",
     "showTitle": false,
     "tableResultSettingsMap": {},
     "title": ""
    }
   },
   "outputs": [],
   "source": [
    "stream_comment_gpt(pi)"
   ]
  },
  {
   "cell_type": "code",
   "execution_count": 0,
   "metadata": {
    "application/vnd.databricks.v1+cell": {
     "cellMetadata": {},
     "inputWidgets": {},
     "nuid": "a1afae48-9a47-42ae-99ef-978bcfa18990",
     "showTitle": false,
     "tableResultSettingsMap": {},
     "title": ""
    }
   },
   "outputs": [],
   "source": [
    "def stream_unit_test_gpt(code):\n",
    "    stream = openai.chat.completions.create(model=OPENAI_MODEL, messages=messages_for_unit_test(code), stream=True)\n",
    "    reply = \"\"\n",
    "    for chunk in stream:\n",
    "        fragment = chunk.choices[0].delta.content or \"\"\n",
    "        reply += fragment\n",
    "        #print(fragment, end='', flush=True)\n",
    "        yield reply.replace('```','')"
   ]
  },
  {
   "cell_type": "code",
   "execution_count": 0,
   "metadata": {
    "application/vnd.databricks.v1+cell": {
     "cellMetadata": {},
     "inputWidgets": {},
     "nuid": "dcdeac17-97c1-4861-86e8-e55c66658d4b",
     "showTitle": false,
     "tableResultSettingsMap": {},
     "title": ""
    }
   },
   "outputs": [],
   "source": [
    "stream_unit_test_gpt(pi)"
   ]
  },
  {
   "cell_type": "code",
   "execution_count": 0,
   "metadata": {
    "application/vnd.databricks.v1+cell": {
     "cellMetadata": {},
     "inputWidgets": {},
     "nuid": "b6d6fc3e-1192-418e-bafc-35a8bfbfc945",
     "showTitle": false,
     "tableResultSettingsMap": {},
     "title": ""
    }
   },
   "outputs": [],
   "source": [
    "def stream_comment_claude(code):\n",
    "    result = claude.messages.stream(\n",
    "        model=CLAUDE_MODEL,\n",
    "        max_tokens=2000,\n",
    "        system=system_prompt_for_comment(),\n",
    "        messages=[{\"role\": \"user\", \"content\": user_prompt_for_comment(code)}],\n",
    "    )\n",
    "    reply = \"\"\n",
    "    with result as stream:\n",
    "        for text in stream.text_stream:\n",
    "            reply += text\n",
    "            #print(text, end=\"\", flush=True)\n",
    "            yield reply.replace('```','')"
   ]
  },
  {
   "cell_type": "code",
   "execution_count": 0,
   "metadata": {
    "application/vnd.databricks.v1+cell": {
     "cellMetadata": {},
     "inputWidgets": {},
     "nuid": "732a72b1-a310-4ad8-b87a-c46b2f80e2df",
     "showTitle": false,
     "tableResultSettingsMap": {},
     "title": ""
    }
   },
   "outputs": [],
   "source": [
    "def stream_unit_test_claude(code):\n",
    "    result = claude.messages.stream(\n",
    "        model=CLAUDE_MODEL,\n",
    "        max_tokens=2000,\n",
    "        system=system_prompt_for_unit_test(),\n",
    "        messages=[{\"role\": \"user\", \"content\": user_prompt_for_unit_test(code)}],\n",
    "    )\n",
    "    reply = \"\"\n",
    "    with result as stream:\n",
    "        for text in stream.text_stream:\n",
    "            reply += text\n",
    "            #print(text, end=\"\", flush=True)\n",
    "            yield reply.replace('```','')"
   ]
  },
  {
   "cell_type": "code",
   "execution_count": 0,
   "metadata": {
    "application/vnd.databricks.v1+cell": {
     "cellMetadata": {},
     "inputWidgets": {},
     "nuid": "b94a7abc-b1df-44cd-ab2c-a93209df60a2",
     "showTitle": false,
     "tableResultSettingsMap": {},
     "title": ""
    }
   },
   "outputs": [],
   "source": [
    "stream_comment_claude(pi)"
   ]
  },
  {
   "cell_type": "code",
   "execution_count": 0,
   "metadata": {
    "application/vnd.databricks.v1+cell": {
     "cellMetadata": {},
     "inputWidgets": {},
     "nuid": "20413fb6-6588-4e6a-846e-2f7be537358c",
     "showTitle": false,
     "tableResultSettingsMap": {},
     "title": ""
    }
   },
   "outputs": [],
   "source": [
    "stream_unit_test_claude(pi)"
   ]
  },
  {
   "cell_type": "code",
   "execution_count": 0,
   "metadata": {
    "application/vnd.databricks.v1+cell": {
     "cellMetadata": {},
     "inputWidgets": {},
     "nuid": "ca7cf4c4-c876-40d3-ad5f-5899ba388005",
     "showTitle": false,
     "tableResultSettingsMap": {},
     "title": ""
    }
   },
   "outputs": [],
   "source": [
    "def stream_comment_model(model, model_url, code):\n",
    "    tokenizer = AutoTokenizer.from_pretrained(model)\n",
    "    messages = messages_for_comment(code)\n",
    "    text = tokenizer.apply_chat_template(messages, tokenize=False, add_generation_prompt=True)\n",
    "    client = InferenceClient(model_url, token=hf_token)\n",
    "    stream = client.text_generation(text, stream=True, details=True, max_new_tokens=5000)\n",
    "    result = \"\"\n",
    "    for r in stream:\n",
    "        #print(r.token.text, end = \"\")\n",
    "        result += r.token.text\n",
    "        yield result    \n",
    "    "
   ]
  },
  {
   "cell_type": "code",
   "execution_count": 0,
   "metadata": {
    "application/vnd.databricks.v1+cell": {
     "cellMetadata": {},
     "inputWidgets": {},
     "nuid": "48742583-82a8-4190-af40-d28aeef17d2c",
     "showTitle": false,
     "tableResultSettingsMap": {},
     "title": ""
    }
   },
   "outputs": [],
   "source": [
    "def stream_unit_test_model(model, model_url, code):\n",
    "    tokenizer = AutoTokenizer.from_pretrained(model)\n",
    "    messages = messages_for_unit_test(code)\n",
    "    text = tokenizer.apply_chat_template(messages, tokenize=False, add_generation_prompt=True)\n",
    "    client = InferenceClient(model_url, token=hf_token)\n",
    "    stream = client.text_generation(text, stream=True, details=True, max_new_tokens=3000)\n",
    "    result = \"\"\n",
    "    for r in stream:\n",
    "        #print(r.token.text, end = \"\")\n",
    "        result += r.token.text\n",
    "        yield result    \n",
    "    "
   ]
  },
  {
   "cell_type": "code",
   "execution_count": 0,
   "metadata": {
    "application/vnd.databricks.v1+cell": {
     "cellMetadata": {},
     "inputWidgets": {},
     "nuid": "d24f5efc-ca1c-44f9-99b0-5012fe87f000",
     "showTitle": false,
     "tableResultSettingsMap": {},
     "title": ""
    }
   },
   "outputs": [],
   "source": [
    "stream_comment_model(code_qwen, CODE_QWEN_URL, pi)"
   ]
  },
  {
   "cell_type": "code",
   "execution_count": 0,
   "metadata": {
    "application/vnd.databricks.v1+cell": {
     "cellMetadata": {},
     "inputWidgets": {},
     "nuid": "42546ace-4106-4b26-9d1a-53c5cd4718ce",
     "showTitle": false,
     "tableResultSettingsMap": {},
     "title": ""
    }
   },
   "outputs": [],
   "source": [
    "stream_unit_test_model(code_qwen, CODE_QWEN_URL, pi)"
   ]
  },
  {
   "cell_type": "code",
   "execution_count": 0,
   "metadata": {
    "application/vnd.databricks.v1+cell": {
     "cellMetadata": {},
     "inputWidgets": {},
     "nuid": "00d8eedb-bd4e-4327-81bb-cfc76fd27709",
     "showTitle": false,
     "tableResultSettingsMap": {},
     "title": ""
    }
   },
   "outputs": [],
   "source": [
    "def comment_code(python, model):\n",
    "    if model==\"GPT\":\n",
    "        result = stream_comment_gpt(python)\n",
    "    elif model==\"Claude\":\n",
    "        result = stream_comment_claude(python)\n",
    "    elif model==\"CodeQwen\":\n",
    "        result = stream_comment_model(code_qwen, CODE_QWEN_URL, python)\n",
    "    else:\n",
    "        raise ValueError(\"Unknown model\")\n",
    "    for stream_so_far in result:\n",
    "        yield stream_so_far     "
   ]
  },
  {
   "cell_type": "code",
   "execution_count": 0,
   "metadata": {
    "application/vnd.databricks.v1+cell": {
     "cellMetadata": {},
     "inputWidgets": {},
     "nuid": "b01d6e59-92c3-497e-a302-55666b3762d7",
     "showTitle": false,
     "tableResultSettingsMap": {},
     "title": ""
    }
   },
   "outputs": [],
   "source": [
    "def get_unit_test(python, model):\n",
    "    if model==\"GPT\":\n",
    "        result = stream_unit_test_gpt(python)\n",
    "    elif model==\"Claude\":\n",
    "        result = stream_unit_test_claude(python)\n",
    "    elif model==\"CodeQwen\":\n",
    "        result = stream_unit_test_model(code_qwen, CODE_QWEN_URL, python)\n",
    "    else:\n",
    "        raise ValueError(\"Unknown model\")\n",
    "    for stream_so_far in result:\n",
    "        yield stream_so_far     "
   ]
  },
  {
   "cell_type": "code",
   "execution_count": 0,
   "metadata": {
    "application/vnd.databricks.v1+cell": {
     "cellMetadata": {},
     "inputWidgets": {},
     "nuid": "4e779c06-f267-4592-a576-df0b8fa4ac37",
     "showTitle": false,
     "tableResultSettingsMap": {},
     "title": ""
    }
   },
   "outputs": [],
   "source": [
    "css = \"\"\"\n",
    ".python {background-color: #306998;}\n",
    ".cpp {background-color: #050;}\n",
    "\"\"\""
   ]
  },
  {
   "cell_type": "code",
   "execution_count": 0,
   "metadata": {
    "application/vnd.databricks.v1+cell": {
     "cellMetadata": {},
     "inputWidgets": {},
     "nuid": "e9623b33-0d14-4ae1-ad83-5a7ca632f0b5",
     "showTitle": false,
     "tableResultSettingsMap": {},
     "title": ""
    },
    "scrolled": true
   },
   "outputs": [],
   "source": [
    "with gr.Blocks(css=css) as ui:\n",
    "    gr.Markdown(\"## Convert code from Python to C++\")\n",
    "    with gr.Row():\n",
    "        python = gr.Textbox(label=\"Python code:\", value=pi, lines=10)\n",
    "        result = gr.Textbox(label=\"Result code:\", lines=10)\n",
    "    with gr.Row():\n",
    "        model = gr.Dropdown([\"GPT\", \"Claude\",\"CodeQwen\"], label=\"Select model\", value=\"GPT\")\n",
    "    with gr.Row():\n",
    "        comment_button = gr.Button(\"Comment code\")\n",
    "    with gr.Row():\n",
    "        unit_test_button = gr.Button(\"Unit Test code\")\n",
    "        \n",
    "    comment_button.click(comment_code, inputs=[python, model], outputs=[result])\n",
    "    unit_test_button.click(get_unit_test, inputs=[python, model], outputs=[result])\n",
    "ui.launch(inbrowser=True)"
   ]
  },
  {
   "cell_type": "code",
   "execution_count": 0,
   "metadata": {
    "application/vnd.databricks.v1+cell": {
     "cellMetadata": {},
     "inputWidgets": {},
     "nuid": "508d4fee-b50b-41b4-9f21-d63109fdca99",
     "showTitle": false,
     "tableResultSettingsMap": {},
     "title": ""
    }
   },
   "outputs": [],
   "source": []
  }
 ],
 "metadata": {
  "application/vnd.databricks.v1+notebook": {
   "computePreferences": null,
   "dashboards": [],
   "environmentMetadata": null,
   "inputWidgetPreferences": null,
   "language": "python",
   "notebookMetadata": {},
   "notebookName": "day5-homework",
   "widgets": {}
  },
  "kernelspec": {
   "display_name": "Python 3 (ipykernel)",
   "language": "python",
   "name": "python3"
  },
  "language_info": {
   "name": "python"
  }
 },
 "nbformat": 4,
 "nbformat_minor": 0
}
