{
 "cells": [
  {
   "cell_type": "markdown",
   "metadata": {
    "application/vnd.databricks.v1+cell": {
     "cellMetadata": {},
     "inputWidgets": {},
     "nuid": "90e0a56b-51d6-4d05-bec8-fc1146e867d9",
     "showTitle": false,
     "tableResultSettingsMap": {},
     "title": ""
    }
   },
   "source": [
    "# Code Generator\n",
    "\n",
    "The requirement: use a Frontier model to generate high performance C++ code from Python code\n"
   ]
  },
  {
   "cell_type": "code",
   "execution_count": 0,
   "metadata": {
    "application/vnd.databricks.v1+cell": {
     "cellMetadata": {},
     "inputWidgets": {},
     "nuid": "9116ee80-2370-41d8-b35b-2f3436c7ac46",
     "showTitle": false,
     "tableResultSettingsMap": {},
     "title": ""
    }
   },
   "outputs": [],
   "source": [
    "# imports\n",
    "\n",
    "import os\n",
    "import io\n",
    "import sys\n",
    "from dotenv import load_dotenv\n",
    "from openai import OpenAI\n",
    "import google.generativeai\n",
    "import anthropic\n",
    "from IPython.display import Markdown, display, update_display\n",
    "import gradio as gr\n",
    "import subprocess"
   ]
  },
  {
   "cell_type": "code",
   "execution_count": 0,
   "metadata": {
    "application/vnd.databricks.v1+cell": {
     "cellMetadata": {},
     "inputWidgets": {},
     "nuid": "18976d4b-add5-4449-aef3-c078d78783c8",
     "showTitle": false,
     "tableResultSettingsMap": {},
     "title": ""
    }
   },
   "outputs": [],
   "source": [
    "# environment\n",
    "\n",
    "load_dotenv()\n",
    "os.environ['OPENAI_API_KEY'] = os.getenv('OPENAI_API_KEY', 'your-key-if-not-using-env')\n",
    "os.environ['ANTHROPIC_API_KEY'] = os.getenv('ANTHROPIC_API_KEY', 'your-key-if-not-using-env')"
   ]
  },
  {
   "cell_type": "code",
   "execution_count": 0,
   "metadata": {
    "application/vnd.databricks.v1+cell": {
     "cellMetadata": {},
     "inputWidgets": {},
     "nuid": "c2021876-5f8c-4d49-8208-35e2f345fa02",
     "showTitle": false,
     "tableResultSettingsMap": {},
     "title": ""
    }
   },
   "outputs": [],
   "source": [
    "# initialize\n",
    "# NOTE - option to use ultra-low cost models by uncommenting last 2 lines\n",
    "\n",
    "openai = OpenAI()\n",
    "# claude = anthropic.Anthropic()\n",
    "OPENAI_MODEL = \"gpt-4o\"\n",
    "# CLAUDE_MODEL = \"claude-3-5-sonnet-20240620\"\n",
    "\n",
    "# Want to keep costs ultra-low? Uncomment these lines:\n",
    "# OPENAI_MODEL = \"gpt-4o-mini\"\n",
    "# CLAUDE_MODEL = \"claude-3-haiku-20240307\""
   ]
  },
  {
   "cell_type": "code",
   "execution_count": 0,
   "metadata": {
    "application/vnd.databricks.v1+cell": {
     "cellMetadata": {},
     "inputWidgets": {},
     "nuid": "bd847be4-975b-4458-973c-6dac6acabeb4",
     "showTitle": false,
     "tableResultSettingsMap": {},
     "title": ""
    }
   },
   "outputs": [],
   "source": [
    "# system_message = \"You are an assistant that reimplements Python code in high-performance C++ and Java for an M1 Mac. \"\n",
    "# system_message += \"Respond only with C++ and Java code; use comments sparingly and do not provide any explanation other than occasional comments. \"\n",
    "#  system_message += \"The C++ and Java responses need to produce identical output in the fastest possible time.\"\n"
   ]
  },
  {
   "cell_type": "code",
   "execution_count": 0,
   "metadata": {
    "application/vnd.databricks.v1+cell": {
     "cellMetadata": {},
     "inputWidgets": {},
     "nuid": "686c6423-0452-427b-8863-1e65f615c155",
     "showTitle": false,
     "tableResultSettingsMap": {},
     "title": ""
    }
   },
   "outputs": [],
   "source": [
    "# def user_prompt_for(python):\n",
    "#     user_prompt = \"Rewrite this Python code in C++ and Java with the fastest possible implementation that produces identical output in the least time. \"\n",
    "#     user_prompt += \"Respond only with C++ and Java code; do not explain your work other than a few comments. \"\n",
    "#     user_prompt += \"Pay attention to number types to ensure no int overflows. Remember to #include all necessary C++ packages such as iomanip for C++, and import required packages for Java.\\n\\n\"\n",
    "#     user_prompt += python\n",
    "#     return user_prompt\n"
   ]
  },
  {
   "cell_type": "code",
   "execution_count": 0,
   "metadata": {
    "application/vnd.databricks.v1+cell": {
     "cellMetadata": {},
     "inputWidgets": {},
     "nuid": "4351963e-db44-4cb6-8a4c-d381a043767f",
     "showTitle": false,
     "tableResultSettingsMap": {},
     "title": ""
    }
   },
   "outputs": [],
   "source": [
    "# def messages_for(python):\n",
    "#     return [\n",
    "#         {\"role\": \"system\", \"content\": system_message},  # Includes the updated system message with C++ and Java\n",
    "#         {\"role\": \"user\", \"content\": user_prompt_for(python)}  # Calls the updated user prompt function for C++ and Java\n",
    "#     ]\n"
   ]
  },
  {
   "cell_type": "code",
   "execution_count": 0,
   "metadata": {
    "application/vnd.databricks.v1+cell": {
     "cellMetadata": {},
     "inputWidgets": {},
     "nuid": "f5530b49-3f66-4548-885c-07b0d9fba37f",
     "showTitle": false,
     "tableResultSettingsMap": {},
     "title": ""
    }
   },
   "outputs": [],
   "source": [
    "def write_output(code, file_name):\n",
    "    \"\"\"Write the generated code to a file.\"\"\"\n",
    "    with open(file_name, \"w\") as f:\n",
    "        f.write(code)\n"
   ]
  },
  {
   "cell_type": "code",
   "execution_count": 0,
   "metadata": {
    "application/vnd.databricks.v1+cell": {
     "cellMetadata": {},
     "inputWidgets": {},
     "nuid": "dd5ea08d-ddb3-4657-b049-3c4b3512768c",
     "showTitle": false,
     "tableResultSettingsMap": {},
     "title": ""
    }
   },
   "outputs": [],
   "source": [
    "def system_message_for(language):\n",
    "    \"\"\"Create a system message tailored for the requested language.\"\"\"\n",
    "    return (\n",
    "        f\"You are an assistant that reimplements Python code in high-performance {language.upper()} for an M1 Mac. \"\n",
    "        f\"Respond only with {language.upper()} code; do not explain your work other than occasional comments. \"\n",
    "        \"Pay attention to number types to ensure no overflows and include all necessary packages.\\n\\n\"\n",
    "    )\n",
    "\n",
    "def user_prompt_for(python):\n",
    "    \"\"\"Generate the user prompt.\"\"\"\n",
    "    return (\n",
    "        \"Rewrite this Python code in the requested language with the fastest possible implementation that produces \"\n",
    "        \"identical output in the least time. Use appropriate syntax for the language.\\n\\n\" + python\n",
    "    )\n",
    "\n",
    "def messages_for(python, language):\n",
    "    \"\"\"Generate the messages for GPT.\"\"\"\n",
    "    return [\n",
    "        {\"role\": \"system\", \"content\": system_message_for(language)},\n",
    "        {\"role\": \"user\", \"content\": user_prompt_for(python)},\n",
    "    ]\n",
    "    "
   ]
  },
  {
   "cell_type": "code",
   "execution_count": 0,
   "metadata": {
    "application/vnd.databricks.v1+cell": {
     "cellMetadata": {},
     "inputWidgets": {},
     "nuid": "54b5915d-0398-4695-b599-c78ce17d3286",
     "showTitle": false,
     "tableResultSettingsMap": {},
     "title": ""
    }
   },
   "outputs": [],
   "source": [
    "def optimize_gpt(python, language=\"cpp\"):\n",
    "    \"\"\"Optimize the given Python code and generate C++ or Java output.\"\"\"\n",
    "    code = \"\"\n",
    "    for chunk in stream_gpt(python, language):\n",
    "        print(chunk, end=\"\")  # Stream the output\n",
    "        code = chunk  # Store the final code\n",
    "    \n",
    "    file_name = f\"optimized.{language}\"\n",
    "    write_output(code, file_name)\n",
    "    print(f\"\\nCode written to {file_name}.\")"
   ]
  },
  {
   "cell_type": "code",
   "execution_count": 0,
   "metadata": {
    "application/vnd.databricks.v1+cell": {
     "cellMetadata": {},
     "inputWidgets": {},
     "nuid": "26a2f987-19e4-491e-905c-5f178be05a1e",
     "showTitle": false,
     "tableResultSettingsMap": {},
     "title": ""
    }
   },
   "outputs": [],
   "source": []
  },
  {
   "cell_type": "code",
   "execution_count": 0,
   "metadata": {
    "application/vnd.databricks.v1+cell": {
     "cellMetadata": {},
     "inputWidgets": {},
     "nuid": "2f6097ba-20ff-422b-b9e3-6f388d885b7c",
     "showTitle": false,
     "tableResultSettingsMap": {},
     "title": ""
    }
   },
   "outputs": [],
   "source": [
    "# def optimize_claude(python):\n",
    "#     result = claude.messages.stream(\n",
    "#         model=CLAUDE_MODEL,\n",
    "#         max_tokens=2000,\n",
    "#         system=system_message,\n",
    "#         messages=[{\"role\": \"user\", \"content\": user_prompt_for(python)}],\n",
    "#     )\n",
    "#     reply = \"\"\n",
    "#     with result as stream:\n",
    "#         for text in stream.text_stream:\n",
    "#             reply += text\n",
    "#             print(text, end=\"\", flush=True)\n",
    "#     write_output(reply)"
   ]
  },
  {
   "cell_type": "code",
   "execution_count": 0,
   "metadata": {
    "application/vnd.databricks.v1+cell": {
     "cellMetadata": {},
     "inputWidgets": {},
     "nuid": "24bb18c7-ef99-4e75-801d-2a35230daba8",
     "showTitle": false,
     "tableResultSettingsMap": {},
     "title": ""
    }
   },
   "outputs": [],
   "source": [
    "pi = \"\"\"\n",
    "import time\n",
    "\n",
    "def calculate(iterations, param1, param2):\n",
    "    result = 1.0\n",
    "    for i in range(1, iterations+1):\n",
    "        j = i * param1 - param2\n",
    "        result -= (1/j)\n",
    "        j = i * param1 + param2\n",
    "        result += (1/j)\n",
    "    return result\n",
    "\n",
    "start_time = time.time()\n",
    "result = calculate(100_000_000, 4, 1) * 4\n",
    "end_time = time.time()\n",
    "\n",
    "print(f\"Result: {result:.12f}\")\n",
    "print(f\"Execution Time: {(end_time - start_time):.6f} seconds\")\n",
    "\"\"\""
   ]
  },
  {
   "cell_type": "code",
   "execution_count": 0,
   "metadata": {
    "application/vnd.databricks.v1+cell": {
     "cellMetadata": {},
     "inputWidgets": {},
     "nuid": "3f2544bb-f9fb-458c-8fae-3239b7b7f9fc",
     "showTitle": false,
     "tableResultSettingsMap": {},
     "title": ""
    }
   },
   "outputs": [],
   "source": [
    "exec(pi)"
   ]
  },
  {
   "cell_type": "code",
   "execution_count": 0,
   "metadata": {
    "application/vnd.databricks.v1+cell": {
     "cellMetadata": {},
     "inputWidgets": {},
     "nuid": "34feca5e-458b-4400-a10c-438c90c285bc",
     "showTitle": false,
     "tableResultSettingsMap": {},
     "title": ""
    }
   },
   "outputs": [],
   "source": [
    "optimize_gpt(python_code, language=\"java\")\n"
   ]
  },
  {
   "cell_type": "code",
   "execution_count": 0,
   "metadata": {
    "application/vnd.databricks.v1+cell": {
     "cellMetadata": {},
     "inputWidgets": {},
     "nuid": "af2fbe34-39d4-4e48-a333-d4c8aed1f747",
     "showTitle": false,
     "tableResultSettingsMap": {},
     "title": ""
    }
   },
   "outputs": [],
   "source": [
    "optimize_gpt(python_code, language=\"cpp\")\n"
   ]
  },
  {
   "cell_type": "code",
   "execution_count": 0,
   "metadata": {
    "application/vnd.databricks.v1+cell": {
     "cellMetadata": {},
     "inputWidgets": {},
     "nuid": "d23d6638-7070-4799-b9e2-6bd7aa96af8a",
     "showTitle": false,
     "tableResultSettingsMap": {},
     "title": ""
    }
   },
   "outputs": [],
   "source": [
    "exec(pi)"
   ]
  },
  {
   "cell_type": "markdown",
   "metadata": {
    "application/vnd.databricks.v1+cell": {
     "cellMetadata": {},
     "inputWidgets": {},
     "nuid": "bbade92b-a976-481e-8de8-37902c3fe86d",
     "showTitle": false,
     "tableResultSettingsMap": {},
     "title": ""
    }
   },
   "source": [
    "# Compiling C++ and executing\n",
    "\n",
    "You can use any platform now (Windows,Mac,Linux) i have added compatiblity in this"
   ]
  },
  {
   "cell_type": "code",
   "execution_count": 0,
   "metadata": {
    "application/vnd.databricks.v1+cell": {
     "cellMetadata": {},
     "inputWidgets": {},
     "nuid": "d33a7805-f06a-45ea-9b84-a9c3fcc1951c",
     "showTitle": false,
     "tableResultSettingsMap": {},
     "title": ""
    }
   },
   "outputs": [],
   "source": [
    "import subprocess\n",
    "import platform\n",
    "\n",
    "def compile_and_run(language=\"cpp\"):\n",
    "    \"\"\"Compile and run the generated code.\"\"\"\n",
    "    is_windows = platform.system() == \"Windows\"\n",
    "    \n",
    "    if language == \"cpp\":\n",
    "        if is_windows:\n",
    "            # Windows: Use g++ (requires MinGW or equivalent installed)\n",
    "            compile_command = [\"g++\", \"-O3\", \"-std=c++17\", \"-o\", \"optimized.exe\", \"optimized.cpp\"]\n",
    "            execute_command = [\"optimized.exe\"]\n",
    "        else:\n",
    "            # Non-Windows: Use clang++\n",
    "            compile_command = [\n",
    "                \"clang++\", \"-O3\", \"-std=c++17\", \"-march=armv8.3-a\", \"-o\", \"optimized\", \"optimized.cpp\"\n",
    "            ]\n",
    "            execute_command = [\"./optimized\"]\n",
    "    elif language == \"java\":\n",
    "        # Both Windows and non-Windows use the same Java commands\n",
    "        compile_command = [\"javac\", \"optimized.java\"]\n",
    "        execute_command = [\"java\", \"optimized\"]\n",
    "    else:\n",
    "        raise ValueError(\"Unsupported language. Choose 'cpp' or 'java'.\")\n",
    "\n",
    "    # Compile\n",
    "    try:\n",
    "        subprocess.run(compile_command, check=True, shell=is_windows)\n",
    "        print(f\"{language.upper()} compilation successful.\")\n",
    "    except subprocess.CalledProcessError as e:\n",
    "        print(f\"{language.upper()} compilation failed:\\n{e}\")\n",
    "        return\n",
    "\n",
    "    # Run\n",
    "    try:\n",
    "        output = subprocess.run(\n",
    "            execute_command, capture_output=True, text=True, shell=is_windows\n",
    "        )\n",
    "        print(f\"{language.upper()} execution output:\\n{output.stdout}\")\n",
    "    except subprocess.CalledProcessError as e:\n",
    "        print(f\"{language.upper()} execution failed:\\n{e.stderr}\")\n"
   ]
  },
  {
   "cell_type": "code",
   "execution_count": 0,
   "metadata": {
    "application/vnd.databricks.v1+cell": {
     "cellMetadata": {},
     "inputWidgets": {},
     "nuid": "c85cc290-683e-45ac-8298-7d94ca70044d",
     "showTitle": false,
     "tableResultSettingsMap": {},
     "title": ""
    }
   },
   "outputs": [],
   "source": [
    "compile_and_run(language=\"cpp\")\n"
   ]
  },
  {
   "cell_type": "code",
   "execution_count": 0,
   "metadata": {
    "application/vnd.databricks.v1+cell": {
     "cellMetadata": {},
     "inputWidgets": {},
     "nuid": "14bb8aa3-2853-4668-aa47-50e690477fdf",
     "showTitle": false,
     "tableResultSettingsMap": {},
     "title": ""
    }
   },
   "outputs": [],
   "source": [
    "# optimize_claude(pi)"
   ]
  },
  {
   "cell_type": "code",
   "execution_count": 0,
   "metadata": {
    "application/vnd.databricks.v1+cell": {
     "cellMetadata": {},
     "inputWidgets": {},
     "nuid": "9d6e1965-4f9f-4ab1-910f-ec5d8445d1d0",
     "showTitle": false,
     "tableResultSettingsMap": {},
     "title": ""
    }
   },
   "outputs": [],
   "source": [
    "# Repeat for Claude - again, use the right approach for your platform\n",
    "\n",
    "# !clang++ -O3 -std=c++17 -march=armv8.3-a -o optimized optimized.cpp\n",
    "# !./optimized"
   ]
  },
  {
   "cell_type": "code",
   "execution_count": 0,
   "metadata": {
    "application/vnd.databricks.v1+cell": {
     "cellMetadata": {},
     "inputWidgets": {},
     "nuid": "ccac0da6-9d53-4c2b-9c93-313d1c11eb1d",
     "showTitle": false,
     "tableResultSettingsMap": {},
     "title": ""
    }
   },
   "outputs": [],
   "source": [
    "python_hard = \"\"\"# Be careful to support large number sizes\n",
    "\n",
    "def lcg(seed, a=1664525, c=1013904223, m=2**32):\n",
    "    value = seed\n",
    "    while True:\n",
    "        value = (a * value + c) % m\n",
    "        yield value\n",
    "        \n",
    "def max_subarray_sum(n, seed, min_val, max_val):\n",
    "    lcg_gen = lcg(seed)\n",
    "    random_numbers = [next(lcg_gen) % (max_val - min_val + 1) + min_val for _ in range(n)]\n",
    "    max_sum = float('-inf')\n",
    "    for i in range(n):\n",
    "        current_sum = 0\n",
    "        for j in range(i, n):\n",
    "            current_sum += random_numbers[j]\n",
    "            if current_sum > max_sum:\n",
    "                max_sum = current_sum\n",
    "    return max_sum\n",
    "\n",
    "def total_max_subarray_sum(n, initial_seed, min_val, max_val):\n",
    "    total_sum = 0\n",
    "    lcg_gen = lcg(initial_seed)\n",
    "    for _ in range(20):\n",
    "        seed = next(lcg_gen)\n",
    "        total_sum += max_subarray_sum(n, seed, min_val, max_val)\n",
    "    return total_sum\n",
    "\n",
    "# Parameters\n",
    "n = 10000         # Number of random numbers\n",
    "initial_seed = 42 # Initial seed for the LCG\n",
    "min_val = -10     # Minimum value of random numbers\n",
    "max_val = 10      # Maximum value of random numbers\n",
    "\n",
    "# Timing the function\n",
    "import time\n",
    "start_time = time.time()\n",
    "result = total_max_subarray_sum(n, initial_seed, min_val, max_val)\n",
    "end_time = time.time()\n",
    "\n",
    "print(\"Total Maximum Subarray Sum (20 runs):\", result)\n",
    "print(\"Execution Time: {:.6f} seconds\".format(end_time - start_time))\n",
    "\"\"\""
   ]
  },
  {
   "cell_type": "code",
   "execution_count": 0,
   "metadata": {
    "application/vnd.databricks.v1+cell": {
     "cellMetadata": {},
     "inputWidgets": {},
     "nuid": "8778c9ba-e883-4bc2-9748-0f280f0bd295",
     "showTitle": false,
     "tableResultSettingsMap": {},
     "title": ""
    }
   },
   "outputs": [],
   "source": [
    "exec(python_hard)"
   ]
  },
  {
   "cell_type": "code",
   "execution_count": 0,
   "metadata": {
    "application/vnd.databricks.v1+cell": {
     "cellMetadata": {},
     "inputWidgets": {},
     "nuid": "95c8037f-6e9d-4e4e-9346-e289bc79e99e",
     "showTitle": false,
     "tableResultSettingsMap": {},
     "title": ""
    }
   },
   "outputs": [],
   "source": [
    "# optimize_gpt(python_hard)"
   ]
  },
  {
   "cell_type": "code",
   "execution_count": 0,
   "metadata": {
    "application/vnd.databricks.v1+cell": {
     "cellMetadata": {},
     "inputWidgets": {},
     "nuid": "f2595099-b69e-4781-8148-6508abbad3ad",
     "showTitle": false,
     "tableResultSettingsMap": {},
     "title": ""
    }
   },
   "outputs": [],
   "source": [
    "# # Replace this with the right C++ compile + execute command for your platform\n",
    "\n",
    "# !clang++ -O3 -std=c++17 -march=armv8.3-a -o optimized optimized.cpp\n",
    "# !./optimized"
   ]
  },
  {
   "cell_type": "code",
   "execution_count": 0,
   "metadata": {
    "application/vnd.databricks.v1+cell": {
     "cellMetadata": {},
     "inputWidgets": {},
     "nuid": "cfacbaa8-2b03-41f5-a565-8d546c6161ae",
     "showTitle": false,
     "tableResultSettingsMap": {},
     "title": ""
    }
   },
   "outputs": [],
   "source": [
    "# optimize_claude(python_hard)"
   ]
  },
  {
   "cell_type": "code",
   "execution_count": 0,
   "metadata": {
    "application/vnd.databricks.v1+cell": {
     "cellMetadata": {},
     "inputWidgets": {},
     "nuid": "355a9ae1-706b-42d1-8c72-8499c20f88d2",
     "showTitle": false,
     "tableResultSettingsMap": {},
     "title": ""
    }
   },
   "outputs": [],
   "source": [
    "# Replace this with the right C++ compile + execute command for your platform\n",
    "\n",
    "# !clang++ -O3 -std=c++17 -march=armv8.3-a -o optimized optimized.cpp\n",
    "# !./optimized"
   ]
  },
  {
   "cell_type": "code",
   "execution_count": 0,
   "metadata": {
    "application/vnd.databricks.v1+cell": {
     "cellMetadata": {},
     "inputWidgets": {},
     "nuid": "a7a10e32-1162-41dd-a16b-a523d274bf91",
     "showTitle": false,
     "tableResultSettingsMap": {},
     "title": ""
    }
   },
   "outputs": [],
   "source": [
    "def stream_gpt(python, language=\"cpp\"):\n",
    "    \"\"\"Stream the GPT output for the requested language.\"\"\"\n",
    "    if language not in [\"cpp\", \"java\"]:\n",
    "        raise ValueError(\"Invalid language specified. Choose 'cpp' or 'java'.\")\n",
    "    \n",
    "    # Stream response\n",
    "    stream = openai.ChatCompletion.create(\n",
    "        model=OPENAI_MODEL, messages=messages_for(python, language), stream=True\n",
    "    )\n",
    "    reply = \"\"\n",
    "    code_block = f\"```{language}\\n\"  # Detect code block for the language\n",
    "\n",
    "    for chunk in stream:\n",
    "        fragment = chunk.choices[0].delta.content or \"\"\n",
    "        reply += fragment\n",
    "        \n",
    "        # Clean the streamed reply\n",
    "        cleaned_reply = reply.replace(code_block, \"\").replace(\"```\", \"\")\n",
    "        yield cleaned_reply\n"
   ]
  },
  {
   "cell_type": "code",
   "execution_count": 0,
   "metadata": {
    "application/vnd.databricks.v1+cell": {
     "cellMetadata": {},
     "inputWidgets": {},
     "nuid": "5a41245e-33a2-47ea-a127-02401d1fe0e2",
     "showTitle": false,
     "tableResultSettingsMap": {},
     "title": ""
    }
   },
   "outputs": [],
   "source": [
    "# def stream_claude(python):\n",
    "#     result = claude.messages.stream(\n",
    "#         model=CLAUDE_MODEL,\n",
    "#         max_tokens=2000,\n",
    "#         system=system_message,\n",
    "#         messages=[{\"role\": \"user\", \"content\": user_prompt_for(python)}],\n",
    "#     )\n",
    "#     reply = \"\"\n",
    "#     with result as stream:\n",
    "#         for text in stream.text_stream:\n",
    "#             reply += text\n",
    "#             yield reply.replace('```cpp\\n','').replace('```','')"
   ]
  },
  {
   "cell_type": "code",
   "execution_count": 0,
   "metadata": {
    "application/vnd.databricks.v1+cell": {
     "cellMetadata": {},
     "inputWidgets": {},
     "nuid": "d22a1e05-e9eb-46df-a2a7-bcb69ca8d8ed",
     "showTitle": false,
     "tableResultSettingsMap": {},
     "title": ""
    }
   },
   "outputs": [],
   "source": [
    "def optimize(python, model=\"GPT\", language=\"cpp\"):\n",
    "    \"\"\"\n",
    "    Optimize the given Python code using the specified model (GPT or Claude) and generate the output\n",
    "    in the requested programming language.\n",
    "\n",
    "    Args:\n",
    "        python (str): The Python code to optimize.\n",
    "        model (str): The model to use (\"GPT\" or \"Claude\").\n",
    "        language (str): The target programming language (\"cpp\" or \"java\").\n",
    "\n",
    "    Yields:\n",
    "        str: The streamed output of the generated code.\n",
    "    \"\"\"\n",
    "    if model == \"GPT\":\n",
    "        result = stream_gpt(python, language=language)\n",
    "  \n",
    "    else:\n",
    "        raise ValueError(\"Unknown model. Please choose 'GPT' or 'Claude'.\")\n",
    "\n",
    "    for stream_so_far in result:\n",
    "        yield stream_so_far\n"
   ]
  },
  {
   "cell_type": "code",
   "execution_count": 0,
   "metadata": {
    "application/vnd.databricks.v1+cell": {
     "cellMetadata": {},
     "inputWidgets": {},
     "nuid": "ce9e3f59-f441-4463-8b0d-79b6859b5614",
     "showTitle": false,
     "tableResultSettingsMap": {},
     "title": ""
    }
   },
   "outputs": [],
   "source": [
    "# import gradio as gr\n",
    "\n",
    "# # Assuming `optimize` is already defined and imported\n",
    "# # python_hard should be a pre-defined Python code snippet for the default value\n",
    "\n",
    "# with gr.Blocks() as ui:\n",
    "#     with gr.Row():\n",
    "#         python = gr.Textbox(label=\"Python code:\", lines=10, value=\"\")  # Default value can be set here\n",
    "#         cpp = gr.Textbox(label=\"Converted code:\", lines=10, interactive=False)  # Output box\n",
    "\n",
    "#     with gr.Row():\n",
    "#         model = gr.Dropdown([\"GPT\", \"Claude\"], label=\"Select model\", value=\"GPT\")  # Default is GPT\n",
    "#         language = gr.Dropdown([\"cpp\", \"java\"], label=\"Target language\", value=\"cpp\")  # Default is C++\n",
    "#         convert = gr.Button(\"Convert code\")\n",
    "\n",
    "#     # Connect the button to the optimize function\n",
    "#     def convert_code(python, model, language):\n",
    "#         result = \"\"\n",
    "#         for output in optimize(python, model=model, language=language):\n",
    "#             result = output  # Collect the last streamed result\n",
    "#         return result\n",
    "\n",
    "#     convert.click(\n",
    "#         fn=convert_code,\n",
    "#         inputs=[python, model, language],  # Inputs from UI\n",
    "#         outputs=[cpp],  # Output to the C++/Java box\n",
    "#     )\n",
    "\n",
    "# ui.launch(inbrowser=True)\n"
   ]
  },
  {
   "cell_type": "code",
   "execution_count": 0,
   "metadata": {
    "application/vnd.databricks.v1+cell": {
     "cellMetadata": {},
     "inputWidgets": {},
     "nuid": "aae77354-e7a2-4ca8-ad5e-a3170003c6a4",
     "showTitle": false,
     "tableResultSettingsMap": {},
     "title": ""
    }
   },
   "outputs": [],
   "source": [
    "import io\n",
    "import sys\n",
    "\n",
    "def execute_python(code):\n",
    "    \"\"\"\n",
    "    Execute Python code dynamically and capture its output.\n",
    "\n",
    "    Args:\n",
    "        code (str): The Python code to execute.\n",
    "\n",
    "    Returns:\n",
    "        str: The captured standard output of the executed code.\n",
    "\n",
    "    Raises:\n",
    "        Exception: If the execution of the code raises an error.\n",
    "    \"\"\"\n",
    "    output = io.StringIO()\n",
    "    try:\n",
    "        sys.stdout = output  # Redirect standard output to the StringIO object\n",
    "        exec(code, {})  # Execute code with an empty global context for safety\n",
    "    except Exception as e:\n",
    "        return f\"Error during execution: {str(e)}\"\n",
    "    finally:\n",
    "        sys.stdout = sys.__stdout__  # Restore standard output\n",
    "\n",
    "    return output.getvalue()\n"
   ]
  },
  {
   "cell_type": "code",
   "execution_count": 0,
   "metadata": {
    "application/vnd.databricks.v1+cell": {
     "cellMetadata": {},
     "inputWidgets": {},
     "nuid": "69764022-28e0-4120-a2f2-aa73714567f5",
     "showTitle": false,
     "tableResultSettingsMap": {},
     "title": ""
    }
   },
   "outputs": [],
   "source": [
    "# You'll need to change the code in the try block to compile the C++ code for your platform\n",
    "# I pasted this into Claude's chat UI with a request for it to give me a version for an Intel PC,\n",
    "# and it responded with something that looks perfect - you can try a similar approach for your platform.\n",
    "\n",
    "# M1 Mac version to compile and execute optimized C++ code:\n",
    "\n",
    "def execute_cpp(code):\n",
    "        write_output(code)\n",
    "        try:\n",
    "            compile_cmd = [\"clang++\", \"-Ofast\", \"-std=c++17\", \"-march=armv8.5-a\", \"-mtune=apple-m1\", \"-mcpu=apple-m1\", \"-o\", \"optimized\", \"optimized.cpp\"]\n",
    "            compile_result = subprocess.run(compile_cmd, check=True, text=True, capture_output=True)\n",
    "            run_cmd = [\"./optimized\"]\n",
    "            run_result = subprocess.run(run_cmd, check=True, text=True, capture_output=True)\n",
    "            return run_result.stdout\n",
    "        except subprocess.CalledProcessError as e:\n",
    "            return f\"An error occurred:\\n{e.stderr}\""
   ]
  },
  {
   "cell_type": "code",
   "execution_count": 0,
   "metadata": {
    "application/vnd.databricks.v1+cell": {
     "cellMetadata": {},
     "inputWidgets": {},
     "nuid": "6feb886b-be0d-4965-a6b7-51362a584d7d",
     "showTitle": false,
     "tableResultSettingsMap": {},
     "title": ""
    }
   },
   "outputs": [],
   "source": [
    "\n",
    "def execute_java(code):\n",
    "    \"\"\"Compile and execute Java code dynamically.\"\"\"\n",
    "    write_output(code, \"Optimized.java\")\n",
    "    try:\n",
    "        # Compile the Java code\n",
    "        compile_cmd = [\"javac\", \"Optimized.java\"]\n",
    "        subprocess.run(compile_cmd, check=True, text=True, capture_output=True)\n",
    "        \n",
    "        # Run the compiled Java program\n",
    "        run_cmd = [\"java\", \"Optimized\"]\n",
    "        run_result = subprocess.run(run_cmd, check=True, text=True, capture_output=True)\n",
    "        return run_result.stdout  # Return the output\n",
    "    except subprocess.CalledProcessError as e:\n",
    "        return f\"Error during compilation or execution:\\n{e.stderr}\""
   ]
  },
  {
   "cell_type": "code",
   "execution_count": 0,
   "metadata": {
    "application/vnd.databricks.v1+cell": {
     "cellMetadata": {},
     "inputWidgets": {},
     "nuid": "00e83b77-9dae-471a-b1eb-f2cbc7ff67d9",
     "showTitle": false,
     "tableResultSettingsMap": {},
     "title": ""
    }
   },
   "outputs": [],
   "source": [
    "# css = \"\"\"\n",
    "# .python {background-color: #306998;}\n",
    "# .cpp {background-color: #050;}\n",
    "# \"\"\""
   ]
  },
  {
   "cell_type": "code",
   "execution_count": 0,
   "metadata": {
    "application/vnd.databricks.v1+cell": {
     "cellMetadata": {},
     "inputWidgets": {},
     "nuid": "761f85a1-a8e5-4a81-9974-e88d7556ed59",
     "showTitle": false,
     "tableResultSettingsMap": {},
     "title": ""
    }
   },
   "outputs": [],
   "source": [
    "css = \"\"\"\n",
    ".python {background-color: #306998;}\n",
    ".cpp {background-color: #050;}\n",
    ".java {background-color: #b07219;}\n",
    "\"\"\"\n",
    "\n",
    "with gr.Blocks(css=css) as ui:\n",
    "    gr.Markdown(\"## Convert code from Python to C++, Java, or Run Directly\")\n",
    "    \n",
    "    with gr.Row():\n",
    "        python = gr.Textbox(label=\"Python code:\", value=\"print('Hello from Python!')\", lines=10)\n",
    "        cpp = gr.Textbox(label=\"C++ code:\", lines=10)\n",
    "        java = gr.Textbox(label=\"Java code:\", lines=10)\n",
    "    \n",
    "    with gr.Row():\n",
    "        model = gr.Dropdown([\"GPT\"], label=\"Select model\", value=\"GPT\")\n",
    "    \n",
    "    with gr.Row():\n",
    "        convert_cpp = gr.Button(\"Convert to C++\")\n",
    "        convert_java = gr.Button(\"Convert to Java\")\n",
    "    \n",
    "    with gr.Row():\n",
    "        python_run = gr.Button(\"Run Python\")\n",
    "        cpp_run = gr.Button(\"Run C++\")\n",
    "        java_run = gr.Button(\"Run Java\")\n",
    "    \n",
    "    with gr.Row():\n",
    "        python_out = gr.TextArea(label=\"Python result:\", elem_classes=[\"python\"])\n",
    "        cpp_out = gr.TextArea(label=\"C++ result:\", elem_classes=[\"cpp\"])\n",
    "        java_out = gr.TextArea(label=\"Java result:\", elem_classes=[\"java\"])\n",
    "\n",
    "    # Add C++ and Java conversion\n",
    "    convert_cpp.click(optimize, inputs=[python, model], outputs=[cpp])\n",
    "    convert_java.click(optimize, inputs=[python, model], outputs=[java])\n",
    "    \n",
    "    # Add execution buttons for each language\n",
    "    python_run.click(execute_python, inputs=[python], outputs=[python_out])\n",
    "    cpp_run.click(execute_cpp, inputs=[cpp], outputs=[cpp_out])\n",
    "    java_run.click(execute_java, inputs=[java], outputs=[java_out])\n",
    "\n",
    "ui.launch(inbrowser=True)\n"
   ]
  },
  {
   "cell_type": "code",
   "execution_count": 0,
   "metadata": {
    "application/vnd.databricks.v1+cell": {
     "cellMetadata": {},
     "inputWidgets": {},
     "nuid": "4bd8b156-23f6-4108-9476-8c7fa85d0d9e",
     "showTitle": false,
     "tableResultSettingsMap": {},
     "title": ""
    }
   },
   "outputs": [],
   "source": []
  }
 ],
 "metadata": {
  "application/vnd.databricks.v1+notebook": {
   "computePreferences": null,
   "dashboards": [],
   "environmentMetadata": null,
   "inputWidgetPreferences": null,
   "language": "python",
   "notebookMetadata": {},
   "notebookName": "Code_Converter(Added_Java_Support)(Open_Ai_Only)",
   "widgets": {}
  },
  "kernelspec": {
   "display_name": "Python 3 (ipykernel)",
   "language": "python",
   "name": "python3"
  },
  "language_info": {
   "name": "python"
  }
 },
 "nbformat": 4,
 "nbformat_minor": 0
}
