{
 "cells": [
  {
   "cell_type": "markdown",
   "metadata": {
    "application/vnd.databricks.v1+cell": {
     "cellMetadata": {},
     "inputWidgets": {},
     "nuid": "07689129-7ffc-4ddd-9a6c-a3829884203d",
     "showTitle": false,
     "tableResultSettingsMap": {},
     "title": ""
    },
    "editable": true,
    "slideshow": {
     "slide_type": ""
    },
    "tags": []
   },
   "source": [
    "# Resarch Paper Summarizer by Name"
   ]
  },
  {
   "cell_type": "markdown",
   "metadata": {
    "application/vnd.databricks.v1+cell": {
     "cellMetadata": {},
     "inputWidgets": {},
     "nuid": "dff6dda1-5a0a-4c49-af51-f802719f5edd",
     "showTitle": false,
     "tableResultSettingsMap": {},
     "title": ""
    },
    "editable": true,
    "slideshow": {
     "slide_type": ""
    },
    "tags": []
   },
   "source": [
    "### Imports"
   ]
  },
  {
   "cell_type": "code",
   "execution_count": 0,
   "metadata": {
    "application/vnd.databricks.v1+cell": {
     "cellMetadata": {},
     "inputWidgets": {},
     "nuid": "aa251b3d-23f4-4de3-a0fc-95774ac4af4e",
     "showTitle": false,
     "tableResultSettingsMap": {},
     "title": ""
    }
   },
   "outputs": [],
   "source": [
    "## If dependencies do not exist please install them\n",
    "# !pip install python-dotenv openai arxiv"
   ]
  },
  {
   "cell_type": "code",
   "execution_count": 0,
   "metadata": {
    "application/vnd.databricks.v1+cell": {
     "cellMetadata": {},
     "inputWidgets": {},
     "nuid": "d599fa3d-bd91-419b-8042-e8dbaf1121cd",
     "showTitle": false,
     "tableResultSettingsMap": {},
     "title": ""
    }
   },
   "outputs": [],
   "source": [
    "import arxiv\n",
    "import os\n",
    "from openai import OpenAI\n",
    "from dotenv import load_dotenv\n",
    "from IPython.display import Markdown, display"
   ]
  },
  {
   "cell_type": "markdown",
   "metadata": {
    "application/vnd.databricks.v1+cell": {
     "cellMetadata": {},
     "inputWidgets": {},
     "nuid": "6ab8e163-1257-41d6-9096-860b5ef71f71",
     "showTitle": false,
     "tableResultSettingsMap": {},
     "title": ""
    }
   },
   "source": [
    "### Load Open AI Key"
   ]
  },
  {
   "cell_type": "code",
   "execution_count": 0,
   "metadata": {
    "application/vnd.databricks.v1+cell": {
     "cellMetadata": {},
     "inputWidgets": {},
     "nuid": "1e9df8da-a20c-46bb-9a8a-28410891e726",
     "showTitle": false,
     "tableResultSettingsMap": {},
     "title": ""
    }
   },
   "outputs": [],
   "source": [
    "load_dotenv()\n",
    "api_key = os.getenv(\"OPENAI_API_KEY\")\n",
    "\n",
    "if not api_key:\n",
    "    print(\"❌ No OpenAI API key found in .env file.\")\n",
    "else:\n",
    "    print(\"✅ API key loaded successfully.\")\n",
    "\n",
    "# ✅ Initialize OpenAI\n",
    "openai = OpenAI(api_key=api_key)"
   ]
  },
  {
   "cell_type": "markdown",
   "metadata": {
    "application/vnd.databricks.v1+cell": {
     "cellMetadata": {},
     "inputWidgets": {},
     "nuid": "4381d666-7fc4-4d5f-bd6d-d6c9903895d3",
     "showTitle": false,
     "tableResultSettingsMap": {},
     "title": ""
    }
   },
   "source": [
    "### Main Class MLResearchFetcher"
   ]
  },
  {
   "cell_type": "code",
   "execution_count": 0,
   "metadata": {
    "application/vnd.databricks.v1+cell": {
     "cellMetadata": {},
     "inputWidgets": {},
     "nuid": "48032f6c-7fc5-48d8-af64-eabc3f4127d0",
     "showTitle": false,
     "tableResultSettingsMap": {},
     "title": ""
    }
   },
   "outputs": [],
   "source": [
    "class MLResearchFetcher:\n",
    "    def __init__(self, system_prompt, query=\"machine learning\", max_results=5):\n",
    "        self.query = query\n",
    "        self.max_results = max_results\n",
    "        self.system_prompt = system_prompt\n",
    "\n",
    "    def fetch_papers(self):\n",
    "        search = arxiv.Search(\n",
    "            query=f'ti:\"{self.query}\"',\n",
    "            max_results=self.max_results,\n",
    "            sort_by=arxiv.SortCriterion.SubmittedDate,\n",
    "            sort_order=arxiv.SortOrder.Descending,\n",
    "        )\n",
    "        return list(search.results())\n",
    "\n",
    "    def summarize_abstract(self, abstract, system_prompt):\n",
    "        try:\n",
    "            completion = openai.chat.completions.create(\n",
    "                model=\"gpt-4o-mini\",\n",
    "                messages=[\n",
    "                    {\"role\": \"system\", \"content\": system_prompt},\n",
    "                    {\"role\": \"user\", \"content\": abstract}\n",
    "                ]\n",
    "            )\n",
    "            return completion.choices[0].message.content.strip()\n",
    "        except Exception as e:\n",
    "            return f\"❌ Error during summarization: {e}\"\n",
    "\n",
    "    def display_results(self):\n",
    "        papers = self.fetch_papers()\n",
    "        for paper in papers:\n",
    "            display(Markdown(f\"### 📄 [{paper.title}]({paper.entry_id})\"))\n",
    "            display(Markdown(f\"**Authors:** {', '.join(author.name for author in paper.authors)}\"))\n",
    "            display(Markdown(f\"**Published:** {paper.published.date()}\"))\n",
    "            display(Markdown(f\"**Abstract:** {paper.summary.strip()}\"))\n",
    "            summary = self.summarize_abstract(paper.summary, self.system_prompt)\n",
    "            display(Markdown(f\"**🔍 Summary:** {summary}\"))\n",
    "            display(Markdown(\"---\"))"
   ]
  },
  {
   "cell_type": "markdown",
   "metadata": {
    "application/vnd.databricks.v1+cell": {
     "cellMetadata": {},
     "inputWidgets": {},
     "nuid": "d074df64-6634-4ea2-84f8-d25f628e5b35",
     "showTitle": false,
     "tableResultSettingsMap": {},
     "title": ""
    }
   },
   "source": [
    "### Helper Functions"
   ]
  },
  {
   "cell_type": "code",
   "execution_count": 0,
   "metadata": {
    "application/vnd.databricks.v1+cell": {
     "cellMetadata": {},
     "inputWidgets": {},
     "nuid": "64e6e3a4-5220-4239-847f-ded2d1d76611",
     "showTitle": false,
     "tableResultSettingsMap": {},
     "title": ""
    }
   },
   "outputs": [],
   "source": [
    "system_prompt = \"You are an expert research paper summarizer and AI research assistant. \\\n",
    "When provided with the URL or content of a research paper in the field of machine learning, artificial intelligence, or data science, perform the following: \\\n",
    "1. **Extract and present** the following details in a clear, structured Markdown format: \\\n",
    "   - Title and Author(s) \\\n",
    "   - Year of Publication \\\n",
    "   - Objective or Aim of the Research (Why the study was conducted) \\\n",
    "   - Background or Introduction (What foundational knowledge or motivation led to this work) \\\n",
    "   - Type of Research (e.g., empirical study, theoretical analysis, experimental benchmark) \\\n",
    "   - Methods or Methodology (How the research was conducted: dataset, models, techniques used) \\\n",
    "   - Results and Key Findings (What was discovered or proven) \\\n",
    "   - Conclusion (Summary of insights, limitations, and proposed future work) \\\n",
    "\\\n",
    "2. **Evaluate** the impact and relevance of the paper: \\\n",
    "   - Assess the significance of the research to the broader ML/AI community \\\n",
    "   - Note any novelty, performance improvements, or theoretical breakthroughs \\\n",
    "   - Comment on the potential applications or industry relevance \\\n",
    "\\\n",
    "3. **Suggest new research directions**: \\\n",
    "   - Identify gaps, limitations, or unexplored ideas in the paper \\\n",
    "   - Propose at least one new research idea or follow-up paper that builds upon this work \\\n",
    "\\\n",
    "Respond in a clean, professional Markdown format suitable for researchers or students reviewing the literature.\"\n"
   ]
  },
  {
   "cell_type": "code",
   "execution_count": 0,
   "metadata": {
    "application/vnd.databricks.v1+cell": {
     "cellMetadata": {},
     "inputWidgets": {},
     "nuid": "23f0cf86-2179-4813-8a80-a708fbe7e914",
     "showTitle": false,
     "tableResultSettingsMap": {},
     "title": ""
    }
   },
   "outputs": [],
   "source": [
    "def print_papers(papers):\n",
    "    for paper in papers:\n",
    "        title = paper.title\n",
    "        authors = \", \".join(author.name for author in paper.authors)\n",
    "        published = paper.published.strftime('%Y-%m-%d')\n",
    "        abstract = paper.summary.strip()\n",
    "        link = paper.entry_id\n",
    "        pdf_link = [l.href for l in paper.links if l.title == 'pdf']\n",
    "        categories = \", \".join(paper.categories)\n",
    "\n",
    "        print(f\"\\n📄 Title: {title}\")\n",
    "        print(f\"👥 Authors: {authors}\")\n",
    "        print(f\"📅 Published: {published}\")\n",
    "        print(f\"🏷️ Categories: {categories}\")\n",
    "        print(f\"🔗 Link: {link}\")\n",
    "        if pdf_link:\n",
    "            print(f\"📄 PDF: {pdf_link[0]}\")\n",
    "        print(f\"\\n📝 Abstract:\\n{abstract}\")\n",
    "        print(\"-\" * 80)\n"
   ]
  },
  {
   "cell_type": "markdown",
   "metadata": {
    "application/vnd.databricks.v1+cell": {
     "cellMetadata": {},
     "inputWidgets": {},
     "nuid": "16ec8ecc-a3d1-4206-83f6-9a202b4e3bd2",
     "showTitle": false,
     "tableResultSettingsMap": {},
     "title": ""
    }
   },
   "source": [
    "#### Get the papers given the name of the paper"
   ]
  },
  {
   "cell_type": "code",
   "execution_count": 0,
   "metadata": {
    "application/vnd.databricks.v1+cell": {
     "cellMetadata": {},
     "inputWidgets": {},
     "nuid": "52daeb8e-aee2-42ea-827c-8455eac256e4",
     "showTitle": false,
     "tableResultSettingsMap": {},
     "title": ""
    }
   },
   "outputs": [],
   "source": [
    "fetcher = MLResearchFetcher(system_prompt, query=\"QWEN2 TECHNICAL REPORT\", max_results=3)\n",
    "papers = fetcher.fetch_papers()\n",
    "print_papers(papers)"
   ]
  },
  {
   "cell_type": "markdown",
   "metadata": {
    "application/vnd.databricks.v1+cell": {
     "cellMetadata": {},
     "inputWidgets": {},
     "nuid": "38bc247d-bb6e-4091-bdfb-f3f2ad8e9fb6",
     "showTitle": false,
     "tableResultSettingsMap": {},
     "title": ""
    }
   },
   "source": [
    "### Call the model and get the results"
   ]
  },
  {
   "cell_type": "code",
   "execution_count": 0,
   "metadata": {
    "application/vnd.databricks.v1+cell": {
     "cellMetadata": {},
     "inputWidgets": {},
     "nuid": "5a721954-842f-4bb7-b515-aff53fb51927",
     "showTitle": false,
     "tableResultSettingsMap": {},
     "title": ""
    }
   },
   "outputs": [],
   "source": [
    "fetcher.display_results()"
   ]
  },
  {
   "cell_type": "code",
   "execution_count": 0,
   "metadata": {
    "application/vnd.databricks.v1+cell": {
     "cellMetadata": {},
     "inputWidgets": {},
     "nuid": "a356aeac-ffed-4427-aaf6-c889d935e8c9",
     "showTitle": false,
     "tableResultSettingsMap": {},
     "title": ""
    }
   },
   "outputs": [],
   "source": []
  }
 ],
 "metadata": {
  "application/vnd.databricks.v1+notebook": {
   "computePreferences": null,
   "dashboards": [],
   "environmentMetadata": null,
   "inputWidgetPreferences": null,
   "language": "python",
   "notebookMetadata": {},
   "notebookName": "day1-research_paper_summarizer_by_name",
   "widgets": {}
  },
  "kernelspec": {
   "display_name": "Python 3 (ipykernel)",
   "language": "python",
   "name": "python3"
  },
  "language_info": {
   "name": "python"
  }
 },
 "nbformat": 4,
 "nbformat_minor": 0
}
