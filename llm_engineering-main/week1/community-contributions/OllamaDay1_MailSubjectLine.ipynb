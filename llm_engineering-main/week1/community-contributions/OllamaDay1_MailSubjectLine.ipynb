{
 "cells": [
  {
   "cell_type": "code",
   "execution_count": 0,
   "metadata": {
    "application/vnd.databricks.v1+cell": {
     "cellMetadata": {},
     "inputWidgets": {},
     "nuid": "407c4c03-dcae-48cc-9dec-3e8c215e219a",
     "showTitle": false,
     "tableResultSettingsMap": {},
     "title": ""
    }
   },
   "outputs": [],
   "source": [
    "\n",
    "import os\n",
    "import requests\n",
    "from dotenv import load_dotenv\n",
    "from bs4 import BeautifulSoup\n",
    "from IPython.display import Markdown, display\n",
    "from openai import OpenAI\n",
    "\n",
    "openai = OpenAI(base_url='http://localhost:11434/v1', api_key='ollama')\n",
    "system_prompt = \"You are an assistant that analyzes the contents of an email\"\n",
    "user_prompt = \"Provide a short subject line which aligns with the body of the email\"\n",
    "email_content = \"\"\"\n",
    "From: TestSender@example.com\n",
    "To: TestReceiver@example.com\n",
    "Subject: \n",
    "\n",
    "Hi Team,\n",
    "\n",
    "This email provides an update on Project Alpha. We've successfully completed Phase 1, which involved, and would like to thank all the \n",
    "team for the great work, and looking forward to the same energy and rigor for Phase 2 too. \n",
    "\n",
    "Keep up the good work!! \n",
    "\n",
    "Thanks,\n",
    "James\n",
    "\"\"\"\n",
    "\n",
    "# Step 2: Make the messages list\n",
    "\n",
    "messages = [\n",
    "    {\"role\": \"system\", \"content\": system_prompt},\n",
    "    {\"role\": \"user\", \"content\": user_prompt+email_content}\n",
    "]\n",
    "\n",
    "# Step 3: Call OpenAI\n",
    "\n",
    "#response =\n",
    "response = openai.chat.completions.create(model=\"llama3.2\", messages=messages)\n",
    "\n",
    "# Step 4: print the result\n",
    "print(response.choices[0].message.content)\n"
   ]
  },
  {
   "cell_type": "code",
   "execution_count": 0,
   "metadata": {
    "application/vnd.databricks.v1+cell": {
     "cellMetadata": {},
     "inputWidgets": {},
     "nuid": "eb7fa036-a160-4040-a4f9-cd206cadc585",
     "showTitle": false,
     "tableResultSettingsMap": {},
     "title": ""
    }
   },
   "outputs": [],
   "source": []
  }
 ],
 "metadata": {
  "application/vnd.databricks.v1+notebook": {
   "computePreferences": null,
   "dashboards": [],
   "environmentMetadata": null,
   "inputWidgetPreferences": null,
   "language": "python",
   "notebookMetadata": {},
   "notebookName": "OllamaDay1_MailSubjectLine",
   "widgets": {}
  },
  "kernelspec": {
   "display_name": "Python 3 (ipykernel)",
   "language": "python",
   "name": "python3"
  },
  "language_info": {
   "name": "python"
  }
 },
 "nbformat": 4,
 "nbformat_minor": 0
}
