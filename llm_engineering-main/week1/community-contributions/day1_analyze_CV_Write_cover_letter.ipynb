{
 "cells": [
  {
   "cell_type": "code",
   "execution_count": 0,
   "metadata": {
    "application/vnd.databricks.v1+cell": {
     "cellMetadata": {},
     "inputWidgets": {},
     "nuid": "f2401d5a-6cbb-4cf1-a8b5-9d78e2523b00",
     "showTitle": false,
     "tableResultSettingsMap": {},
     "title": ""
    }
   },
   "outputs": [],
   "source": [
    "#In this example we will fetch the job description by pasting the URL,then we upload CV. Only then ChatGPT will\n",
    "#analyze CV against the fetched job description. If the CV is a good match then it will write a cover letter.\n",
    "\n",
    "#If \n",
    "    ##job posting url is fake/random text or \n",
    "    ##job posting is fake/random tex or \n",
    "    ##CV is fake/random text\n",
    "#then ChatGPT will not analyze CV, it will give a generic response to enter the info correctly."
   ]
  },
  {
   "cell_type": "code",
   "execution_count": 0,
   "metadata": {
    "application/vnd.databricks.v1+cell": {
     "cellMetadata": {},
     "inputWidgets": {},
     "nuid": "472b7a2a-2cbd-40cb-bab4-7152ebc9c163",
     "showTitle": false,
     "tableResultSettingsMap": {},
     "title": ""
    }
   },
   "outputs": [],
   "source": [
    "pip install PyPDF2"
   ]
  },
  {
   "cell_type": "code",
   "execution_count": 0,
   "metadata": {
    "application/vnd.databricks.v1+cell": {
     "cellMetadata": {},
     "inputWidgets": {},
     "nuid": "5643a0e3-f8a4-4f5e-bbd7-9b754d30a53c",
     "showTitle": false,
     "tableResultSettingsMap": {},
     "title": ""
    }
   },
   "outputs": [],
   "source": [
    "# Imports\n",
    "import os\n",
    "import io\n",
    "import time\n",
    "import requests\n",
    "import PyPDF2\n",
    "from dotenv import load_dotenv\n",
    "from IPython.display import Markdown, display\n",
    "from bs4 import BeautifulSoup\n",
    "from openai import OpenAI\n",
    "from ipywidgets import Textarea, FileUpload, Button, VBox, HTML"
   ]
  },
  {
   "cell_type": "code",
   "execution_count": 0,
   "metadata": {
    "application/vnd.databricks.v1+cell": {
     "cellMetadata": {},
     "inputWidgets": {},
     "nuid": "ca374dbe-f016-48e6-aa46-846ea413d972",
     "showTitle": false,
     "tableResultSettingsMap": {},
     "title": ""
    }
   },
   "outputs": [],
   "source": [
    "load_dotenv(override=True)\n",
    "api_key = os.getenv('OPENAI_API_KEY')\n",
    "\n",
    "# Check the key\n",
    "\n",
    "if not api_key:\n",
    "    print(\"No API key was found - please head over to the troubleshooting notebook in this folder to identify & fix!\")\n",
    "elif not api_key.startswith(\"sk-proj-\"):\n",
    "    print(\"An API key was found, but it doesn't start sk-proj-; please check you're using the right key - see troubleshooting notebook\")\n",
    "elif api_key.strip() != api_key:\n",
    "    print(\"An API key was found, but it looks like it might have space or tab characters at the start or end - please remove them - see troubleshooting notebook\")\n",
    "else:\n",
    "    print(\"API key found and looks good so far!\")"
   ]
  },
  {
   "cell_type": "code",
   "execution_count": 0,
   "metadata": {
    "application/vnd.databricks.v1+cell": {
     "cellMetadata": {},
     "inputWidgets": {},
     "nuid": "6e4e67b4-19b4-49ff-a9e2-114d63ce651a",
     "showTitle": false,
     "tableResultSettingsMap": {},
     "title": ""
    }
   },
   "outputs": [],
   "source": [
    "openai = OpenAI()\n",
    "\n",
    "# If this doesn't work, try Kernel menu >> Restart Kernel and Clear Outputs Of All Cells, then run the cells from the top of this notebook down.\n",
    "# If it STILL doesn't work (horrors!) then please see the Troubleshooting notebook in this folder for full instructions"
   ]
  },
  {
   "cell_type": "code",
   "execution_count": 0,
   "metadata": {
    "application/vnd.databricks.v1+cell": {
     "cellMetadata": {},
     "inputWidgets": {},
     "nuid": "503d3134-d2c2-4167-a03a-bc2932cd0377",
     "showTitle": false,
     "tableResultSettingsMap": {},
     "title": ""
    }
   },
   "outputs": [],
   "source": [
    "# Step 1: Create your prompts\n",
    "\n",
    "system_prompt = \"You are an assistant who analyzes user's CV against the job description \\\n",
    " and provide a short summary if the user is fit for this job. If the user is fit for the job \\\n",
    " write a cover letter for the user to apply for the job. Keep the cover letter professional, short, \\\n",
    " and formal. \\\n",
    " Important things to notice before analyzing CV:\\\n",
    " 1. Always check if the CV is actually a CV or just random text\\\n",
    " 2. Check if the job description fetched from the website is the job description or not\\\n",
    "     and ignore text related to navigation\\\n",
    " 3. Also check the link of the job posting, if it actually resembles a job posting or is just random \\\n",
    "     fake website\\\n",
    " 4. if any one of these two checks fails, do not analyze the CV against the Job description and give an\\\n",
    "     appropriate response as you think\\\n",
    " 5. Always respond in Markdown.\""
   ]
  },
  {
   "cell_type": "code",
   "execution_count": 0,
   "metadata": {
    "application/vnd.databricks.v1+cell": {
     "cellMetadata": {},
     "inputWidgets": {},
     "nuid": "1a3c3643-6a08-4d11-a0ce-dc189c01cd65",
     "showTitle": false,
     "tableResultSettingsMap": {},
     "title": ""
    }
   },
   "outputs": [],
   "source": [
    "# A class to represent a Webpage\n",
    "# If you're not familiar with Classes, check out the \"Intermediate Python\" notebook\n",
    "\n",
    "# Some websites need you to use proper headers when fetching them:\n",
    "headers = {\n",
    " \"User-Agent\": \"Mozilla/5.0 (Windows NT 10.0; Win64; x64) AppleWebKit/537.36 (KHTML, like Gecko) Chrome/117.0.0.0 Safari/537.36\"\n",
    "}\n",
    "\n",
    "class Website:\n",
    "\n",
    "    def __init__(self, url):\n",
    "        \"\"\"\n",
    "        Create this Website object from the given url using the BeautifulSoup library\n",
    "        \"\"\"\n",
    "        self.url = url\n",
    "        response = requests.get(url, headers=headers)\n",
    "        soup = BeautifulSoup(response.content, 'html.parser')\n",
    "        self.title = soup.title.string if soup.title else \"No title found\"\n",
    "        for irrelevant in soup.body([\"script\", \"style\", \"img\", \"input\"]):\n",
    "            irrelevant.decompose()\n",
    "        self.text = soup.body.get_text(separator=\"\\n\", strip=True)"
   ]
  },
  {
   "cell_type": "code",
   "execution_count": 0,
   "metadata": {
    "application/vnd.databricks.v1+cell": {
     "cellMetadata": {},
     "inputWidgets": {},
     "nuid": "9c846338-adf1-4387-9dd1-58fe4a2bf908",
     "showTitle": false,
     "tableResultSettingsMap": {},
     "title": ""
    }
   },
   "outputs": [],
   "source": [
    "for_user_prompt = {\n",
    "    'job_posting_url':'',\n",
    "    'job_posting': '',\n",
    "    'cv_text': ''\n",
    "}"
   ]
  },
  {
   "cell_type": "code",
   "execution_count": 0,
   "metadata": {
    "application/vnd.databricks.v1+cell": {
     "cellMetadata": {},
     "inputWidgets": {},
     "nuid": "1112d191-e02d-4d4e-8c4d-fcada004666f",
     "showTitle": false,
     "tableResultSettingsMap": {},
     "title": ""
    }
   },
   "outputs": [],
   "source": [
    "# Create widgets - to create a box for the job posting text\n",
    "job_posting_url_area = Textarea(\n",
    "    placeholder='Paste the URL of the job posting here, ONLY URL PLEASE',\n",
    "    description='Fetching job:',\n",
    "    disabled=False,\n",
    "    layout={'width': '800px', 'height': '50px'}\n",
    ")\n",
    "\n",
    "status_job_posting = HTML(value=\"<b>Status:</b> Waiting for inputs...\")\n",
    "\n",
    "# Create Submit Buttons\n",
    "fetch_job_posting_button = Button(description='Fetch Job Posting', button_style='primary')\n",
    "\n",
    "def fetch_job_posting_action(b):\n",
    "    for_user_prompt['job_posting_url'] = job_posting_url_area.value\n",
    "    if for_user_prompt['job_posting_url']:\n",
    "        ed = Website(for_user_prompt['job_posting_url'])\n",
    "        status_job_posting.value = \"<b>Status:</b> Job posting fetched successfully!\"\n",
    "        fetch_job_posting_button.button_style='success'\n",
    "        for_user_prompt['job_posting']=ed.text\n",
    "    else:\n",
    "        status_job_posting.value = \"<b>Status:</b> Please enter a job posting url before submitting.\"\n",
    "\n",
    "# Attach actions to buttons\n",
    "fetch_job_posting_button.on_click(fetch_job_posting_action)\n",
    "\n",
    "# Layout\n",
    "job_posting_box = VBox([job_posting_url_area, fetch_job_posting_button])\n",
    "\n",
    "# Display all widgets\n",
    "display(VBox([\n",
    "    HTML(value=\"<h2>Input Job Posting Url</h2>\"),\n",
    "    job_posting_box,\n",
    "    status_job_posting\n",
    "]))"
   ]
  },
  {
   "cell_type": "code",
   "execution_count": 0,
   "metadata": {
    "application/vnd.databricks.v1+cell": {
     "cellMetadata": {},
     "inputWidgets": {},
     "nuid": "efa64a29-0928-4e4f-a258-fb45a11502aa",
     "showTitle": false,
     "tableResultSettingsMap": {},
     "title": ""
    }
   },
   "outputs": [],
   "source": [
    "# Print fetched job description\n",
    "\n",
    "#print(for_user_prompt['job_posting'])"
   ]
  },
  {
   "cell_type": "code",
   "execution_count": 0,
   "metadata": {
    "application/vnd.databricks.v1+cell": {
     "cellMetadata": {},
     "inputWidgets": {},
     "nuid": "9db69344-1d14-492a-9ad8-d36050fcf4e8",
     "showTitle": false,
     "tableResultSettingsMap": {},
     "title": ""
    }
   },
   "outputs": [],
   "source": [
    "# Define file upload for CV\n",
    "cv_upload = FileUpload(\n",
    "    accept='.pdf',  # Only accept PDF files\n",
    "    multiple=False,  # Only allow single file selection\n",
    "    description='Upload CV (PDF)'\n",
    ")\n",
    "\n",
    "status = HTML(value=\"<b>Status:</b> Waiting for inputs...\")\n",
    "\n",
    "# Create Submit Buttons\n",
    "submit_cv_button = Button(description='Submit CV', button_style='success')\n",
    "\n",
    "# Functions\n",
    "def submit_cv_action(change):\n",
    "\n",
    "    if not for_user_prompt['cv_text']:\n",
    "        status.value = \"<b>Status:</b> Please upload a CV before submitting.\"\n",
    "        \n",
    "    if cv_upload.value:\n",
    "        # Get the uploaded file\n",
    "        uploaded_file = cv_upload.value[0]\n",
    "        content = io.BytesIO(uploaded_file['content'])\n",
    "        \n",
    "        try:\n",
    "            pdf_reader = PyPDF2.PdfReader(content) \n",
    "            cv_text = \"\"\n",
    "            for page in pdf_reader.pages: \n",
    "                cv_text += page.extract_text() \n",
    "            \n",
    "            # Store CV text in for_user_prompt\n",
    "            for_user_prompt['cv_text'] = cv_text\n",
    "            status.value = \"<b>Status:</b> CV uploaded and processed successfully!\"\n",
    "        except Exception as e:\n",
    "            status.value = f\"<b>Status:</b> Error processing PDF: {str(e)}\"\n",
    "\n",
    "        time.sleep(0.5) # Short pause between upload and submit messages to display both\n",
    "        \n",
    "        if for_user_prompt['cv_text']:\n",
    "            #print(\"CV Submitted:\")\n",
    "            #print(for_user_prompt['cv_text'])\n",
    "            status.value = \"<b>Status:</b> CV submitted successfully!\"\n",
    "            \n",
    "\n",
    "# Attach actions to buttons\n",
    "submit_cv_button.on_click(submit_cv_action)\n",
    "\n",
    "# Layout\n",
    "cv_buttons = VBox([submit_cv_button])\n",
    "\n",
    "# Display all widgets\n",
    "display(VBox([\n",
    "    HTML(value=\"<h2>Import CV and submit</h2>\"),\n",
    "    cv_upload,\n",
    "    cv_buttons,\n",
    "    status\n",
    "]))"
   ]
  },
  {
   "cell_type": "code",
   "execution_count": 0,
   "metadata": {
    "application/vnd.databricks.v1+cell": {
     "cellMetadata": {},
     "inputWidgets": {},
     "nuid": "d9f17075-f625-4851-b59c-5f101ef18dfe",
     "showTitle": false,
     "tableResultSettingsMap": {},
     "title": ""
    }
   },
   "outputs": [],
   "source": [
    "# Prepare the user prompt that we will send to open ai (added URL for the context)\n",
    "user_prompt = f\"\"\"\n",
    "Job Posting: \n",
    "{for_user_prompt['job_posting']}\n",
    "\n",
    "CV: \n",
    "{for_user_prompt['cv_text']}\n",
    "\n",
    "Url:\n",
    "{for_user_prompt['job_posting_url']}\n",
    "\"\"\""
   ]
  },
  {
   "cell_type": "code",
   "execution_count": 0,
   "metadata": {
    "application/vnd.databricks.v1+cell": {
     "cellMetadata": {},
     "inputWidgets": {},
     "nuid": "de4dcd0d-79fd-4b8c-9acf-2110c1cec9ef",
     "showTitle": false,
     "tableResultSettingsMap": {},
     "title": ""
    }
   },
   "outputs": [],
   "source": [
    "# Define messages with system_prompt and user_prompt\n",
    "def messages_for(system_prompt_input, user_prompt_input):\n",
    "    return [\n",
    "        {\"role\": \"system\", \"content\": system_prompt_input},\n",
    "        {\"role\": \"user\", \"content\": user_prompt_input}\n",
    "    ]"
   ]
  },
  {
   "cell_type": "code",
   "execution_count": 0,
   "metadata": {
    "application/vnd.databricks.v1+cell": {
     "cellMetadata": {},
     "inputWidgets": {},
     "nuid": "fa08a0e8-3d9d-482c-875a-11c653b23382",
     "showTitle": false,
     "tableResultSettingsMap": {},
     "title": ""
    }
   },
   "outputs": [],
   "source": [
    "# And now: call the OpenAI API. \n",
    "response = openai.chat.completions.create(\n",
    "    model = \"gpt-4o-mini\",\n",
    "    messages = messages_for(system_prompt, user_prompt)\n",
    ")\n",
    "\n",
    "# Response is provided in Markdown and displayed accordingly\n",
    "display(Markdown(response.choices[0].message.content))"
   ]
  },
  {
   "cell_type": "code",
   "execution_count": 0,
   "metadata": {
    "application/vnd.databricks.v1+cell": {
     "cellMetadata": {},
     "inputWidgets": {},
     "nuid": "9a5873c5-df86-434b-92a5-a2183a5692e4",
     "showTitle": false,
     "tableResultSettingsMap": {},
     "title": ""
    }
   },
   "outputs": [],
   "source": []
  }
 ],
 "metadata": {
  "application/vnd.databricks.v1+notebook": {
   "computePreferences": null,
   "dashboards": [],
   "environmentMetadata": null,
   "inputWidgetPreferences": null,
   "language": "python",
   "notebookMetadata": {},
   "notebookName": "day1_analyze_CV_Write_cover_letter",
   "widgets": {}
  },
  "kernelspec": {
   "display_name": "Python 3 (ipykernel)",
   "language": "python",
   "name": "python3"
  },
  "language_info": {
   "name": "python"
  }
 },
 "nbformat": 4,
 "nbformat_minor": 0
}
