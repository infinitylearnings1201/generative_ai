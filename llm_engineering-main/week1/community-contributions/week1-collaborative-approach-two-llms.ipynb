{
 "cells": [
  {
   "cell_type": "markdown",
   "metadata": {
    "application/vnd.databricks.v1+cell": {
     "cellMetadata": {},
     "inputWidgets": {},
     "nuid": "5a8256a9-7157-444f-92b9-73f88cb65332",
     "showTitle": false,
     "tableResultSettingsMap": {},
     "title": ""
    }
   },
   "source": [
    "# **End of week 1 exercise**\n",
    "\n",
    "To demonstrate your familiarity with OpenAI API, and also Ollama, build a tool that takes a technical question,  \n",
    "and responds with an explanation. This is a tool that you will be able to use yourself during the course!"
   ]
  },
  {
   "cell_type": "markdown",
   "metadata": {
    "application/vnd.databricks.v1+cell": {
     "cellMetadata": {},
     "inputWidgets": {},
     "nuid": "810d9439-2402-4fc6-ba03-7aae147240d5",
     "showTitle": false,
     "tableResultSettingsMap": {},
     "title": ""
    }
   },
   "source": [
    "## **1. Get a response from your favorite AI Tutor** "
   ]
  },
  {
   "cell_type": "code",
   "execution_count": 0,
   "metadata": {
    "application/vnd.databricks.v1+cell": {
     "cellMetadata": {},
     "inputWidgets": {},
     "nuid": "6c8c4592-4de7-4226-86e4-e21a12b1b63b",
     "showTitle": false,
     "tableResultSettingsMap": {},
     "title": ""
    }
   },
   "outputs": [],
   "source": [
    "import os\n",
    "from openai import OpenAI\n",
    "import json\n",
    "from dotenv import load_dotenv\n",
    "from IPython.display import Markdown, display, update_display"
   ]
  },
  {
   "cell_type": "code",
   "execution_count": 0,
   "metadata": {
    "application/vnd.databricks.v1+cell": {
     "cellMetadata": {},
     "inputWidgets": {},
     "nuid": "a92c8dbc-be2d-495b-a0d9-c964834275ad",
     "showTitle": false,
     "tableResultSettingsMap": {},
     "title": ""
    }
   },
   "outputs": [],
   "source": [
    "load_dotenv()\n",
    "api_key = os.getenv('OPENAI_API_KEY')\n",
    "\n",
    "if api_key and api_key.startswith('sk-proj-') and len(api_key) > 10:\n",
    "    print(\"API key looks good so far\")\n",
    "else:\n",
    "    print(\"There might be a problem with your API key? Please visit the troubleshooting notebook!\")"
   ]
  },
  {
   "cell_type": "code",
   "execution_count": 0,
   "metadata": {
    "application/vnd.databricks.v1+cell": {
     "cellMetadata": {},
     "inputWidgets": {},
     "nuid": "cee48deb-9ec4-444b-a2ae-5ad127f07992",
     "showTitle": false,
     "tableResultSettingsMap": {},
     "title": ""
    }
   },
   "outputs": [],
   "source": [
    "# constants\n",
    "\n",
    "MODEL_GPT = 'gpt-4o-mini'\n",
    "MODEL_LLAMA = 'llama3.2'\n",
    "\n",
    "openai = OpenAI()\n",
    "\n",
    "ollama_via_openai = OpenAI(base_url='http://localhost:11434/v1', api_key='ollama')"
   ]
  },
  {
   "cell_type": "code",
   "execution_count": 0,
   "metadata": {
    "application/vnd.databricks.v1+cell": {
     "cellMetadata": {},
     "inputWidgets": {},
     "nuid": "f5b0ccbb-f888-4ee9-8c37-2ede4a381fdb",
     "showTitle": false,
     "tableResultSettingsMap": {},
     "title": ""
    }
   },
   "outputs": [],
   "source": [
    "system_prompt = \"\"\"You are the software engnieer, phd in mathematics, machine learning engnieer, and other topics\"\"\"\n",
    "system_prompt += \"\"\"\n",
    "When responding, always use Markdown for formatting. For any code, use well-structured code blocks with syntax highlighting,\n",
    "For instance:\n",
    "```python\n",
    "\n",
    "sample_list = [for i in range(10)]\n",
    "```\n",
    "Another example\n",
    "```javascript\n",
    "        function displayMessage() {\n",
    "            alert(\"Hello, welcome to JavaScript!\");\n",
    "        }\n",
    "\n",
    "```\n",
    "\n",
    "Break down explanations into clear, numbered steps for better understanding. \n",
    "Highlight important terms using inline code formatting (e.g., `function_name`, `variable`).\n",
    "Provide examples for any concepts and ensure all examples are concise, clear, and relevant.\n",
    "Your goal is to create visually appealing, easy-to-read, and informative responses.\n",
    "\n",
    "\"\"\"\n"
   ]
  },
  {
   "cell_type": "code",
   "execution_count": 0,
   "metadata": {
    "application/vnd.databricks.v1+cell": {
     "cellMetadata": {},
     "inputWidgets": {},
     "nuid": "37dbe387-6ec8-4253-922b-11abf7005d12",
     "showTitle": false,
     "tableResultSettingsMap": {},
     "title": ""
    }
   },
   "outputs": [],
   "source": [
    "def tutor_user_prompt(question):\n",
    "    # Ensure the question is properly appended to the user prompt.\n",
    "    user_prompt = (\n",
    "        \"Please carefully explain the following question in a step-by-step manner for clarity:\\n\\n\"\n",
    "    )\n",
    "    user_prompt += question\n",
    "    return user_prompt"
   ]
  },
  {
   "cell_type": "code",
   "execution_count": 0,
   "metadata": {
    "application/vnd.databricks.v1+cell": {
     "cellMetadata": {},
     "inputWidgets": {},
     "nuid": "0c61db78-d4f8-456f-89cd-1cf031419ded",
     "showTitle": false,
     "tableResultSettingsMap": {},
     "title": ""
    }
   },
   "outputs": [],
   "source": [
    "\n",
    "\n",
    "def askTutor(question, MODEL):\n",
    "    # Generate the user prompt dynamically.\n",
    "    user_prompt = tutor_user_prompt(question)\n",
    "    \n",
    "    # OpenAI API call to generate response.\n",
    "    if MODEL == 'gpt-4o-mini':\n",
    "        print(f'You are getting response from {MODEL}')\n",
    "        stream = openai.chat.completions.create(\n",
    "            model=MODEL,\n",
    "            messages=[\n",
    "                {\"role\": \"system\", \"content\": system_prompt},\n",
    "                {\"role\": \"user\", \"content\": user_prompt}\n",
    "            ],\n",
    "            stream=True\n",
    "        )\n",
    "    else:\n",
    "        MODEL == 'llama3.2'\n",
    "        print(f'You are getting response from {MODEL}')\n",
    "        stream = ollama_via_openai.chat.completions.create(\n",
    "            model=MODEL,\n",
    "            messages=[\n",
    "                {\"role\": \"system\", \"content\": system_prompt},\n",
    "                {\"role\": \"user\", \"content\": user_prompt}\n",
    "            ],\n",
    "            stream=True\n",
    "        )\n",
    "\n",
    "    # Initialize variables for response processing.\n",
    "    response = \"\"\n",
    "    display_handle = display(Markdown(\"\"), display_id=True)\n",
    "    \n",
    "    # Process the response stream and update display dynamically.\n",
    "    for chunk in stream:\n",
    "        # Safely access the content attribute.\n",
    "        response_chunk = getattr(chunk.choices[0].delta, \"content\", \"\")\n",
    "        if response_chunk:  # Check if response_chunk is not None or empty\n",
    "            response += response_chunk\n",
    "            # No replacement of Markdown formatting here!\n",
    "            update_display(Markdown(response), display_id=display_handle.display_id)\n"
   ]
  },
  {
   "cell_type": "code",
   "execution_count": 0,
   "metadata": {
    "application/vnd.databricks.v1+cell": {
     "cellMetadata": {},
     "inputWidgets": {},
     "nuid": "a6f7311f-efc8-47f5-9c14-306defea50c4",
     "showTitle": false,
     "tableResultSettingsMap": {},
     "title": ""
    }
   },
   "outputs": [],
   "source": [
    "# here is the question; type over this to ask something new\n",
    "\n",
    "question = \"\"\"\n",
    "Please explain what this code does and why:\n",
    "yield from {book.get(\"author\") for book in books if book.get(\"author\")}\n",
    "\"\"\""
   ]
  },
  {
   "cell_type": "code",
   "execution_count": 0,
   "metadata": {
    "application/vnd.databricks.v1+cell": {
     "cellMetadata": {},
     "inputWidgets": {},
     "nuid": "fc7b7840-1dea-4e92-954d-0531e34baf45",
     "showTitle": false,
     "tableResultSettingsMap": {},
     "title": ""
    }
   },
   "outputs": [],
   "source": [
    "askTutor(question=question, MODEL=MODEL_GPT)"
   ]
  },
  {
   "cell_type": "markdown",
   "metadata": {
    "application/vnd.databricks.v1+cell": {
     "cellMetadata": {},
     "inputWidgets": {},
     "nuid": "593c9fd3-f445-42c3-b886-551aa7c3d162",
     "showTitle": false,
     "tableResultSettingsMap": {},
     "title": ""
    }
   },
   "source": [
    "## **2. Using both LLMs collaboratively approach**"
   ]
  },
  {
   "cell_type": "markdown",
   "metadata": {
    "application/vnd.databricks.v1+cell": {
     "cellMetadata": {},
     "inputWidgets": {},
     "nuid": "dda87303-85dd-4e32-a990-658831e52881",
     "showTitle": false,
     "tableResultSettingsMap": {},
     "title": ""
    }
   },
   "source": [
    "- I thought about like similar the idea of a RAG (Retrieval-Augmented Generation) approach, is an excellent idea to improve responses by refining the user query and producing a polished, detailed final answer. Two LLM talking each other its cool!!! Here's how we can implement this:\n",
    "\n",
    "**Updated Concept:**\n",
    "1. Refine Query with Ollama:\n",
    "    - Use Ollama to refine the raw user query into a well-structured prompt.\n",
    "    - This is especially helpful when users input vague or poorly structured queries.\n",
    "2. Generate Final Response with GPT:\n",
    "    - Pass the refined prompt from Ollama to GPT to generate the final, detailed, and polished response.\n",
    "3. Return the Combined Output:\n",
    "    - Combine the input, refined query, and the final response into a single display to ensure clarity."
   ]
  },
  {
   "cell_type": "code",
   "execution_count": 0,
   "metadata": {
    "application/vnd.databricks.v1+cell": {
     "cellMetadata": {},
     "inputWidgets": {},
     "nuid": "229ef789-b3db-454b-9634-2405d9602423",
     "showTitle": false,
     "tableResultSettingsMap": {},
     "title": ""
    }
   },
   "outputs": [],
   "source": [
    "def refine_with_ollama(raw_question):\n",
    "    \"\"\"\n",
    "    Use Ollama to refine the user's raw question into a well-structured prompt.\n",
    "    \"\"\"\n",
    "    print(\"Refining the query using Ollama...\")\n",
    "    messages = [\n",
    "        {\"role\": \"system\", \"content\": \"You are a helpful assistant. Refine and structure the following user input.\"},\n",
    "\n",
    "        {\"role\": \"user\", \"content\": raw_question},\n",
    "    ]\n",
    "    response = ollama_via_openai.chat.completions.create(\n",
    "        model=MODEL_LLAMA,\n",
    "        messages=messages,\n",
    "        stream=False  # Non-streamed refinement\n",
    "    )\n",
    "    refined_query = response.choices[0].message.content\n",
    "    return refined_query"
   ]
  },
  {
   "cell_type": "code",
   "execution_count": 0,
   "metadata": {
    "application/vnd.databricks.v1+cell": {
     "cellMetadata": {},
     "inputWidgets": {},
     "nuid": "24518adf-0506-4bf4-b023-ee6df5e7a04d",
     "showTitle": false,
     "tableResultSettingsMap": {},
     "title": ""
    }
   },
   "outputs": [],
   "source": [
    "def ask_with_ollama_and_gpt(raw_question):\n",
    "    \"\"\"\n",
    "    Use Ollama to refine the user query and GPT to generate the final response.\n",
    "    \"\"\"\n",
    "    # Step 1: Refine the query using Ollama\n",
    "    refined_query = refine_with_ollama(raw_question)\n",
    "    \n",
    "    # Step 2: Generate final response with GPT\n",
    "    print(\"Generating the final response using GPT...\")\n",
    "    messages = [\n",
    "        {\"role\": \"system\", \"content\": system_prompt},\n",
    "        {\"role\": \"user\", \"content\": refined_query},\n",
    "    ]\n",
    "    stream = openai.chat.completions.create(\n",
    "        model=MODEL_GPT,\n",
    "        messages=messages,\n",
    "        stream=True  # Stream response for dynamic display\n",
    "    )\n",
    "\n",
    "    # Step 3: Combine responses\n",
    "    response = \"\"\n",
    "    display_handle = display(Markdown(f\"### Refined Query:\\n\\n{refined_query}\\n\\n---\\n\\n### Final Response:\"), display_id=True)\n",
    "    for chunk in stream:\n",
    "        response_chunk = getattr(chunk.choices[0].delta, \"content\", \"\")\n",
    "        if response_chunk:\n",
    "            response += response_chunk\n",
    "            update_display(Markdown(f\"### Refined Query:\\n\\n{refined_query}\\n\\n---\\n\\n### Final Response:\\n\\n{response}\"), display_id=display_handle.display_id)"
   ]
  },
  {
   "cell_type": "code",
   "execution_count": 0,
   "metadata": {
    "application/vnd.databricks.v1+cell": {
     "cellMetadata": {},
     "inputWidgets": {},
     "nuid": "d66876e7-ff94-4ab1-855d-f71e2065d9d8",
     "showTitle": false,
     "tableResultSettingsMap": {},
     "title": ""
    }
   },
   "outputs": [],
   "source": [
    "# Example Usage\n",
    "question = \"\"\"\n",
    "Please explain what this code does:\n",
    "yield from {book.get(\"author\") for book in books if book.get(\"author\")}\n",
    "\"\"\""
   ]
  },
  {
   "cell_type": "code",
   "execution_count": 0,
   "metadata": {
    "application/vnd.databricks.v1+cell": {
     "cellMetadata": {},
     "inputWidgets": {},
     "nuid": "90dcc0e5-d29b-4a15-8330-4dbb901da5e4",
     "showTitle": false,
     "tableResultSettingsMap": {},
     "title": ""
    }
   },
   "outputs": [],
   "source": [
    "ask_with_ollama_and_gpt(raw_question=question)"
   ]
  },
  {
   "cell_type": "code",
   "execution_count": 0,
   "metadata": {
    "application/vnd.databricks.v1+cell": {
     "cellMetadata": {},
     "inputWidgets": {},
     "nuid": "a1b84359-3c6e-451d-a1e4-b136d00077e9",
     "showTitle": false,
     "tableResultSettingsMap": {},
     "title": ""
    }
   },
   "outputs": [],
   "source": []
  }
 ],
 "metadata": {
  "application/vnd.databricks.v1+notebook": {
   "computePreferences": null,
   "dashboards": [],
   "environmentMetadata": null,
   "inputWidgetPreferences": null,
   "language": "python",
   "notebookMetadata": {},
   "notebookName": "week1-collaborative-approach-two-llms",
   "widgets": {}
  },
  "kernelspec": {
   "display_name": "Python 3 (ipykernel)",
   "language": "python",
   "name": "python3"
  },
  "language_info": {
   "name": "python"
  }
 },
 "nbformat": 4,
 "nbformat_minor": 0
}
