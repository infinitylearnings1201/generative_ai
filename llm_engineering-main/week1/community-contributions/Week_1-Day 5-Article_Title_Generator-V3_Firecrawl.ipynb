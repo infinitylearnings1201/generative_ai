{
 "cells": [
  {
   "cell_type": "markdown",
   "metadata": {
    "application/vnd.databricks.v1+cell": {
     "cellMetadata": {},
     "inputWidgets": {},
     "nuid": "020a9076-e9e8-485c-973f-667f21514fc0",
     "showTitle": false,
     "tableResultSettingsMap": {},
     "title": ""
    }
   },
   "source": [
    "# Article Title Generator (V3 - using Firecrawl) \n",
    "\n",
    "Summarization use-case in which the user provides an article, which the LLM will analyze to suggest an SEO-optimized title.\n",
    "\n",
    "**NOTES**:\n",
    "\n",
    "1. This version supports website scrapping using [Firecrawl](https://www.firecrawl.dev/).<br>\n",
    "    1. **Note:** There is a Free tier that provides 500 one-time credits (good for scraping 500 pages).\n",
    "    2. Upon registration, get and add your Firecrawl API Key to the .env file as: **`FIRECRAWL_API_KEY`**.<br><br>\n",
    "2. Leverage streaming (OpenAI only).<br>\n",
    "3. The following models were configured:<br>\n",
    "    1. OpenAI gpt-4o-mini\n",
    "    2. Llama llama3.2\n",
    "    3. Deepseek deepseek-r1:1.5b\n",
    "    4. Firecrawl LLM Extract feature<br><br>\n",
    "    \n",
    "   It is possible to configure additional models by adding the new model to the MODELS dictionary and its\n",
    "   initialization to the CLIENTS dictionary. Then, call the model with --> **`answer =\n",
    "   get_answer('NEW_MODEL')`**.<br>\n",
    "4. Users are encouraged to assess and rank the suggested titles using any headline analyzer tool online.\n",
    "   Example: [ISITWP Headline Analyzer](https://www.isitwp.com/headline-analyzer/). "
   ]
  },
  {
   "cell_type": "code",
   "execution_count": 0,
   "metadata": {
    "application/vnd.databricks.v1+cell": {
     "cellMetadata": {},
     "inputWidgets": {},
     "nuid": "e4a0d7ff-9e6a-462b-a20d-b59de502aa5f",
     "showTitle": false,
     "tableResultSettingsMap": {},
     "title": ""
    }
   },
   "outputs": [],
   "source": [
    "# install required libraries if they were not part of the requirements.txt\n",
    "!pip install firecrawl-py"
   ]
  },
  {
   "cell_type": "code",
   "execution_count": 0,
   "metadata": {
    "application/vnd.databricks.v1+cell": {
     "cellMetadata": {},
     "inputWidgets": {},
     "nuid": "0158ae2e-c59c-4a85-b0e0-afe5b59f695b",
     "showTitle": false,
     "tableResultSettingsMap": {},
     "title": ""
    }
   },
   "outputs": [],
   "source": [
    "# confirming Llama is loaded\n",
    "!ollama pull llama3.2"
   ]
  },
  {
   "cell_type": "code",
   "execution_count": 0,
   "metadata": {
    "application/vnd.databricks.v1+cell": {
     "cellMetadata": {},
     "inputWidgets": {},
     "nuid": "ba72e8cd-73d3-4de4-9b1b-296323af9444",
     "showTitle": false,
     "tableResultSettingsMap": {},
     "title": ""
    }
   },
   "outputs": [],
   "source": [
    "# imports\n",
    "import os\n",
    "from dotenv import load_dotenv\n",
    "from IPython.display import Markdown, display, update_display\n",
    "from openai import OpenAI\n",
    "from firecrawl import FirecrawlApp"
   ]
  },
  {
   "cell_type": "code",
   "execution_count": 0,
   "metadata": {
    "application/vnd.databricks.v1+cell": {
     "cellMetadata": {},
     "inputWidgets": {},
     "nuid": "56ed4a7d-295f-4989-9e1a-adfee10e061c",
     "showTitle": false,
     "tableResultSettingsMap": {},
     "title": ""
    }
   },
   "outputs": [],
   "source": [
    "# set environment variables for OpenAi\n",
    "load_dotenv(override=True)\n",
    "api_key = os.getenv('OPENAI_API_KEY')\n",
    "\n",
    "# validate API Key\n",
    "if not api_key:\n",
    "    raise ValueError(\"No OPENAI API Key was found! Please check the .env file.\")"
   ]
  },
  {
   "cell_type": "code",
   "execution_count": 0,
   "metadata": {
    "application/vnd.databricks.v1+cell": {
     "cellMetadata": {},
     "inputWidgets": {},
     "nuid": "1f3c6342-cc42-4440-87f3-c566b80ad4bb",
     "showTitle": false,
     "tableResultSettingsMap": {},
     "title": ""
    }
   },
   "outputs": [],
   "source": [
    "# set environment variable for Firecrawl\n",
    "firecrawl_api_key = os.getenv('FIRECRAWL_API_KEY')\n",
    "\n",
    "# validate API Key\n",
    "if not firecrawl_api_key:\n",
    "    raise ValueError(\"No FIRECRAWL API Key was found! Please check the .env file.\")"
   ]
  },
  {
   "cell_type": "code",
   "execution_count": 0,
   "metadata": {
    "application/vnd.databricks.v1+cell": {
     "cellMetadata": {},
     "inputWidgets": {},
     "nuid": "69aba9c0-92bf-4583-99d9-93b4f74d9cb7",
     "showTitle": false,
     "tableResultSettingsMap": {},
     "title": ""
    }
   },
   "outputs": [],
   "source": [
    "# constants\n",
    "MODELS = { 'GPT': 'gpt-4o-mini', \n",
    "          'LLAMA': 'llama3.2', \n",
    "          'DEEPSEEK': 'deepseek-r1:1.5b'\n",
    "         }\n",
    "\n",
    "CLIENTS = { 'GPT': OpenAI(), \n",
    "            'LLAMA': OpenAI(base_url='http://localhost:11434/v1', api_key='ollama'),\n",
    "            'DEEPSEEK': OpenAI(base_url='http://localhost:11434/v1', api_key='ollama') \n",
    "          }\n",
    "\n",
    "# path to Chrome\n",
    "# CHROME_PATH = \"C:/Program Files/Google/Chrome/Application/chrome.exe\""
   ]
  },
  {
   "cell_type": "markdown",
   "metadata": {
    "application/vnd.databricks.v1+cell": {
     "cellMetadata": {},
     "inputWidgets": {},
     "nuid": "4b4ad239-f4b8-4757-86a8-c0289e2d26fb",
     "showTitle": false,
     "tableResultSettingsMap": {},
     "title": ""
    }
   },
   "source": [
    "**Webcrawler** (based on the code from Firecrawl [documentation](https://docs.firecrawl.dev/introduction))."
   ]
  },
  {
   "cell_type": "code",
   "execution_count": 0,
   "metadata": {
    "application/vnd.databricks.v1+cell": {
     "cellMetadata": {},
     "inputWidgets": {},
     "nuid": "1b8a360b-9efa-45f2-bee2-4e19e4247583",
     "showTitle": false,
     "tableResultSettingsMap": {},
     "title": ""
    }
   },
   "outputs": [],
   "source": [
    "class WebsiteCrawler:\n",
    "    def __init__(self, url, wait_time=20, format='markdown'):\n",
    "        \"\"\"\n",
    "        Initialize the WebsiteCrawler using Firecrawl to scrape JavaScript-rendered content.\n",
    "        \"\"\"\n",
    "        self.url = url\n",
    "        self.wait_time = wait_time\n",
    "        self.format = format\n",
    "\n",
    "        try:\n",
    "\n",
    "            # initialize Firecrawl\n",
    "            screate_app = FirecrawlApp(api_key=firecrawl_api_key)\n",
    "\n",
    "            # Scrape a website:\n",
    "            scrape_result = screate_app.scrape_url(self.url,\n",
    "                                                  params=self.getParams())\n",
    "    \n",
    "\n",
    "            # parse data\n",
    "            self.title = scrape_result['metadata']['ogTitle']\n",
    "\n",
    "            # get the content using the appropriate key\n",
    "            if format == 'markdown':\n",
    "                # OpenAI, Llama, Deepseek\n",
    "                self.text = scrape_result['markdown'] \n",
    "            elif format == 'json':\n",
    "                # Firecrawl LLM Extract\n",
    "                self.text = scrape_result['json']\n",
    "\n",
    "        except Exception as e:\n",
    "            print(f\"Error occurred: {e}\")\n",
    "            self.title = \"Error occurred\"\n",
    "            self.text = \"\"\n",
    "\n",
    "    # set appropriate parameters for scraping\n",
    "    def getParams(self):\n",
    "\n",
    "      # For OpenAi, Llama or Deepseek\n",
    "      params={'formats': [self.format], \n",
    "              'actions': [{\"type\": \"wait\", \"milliseconds\": self.wait_time}], \n",
    "              'includeTags': [\"main\"], }\n",
    "\n",
    "      # For Firecrawl LLM extract\n",
    "      if self.format == 'json':\n",
    "          params={'formats': [self.format], \n",
    "                  'actions': [{\"type\": \"wait\", \"milliseconds\": self.wait_time}], \n",
    "                  'jsonOptions': {'systemPrompt': system_prompt, 'prompt': user_prompt, }}\n",
    "                  \n",
    "      return params\n",
    "\n",
    "    # Get Firecrawl LLM extract result\n",
    "    def getResult(self):\n",
    "\n",
    "      formated_result = f\"\"\"\n",
    "                        **Optimized Title:** {self.text['Optimized Title']} \n",
    "                        <br><br>**Justification:** {self.text['Justification']}\n",
    "                        \"\"\"\n",
    "\n",
    "      # Remove leading and trailing spaces                   \n",
    "      return formated_result.strip()\n",
    "            "
   ]
  },
  {
   "cell_type": "markdown",
   "metadata": {
    "application/vnd.databricks.v1+cell": {
     "cellMetadata": {},
     "inputWidgets": {},
     "nuid": "d2e64157-e8ea-4ed7-bf43-ebeda9811c0f",
     "showTitle": false,
     "tableResultSettingsMap": {},
     "title": ""
    }
   },
   "source": [
    "### Prompts"
   ]
  },
  {
   "cell_type": "code",
   "execution_count": 0,
   "metadata": {
    "application/vnd.databricks.v1+cell": {
     "cellMetadata": {},
     "inputWidgets": {},
     "nuid": "7da7d537-ef99-4952-b1e4-3a0708ce3593",
     "showTitle": false,
     "tableResultSettingsMap": {},
     "title": ""
    }
   },
   "outputs": [],
   "source": [
    "# system prompt\n",
    "system_prompt = \"\"\"\n",
    "    You are an experienced SEO-focused copywriter. The user will provide an article, and your task is to analyze its content and generate a single, most effective, keyword-optimized title to maximize SEO performance.\n",
    "\n",
    "Instructions:\n",
    "Ignore irrelevant content, such as the current title (if any), navigation menus, advertisements, or unrelated text.\n",
    "Prioritize SEO best practices, considering:\n",
    "Keyword relevance and search intent (informational, transactional, etc.).\n",
    "Readability and engagement.\n",
    "Avoiding keyword stuffing.\n",
    "Ensure conciseness and clarity, keeping the title under 60 characters when possible for optimal SERP display.\n",
    "Use a compelling structure that balances informativeness and engagement, leveraging formats like:\n",
    "Listicles (\"10 Best Strategies for…\")\n",
    "How-to guides (\"How to Boost…\")\n",
    "Questions (\"What Is the Best Way to…\")\n",
    "Power words to enhance click-through rates (e.g., \"Proven,\" \"Ultimate,\" \"Essential\").\n",
    "Provide only one single, best title—do not suggest multiple options.\n",
    "Limit the answer to the following Response Format (Markdown):\n",
    "Optimized Title: [Provide only one title here]\n",
    "Justification: [Explain why this title is effective for SEO]\n",
    "\n",
    "    \"\"\""
   ]
  },
  {
   "cell_type": "markdown",
   "metadata": {
    "application/vnd.databricks.v1+cell": {
     "cellMetadata": {},
     "inputWidgets": {},
     "nuid": "dffebdf4-25a5-4880-ae92-cb999c809ff5",
     "showTitle": false,
     "tableResultSettingsMap": {},
     "title": ""
    }
   },
   "source": [
    "**Provide the article URL and get its content for analysis**"
   ]
  },
  {
   "cell_type": "code",
   "execution_count": 0,
   "metadata": {
    "application/vnd.databricks.v1+cell": {
     "cellMetadata": {},
     "inputWidgets": {},
     "nuid": "c432c078-07bd-40fc-8ed6-7c0b4599c3a5",
     "showTitle": false,
     "tableResultSettingsMap": {},
     "title": ""
    }
   },
   "outputs": [],
   "source": [
    "# article url - change to any other article URL\n",
    "article_url = \"https://searchengineland.com/seo-trends-2025-447745\"\n",
    "\n",
    "# get article content\n",
    "article = WebsiteCrawler(url=article_url)"
   ]
  },
  {
   "cell_type": "code",
   "execution_count": 0,
   "metadata": {
    "application/vnd.databricks.v1+cell": {
     "cellMetadata": {},
     "inputWidgets": {},
     "nuid": "c98106ac-8368-49f9-b2f7-7ec7259feda5",
     "showTitle": false,
     "tableResultSettingsMap": {},
     "title": ""
    }
   },
   "outputs": [],
   "source": [
    "# user prompt\n",
    "user_prompt = \"\"\"\n",
    "Following the article to be analyzed to suggest a title. Limit the answer to the following Response Format (Markdown): \n",
    "Optimized Title: [Provide only one title here]\n",
    "Justification: [Explain why this title is effective for SEO].\n",
    "\"\"\"\n",
    "\n",
    "user_prompt = f\"{user_prompt} {article}\"\n",
    "                "
   ]
  },
  {
   "cell_type": "code",
   "execution_count": 0,
   "metadata": {
    "application/vnd.databricks.v1+cell": {
     "cellMetadata": {},
     "inputWidgets": {},
     "nuid": "4f1fc152-da69-4d93-a441-07b1fa3f8c27",
     "showTitle": false,
     "tableResultSettingsMap": {},
     "title": ""
    }
   },
   "outputs": [],
   "source": [
    "# message list\n",
    "messages = [\n",
    "            {\"role\": \"system\", \"content\": system_prompt},\n",
    "            {\"role\": \"user\", \"content\": user_prompt}\n",
    "           ]"
   ]
  },
  {
   "cell_type": "code",
   "execution_count": 0,
   "metadata": {
    "application/vnd.databricks.v1+cell": {
     "cellMetadata": {},
     "inputWidgets": {},
     "nuid": "227bee11-e7d2-4fe4-b3d8-6e237fb33023",
     "showTitle": false,
     "tableResultSettingsMap": {},
     "title": ""
    }
   },
   "outputs": [],
   "source": [
    "# get suggested title\n",
    "def get_title(model, **kwargs):\n",
    "    # stream if GPT\n",
    "    if 'stream' in kwargs:\n",
    "        response = CLIENTS[model].chat.completions.create(\n",
    "                model=MODELS[model],\n",
    "                messages=messages,\n",
    "                stream=kwargs['stream']\n",
    "            )\n",
    "    else:\n",
    "        response = CLIENTS[model].chat.completions.create(\n",
    "                model=MODELS[model],\n",
    "                messages=messages,\n",
    "            )\n",
    "\n",
    "    return response\n",
    "    "
   ]
  },
  {
   "cell_type": "code",
   "execution_count": 0,
   "metadata": {
    "application/vnd.databricks.v1+cell": {
     "cellMetadata": {},
     "inputWidgets": {},
     "nuid": "873d2d45-e112-471f-9dd1-c25adc6bbb3c",
     "showTitle": false,
     "tableResultSettingsMap": {},
     "title": ""
    }
   },
   "outputs": [],
   "source": [
    "# filter response from model verbose - like Deepseek reasoning/thinking verbose\n",
    "def filter_response(response):\n",
    "    filtered_response = response\n",
    "    # Find last occurrence of 'Optimized Title:' to avoid displaying reasoning verbose\n",
    "    substring = 'Optimized Title:'\n",
    "    start = response.rfind(substring)\n",
    "    if start > -1:\n",
    "        filtered_response = response[start:]\n",
    "\n",
    "    # Find if the title has quotation (or other) marks and remove it - this should be improved\n",
    "    filtered_response = (\n",
    "        filtered_response.replace('\"', '', 2)\n",
    "        .replace('[', '', 1)\n",
    "        .replace(']', '', 1)\n",
    "        .replace('**', '', 2)\n",
    "    )\n",
    "     \n",
    "    return filtered_response"
   ]
  },
  {
   "cell_type": "code",
   "execution_count": 0,
   "metadata": {
    "application/vnd.databricks.v1+cell": {
     "cellMetadata": {},
     "inputWidgets": {},
     "nuid": "e300d8be-bbc4-4f8a-8a6a-59fe7352734a",
     "showTitle": false,
     "tableResultSettingsMap": {},
     "title": ""
    }
   },
   "outputs": [],
   "source": [
    "# display suggested title\n",
    "def display_title(model):\n",
    "    # get model-suggested title\n",
    "    title = get_title(model)\n",
    "    \n",
    "    display(Markdown(f\"### {model} (___{MODELS[model]}___) Answer\\n\\n_______\")) \n",
    "\n",
    "    response = \"\"\n",
    "\n",
    "    if model == 'GPT':\n",
    "        display_handle = display(Markdown(\"\"), display_id=True)\n",
    "        # for chunk in stream:\n",
    "        for chunk in get_title(model=model, stream=True):\n",
    "            response += chunk.choices[0].delta.content or ''\n",
    "            response = (\n",
    "                response.replace(\"```\",\"\")\n",
    "                .replace(\"markdown\", \"\")\n",
    "                .replace(\"Optimized Title:\", \"**Optimized Title:**\")\n",
    "                .replace(\"Justification:\", \"**Justification:**\")\n",
    "            )\n",
    "            update_display(Markdown(response), display_id=display_handle.display_id)\n",
    "    else:\n",
    "        response = get_title(model=model)\n",
    "        response = response.choices[0].message.content\n",
    "        response = filter_response(response)\n",
    "\n",
    "        # insert line break to preserve format - only LLAMA\n",
    "        line_break = \"<br><br>\"\n",
    "        if model == \"DEEPSEEK\":\n",
    "            line_break = \"\"\n",
    "        \n",
    "        response = (\n",
    "            response.replace(\"Optimized Title:\", \"**Optimized Title:**\")\n",
    "            .replace(\"Justification:\", f\"{line_break}**Justification:**\") \n",
    "        )\n",
    "        display(Markdown(response))"
   ]
  },
  {
   "cell_type": "markdown",
   "metadata": {
    "application/vnd.databricks.v1+cell": {
     "cellMetadata": {},
     "inputWidgets": {},
     "nuid": "5ea070f5-a207-4f05-ad2a-15ae565128ec",
     "showTitle": false,
     "tableResultSettingsMap": {},
     "title": ""
    }
   },
   "source": [
    "### Get OpenAI Suggested Title"
   ]
  },
  {
   "cell_type": "code",
   "execution_count": 0,
   "metadata": {
    "application/vnd.databricks.v1+cell": {
     "cellMetadata": {},
     "inputWidgets": {},
     "nuid": "c4638d98-3132-451b-902f-aa33c3860e40",
     "showTitle": false,
     "tableResultSettingsMap": {},
     "title": ""
    }
   },
   "outputs": [],
   "source": [
    "# get and display openAi suggested title\n",
    "display_title(model='GPT')"
   ]
  },
  {
   "cell_type": "markdown",
   "metadata": {
    "application/vnd.databricks.v1+cell": {
     "cellMetadata": {},
     "inputWidgets": {},
     "nuid": "654ecd7f-2839-43dc-97dc-bbfed4f9a708",
     "showTitle": false,
     "tableResultSettingsMap": {},
     "title": ""
    }
   },
   "source": [
    "### Get Llama Suggested Title"
   ]
  },
  {
   "cell_type": "code",
   "execution_count": 0,
   "metadata": {
    "application/vnd.databricks.v1+cell": {
     "cellMetadata": {},
     "inputWidgets": {},
     "nuid": "29f23756-73a9-4f96-8e3b-7f095a9e5f30",
     "showTitle": false,
     "tableResultSettingsMap": {},
     "title": ""
    }
   },
   "outputs": [],
   "source": [
    "# get and display Llama suggested title\n",
    "display_title(model='LLAMA')"
   ]
  },
  {
   "cell_type": "markdown",
   "metadata": {
    "application/vnd.databricks.v1+cell": {
     "cellMetadata": {},
     "inputWidgets": {},
     "nuid": "d1761700-1551-4276-90b1-ffa929e1093e",
     "showTitle": false,
     "tableResultSettingsMap": {},
     "title": ""
    }
   },
   "source": [
    "### Get Deepseek Suggested Title"
   ]
  },
  {
   "cell_type": "code",
   "execution_count": 0,
   "metadata": {
    "application/vnd.databricks.v1+cell": {
     "cellMetadata": {},
     "inputWidgets": {},
     "nuid": "9b8dc289-48ae-40a7-8797-72c6614dd457",
     "showTitle": false,
     "tableResultSettingsMap": {},
     "title": ""
    }
   },
   "outputs": [],
   "source": [
    "# get and display Deepseek title\n",
    "display_title(model='DEEPSEEK')"
   ]
  },
  {
   "cell_type": "markdown",
   "metadata": {
    "application/vnd.databricks.v1+cell": {
     "cellMetadata": {},
     "inputWidgets": {},
     "nuid": "8e6d3d5a-7dce-4af6-bea9-98f9ef061eb1",
     "showTitle": false,
     "tableResultSettingsMap": {},
     "title": ""
    }
   },
   "source": [
    "### Using Firecrawl LLM Extract (to replace LLMs above - OpenAI, Llama & Deepseek)"
   ]
  },
  {
   "cell_type": "markdown",
   "metadata": {
    "application/vnd.databricks.v1+cell": {
     "cellMetadata": {},
     "inputWidgets": {},
     "nuid": "b20d7d57-cc47-4873-91bf-a0bb47e70667",
     "showTitle": false,
     "tableResultSettingsMap": {},
     "title": ""
    }
   },
   "source": [
    "### Get Firecrawl Suggested Title"
   ]
  },
  {
   "cell_type": "code",
   "execution_count": 0,
   "metadata": {
    "application/vnd.databricks.v1+cell": {
     "cellMetadata": {},
     "inputWidgets": {},
     "nuid": "283090c7-93ee-42dc-a2de-dfbad86594a9",
     "showTitle": false,
     "tableResultSettingsMap": {},
     "title": ""
    }
   },
   "outputs": [],
   "source": [
    "fc_title = WebsiteCrawler(url=article_url, format='json')\n",
    "\n",
    "display(Markdown(fc_title.getResult()))"
   ]
  },
  {
   "cell_type": "markdown",
   "metadata": {
    "application/vnd.databricks.v1+cell": {
     "cellMetadata": {},
     "inputWidgets": {},
     "nuid": "8c9d46aa-af1d-4af8-bcaa-22505581cc16",
     "showTitle": false,
     "tableResultSettingsMap": {},
     "title": ""
    }
   },
   "source": [
    "### Observations\n",
    "\n",
    "1. **Firecrawl** is a great alternative to replace both Selenium and BeautifulSoup. However, it is not free.\n",
    "2. **Firecrawl LLM Extract** feature may replace the calls to other LLMs for analysis and title generation. Note that the result provided seems to be cached upon its first generation. Therefore, the suggested title and its justification will always be the same. \n",
    "3. **Deepseek challenges:**\\\n",
    "   a.It always returns its thinking/reasoning verbose, which, while helpful to understand how it works, is not always\n",
    "      required, such as in this example code. A new function (**filter_response**) was created to remove the additional verbose.\\\n",
    "   b. It is unreliable with the response, sometimes returning the required format for the response instead of the\n",
    "      actual response. For example, for the title, it may sometimes return:\n",
    "   \n",
    "   **Optimized Title:** \\[The user wants the suggested title here]\n",
    "    \n",
    "### Suggested future improvements\n",
    "\n",
    "1. Add the logic that would allow each model to assess the recommendations from the different models and \n",
    "   select the best among these.\n",
    "2. Add the logic to leverage an API (if available) that automatically assesses the suggested titles."
   ]
  },
  {
   "cell_type": "code",
   "execution_count": 0,
   "metadata": {
    "application/vnd.databricks.v1+cell": {
     "cellMetadata": {},
     "inputWidgets": {},
     "nuid": "3c87f32c-dc68-44b0-927b-b1a460a79e8e",
     "showTitle": false,
     "tableResultSettingsMap": {},
     "title": ""
    }
   },
   "outputs": [],
   "source": [
    "\n"
   ]
  }
 ],
 "metadata": {
  "application/vnd.databricks.v1+notebook": {
   "computePreferences": null,
   "dashboards": [],
   "environmentMetadata": null,
   "inputWidgetPreferences": null,
   "language": "python",
   "notebookMetadata": {},
   "notebookName": "Week_1-Day 5-Article_Title_Generator-V3_Firecrawl",
   "widgets": {}
  },
  "kernelspec": {
   "display_name": "Python 3 (ipykernel)",
   "language": "python",
   "name": "python3"
  },
  "language_info": {
   "name": "python"
  }
 },
 "nbformat": 4,
 "nbformat_minor": 0
}
