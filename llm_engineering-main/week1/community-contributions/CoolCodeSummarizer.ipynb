{
 "cells": [
  {
   "cell_type": "markdown",
   "metadata": {
    "application/vnd.databricks.v1+cell": {
     "cellMetadata": {},
     "inputWidgets": {},
     "nuid": "34968641-a46f-4107-b43f-a7989ab5edfa",
     "showTitle": false,
     "tableResultSettingsMap": {},
     "title": ""
    }
   },
   "source": [
    "# Python Code Summarizer\n",
    "\n",
    "The Below code will summarize the python code and example it in details which can help codes better understand a forigen code."
   ]
  },
  {
   "cell_type": "code",
   "execution_count": 0,
   "metadata": {
    "application/vnd.databricks.v1+cell": {
     "cellMetadata": {},
     "inputWidgets": {},
     "nuid": "7cae60cd-a7ae-4c41-afae-8525b5c751d0",
     "showTitle": false,
     "tableResultSettingsMap": {},
     "title": ""
    }
   },
   "outputs": [],
   "source": [
    "# Imports\n",
    "from IPython.display import Markdown, display\n",
    "import os\n",
    "import openai\n",
    "from dotenv import load_dotenv"
   ]
  },
  {
   "cell_type": "code",
   "execution_count": 0,
   "metadata": {
    "application/vnd.databricks.v1+cell": {
     "cellMetadata": {},
     "inputWidgets": {},
     "nuid": "67bd2b9e-1225-450c-91cb-f96aab8dd51d",
     "showTitle": false,
     "tableResultSettingsMap": {},
     "title": ""
    }
   },
   "outputs": [],
   "source": [
    "load_dotenv(override=True)\n",
    "api_key = os.getenv('OPENAI_API_KEY')"
   ]
  },
  {
   "cell_type": "code",
   "execution_count": 0,
   "metadata": {
    "application/vnd.databricks.v1+cell": {
     "cellMetadata": {},
     "inputWidgets": {},
     "nuid": "9f41a42f-6871-4e64-900a-f0a5864e8262",
     "showTitle": false,
     "tableResultSettingsMap": {},
     "title": ""
    }
   },
   "outputs": [],
   "source": [
    "def read_code(**kwargs):\n",
    "    \"\"\"\n",
    "    You can pass two types of key word arguments to this function.\n",
    "    code_path= Path to your complex python code.\n",
    "    code= Passing raw python code.\n",
    "    \"\"\"\n",
    "    code_path = kwargs.get('code_path',None)\n",
    "    code_raw = kwargs.get('code',None)\n",
    "    \n",
    "    if code_path:\n",
    "        with open(code_path, 'r') as code_file:\n",
    "            code = code_file.read()\n",
    "        return (True, code)\n",
    "\n",
    "    if code_raw:\n",
    "        return (True, code_raw)\n",
    "\n",
    "    return (False, None)"
   ]
  },
  {
   "cell_type": "code",
   "execution_count": 0,
   "metadata": {
    "application/vnd.databricks.v1+cell": {
     "cellMetadata": {},
     "inputWidgets": {},
     "nuid": "290e7ff8-b532-49a7-9f2c-78a0980ee169",
     "showTitle": false,
     "tableResultSettingsMap": {},
     "title": ""
    }
   },
   "outputs": [],
   "source": [
    "# Model Prompt\n",
    "system_prompt = (\n",
    "                \"You are a helpful assistant. The following input will be a Python code snippet. \"\n",
    "                \"Your task is to:\\n\\n\"\n",
    "                \"1. Summarize the overall purpose of the code.\\n\"\n",
    "                \"2. Explain the code line by line, describing what each line does and why it's written that way.\\n\"\n",
    "                \"3. Provide reasoning behind the code structure and logic to help novice Python developers understand the concepts better.\\n\\n\"\n",
    "                \"Use Markdown format in your response. Make the explanation beginner-friendly, using code blocks, bullet points, and headings where helpful.\"\n",
    "            ) \n",
    "# In a plot twist worthy of sci-fi, this prompt was written by ChatGPT...\n",
    "# to tell ChatGPT how to respond. We’ve officially entered the Matrix. 🤖🌀"
   ]
  },
  {
   "cell_type": "code",
   "execution_count": 0,
   "metadata": {
    "application/vnd.databricks.v1+cell": {
     "cellMetadata": {},
     "inputWidgets": {},
     "nuid": "97025b2f-af82-4c4f-9647-d8c461248acd",
     "showTitle": false,
     "tableResultSettingsMap": {},
     "title": ""
    }
   },
   "outputs": [],
   "source": [
    "\n",
    "# Guess where I got this code from :)\n",
    "code_line = \"\"\"yeild from set(book.get(\"author)) for book  in books if book.get(\"author\"))\"\"\"\n",
    "is_code, raw_code = read_code(code=code_line)\n",
    "\n",
    "if is_code:\n",
    "    user_prompt = raw_code\n",
    "else:\n",
    "    print(\"Invalid Arguments\")"
   ]
  },
  {
   "cell_type": "code",
   "execution_count": 0,
   "metadata": {
    "application/vnd.databricks.v1+cell": {
     "cellMetadata": {},
     "inputWidgets": {},
     "nuid": "6a9b8857-5aee-420d-a338-04ae51c56460",
     "showTitle": false,
     "tableResultSettingsMap": {},
     "title": ""
    }
   },
   "outputs": [],
   "source": [
    "def messages_for():\n",
    "    return [\n",
    "        {\"role\": \"system\", \"content\": system_prompt},\n",
    "        {\"role\": \"user\", \"content\": user_prompt}\n",
    "    ]"
   ]
  },
  {
   "cell_type": "code",
   "execution_count": 0,
   "metadata": {
    "application/vnd.databricks.v1+cell": {
     "cellMetadata": {},
     "inputWidgets": {},
     "nuid": "aaf9ec6b-0851-4be2-b32a-376a578f47c9",
     "showTitle": false,
     "tableResultSettingsMap": {},
     "title": ""
    }
   },
   "outputs": [],
   "source": [
    "def summarize():\n",
    "    \n",
    "    response = openai.chat.completions.create(\n",
    "        model = \"gpt-4o-mini\",\n",
    "        messages = messages_for()\n",
    "    )\n",
    "    return response.choices[0].message.content"
   ]
  },
  {
   "cell_type": "code",
   "execution_count": 0,
   "metadata": {
    "application/vnd.databricks.v1+cell": {
     "cellMetadata": {},
     "inputWidgets": {},
     "nuid": "accd98ef-2fce-4e5e-895d-b1442983a26d",
     "showTitle": false,
     "tableResultSettingsMap": {},
     "title": ""
    }
   },
   "outputs": [],
   "source": [
    "def display_summary():\n",
    "    summary = summarize()\n",
    "    display(Markdown(summary))"
   ]
  },
  {
   "cell_type": "code",
   "execution_count": 0,
   "metadata": {
    "application/vnd.databricks.v1+cell": {
     "cellMetadata": {},
     "inputWidgets": {},
     "nuid": "a6f5e59a-3e70-4be7-8133-793a9285ff4c",
     "showTitle": false,
     "tableResultSettingsMap": {},
     "title": ""
    }
   },
   "outputs": [],
   "source": [
    "display_summary()"
   ]
  }
 ],
 "metadata": {
  "application/vnd.databricks.v1+notebook": {
   "computePreferences": null,
   "dashboards": [],
   "environmentMetadata": null,
   "inputWidgetPreferences": null,
   "language": "python",
   "notebookMetadata": {},
   "notebookName": "CoolCodeSummarizer",
   "widgets": {}
  },
  "kernelspec": {
   "display_name": "Python 3 (ipykernel)",
   "language": "python",
   "name": "python3"
  },
  "language_info": {
   "name": "python"
  }
 },
 "nbformat": 4,
 "nbformat_minor": 0
}
