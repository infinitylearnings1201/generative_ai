{
 "cells": [
  {
   "cell_type": "code",
   "execution_count": 0,
   "metadata": {
    "application/vnd.databricks.v1+cell": {
     "cellMetadata": {},
     "inputWidgets": {},
     "nuid": "8c8a788b-e333-4389-af9f-8916c36ee944",
     "showTitle": false,
     "tableResultSettingsMap": {},
     "title": ""
    }
   },
   "outputs": [],
   "source": [
    "import os\n",
    "import requests\n",
    "from dotenv import load_dotenv\n",
    "from bs4 import BeautifulSoup\n",
    "from IPython.display import Markdown, display\n",
    "from openai import OpenAI"
   ]
  },
  {
   "cell_type": "code",
   "execution_count": 0,
   "metadata": {
    "application/vnd.databricks.v1+cell": {
     "cellMetadata": {},
     "inputWidgets": {},
     "nuid": "aafa8977-3974-45a2-93d8-99cb77f828b0",
     "showTitle": false,
     "tableResultSettingsMap": {},
     "title": ""
    }
   },
   "outputs": [],
   "source": [
    "# Load environment variables in a file called .env\n",
    "\n",
    "load_dotenv()\n",
    "api_key = os.getenv('OPENAI_API_KEY')\n",
    "\n",
    "# Check the key\n",
    "\n",
    "if not api_key:\n",
    "    print(\"No API key was found - please head over to the troubleshooting notebook in this folder to identify & fix!\")\n",
    "elif not api_key.startswith(\"sk-proj-\"):\n",
    "    print(\"An API key was found, but it doesn't start sk-proj-; please check you're using the right key - see troubleshooting notebook\")\n",
    "elif api_key.strip() != api_key:\n",
    "    print(\"An API key was found, but it looks like it might have space or tab characters at the start or end - please remove them - see troubleshooting notebook\")\n",
    "else:\n",
    "    print(\"API key found and looks good so far!\")"
   ]
  },
  {
   "cell_type": "code",
   "execution_count": 0,
   "metadata": {
    "application/vnd.databricks.v1+cell": {
     "cellMetadata": {},
     "inputWidgets": {},
     "nuid": "98c4bb7c-6e24-4f06-aa00-4e9712ae36fe",
     "showTitle": false,
     "tableResultSettingsMap": {},
     "title": ""
    }
   },
   "outputs": [],
   "source": [
    "#call open AI\n",
    "openai = OpenAI()\n"
   ]
  },
  {
   "cell_type": "code",
   "execution_count": 0,
   "metadata": {
    "application/vnd.databricks.v1+cell": {
     "cellMetadata": {},
     "inputWidgets": {},
     "nuid": "ea921aa4-5841-446f-952f-7bd0bf087b12",
     "showTitle": false,
     "tableResultSettingsMap": {},
     "title": ""
    }
   },
   "outputs": [],
   "source": [
    "# A class to represent a Webpage\n",
    "\n",
    "headers = {\n",
    "    \"User-Agent\": \"Mozilla/5.0 (Windows NT 10.0; Win64; x64) AppleWebKit/537.36 (KHTML, like Gecko) Chrome/117.0.0.0 Safari/537.36\"\n",
    "}\n",
    "class Website:\n",
    "    def __init__(self, url):\n",
    "        \"\"\"\n",
    "        Create this Website object for a Finance latest news\n",
    "        \"\"\"\n",
    "        self.url = url\n",
    "        response = requests.get(url, headers=headers)\n",
    "        soup = BeautifulSoup(response.content, 'html.parser')\n",
    "        \n",
    "        self.title = soup.title.string if soup.title else \"No title found\"\n",
    "        \n",
    "        # Find news headlines and content \n",
    "        news_data = []\n",
    "        \n",
    "        # Try different selectors \n",
    "        news_items = soup.find_all('h3') + soup.find_all('h2')\n",
    "        \n",
    "        for item in news_items:\n",
    "            headline = item.get_text(strip=True)\n",
    "            if headline and len(headline) > 20:  # Filter out short/empty text\n",
    "                # Try to find content near the headline\n",
    "                content = \"\"\n",
    "                parent = item.find_parent()\n",
    "                if parent:\n",
    "                    # Look for paragraph or summary text\n",
    "                    summary = parent.find('p')\n",
    "                    if summary:\n",
    "                        content = summary.get_text(strip=True)[:300] + \"...\"\n",
    "                \n",
    "                news_data.append({'headline': headline, 'content': content})\n",
    "        \n",
    "        # Create the text content\n",
    "        self.text = \"Latest financial news headlines:\\n\\n\"\n",
    "        \n",
    "        # Get top 5 headlines with content\n",
    "        for i, news in enumerate(news_data[:10], 1):\n",
    "            self.text += f\"{i}. {news['headline']}\\n\"\n",
    "            if news['content']:\n",
    "                self.text += f\"   Summary: {news['content']}\\n\"\n",
    "            self.text += \"\\n\"\n",
    "        \n",
    "        if not news_data:\n",
    "            self.text = \"No headlines found. Yahoo Finance structure may have changed.\"\n"
   ]
  },
  {
   "cell_type": "code",
   "execution_count": 0,
   "metadata": {
    "application/vnd.databricks.v1+cell": {
     "cellMetadata": {},
     "inputWidgets": {},
     "nuid": "7c450480-0279-48b1-9c16-c1f67a799291",
     "showTitle": false,
     "tableResultSettingsMap": {},
     "title": ""
    }
   },
   "outputs": [],
   "source": [
    "website = Website(\"https://finance.yahoo.com/topic/latest-news/\")\n",
    "\n",
    "print(\"Title:\", website.title)\n",
    "print(\"Top News:\")\n",
    "print(website.text)"
   ]
  },
  {
   "cell_type": "code",
   "execution_count": 0,
   "metadata": {
    "application/vnd.databricks.v1+cell": {
     "cellMetadata": {},
     "inputWidgets": {},
     "nuid": "4d3a5666-6891-47a1-95c2-cd99c1723d19",
     "showTitle": false,
     "tableResultSettingsMap": {},
     "title": ""
    }
   },
   "outputs": [],
   "source": [
    "# Define our system prompt\n",
    "system_prompt = \"\"\"You are a veteran stock market and finance expert with 50+ years of experience helping investors make safe, steady gains. Your audience is beginners with small amounts to invest (around $100). \n",
    "\n",
    "**Response Format:**\n",
    "1. Start with \"The News Snapshot:\" - Write 3-4 lines summarizing the key financial developments from the provided headlines and summaries, showing you understand the current market situation, start the write up for this with today in the news we see that...\n",
    "\n",
    "2. Give specific stock advice based on the news:\n",
    "  - What to avoid and why\n",
    "  - 2-3 specific stock recommendations with ticker symbols\n",
    "  - Focus only on safe, dividend-paying stocks or clear beneficiaries from the news\n",
    "\n",
    "3. End with \"The big picture:\" - One sentence explaining the overall market condition\n",
    "\n",
    "4. Close with \"Your game plan:\" - Simple, actionable advice for their $100 to show how to split it\n",
    "\n",
    "**Tone & Style:**\n",
    "- Talk like a knowledgeable but friendly Wall Street professional advising a beginner\n",
    "- Keep it under 200 words total\n",
    "- Use simple language, no complex jargon\n",
    "- Be direct and practical\n",
    "- Focus on capital preservation over quick gains\n",
    "- Always relate advice directly to the news headlines provided\n",
    "\n",
    "**Key Rules:**\n",
    "- Only recommend established, safe stocks\n",
    "- Always explain WHY based on the news\n",
    "- No speculative or meme stocks\n",
    "- Emphasize learning over quick profits\"\"\""
   ]
  },
  {
   "cell_type": "code",
   "execution_count": 0,
   "metadata": {
    "application/vnd.databricks.v1+cell": {
     "cellMetadata": {},
     "inputWidgets": {},
     "nuid": "221f5787-80eb-41f7-bb3f-e05ad963867b",
     "showTitle": false,
     "tableResultSettingsMap": {},
     "title": ""
    }
   },
   "outputs": [],
   "source": [
    "# A function that writes a User Prompt that asks for summaries of websites:\n",
    "\n",
    "def user_prompt_for(website):\n",
    "    user_prompt = f\"You are looking at a website titled {website.title}\"\n",
    "    user_prompt += \"\\nThe contents of this website is as follows; \\\n",
    "please provide a provide your investment advice for a beginner with $100. \\\n",
    "Because it includes finance news or trend, let the advice be based on these too.\\n\\n\"\n",
    "    user_prompt += website.text\n",
    "    return user_prompt"
   ]
  },
  {
   "cell_type": "code",
   "execution_count": 0,
   "metadata": {
    "application/vnd.databricks.v1+cell": {
     "cellMetadata": {},
     "inputWidgets": {},
     "nuid": "73b2f5e3-a1f7-41b7-8bf8-f4b24ad977ca",
     "showTitle": false,
     "tableResultSettingsMap": {},
     "title": ""
    }
   },
   "outputs": [],
   "source": [
    "def messages_for(website):\n",
    "    return [\n",
    "        {\"role\": \"system\", \"content\": system_prompt},\n",
    "        {\"role\": \"user\", \"content\": user_prompt_for(website)}\n",
    "    ]"
   ]
  },
  {
   "cell_type": "code",
   "execution_count": 0,
   "metadata": {
    "application/vnd.databricks.v1+cell": {
     "cellMetadata": {},
     "inputWidgets": {},
     "nuid": "d8b55eb0-adc9-4fc2-bda8-b0e61c2bb265",
     "showTitle": false,
     "tableResultSettingsMap": {},
     "title": ""
    }
   },
   "outputs": [],
   "source": [
    "def get_advice(url):\n",
    "    website = Website(url)\n",
    "    response = openai.chat.completions.create(\n",
    "        model = \"gpt-4o-mini\",\n",
    "        messages = messages_for(website)\n",
    "    )\n",
    "    return response.choices[0].message.content"
   ]
  },
  {
   "cell_type": "code",
   "execution_count": 0,
   "metadata": {
    "application/vnd.databricks.v1+cell": {
     "cellMetadata": {},
     "inputWidgets": {},
     "nuid": "9362b13e-2936-4836-99f3-b1861eb4933a",
     "showTitle": false,
     "tableResultSettingsMap": {},
     "title": ""
    }
   },
   "outputs": [],
   "source": [
    "get_advice(\"https://finance.yahoo.com/topic/latest-news/\")"
   ]
  },
  {
   "cell_type": "code",
   "execution_count": 0,
   "metadata": {
    "application/vnd.databricks.v1+cell": {
     "cellMetadata": {},
     "inputWidgets": {},
     "nuid": "b815e1e7-b079-45b1-924c-234e37b92c49",
     "showTitle": false,
     "tableResultSettingsMap": {},
     "title": ""
    }
   },
   "outputs": [],
   "source": [
    "def display_fin_advice(url):\n",
    "    advice_content = get_advice(url)  \n",
    "    display(Markdown(advice_content))"
   ]
  },
  {
   "cell_type": "code",
   "execution_count": 0,
   "metadata": {
    "application/vnd.databricks.v1+cell": {
     "cellMetadata": {},
     "inputWidgets": {},
     "nuid": "da3859b9-2efb-49e8-97cc-f32717c11e86",
     "showTitle": false,
     "tableResultSettingsMap": {},
     "title": ""
    }
   },
   "outputs": [],
   "source": [
    "display_fin_advice(\"https://finance.yahoo.com/topic/latest-news/\")"
   ]
  },
  {
   "cell_type": "code",
   "execution_count": 0,
   "metadata": {
    "application/vnd.databricks.v1+cell": {
     "cellMetadata": {},
     "inputWidgets": {},
     "nuid": "edc6c80f-f464-48df-8a8b-11c3b054b900",
     "showTitle": false,
     "tableResultSettingsMap": {},
     "title": ""
    }
   },
   "outputs": [],
   "source": []
  }
 ],
 "metadata": {
  "application/vnd.databricks.v1+notebook": {
   "computePreferences": null,
   "dashboards": [],
   "environmentMetadata": null,
   "inputWidgetPreferences": null,
   "language": "python",
   "notebookMetadata": {},
   "notebookName": "day1- stock adviser webscrap",
   "widgets": {}
  },
  "kernelspec": {
   "display_name": "Python 3 (ipykernel)",
   "language": "python",
   "name": "python3"
  },
  "language_info": {
   "name": "python"
  }
 },
 "nbformat": 4,
 "nbformat_minor": 0
}
