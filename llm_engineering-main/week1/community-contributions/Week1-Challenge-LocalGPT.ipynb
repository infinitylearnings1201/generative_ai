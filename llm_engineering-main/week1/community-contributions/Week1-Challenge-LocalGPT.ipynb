{
 "cells": [
  {
   "cell_type": "markdown",
   "metadata": {
    "application/vnd.databricks.v1+cell": {
     "cellMetadata": {},
     "inputWidgets": {},
     "nuid": "f0526615-bc4f-4b11-817f-259ea0bf788a",
     "showTitle": false,
     "tableResultSettingsMap": {},
     "title": ""
    }
   },
   "source": [
    "# Community contribution\n",
    "\n",
    "Implementing simple ChatGPT interface to maintain conversation and context with sleected model"
   ]
  },
  {
   "cell_type": "code",
   "execution_count": 0,
   "metadata": {
    "application/vnd.databricks.v1+cell": {
     "cellMetadata": {},
     "inputWidgets": {},
     "nuid": "b7a61a00-a6f2-47aa-86a1-b03f136c1541",
     "showTitle": false,
     "tableResultSettingsMap": {},
     "title": ""
    }
   },
   "outputs": [],
   "source": [
    "import os\n",
    "from dotenv import load_dotenv\n",
    "import ipywidgets as widgets\n",
    "from IPython.display import Markdown, display, update_display, clear_output\n",
    "from openai import OpenAI\n",
    "\n",
    "load_dotenv()\n",
    "api_key = os.getenv('OPENAI_API_KEY')\n",
    "\n",
    "if api_key and api_key.startswith('sk-proj-') and len(api_key)>10:\n",
    "    print(\"API key looks good so far\")\n",
    "else:\n",
    "    print(\"There might be a problem with your API key? Please visit the troubleshooting notebook!\")\n",
    "    \n",
    "MODEL = 'gpt-4o-mini'\n"
   ]
  },
  {
   "cell_type": "code",
   "execution_count": 0,
   "metadata": {
    "application/vnd.databricks.v1+cell": {
     "cellMetadata": {},
     "inputWidgets": {},
     "nuid": "bedc9f9e-183b-4e77-9867-d09408de9b3a",
     "showTitle": false,
     "tableResultSettingsMap": {},
     "title": ""
    }
   },
   "outputs": [],
   "source": [
    "class ChatGPTInterface:\n",
    "    def __init__(self, api_key, model, system_message=\"You are a helpful assistant. You can format your responses using Markdown.\"):\n",
    "        self.openai = OpenAI(api_key=api_key)\n",
    "        self.model = model\n",
    "        self.conversation_history = [{\"role\": \"system\", \"content\": system_message}]\n",
    "\n",
    "        self.chat_area = widgets.Output()\n",
    "        self.input_box = widgets.Text(placeholder=\"Enter your message here...\")\n",
    "        self.send_button = widgets.Button(description=\"Send\")\n",
    "        self.clear_button = widgets.Button(description=\"Clear\")\n",
    "\n",
    "        self.send_button.on_click(self.send_message)\n",
    "        self.clear_button.on_click(self.clear_chat)\n",
    "\n",
    "        self.layout = widgets.VBox([\n",
    "            self.chat_area,\n",
    "            widgets.HBox([self.input_box, self.send_button, self.clear_button])\n",
    "        ])\n",
    "\n",
    "    def display(self):\n",
    "        display(self.layout)\n",
    "\n",
    "    def send_message(self, _):\n",
    "        user_message = self.input_box.value.strip()\n",
    "        if user_message:\n",
    "            self.conversation_history.append({\"role\": \"user\", \"content\": user_message})\n",
    "            self.display_message(\"You\", user_message)\n",
    "            self.input_box.value = \"\"\n",
    "\n",
    "            try:\n",
    "                response = self.openai.chat.completions.create(\n",
    "                    model=self.model,\n",
    "                    messages=self.conversation_history\n",
    "                )\n",
    "                assistant_message = response.choices[0].message.content.strip()\n",
    "                self.conversation_history.append({\"role\": \"assistant\", \"content\": assistant_message})\n",
    "                self.display_message(\"ChatGPT\", assistant_message)\n",
    "            except Exception as e:\n",
    "                self.display_message(\"Error\", str(e))\n",
    "\n",
    "    def clear_chat(self, _):\n",
    "        self.conversation_history = [{\"role\": \"system\", \"content\": self.conversation_history[0][\"content\"]}]\n",
    "        self.chat_area.clear_output(wait=True)\n",
    "\n",
    "    def display_message(self, sender, message):\n",
    "        self.chat_area.append_display_data(Markdown(f\"**{sender}:**\\n{message}\"))\n"
   ]
  },
  {
   "cell_type": "code",
   "execution_count": 0,
   "metadata": {
    "application/vnd.databricks.v1+cell": {
     "cellMetadata": {},
     "inputWidgets": {},
     "nuid": "bb5d87c4-c68e-41fe-8785-81ed6a65ff32",
     "showTitle": false,
     "tableResultSettingsMap": {},
     "title": ""
    }
   },
   "outputs": [],
   "source": [
    "chat_interface = ChatGPTInterface(api_key,MODEL)\n",
    "chat_interface.display()"
   ]
  }
 ],
 "metadata": {
  "application/vnd.databricks.v1+notebook": {
   "computePreferences": null,
   "dashboards": [],
   "environmentMetadata": null,
   "inputWidgetPreferences": null,
   "language": "python",
   "notebookMetadata": {},
   "notebookName": "Week1-Challenge-LocalGPT",
   "widgets": {}
  },
  "kernelspec": {
   "display_name": "Python 3 (ipykernel)",
   "language": "python",
   "name": "python3"
  },
  "language_info": {
   "name": "python"
  }
 },
 "nbformat": 4,
 "nbformat_minor": 0
}
