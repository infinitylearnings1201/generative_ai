{
 "cells": [
  {
   "cell_type": "markdown",
   "metadata": {
    "application/vnd.databricks.v1+cell": {
     "cellMetadata": {},
     "inputWidgets": {},
     "nuid": "ae4272fc-739d-477c-8ef4-085788766b15",
     "showTitle": false,
     "tableResultSettingsMap": {},
     "title": ""
    }
   },
   "source": [
    "Import tkinter and ollama to create the app"
   ]
  },
  {
   "cell_type": "code",
   "execution_count": 0,
   "metadata": {
    "application/vnd.databricks.v1+cell": {
     "cellMetadata": {},
     "inputWidgets": {},
     "nuid": "7f2b438b-a202-4f74-a17b-17dd56fffe1f",
     "showTitle": false,
     "tableResultSettingsMap": {},
     "title": ""
    }
   },
   "outputs": [],
   "source": [
    "import ollama\n",
    "import tkinter as tk\n",
    "from tkinter import ttk"
   ]
  },
  {
   "cell_type": "markdown",
   "metadata": {
    "application/vnd.databricks.v1+cell": {
     "cellMetadata": {},
     "inputWidgets": {},
     "nuid": "c47078d6-0365-4c9c-82cb-eb99c6827b9e",
     "showTitle": false,
     "tableResultSettingsMap": {},
     "title": ""
    }
   },
   "source": [
    "Basic configuration parameters for the Ollama API:"
   ]
  },
  {
   "cell_type": "code",
   "execution_count": 0,
   "metadata": {
    "application/vnd.databricks.v1+cell": {
     "cellMetadata": {},
     "inputWidgets": {},
     "nuid": "7c07f7e8-5bb0-403a-b6a4-1ca2ef4f8252",
     "showTitle": false,
     "tableResultSettingsMap": {},
     "title": ""
    }
   },
   "outputs": [],
   "source": [
    "OLLAMA_API = \"http://localhost:11434/api/chat\"\n",
    "HEADERS = {\"Content-Type\":\"application/json\"}\n",
    "MODEL = \"llama3.2\"\n"
   ]
  },
  {
   "cell_type": "markdown",
   "metadata": {
    "application/vnd.databricks.v1+cell": {
     "cellMetadata": {},
     "inputWidgets": {},
     "nuid": "d1831bd4-ab5f-4f86-b802-462106d6f5c3",
     "showTitle": false,
     "tableResultSettingsMap": {},
     "title": ""
    }
   },
   "source": [
    "Initialize conversation history."
   ]
  },
  {
   "cell_type": "code",
   "execution_count": 0,
   "metadata": {
    "application/vnd.databricks.v1+cell": {
     "cellMetadata": {},
     "inputWidgets": {},
     "nuid": "57fba2cf-76fb-4a38-a769-409608b8f7b2",
     "showTitle": false,
     "tableResultSettingsMap": {},
     "title": ""
    }
   },
   "outputs": [],
   "source": [
    "conversation_history = []"
   ]
  },
  {
   "cell_type": "markdown",
   "metadata": {
    "application/vnd.databricks.v1+cell": {
     "cellMetadata": {},
     "inputWidgets": {},
     "nuid": "24a07783-0f67-4877-995e-d825057c4474",
     "showTitle": false,
     "tableResultSettingsMap": {},
     "title": ""
    }
   },
   "source": [
    "Defining the key presses. If user presses shit +  enter then simply go to the next line. \n",
    "\n",
    "If user presses only enter then submit the question."
   ]
  },
  {
   "cell_type": "code",
   "execution_count": 0,
   "metadata": {
    "application/vnd.databricks.v1+cell": {
     "cellMetadata": {},
     "inputWidgets": {},
     "nuid": "54a09713-ef18-4bfa-a0e0-12c441805848",
     "showTitle": false,
     "tableResultSettingsMap": {},
     "title": ""
    }
   },
   "outputs": [],
   "source": [
    "def handle_keypress(event):\n",
    "    if event.state & 0x1:  # Check if Shift is pressed\n",
    "        return\n",
    "    else:\n",
    "        display_answer()\n",
    "        return 'break'"
   ]
  },
  {
   "cell_type": "markdown",
   "metadata": {
    "application/vnd.databricks.v1+cell": {
     "cellMetadata": {},
     "inputWidgets": {},
     "nuid": "55ddf965-f950-494e-aac9-65f61715e6a8",
     "showTitle": false,
     "tableResultSettingsMap": {},
     "title": ""
    }
   },
   "source": [
    "Defining the function that will display answers using Ollama.\n",
    "\n",
    "\n",
    "To turn it into a chatbot we simply append user's question and Ollama's response to our conversation history and pass that into Ollama as our next question."
   ]
  },
  {
   "cell_type": "code",
   "execution_count": 0,
   "metadata": {
    "application/vnd.databricks.v1+cell": {
     "cellMetadata": {},
     "inputWidgets": {},
     "nuid": "d196206d-89fb-4f26-8d3b-7b97c0b3bfe5",
     "showTitle": false,
     "tableResultSettingsMap": {},
     "title": ""
    }
   },
   "outputs": [],
   "source": [
    "def display_answer(event=None):\n",
    "    question_text['state'] = 'disabled'\n",
    "    question_text['bg'] = '#F0F0F0'\n",
    "    status_label.config(text=\"Looking for an answer...\")\n",
    "    root.update()\n",
    "\n",
    "    # Get question text and prepare message\n",
    "    question = question_text.get(\"1.0\", tk.END).strip()\n",
    "    if question:\n",
    "        # Append the user's question to the conversation history\n",
    "        conversation_history.append({\"role\": \"user\", \"content\": question})\n",
    "\n",
    "        # Pass the entire conversation history to Ollama\n",
    "        try:\n",
    "            # Get the answer\n",
    "            response = ollama.chat(model=MODEL, messages=conversation_history)\n",
    "            answer = response[\"message\"][\"content\"]\n",
    "\n",
    "            # Append the assistant's answer to the conversation history\n",
    "            conversation_history.append({\"role\": \"assistant\", \"content\": answer})\n",
    "\n",
    "            # Update the text widget with the answer\n",
    "            answer_text.configure(state='normal')\n",
    "            answer_text.delete(1.0, tk.END)\n",
    "            answer_text.insert(tk.END, answer)\n",
    "            answer_text.configure(state='disabled')\n",
    "\n",
    "            status_label.config(text=\"Answered\")\n",
    "        except Exception as e:\n",
    "            answer_text.configure(state='normal')\n",
    "            answer_text.delete(1.0, tk.END)\n",
    "            answer_text.insert(tk.END, f\"Error: {str(e)}\")\n",
    "            answer_text.configure(state='disabled')\n",
    "            status_label.config(text=\"Error\")\n",
    "    else:\n",
    "        # If empty question string was received\n",
    "        answer_text.configure(state='normal')\n",
    "        answer_text.delete(1.0, tk.END)\n",
    "        answer_text.insert(tk.END, \"Please enter a question.\")\n",
    "        answer_text.configure(state='disabled')\n",
    "        status_label.config(text=\"\")\n",
    "\n",
    "    # Re-enable question input and restore normal background\n",
    "    question_text['state'] = 'normal'\n",
    "    question_text['bg'] = 'white'\n",
    "    root.update()"
   ]
  },
  {
   "cell_type": "markdown",
   "metadata": {
    "application/vnd.databricks.v1+cell": {
     "cellMetadata": {},
     "inputWidgets": {},
     "nuid": "24efa5ea-3967-4d1f-8817-67f87d2a9f3a",
     "showTitle": false,
     "tableResultSettingsMap": {},
     "title": ""
    }
   },
   "source": [
    "A button to remove the conversation history and start all over again."
   ]
  },
  {
   "cell_type": "code",
   "execution_count": 0,
   "metadata": {
    "application/vnd.databricks.v1+cell": {
     "cellMetadata": {},
     "inputWidgets": {},
     "nuid": "ef2576b6-c115-490d-96c5-9afe7477bfcb",
     "showTitle": false,
     "tableResultSettingsMap": {},
     "title": ""
    }
   },
   "outputs": [],
   "source": [
    "def remove_all():\n",
    "    \"\"\"Clears the conversation history and resets the interface.\"\"\"\n",
    "    global conversation_history\n",
    "    conversation_history = []  # Clear conversation history\n",
    "\n",
    "    # Reset text widgets\n",
    "    question_text.delete(1.0, tk.END)\n",
    "    answer_text.configure(state='normal')\n",
    "    answer_text.delete(1.0, tk.END)\n",
    "    answer_text.insert(tk.END, \"Your answer will appear here.\")\n",
    "    answer_text.configure(state='disabled')\n",
    "\n",
    "    # Reset status label\n",
    "    status_label.config(text=\"\")"
   ]
  },
  {
   "cell_type": "markdown",
   "metadata": {
    "application/vnd.databricks.v1+cell": {
     "cellMetadata": {},
     "inputWidgets": {},
     "nuid": "0d2af4af-ec14-4bdc-b069-79149be0f6f4",
     "showTitle": false,
     "tableResultSettingsMap": {},
     "title": ""
    }
   },
   "source": [
    "Creating the app window using tkinter."
   ]
  },
  {
   "cell_type": "code",
   "execution_count": 0,
   "metadata": {
    "application/vnd.databricks.v1+cell": {
     "cellMetadata": {},
     "inputWidgets": {},
     "nuid": "29140755-990d-47e3-94a7-e21dcd3831e4",
     "showTitle": false,
     "tableResultSettingsMap": {},
     "title": ""
    }
   },
   "outputs": [],
   "source": [
    "# Create the main window\n",
    "root = tk.Tk()\n",
    "root.title(\"Ollama with GUI\")\n",
    "root.geometry(\"500x800\")\n",
    "\n",
    "# Create and configure the Questions window\n",
    "question_frame = ttk.LabelFrame(root, text=\"Questions\", padding=(10, 10))\n",
    "question_frame.pack(fill=\"both\", expand=True, padx=10, pady=10)\n",
    "\n",
    "question_label = ttk.Label(question_frame, text=\"Enter your question:\")\n",
    "question_label.pack(anchor=\"w\", pady=5)\n",
    "\n",
    "# Replace Entry with Text widget for questions\n",
    "question_text = tk.Text(question_frame, wrap=tk.WORD, width=50, height=4)\n",
    "question_text.pack(anchor=\"w\", pady=5)\n",
    "question_text.bind(\"<Return>\", handle_keypress)\n",
    "\n",
    "# Add status label\n",
    "status_label = ttk.Label(question_frame, text=\"\")\n",
    "status_label.pack(anchor=\"w\", pady=5)\n",
    "\n",
    "# Add Remove All button\n",
    "remove_all_button = ttk.Button(question_frame, text=\"Remove All\", command=remove_all)\n",
    "remove_all_button.pack(anchor=\"e\", pady=5)\n",
    "\n",
    "# Create and configure the Answers window\n",
    "answer_frame = ttk.LabelFrame(root, text=\"Answer\", padding=(10, 10))\n",
    "answer_frame.pack(fill=\"both\", expand=True, padx=10, pady=10)\n",
    "\n",
    "# Create a frame to hold the text widget and scrollbar\n",
    "text_frame = ttk.Frame(answer_frame)\n",
    "text_frame.pack(fill=\"both\", expand=True)\n",
    "\n",
    "# Create the text widget and scrollbar\n",
    "answer_text = tk.Text(text_frame, wrap=tk.WORD, width=70, height=100)\n",
    "scrollbar = ttk.Scrollbar(text_frame, orient=\"vertical\", command=answer_text.yview)\n",
    "answer_text.configure(yscrollcommand=scrollbar.set)\n",
    "\n",
    "# Pack the text widget and scrollbar\n",
    "answer_text.pack(side=\"left\", fill=\"both\", expand=True)\n",
    "scrollbar.pack(side=\"right\", fill=\"y\")\n",
    "\n",
    "# Set initial text and disable editing\n",
    "answer_text.insert(tk.END, \"Your answer will appear here.\")\n",
    "answer_text.configure(state='disabled')\n",
    "\n",
    "# Run the main event loop\n",
    "root.mainloop()\n"
   ]
  }
 ],
 "metadata": {
  "application/vnd.databricks.v1+notebook": {
   "computePreferences": null,
   "dashboards": [],
   "environmentMetadata": null,
   "inputWidgetPreferences": null,
   "language": "python",
   "notebookMetadata": {},
   "notebookName": "day-1-ollama-app",
   "widgets": {}
  },
  "kernelspec": {
   "display_name": "Python 3 (ipykernel)",
   "language": "python",
   "name": "python3"
  },
  "language_info": {
   "name": "python"
  }
 },
 "nbformat": 4,
 "nbformat_minor": 0
}
