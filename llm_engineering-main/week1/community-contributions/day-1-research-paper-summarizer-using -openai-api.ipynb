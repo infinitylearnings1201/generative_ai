{
 "cells": [
  {
   "cell_type": "code",
   "execution_count": 0,
   "metadata": {
    "application/vnd.databricks.v1+cell": {
     "cellMetadata": {},
     "inputWidgets": {},
     "nuid": "1be2bc8e-29af-4021-8ace-461604a63ad9",
     "showTitle": false,
     "tableResultSettingsMap": {},
     "title": ""
    }
   },
   "outputs": [],
   "source": [
    "import os\n",
    "import requests\n",
    "from dotenv import load_dotenv\n",
    "from IPython.display import Markdown, display\n",
    "from openai import OpenAI"
   ]
  },
  {
   "cell_type": "code",
   "execution_count": 0,
   "metadata": {
    "application/vnd.databricks.v1+cell": {
     "cellMetadata": {},
     "inputWidgets": {},
     "nuid": "215445b4-e0da-43d8-aba5-c64b2ddebcfd",
     "showTitle": false,
     "tableResultSettingsMap": {},
     "title": ""
    }
   },
   "outputs": [],
   "source": [
    "load_dotenv()\n",
    "api_key = os.getenv('OPENAI_API_KEY')\n",
    "\n",
    "if not api_key:\n",
    "    print('No API key was found')\n",
    "elif not api_key.startswith(\"sk-proj-\"):\n",
    "    print(\"API key is found but is not in the proper format\")\n",
    "else:\n",
    "    print(\"API key found and looks good so far\")"
   ]
  },
  {
   "cell_type": "code",
   "execution_count": 0,
   "metadata": {
    "application/vnd.databricks.v1+cell": {
     "cellMetadata": {},
     "inputWidgets": {},
     "nuid": "1940d49e-f8d1-4ef3-a93e-3679764188cb",
     "showTitle": false,
     "tableResultSettingsMap": {},
     "title": ""
    }
   },
   "outputs": [],
   "source": [
    "openai = OpenAI()"
   ]
  },
  {
   "cell_type": "code",
   "execution_count": 0,
   "metadata": {
    "application/vnd.databricks.v1+cell": {
     "cellMetadata": {},
     "inputWidgets": {},
     "nuid": "9895f278-2b9d-4211-9637-9558bf61363c",
     "showTitle": false,
     "tableResultSettingsMap": {},
     "title": ""
    }
   },
   "outputs": [],
   "source": [
    "system_prompt = \"\"\"You are a research summarizer. That summarizes the content of the research paper in no more than 1000 words. The research summary that you provide should include the following:\n",
    "1) Title and Authors - Identify the study and contributors.\n",
    "2) Objective/Problem - State the research goal or question.\n",
    "3) Background - Briefly explain the context and significance.\n",
    "4) Methods - Summarize the approach or methodology.\n",
    "5) Key Findings - Highlight the main results or insights.\n",
    "6) Conclusion - Provide the implications or contributions of the study.\n",
    "7) Future Directions - Suggest areas for further research or exploration.\n",
    "8) Limitations - Highlight constraints or challenges in the study.\n",
    "9) Potential Applications - Discuss how the findings can be applied in real-world scenarios.\n",
    "Keep all points concise, clear, and focused and generate output in markdown.\"\"\""
   ]
  },
  {
   "cell_type": "code",
   "execution_count": 0,
   "metadata": {
    "application/vnd.databricks.v1+cell": {
     "cellMetadata": {},
     "inputWidgets": {},
     "nuid": "6a562c46-75d9-4190-859b-874521a3fa60",
     "showTitle": false,
     "tableResultSettingsMap": {},
     "title": ""
    }
   },
   "outputs": [],
   "source": [
    "pip install ipywidgets pdfplumber"
   ]
  },
  {
   "cell_type": "code",
   "execution_count": 0,
   "metadata": {
    "application/vnd.databricks.v1+cell": {
     "cellMetadata": {},
     "inputWidgets": {},
     "nuid": "c91bc57d-05e6-4948-af6f-19ec104ad5f7",
     "showTitle": false,
     "tableResultSettingsMap": {},
     "title": ""
    }
   },
   "outputs": [],
   "source": [
    "import pdfplumber\n",
    "from ipywidgets import widgets\n",
    "from io import BytesIO"
   ]
  },
  {
   "cell_type": "code",
   "execution_count": 0,
   "metadata": {
    "application/vnd.databricks.v1+cell": {
     "cellMetadata": {},
     "inputWidgets": {},
     "nuid": "8fd196b5-6992-4f05-9e99-6b3f86191f24",
     "showTitle": false,
     "tableResultSettingsMap": {},
     "title": ""
    }
   },
   "outputs": [],
   "source": [
    "from IPython.display import display, Markdown"
   ]
  },
  {
   "cell_type": "code",
   "execution_count": 0,
   "metadata": {
    "application/vnd.databricks.v1+cell": {
     "cellMetadata": {},
     "inputWidgets": {},
     "nuid": "46c85a71-b0e5-4bf6-b8c0-4a8200b51b82",
     "showTitle": false,
     "tableResultSettingsMap": {},
     "title": ""
    }
   },
   "outputs": [],
   "source": [
    "def messages_for(user_prompt):\n",
    "    return [\n",
    "        {\"role\": \"system\", \"content\": system_prompt},\n",
    "        {\"role\": \"user\", \"content\": user_prompt}\n",
    "    ]"
   ]
  },
  {
   "cell_type": "code",
   "execution_count": 0,
   "metadata": {
    "application/vnd.databricks.v1+cell": {
     "cellMetadata": {},
     "inputWidgets": {},
     "nuid": "272b3992-6c80-419a-b3e6-6731fb069bf1",
     "showTitle": false,
     "tableResultSettingsMap": {},
     "title": ""
    }
   },
   "outputs": [],
   "source": [
    "def summarize(user_prompt):\n",
    "    # Generate messages using the user_prompt\n",
    "    messages = messages_for(user_prompt)\n",
    "    try:\n",
    "        response = openai.chat.completions.create(\n",
    "            model=\"gpt-4o-mini\",  # Correct model name\n",
    "            messages=messages,\n",
    "            max_tokens = 1000 # Pass the generated messages\n",
    "        )\n",
    "        # Return the content from the API response correctly\n",
    "        return response.choices[0].message.content\n",
    "    except Exception as e:\n",
    "        # Instead of printing, return an error message that can be displayed\n",
    "        return f\"Error in OpenAI API call: {e}\""
   ]
  },
  {
   "cell_type": "code",
   "execution_count": 0,
   "metadata": {
    "application/vnd.databricks.v1+cell": {
     "cellMetadata": {},
     "inputWidgets": {},
     "nuid": "44959e0e-5f4a-4829-9771-3133a08f627b",
     "showTitle": false,
     "tableResultSettingsMap": {},
     "title": ""
    }
   },
   "outputs": [],
   "source": [
    "upload_widget = widgets.FileUpload(\n",
    "    accept='.pdf', \n",
    "    multiple=False,\n",
    "    description='Upload PDF',\n",
    "    layout=widgets.Layout(width='300px',height = '100px', border='2px dashed #cccccc', padding='10px')\n",
    ")"
   ]
  },
  {
   "cell_type": "code",
   "execution_count": 0,
   "metadata": {
    "application/vnd.databricks.v1+cell": {
     "cellMetadata": {},
     "inputWidgets": {},
     "nuid": "20aa2c67-0788-4638-ba8d-c83b24fbd477",
     "showTitle": false,
     "tableResultSettingsMap": {},
     "title": ""
    }
   },
   "outputs": [],
   "source": [
    "def extract_text_and_generate_summary(change):\n",
    "    print(\"extracting text\")\n",
    "    if upload_widget.value:\n",
    "        # Extract the first uploaded file\n",
    "        uploaded_file = list(upload_widget.value)[0]\n",
    "        pdf_file = uploaded_file['content']\n",
    "\n",
    "        # Extract text from the PDF\n",
    "        try:\n",
    "            with pdfplumber.open(BytesIO(pdf_file)) as pdf:\n",
    "                extracted_text = \"\\n\".join(page.extract_text() for page in pdf.pages)\n",
    "\n",
    "            # Generate the user prompt\n",
    "            user_prompt = (\n",
    "                f\"You are looking at the text from a research paper. Summarize it in no more than 1000 words. \"\n",
    "                f\"The output should be in markdown.\\n\\n{extracted_text}\"\n",
    "            )\n",
    "\n",
    "            # Get the summarized response\n",
    "            response = summarize(user_prompt)\n",
    "            \n",
    "            if response:\n",
    "                # Use IPython's display method to show markdown below the cell\n",
    "                display(Markdown(response))\n",
    "        \n",
    "        except Exception as e:\n",
    "            # If there's an error, display it using Markdown\n",
    "            display(Markdown(f\"**Error:** {str(e)}\"))\n",
    "\n",
    "    # Reset the upload widget\n",
    "    upload_widget.value = ()"
   ]
  },
  {
   "cell_type": "code",
   "execution_count": 0,
   "metadata": {
    "application/vnd.databricks.v1+cell": {
     "cellMetadata": {},
     "inputWidgets": {},
     "nuid": "e31fad69-8962-48c3-b37f-8dd47895ef15",
     "showTitle": false,
     "tableResultSettingsMap": {},
     "title": ""
    }
   },
   "outputs": [],
   "source": [
    "upload_widget.observe(extract_text_and_generate_summary, names='value')"
   ]
  },
  {
   "cell_type": "code",
   "execution_count": 0,
   "metadata": {
    "application/vnd.databricks.v1+cell": {
     "cellMetadata": {},
     "inputWidgets": {},
     "nuid": "eeb0fc86-0be4-46fc-862e-44a8986a1c98",
     "showTitle": false,
     "tableResultSettingsMap": {},
     "title": ""
    }
   },
   "outputs": [],
   "source": [
    "display(upload_widget)"
   ]
  },
  {
   "cell_type": "code",
   "execution_count": 0,
   "metadata": {
    "application/vnd.databricks.v1+cell": {
     "cellMetadata": {},
     "inputWidgets": {},
     "nuid": "f1f00d84-41de-4ab4-afec-492efc8176c9",
     "showTitle": false,
     "tableResultSettingsMap": {},
     "title": ""
    }
   },
   "outputs": [],
   "source": []
  }
 ],
 "metadata": {
  "application/vnd.databricks.v1+notebook": {
   "computePreferences": null,
   "dashboards": [],
   "environmentMetadata": null,
   "inputWidgetPreferences": null,
   "language": "python",
   "notebookMetadata": {},
   "notebookName": "day-1-research-paper-summarizer-using -openai-api",
   "widgets": {}
  },
  "kernelspec": {
   "display_name": "Python 3 (ipykernel)",
   "language": "python",
   "name": "python3"
  },
  "language_info": {
   "name": "python"
  }
 },
 "nbformat": 4,
 "nbformat_minor": 0
}
