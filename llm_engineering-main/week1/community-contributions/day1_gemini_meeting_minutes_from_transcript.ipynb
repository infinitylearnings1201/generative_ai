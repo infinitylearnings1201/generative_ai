{
 "cells": [
  {
   "cell_type": "markdown",
   "metadata": {
    "application/vnd.databricks.v1+cell": {
     "cellMetadata": {},
     "inputWidgets": {},
     "nuid": "c515a4e8-0f11-4fca-a421-f5fdd7b05f79",
     "showTitle": false,
     "tableResultSettingsMap": {},
     "title": ""
    },
    "id": "99Z21wE7xpKS"
   },
   "source": [
    "# Getting MOM from call transcripts"
   ]
  },
  {
   "cell_type": "markdown",
   "metadata": {
    "application/vnd.databricks.v1+cell": {
     "cellMetadata": {},
     "inputWidgets": {},
     "nuid": "2f85a615-642e-47e8-8e8f-02cda0a60900",
     "showTitle": false,
     "tableResultSettingsMap": {},
     "title": ""
    },
    "id": "YZMeexE8M_Pp"
   },
   "source": [
    "Import necessary libraries"
   ]
  },
  {
   "cell_type": "code",
   "execution_count": 0,
   "metadata": {
    "application/vnd.databricks.v1+cell": {
     "cellMetadata": {},
     "inputWidgets": {},
     "nuid": "67ed361c-b400-405e-8887-576fd072d1c5",
     "showTitle": false,
     "tableResultSettingsMap": {},
     "title": ""
    },
    "id": "u5DCVg0Mxj5T"
   },
   "outputs": [],
   "source": [
    "# imports\n",
    "\n",
    "import os\n",
    "import requests\n",
    "\n",
    "from bs4 import BeautifulSoup\n",
    "from IPython.display import Markdown, display\n",
    "from openai import OpenAI\n"
   ]
  },
  {
   "cell_type": "code",
   "execution_count": 0,
   "metadata": {
    "application/vnd.databricks.v1+cell": {
     "cellMetadata": {},
     "inputWidgets": {},
     "nuid": "e77f0af2-c8e2-4f81-9c13-4505336ad7d1",
     "showTitle": false,
     "tableResultSettingsMap": {},
     "title": ""
    },
    "id": "i0V11JQ2az-C"
   },
   "outputs": [],
   "source": [
    "# Load environment variables in a file called .env\n",
    "\n",
    "#The below code can be uncommented in using .env file\n",
    "\n",
    "#from dotenv import load_dotenv\n",
    "#load_dotenv(override=True)\n",
    "#api_key = os.getenv('OPENAI_API_KEY')\n",
    "\n",
    "#I am using google colab to import api_key\n",
    "from google.colab import userdata\n",
    "api_key=userdata.get('gemini_api')\n",
    "\n",
    "# Check the key\n",
    "if not api_key:\n",
    "    print(\"No API key was found - please head over to the troubleshooting notebook in this folder to identify & fix!\")\n",
    "elif not api_key.startswith(\"sk-proj-\"):\n",
    "    print(\"An API key was found, but it doesn't start sk-proj-; please check you're using the right key - see troubleshooting notebook\")\n",
    "elif api_key.strip() != api_key:\n",
    "    print(\"An API key was found, but it looks like it might have space or tab characters at the start or end - please remove them - see troubleshooting notebook\")\n",
    "else:\n",
    "    print(\"API key found and looks good so far!\")"
   ]
  },
  {
   "cell_type": "code",
   "execution_count": 0,
   "metadata": {
    "application/vnd.databricks.v1+cell": {
     "cellMetadata": {},
     "inputWidgets": {},
     "nuid": "6e72ef0c-4013-47ed-ba9f-a7648091b00f",
     "showTitle": false,
     "tableResultSettingsMap": {},
     "title": ""
    },
    "id": "j6UTsnTEyWZ-"
   },
   "outputs": [],
   "source": [
    "# A class to represet Transcript\n",
    "from pathlib import Path\n",
    "class Transcript:\n",
    "    def __init__(self, file_path):\n",
    "        self.file_path=file_path\n",
    "        self.content=Path(file_path).read_text(encoding='utf-8')\n"
   ]
  },
  {
   "cell_type": "code",
   "execution_count": 0,
   "metadata": {
    "application/vnd.databricks.v1+cell": {
     "cellMetadata": {},
     "inputWidgets": {},
     "nuid": "e9c9faf9-9edd-49e6-8e44-91493d40bf4a",
     "showTitle": false,
     "tableResultSettingsMap": {},
     "title": ""
    },
    "id": "hquePU_mzZ7s"
   },
   "outputs": [],
   "source": [
    "# Source of the text file -\"https://raw.githubusercontent.com/GeminiLn/EarningsCall_Dataset/refs/heads/master/3M%20Company_20170425/Text.txt\"\n",
    "path = '/content/Text.txt' # Specify the path of file you want to use - format should be .txt\n",
    "t=Transcript(path)\n"
   ]
  },
  {
   "cell_type": "code",
   "execution_count": 0,
   "metadata": {
    "application/vnd.databricks.v1+cell": {
     "cellMetadata": {},
     "inputWidgets": {},
     "nuid": "de15fa53-845a-460f-845e-d5ab627e77de",
     "showTitle": false,
     "tableResultSettingsMap": {},
     "title": ""
    },
    "id": "ex5DB7M8L7KT"
   },
   "outputs": [],
   "source": [
    "\n",
    "system_prompt = \"You are expert at taking Meeting Notes & given the below transcript , create an MOM (Minutes of meeting)\""
   ]
  },
  {
   "cell_type": "code",
   "execution_count": 0,
   "metadata": {
    "application/vnd.databricks.v1+cell": {
     "cellMetadata": {},
     "inputWidgets": {},
     "nuid": "b275602d-32a2-4b35-8b3b-88af83ab928c",
     "showTitle": false,
     "tableResultSettingsMap": {},
     "title": ""
    },
    "id": "wcpJ34qfMKmV"
   },
   "outputs": [],
   "source": [
    "from google import genai\n",
    "from google.genai import types\n",
    "\n",
    "client = genai.Client(api_key=api_key)\n",
    "\n",
    "response = client.models.generate_content(\n",
    "    model=\"gemini-2.0-flash\",\n",
    "    config=types.GenerateContentConfig(\n",
    "        system_instruction=system_prompt,\n",
    "        max_output_tokens=500,\n",
    "        temperature=0.1\n",
    "        ),\n",
    "    contents=t.content,\n",
    ")\n",
    "\n",
    "print(response.text)"
   ]
  }
 ],
 "metadata": {
  "application/vnd.databricks.v1+notebook": {
   "computePreferences": null,
   "dashboards": [],
   "environmentMetadata": null,
   "inputWidgetPreferences": null,
   "language": "python",
   "notebookMetadata": {},
   "notebookName": "day1_gemini_meeting_minutes_from_transcript",
   "widgets": {}
  },
  "colab": {
   "provenance": []
  },
  "kernelspec": {
   "display_name": "Python 3",
   "name": "python3"
  },
  "language_info": {
   "name": "python"
  }
 },
 "nbformat": 4,
 "nbformat_minor": 0
}
