{
 "cells": [
  {
   "cell_type": "code",
   "execution_count": 0,
   "metadata": {
    "application/vnd.databricks.v1+cell": {
     "cellMetadata": {},
     "inputWidgets": {},
     "nuid": "22a3a31d-f5d1-4b33-aa55-ba5f9dfe538e",
     "showTitle": false,
     "tableResultSettingsMap": {},
     "title": ""
    }
   },
   "outputs": [],
   "source": [
    "# 1) Import Required Libraries \n",
    "\n",
    "import requests\n",
    "import gradio as gr\n",
    "\n",
    "# Deepseek only uses abstract summarization\n",
    "# This tool use DeepSeek API Endpoint\n",
    "\n",
    "# 2) Define the DeepSeek API Endpoint\n",
    "\n",
    "OLLAMA_URL = \"http://localhost:11434/api/generate\"\n",
    "\n",
    "# 3) Define the Summarization Function which can retrieve Information\n",
    "\n",
    "def summarize_text(text):\n",
    "    payload = {\n",
    "        \"model\": \"deepseek-r1\", #Here you can load whatever the model you have in your ollama(ex:deepseek-r1:1.5b,7b,8b,14b) I used 7b model here \n",
    "        \"prompt\": f\"Summarize the following text in **5 bullet points**:\\n\\n{text}\", #The prompt is here for tell commands for the llm to act \n",
    "        \"stream\": False  # Ensures the response is returned as a whole, not streamed\n",
    "    }\n",
    "\n",
    "    response = requests.post(OLLAMA_URL, json=payload) #Send Requests to deepseekAPI\n",
    "\n",
    "    if response.status_code == 200: #if server run correctly it return the result or it will give error\n",
    "        return response.json().get(\"response\", \"No summary generated.\")\n",
    "    else:\n",
    "        return f\"Error: {response.text}\"\n",
    "\n",
    "# 4) Create Gradio interface to design \n",
    "interface = gr.Interface(\n",
    "    fn=summarize_text,\n",
    "    inputs=gr.Textbox(lines=10, placeholder=\"Enter text to summarize\"),\n",
    "    outputs=gr.Textbox(label=\"Summarized Text\"),\n",
    "    #theme='NoCrypt/miku', #Theme for the Interface I used Hatsune Miku from HF \n",
    "    title=\"AI-Powered Text Summarizer\",\n",
    "    description=\"Enter a long text and DeepSeek AI will generate a concise summary.\"\n",
    ")\n",
    "\n",
    "# Launch the web app\n",
    "if __name__ == \"__main__\":\n",
    "    interface.launch()\n",
    "\n",
    "\n"
   ]
  }
 ],
 "metadata": {
  "application/vnd.databricks.v1+notebook": {
   "computePreferences": null,
   "dashboards": [],
   "environmentMetadata": null,
   "inputWidgetPreferences": null,
   "language": "python",
   "notebookMetadata": {},
   "notebookName": "Text-Summarizer",
   "widgets": {}
  },
  "kernelspec": {
   "display_name": "base",
   "language": "python",
   "name": "python3"
  },
  "language_info": {
   "name": "python"
  }
 },
 "nbformat": 4,
 "nbformat_minor": 0
}
