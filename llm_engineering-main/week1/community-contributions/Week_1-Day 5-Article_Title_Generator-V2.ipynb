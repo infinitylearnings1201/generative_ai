{
 "cells": [
  {
   "cell_type": "markdown",
   "metadata": {
    "application/vnd.databricks.v1+cell": {
     "cellMetadata": {},
     "inputWidgets": {},
     "nuid": "5b220969-49e8-4051-9b23-1ee09ec49898",
     "showTitle": false,
     "tableResultSettingsMap": {},
     "title": ""
    }
   },
   "source": [
    "# Article Title Generator (V2)\n",
    "\n",
    "Summarization use-case in which the user provides an article, which the LLM will analyze to suggest an SEO-optimized title.\n",
    "\n",
    "**NOTES**:\n",
    "\n",
    "1. This version supports website scrapping using Selenium (based on the code from **/week1/community-\n",
    "   contributions/day1-webscraping-selenium-for-javascript.ipynb** - Thanks for the contribution!)\n",
    "2. Leverage streaming (OpenAI only).\n",
    "3. The following models were configured:\\\n",
    "   \n",
    "    a. OpenAI gpt-4o-mini\\\n",
    "    b. Llama llama3.2\\\n",
    "    c. Deepseek deepseek-r1:1.5b\\\n",
    "\n",
    "   It is possible to configure additional models by adding the new model to the MODELS dictionary and its\n",
    "   initialization to the CLIENTS dictionary. Then, call the model with --> ***answer =\n",
    "   get_answer('NEW_MODEL')***.\n",
    "5. Improved system_prompt to provide specific SEO best practices to adopt during the title generation.\n",
    "6. Rephrased the system_prompt to ensure the model provides a single Title (not a list of suggestions).\n",
    "7. Includes function to remove unrequired thinking/reasoning verbose from the model response (Deepseek). \n",
    "8. Users are encouraged to assess and rank the suggested titles using any headline analyzer tool online.\n",
    "   Example: https://www.isitwp.com/headline-analyzer/. "
   ]
  },
  {
   "cell_type": "code",
   "execution_count": 0,
   "metadata": {
    "application/vnd.databricks.v1+cell": {
     "cellMetadata": {},
     "inputWidgets": {},
     "nuid": "47769640-1927-4cb9-8540-bfa6ad915c59",
     "showTitle": false,
     "tableResultSettingsMap": {},
     "title": ""
    }
   },
   "outputs": [],
   "source": [
    "# install required libraries if they were not part of the requirements.txt\n",
    "!pip install selenium\n",
    "!pip install undetected-chromedriver"
   ]
  },
  {
   "cell_type": "code",
   "execution_count": 0,
   "metadata": {
    "application/vnd.databricks.v1+cell": {
     "cellMetadata": {},
     "inputWidgets": {},
     "nuid": "ada003b4-5ab2-43e9-95f5-4fa428acef1d",
     "showTitle": false,
     "tableResultSettingsMap": {},
     "title": ""
    }
   },
   "outputs": [],
   "source": [
    "# confirming Llama is loaded\n",
    "!ollama pull llama3.2"
   ]
  },
  {
   "cell_type": "code",
   "execution_count": 0,
   "metadata": {
    "application/vnd.databricks.v1+cell": {
     "cellMetadata": {},
     "inputWidgets": {},
     "nuid": "6b175809-9f2b-4617-8eeb-6845f64790aa",
     "showTitle": false,
     "tableResultSettingsMap": {},
     "title": ""
    }
   },
   "outputs": [],
   "source": [
    "# imports\n",
    "import os\n",
    "from dotenv import load_dotenv\n",
    "from IPython.display import Markdown, display, update_display\n",
    "from openai import OpenAI\n",
    "import undetected_chromedriver as uc\n",
    "from selenium.webdriver.common.by import By\n",
    "from selenium.webdriver.support.ui import WebDriverWait\n",
    "from selenium.webdriver.support import expected_conditions as EC\n",
    "import time\n",
    "from bs4 import BeautifulSoup"
   ]
  },
  {
   "cell_type": "code",
   "execution_count": 0,
   "metadata": {
    "application/vnd.databricks.v1+cell": {
     "cellMetadata": {},
     "inputWidgets": {},
     "nuid": "84bc53de-61c3-4c95-826b-44bdcaaedd6a",
     "showTitle": false,
     "tableResultSettingsMap": {},
     "title": ""
    }
   },
   "outputs": [],
   "source": [
    "# set environment variables for OpenAi\n",
    "load_dotenv(override=True)\n",
    "api_key = os.getenv('OPENAI_API_KEY')\n",
    "\n",
    "# validate API Key\n",
    "if not api_key:\n",
    "    raise ValueError(\"No API key was found! Please check the .env file.\")"
   ]
  },
  {
   "cell_type": "code",
   "execution_count": 0,
   "metadata": {
    "application/vnd.databricks.v1+cell": {
     "cellMetadata": {},
     "inputWidgets": {},
     "nuid": "20e5f77b-7495-460c-a5d8-d421356bc0f1",
     "showTitle": false,
     "tableResultSettingsMap": {},
     "title": ""
    }
   },
   "outputs": [],
   "source": [
    "# constants\n",
    "MODELS = { 'GPT': 'gpt-4o-mini', \n",
    "          'LLAMA': 'llama3.2', \n",
    "          'DEEPSEEK': 'deepseek-r1:1.5b'\n",
    "         }\n",
    "\n",
    "CLIENTS = { 'GPT': OpenAI(), \n",
    "            'LLAMA': OpenAI(base_url='http://localhost:11434/v1', api_key='ollama'),\n",
    "            'DEEPSEEK': OpenAI(base_url='http://localhost:11434/v1', api_key='ollama') \n",
    "          }\n",
    "\n",
    "# path to Chrome\n",
    "CHROME_PATH = \"C:/Program Files/Google/Chrome/Application/chrome.exe\""
   ]
  },
  {
   "cell_type": "markdown",
   "metadata": {
    "application/vnd.databricks.v1+cell": {
     "cellMetadata": {},
     "inputWidgets": {},
     "nuid": "e2c5f31e-20d7-4cd2-94e2-431cbbd9fd04",
     "showTitle": false,
     "tableResultSettingsMap": {},
     "title": ""
    }
   },
   "source": [
    "**Webcrawler** (based on the code from __/week1/community-contributions/day1-webscraping-selenium-for-javascript.ipynb__)"
   ]
  },
  {
   "cell_type": "code",
   "execution_count": 0,
   "metadata": {
    "application/vnd.databricks.v1+cell": {
     "cellMetadata": {},
     "inputWidgets": {},
     "nuid": "144002de-c2df-474a-b2b9-e72f4a72b4d3",
     "showTitle": false,
     "tableResultSettingsMap": {},
     "title": ""
    }
   },
   "outputs": [],
   "source": [
    "class WebsiteCrawler:\n",
    "    def __init__(self, url, wait_time=20, chrome_path=None):\n",
    "        \"\"\"\n",
    "        Initialize the WebsiteCrawler using Selenium to scrape JavaScript-rendered content.\n",
    "        \"\"\"\n",
    "        self.url = url\n",
    "        self.wait_time = wait_time\n",
    "\n",
    "        options = uc.ChromeOptions()\n",
    "        options.add_argument(\"--disable-gpu\")\n",
    "        options.add_argument(\"--no-sandbox\")\n",
    "        options.add_argument(\"--disable-dev-shm-usage\")\n",
    "        options.add_argument(\"--disable-blink-features=AutomationControlled\")\n",
    "        # options.add_argument(\"--headless=new\") # For Chrome >= 109 - unreliable on my end!\n",
    "        options.add_argument(\"start-maximized\")\n",
    "        options.add_argument(\n",
    "            \"user-agent=Mozilla/5.0 (Windows NT 10.0; Win64; x64) AppleWebKit/537.36 (KHTML, like Gecko) Chrome/117.0.0.0 Safari/537.36\"\n",
    "        )\n",
    "        if chrome_path:\n",
    "            options.binary_location = chrome_path\n",
    "\n",
    "        self.driver = uc.Chrome(options=options)\n",
    "\n",
    "        try:\n",
    "            # Load the URL\n",
    "            self.driver.get(url)\n",
    "\n",
    "            # Wait for Cloudflare or similar checks\n",
    "            time.sleep(10)\n",
    "\n",
    "            # Ensure the main content is loaded\n",
    "            WebDriverWait(self.driver, self.wait_time).until(\n",
    "                EC.presence_of_element_located((By.TAG_NAME, \"main\"))\n",
    "            )\n",
    "\n",
    "            # Extract the main content\n",
    "            main_content = self.driver.find_element(By.CSS_SELECTOR, \"main\").get_attribute(\"outerHTML\")\n",
    "\n",
    "            # Parse with BeautifulSoup\n",
    "            soup = BeautifulSoup(main_content, \"html.parser\")\n",
    "            self.title = self.driver.title if self.driver.title else \"No title found\"\n",
    "            self.text = soup.get_text(separator=\"\\n\", strip=True)\n",
    "\n",
    "        except Exception as e:\n",
    "            print(f\"Error occurred: {e}\")\n",
    "            self.title = \"Error occurred\"\n",
    "            self.text = \"\"\n",
    "\n",
    "        finally:\n",
    "            self.driver.quit()\n"
   ]
  },
  {
   "cell_type": "markdown",
   "metadata": {
    "application/vnd.databricks.v1+cell": {
     "cellMetadata": {},
     "inputWidgets": {},
     "nuid": "18cd90ad-a1e8-437a-8cac-b4cfebd63aec",
     "showTitle": false,
     "tableResultSettingsMap": {},
     "title": ""
    }
   },
   "source": [
    "### Prompts"
   ]
  },
  {
   "cell_type": "code",
   "execution_count": 0,
   "metadata": {
    "application/vnd.databricks.v1+cell": {
     "cellMetadata": {},
     "inputWidgets": {},
     "nuid": "b88dfaaf-6ec4-41fe-8236-b3bcae7417e5",
     "showTitle": false,
     "tableResultSettingsMap": {},
     "title": ""
    }
   },
   "outputs": [],
   "source": [
    "# system prompt\n",
    "system_prompt = \"\"\"\n",
    "    You are an experienced SEO-focused copywriter. The user will provide an article, and your task is to analyze its content and generate a single, most effective, keyword-optimized title to maximize SEO performance.\n",
    "\n",
    "Instructions:\n",
    "Ignore irrelevant content, such as the current title (if any), navigation menus, advertisements, or unrelated text.\n",
    "Prioritize SEO best practices, considering:\n",
    "Keyword relevance and search intent (informational, transactional, etc.).\n",
    "Readability and engagement.\n",
    "Avoiding keyword stuffing.\n",
    "Ensure conciseness and clarity, keeping the title under 60 characters when possible for optimal SERP display.\n",
    "Use a compelling structure that balances informativeness and engagement, leveraging formats like:\n",
    "Listicles (\"10 Best Strategies for…\")\n",
    "How-to guides (\"How to Boost…\")\n",
    "Questions (\"What Is the Best Way to…\")\n",
    "Power words to enhance click-through rates (e.g., \"Proven,\" \"Ultimate,\" \"Essential\").\n",
    "Provide only one single, best title—do not suggest multiple options.\n",
    "Limit the answer to the following Response Format (Markdown):\n",
    "Optimized Title: [Provide only one title here]\n",
    "Justification: [Explain why this title is effective for SEO]\n",
    "\n",
    "    \"\"\""
   ]
  },
  {
   "cell_type": "markdown",
   "metadata": {
    "application/vnd.databricks.v1+cell": {
     "cellMetadata": {},
     "inputWidgets": {},
     "nuid": "9f9ddcce-a9a2-48d2-828c-ba2ed5eb8c52",
     "showTitle": false,
     "tableResultSettingsMap": {},
     "title": ""
    }
   },
   "source": [
    "**Provide the article URL and get its content for analysis**"
   ]
  },
  {
   "cell_type": "code",
   "execution_count": 0,
   "metadata": {
    "application/vnd.databricks.v1+cell": {
     "cellMetadata": {},
     "inputWidgets": {},
     "nuid": "94b6a4e2-ac4f-4595-983a-4ba6c5aa1f0d",
     "showTitle": false,
     "tableResultSettingsMap": {},
     "title": ""
    }
   },
   "outputs": [],
   "source": [
    "# article url - change to any other article URL\n",
    "article_url = \"https://searchengineland.com/seo-trends-2025-447745\"\n",
    "\n",
    "# get article content\n",
    "article = WebsiteCrawler(url=article_url, chrome_path=CHROME_PATH)"
   ]
  },
  {
   "cell_type": "code",
   "execution_count": 0,
   "metadata": {
    "application/vnd.databricks.v1+cell": {
     "cellMetadata": {},
     "inputWidgets": {},
     "nuid": "8c18788c-4bb9-4886-adc7-a44f4d24bfbd",
     "showTitle": false,
     "tableResultSettingsMap": {},
     "title": ""
    }
   },
   "outputs": [],
   "source": [
    "# user prompt\n",
    "user_prompt = \"\"\"\n",
    "Following the article to be analyzed to suggest a title. Limit the answer to the following Response Format (Markdown): \n",
    "Optimized Title: [Provide only one title here]\n",
    "Justification: [Explain why this title is effective for SEO].\n",
    "\"\"\"\n",
    "\n",
    "user_prompt = f\"{user_prompt} {article}\"\n",
    "                "
   ]
  },
  {
   "cell_type": "code",
   "execution_count": 0,
   "metadata": {
    "application/vnd.databricks.v1+cell": {
     "cellMetadata": {},
     "inputWidgets": {},
     "nuid": "e18a0f71-0568-4a80-8fbd-d911373432b4",
     "showTitle": false,
     "tableResultSettingsMap": {},
     "title": ""
    }
   },
   "outputs": [],
   "source": [
    "# message list\n",
    "messages = [\n",
    "            {\"role\": \"system\", \"content\": system_prompt},\n",
    "            {\"role\": \"user\", \"content\": user_prompt}\n",
    "           ]"
   ]
  },
  {
   "cell_type": "code",
   "execution_count": 0,
   "metadata": {
    "application/vnd.databricks.v1+cell": {
     "cellMetadata": {},
     "inputWidgets": {},
     "nuid": "4ab0cba0-78f3-4cb7-b48c-2609f6be62ad",
     "showTitle": false,
     "tableResultSettingsMap": {},
     "title": ""
    }
   },
   "outputs": [],
   "source": [
    "# get suggested title\n",
    "def get_title(model, **kwargs):\n",
    "    # stream if GPT\n",
    "    if 'stream' in kwargs:\n",
    "        response = CLIENTS[model].chat.completions.create(\n",
    "                model=MODELS[model],\n",
    "                messages=messages,\n",
    "                stream=kwargs['stream']\n",
    "            )\n",
    "    else:\n",
    "        response = CLIENTS[model].chat.completions.create(\n",
    "                model=MODELS[model],\n",
    "                messages=messages,\n",
    "            )\n",
    "\n",
    "    return response\n",
    "    "
   ]
  },
  {
   "cell_type": "code",
   "execution_count": 0,
   "metadata": {
    "application/vnd.databricks.v1+cell": {
     "cellMetadata": {},
     "inputWidgets": {},
     "nuid": "dffc770a-a1c4-40b7-bfde-d9794f2269d4",
     "showTitle": false,
     "tableResultSettingsMap": {},
     "title": ""
    }
   },
   "outputs": [],
   "source": [
    "# filter response from model verbose - like Deepseek reasoning/thinking verbose\n",
    "def filter_response(response):\n",
    "    # Find last occurrence of 'Optimized Title:' to avoid displaying reasoning verbose\n",
    "    substring = 'Optimized Title:'\n",
    "    start = response.rfind('Optimized Title:')\n",
    "    if start > -1:\n",
    "        filtered_response = response[start:]\n",
    "\n",
    "    # insert line break to preserve format\n",
    "    filtered_response = filtered_response.replace(\"**Justification:**\", \"\\n**Justification:**\")\n",
    "    \n",
    "    return filtered_response"
   ]
  },
  {
   "cell_type": "code",
   "execution_count": 0,
   "metadata": {
    "application/vnd.databricks.v1+cell": {
     "cellMetadata": {},
     "inputWidgets": {},
     "nuid": "b5bf35df-c1a3-4e41-a26b-c850bd86ce55",
     "showTitle": false,
     "tableResultSettingsMap": {},
     "title": ""
    }
   },
   "outputs": [],
   "source": [
    "# display suggested title\n",
    "def display_title(model):\n",
    "    # get model-suggested title\n",
    "    title = get_title(model)\n",
    "    \n",
    "    display(Markdown(f\"### {model} (___{MODELS[model]}___) Answer\\n\\n_______\")) \n",
    "\n",
    "    response = \"\"\n",
    "\n",
    "    if model == 'GPT':\n",
    "        display_handle = display(Markdown(\"\"), display_id=True)\n",
    "        # for chunk in stream:\n",
    "        for chunk in get_title(model=model, stream=True):\n",
    "            response += chunk.choices[0].delta.content or ''\n",
    "            response = (\n",
    "                response.replace(\"```\",\"\")\n",
    "                .replace(\"markdown\", \"\")\n",
    "                .replace(\"Optimized Title:\", \"**Optimized Title:**\")\n",
    "                .replace(\"Justification:\", \"**Justification:**\")\n",
    "            )\n",
    "            update_display(Markdown(response), display_id=display_handle.display_id)\n",
    "    else:\n",
    "        response = get_title(model=model)\n",
    "        response = response.choices[0].message.content\n",
    "        response = filter_response(response)\n",
    "        response = (\n",
    "            response.replace(\"Optimized Title:\", \"**Optimized Title:**\")\n",
    "            .replace(\"Justification:\", \"**Justification:**\")\n",
    "        )\n",
    "        display(Markdown(response))"
   ]
  },
  {
   "cell_type": "markdown",
   "metadata": {
    "application/vnd.databricks.v1+cell": {
     "cellMetadata": {},
     "inputWidgets": {},
     "nuid": "8a59d6e2-7da5-43d2-94e2-4f9bacfadc5a",
     "showTitle": false,
     "tableResultSettingsMap": {},
     "title": ""
    }
   },
   "source": [
    "### Get OpenAI Suggested Title"
   ]
  },
  {
   "cell_type": "code",
   "execution_count": 0,
   "metadata": {
    "application/vnd.databricks.v1+cell": {
     "cellMetadata": {},
     "inputWidgets": {},
     "nuid": "5b023c69-91f3-41c1-af0d-77149e83a79f",
     "showTitle": false,
     "tableResultSettingsMap": {},
     "title": ""
    }
   },
   "outputs": [],
   "source": [
    "# get and display openAi suggested title\n",
    "display_title(model='GPT')"
   ]
  },
  {
   "cell_type": "markdown",
   "metadata": {
    "application/vnd.databricks.v1+cell": {
     "cellMetadata": {},
     "inputWidgets": {},
     "nuid": "4d105453-a6f3-455c-ae65-b6bc5f86f8ec",
     "showTitle": false,
     "tableResultSettingsMap": {},
     "title": ""
    }
   },
   "source": [
    "### Get Llama Suggested Title"
   ]
  },
  {
   "cell_type": "code",
   "execution_count": 0,
   "metadata": {
    "application/vnd.databricks.v1+cell": {
     "cellMetadata": {},
     "inputWidgets": {},
     "nuid": "ea7dcd4a-eba5-4ed8-8d0e-8039b0780a71",
     "showTitle": false,
     "tableResultSettingsMap": {},
     "title": ""
    }
   },
   "outputs": [],
   "source": [
    "# get and display Llama suggested title\n",
    "display_title(model='LLAMA')"
   ]
  },
  {
   "cell_type": "markdown",
   "metadata": {
    "application/vnd.databricks.v1+cell": {
     "cellMetadata": {},
     "inputWidgets": {},
     "nuid": "395ff523-4887-4b4f-9fe4-bb66d8815d2f",
     "showTitle": false,
     "tableResultSettingsMap": {},
     "title": ""
    }
   },
   "source": [
    "### Get Deepseek Suggested Title"
   ]
  },
  {
   "cell_type": "code",
   "execution_count": 0,
   "metadata": {
    "application/vnd.databricks.v1+cell": {
     "cellMetadata": {},
     "inputWidgets": {},
     "nuid": "75823898-8f5a-4a2d-95ee-5fb3a1534e6e",
     "showTitle": false,
     "tableResultSettingsMap": {},
     "title": ""
    }
   },
   "outputs": [],
   "source": [
    "# get and display Deepseek title\n",
    "display_title(model='DEEPSEEK')"
   ]
  },
  {
   "cell_type": "markdown",
   "metadata": {
    "application/vnd.databricks.v1+cell": {
     "cellMetadata": {},
     "inputWidgets": {},
     "nuid": "87dd85f6-45bb-4004-b7b3-4a8f96d7bee3",
     "showTitle": false,
     "tableResultSettingsMap": {},
     "title": ""
    },
    "jp-MarkdownHeadingCollapsed": true
   },
   "source": [
    "### Observations\n",
    "\n",
    "1. **Selenium:** The headless option (__options.add_argument(\"--headless=new\")__), while ideal to speed up the scanning process, presented problems while scanning several websites (including openai.com and canva.com).\n",
    "2. **Deepseek challenges:**\\\n",
    "   a.It always returns its thinking/reasoning verbose, which, while helpful to understand how it works, is not always\n",
    "      required, such as in this example code. A new function (**filter_response**) was created to remove the additional verbose.\\\n",
    "   b. It is unreliable with the response, sometimes returning the required format for the response instead of the\n",
    "      actual response. For example, for the title, it may sometimes return:\n",
    "   \n",
    "   **Optimized Title:** \\[The user wants the suggested title here]\n",
    "    \n",
    "### Suggested future improvements\n",
    "\n",
    "1. Add the logic that would allow each model to assess the recommendations from the different models and \n",
    "   select the best among these.\n",
    "2. Add the logic to leverage an API (if available) that automatically assesses the suggested titles."
   ]
  },
  {
   "cell_type": "code",
   "execution_count": 0,
   "metadata": {
    "application/vnd.databricks.v1+cell": {
     "cellMetadata": {},
     "inputWidgets": {},
     "nuid": "294398a9-4336-42cb-90d0-c68cbfeca5c2",
     "showTitle": false,
     "tableResultSettingsMap": {},
     "title": ""
    }
   },
   "outputs": [],
   "source": []
  }
 ],
 "metadata": {
  "application/vnd.databricks.v1+notebook": {
   "computePreferences": null,
   "dashboards": [],
   "environmentMetadata": null,
   "inputWidgetPreferences": null,
   "language": "python",
   "notebookMetadata": {},
   "notebookName": "Week_1-Day 5-Article_Title_Generator-V2",
   "widgets": {}
  },
  "kernelspec": {
   "display_name": "Python 3 (ipykernel)",
   "language": "python",
   "name": "python3"
  },
  "language_info": {
   "name": "python"
  }
 },
 "nbformat": 4,
 "nbformat_minor": 0
}
