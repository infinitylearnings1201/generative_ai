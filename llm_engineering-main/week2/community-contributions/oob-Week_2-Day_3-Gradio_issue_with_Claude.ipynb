{
 "cells": [
  {
   "cell_type": "markdown",
   "metadata": {
    "application/vnd.databricks.v1+cell": {
     "cellMetadata": {},
     "inputWidgets": {},
     "nuid": "536e0a50-62e4-4c5d-b047-72564402a1c5",
     "showTitle": false,
     "tableResultSettingsMap": {},
     "title": ""
    }
   },
   "source": [
    "### Issue with Gradio when using Claude for Conversational AI (chatbots)\n",
    "\n",
    "As explained in Day 3 (notebook), Gradio has been upgraded to pass in history in a format OpenAI accepts.\n",
    "\n",
    "This update simplifies the development work as Gradio manages the history in the background and provides a history structure that matches OpenAi. Fortunately, this works with other models that leverage the client libraries for OpenAI, such as Llama and Gemini. \n",
    "\n",
    "However, leveraging Gradio's ChatInterface while using Claude models generates a BadRequest error. \n",
    "\n",
    "In analyzing the history list from Gradio, it has the following  format:\n",
    "\n",
    "`{'role': 'assistant', 'metadata': None, 'content': '[assistant message here]', 'options': None}`\n",
    "\n",
    "OpenAi accepts this format without issues, as do other models such as Llama and Gemini - at least while leveraging the client libraries for OpenAI. They accept both formats. \n",
    "\n",
    "However, Claude's API requires the following format:\n",
    "\n",
    "`{'role': 'user', 'content': '[user message here]'}`\n",
    "\n",
    "Claude rejects anything different from this format.\n",
    "\n",
    "Run the code below to get the details! "
   ]
  },
  {
   "cell_type": "code",
   "execution_count": 0,
   "metadata": {
    "application/vnd.databricks.v1+cell": {
     "cellMetadata": {},
     "inputWidgets": {},
     "nuid": "7afad48c-e5f5-4063-bc29-a740c23019c9",
     "showTitle": false,
     "tableResultSettingsMap": {},
     "title": ""
    }
   },
   "outputs": [],
   "source": [
    "# imports\n",
    "\n",
    "import os\n",
    "from dotenv import load_dotenv\n",
    "from openai import OpenAI\n",
    "import google.generativeai\n",
    "import anthropic\n",
    "import gradio as gr\n",
    "from pprint import pprint # for a nicely formatted printout of a list"
   ]
  },
  {
   "cell_type": "code",
   "execution_count": 0,
   "metadata": {
    "application/vnd.databricks.v1+cell": {
     "cellMetadata": {},
     "inputWidgets": {},
     "nuid": "c5bdc75b-662a-457d-b53e-0a73c52809e8",
     "showTitle": false,
     "tableResultSettingsMap": {},
     "title": ""
    }
   },
   "outputs": [],
   "source": [
    "# set environment variables for OpenAi\n",
    "load_dotenv(override=True)\n",
    "openai_api_key = os.getenv('OPENAI_API_KEY')\n",
    "anthropic_api_key = os.getenv('ANTHROPIC_API_KEY')\n",
    "google_api_key = os.getenv('GOOGLE_API_KEY')\n",
    "\n",
    "# validate API Key\n",
    "if not openai_api_key:\n",
    "    raise ValueError(\"No OpenAI API key was found! Please check the .env file.\")\n",
    "else:\n",
    "    print(f\"OpenAI API Key exists and begins {openai_api_key[:8]}\")\n",
    "\n",
    "if not anthropic_api_key:\n",
    "    raise ValueError(\"No Anthropic API key was found! Please check the .env file.\")\n",
    "else:\n",
    "    print(f\"Anthropic API Key exists and begins {anthropic_api_key[:7]}\")\n",
    "\n",
    "if not google_api_key:\n",
    "    raise ValueError(\"No Gemini API key was found! Please check the .env file.\")\n",
    "else:\n",
    "    print(f\"Gemini API Key exists and begins {google_api_key[:8]}\")"
   ]
  },
  {
   "cell_type": "code",
   "execution_count": 0,
   "metadata": {
    "application/vnd.databricks.v1+cell": {
     "cellMetadata": {},
     "inputWidgets": {},
     "nuid": "c59d4178-637d-4a3f-8c47-cbf696f87681",
     "showTitle": false,
     "tableResultSettingsMap": {},
     "title": ""
    }
   },
   "outputs": [],
   "source": [
    "# constants\n",
    "MODELS = { 'GPT': 'gpt-4o-mini', \n",
    "          'LLAMA': 'llama3.2', \n",
    "          # 'DEEPSEEK': 'deepseek-r1:1.5b',\n",
    "          'CLAUDE': 'claude-3-haiku-20240307',\n",
    "          'GEMINI': 'gemini-2.0-flash-exp'\n",
    "         }\n",
    "\n",
    "CLIENTS = { 'GPT': OpenAI(), \n",
    "            'LLAMA': OpenAI(base_url='http://localhost:11434/v1', api_key='ollama'),\n",
    "            # 'DEEPSEEK': OpenAI(base_url='http://localhost:11434/v1', api_key='ollama'),\n",
    "            'CLAUDE': anthropic.Anthropic(),\n",
    "            'GEMINI': OpenAI(base_url=\"https://generativelanguage.googleapis.com/v1beta/openai/\", api_key=google_api_key)\n",
    "          }\n",
    "\n",
    "# system prompt\n",
    "system_message = \"You are a nice assistant that like to chat with users\"\n",
    "\n",
    "# to save/print the history structure\n",
    "console = []"
   ]
  },
  {
   "cell_type": "markdown",
   "metadata": {
    "application/vnd.databricks.v1+cell": {
     "cellMetadata": {},
     "inputWidgets": {},
     "nuid": "73f3d374-ac11-4110-ab92-cc70e9626549",
     "showTitle": false,
     "tableResultSettingsMap": {},
     "title": ""
    }
   },
   "source": [
    "#### Testing GPT\n",
    "\n",
    "This runs without issues. You may change the model to Llama or Gemini for further testing."
   ]
  },
  {
   "cell_type": "code",
   "execution_count": 0,
   "metadata": {
    "application/vnd.databricks.v1+cell": {
     "cellMetadata": {},
     "inputWidgets": {},
     "nuid": "5b008ea7-a8a6-497a-bc7b-0794bfccf7cf",
     "showTitle": false,
     "tableResultSettingsMap": {},
     "title": ""
    }
   },
   "outputs": [],
   "source": [
    "def gpt_chat(message, history):\n",
    "    # change to Llama or Gemini for test\n",
    "    model = 'GPT'\n",
    "\n",
    "    # add system message to history\n",
    "    if not history:\n",
    "        history.append({\"role\": \"system\", \"content\": system_message})\n",
    "\n",
    "    # conversation including new user message\n",
    "    messages = history + [{\"role\": \"user\", \"content\": message}]\n",
    "\n",
    "    # send request to OpenAi\n",
    "    response = CLIENTS[model].chat.completions.create(\n",
    "                model = MODELS[model],\n",
    "                max_tokens = 200,\n",
    "                messages = messages,\n",
    "            )\n",
    "\n",
    "    # save history structure\n",
    "    global console\n",
    "    console = history[:]\n",
    "    \n",
    "    # post in Gradio's chat interface\n",
    "    return response.choices[0].message.content"
   ]
  },
  {
   "cell_type": "markdown",
   "metadata": {
    "application/vnd.databricks.v1+cell": {
     "cellMetadata": {},
     "inputWidgets": {},
     "nuid": "591f6412-7eb2-42ea-8beb-7089c29592b7",
     "showTitle": false,
     "tableResultSettingsMap": {},
     "title": ""
    }
   },
   "source": [
    "##### Have a conversation of several messages (3 or more)"
   ]
  },
  {
   "cell_type": "code",
   "execution_count": 0,
   "metadata": {
    "application/vnd.databricks.v1+cell": {
     "cellMetadata": {},
     "inputWidgets": {},
     "nuid": "62f97332-e82e-4c09-a099-19829938d7d5",
     "showTitle": false,
     "tableResultSettingsMap": {},
     "title": ""
    }
   },
   "outputs": [],
   "source": [
    "# Gradio with GPT\n",
    "gr.ChatInterface(fn=gpt_chat, type=\"messages\", examples=[\"How are you today?\", \"Please, tell me a joke.\"]).launch()"
   ]
  },
  {
   "cell_type": "markdown",
   "metadata": {
    "application/vnd.databricks.v1+cell": {
     "cellMetadata": {},
     "inputWidgets": {},
     "nuid": "ca851f75-196d-4b1e-b0eb-86bec5f10270",
     "showTitle": false,
     "tableResultSettingsMap": {},
     "title": ""
    }
   },
   "source": [
    "##### Notice how the history structure includes both formats, and this is okay with OpenAi"
   ]
  },
  {
   "cell_type": "code",
   "execution_count": 0,
   "metadata": {
    "application/vnd.databricks.v1+cell": {
     "cellMetadata": {},
     "inputWidgets": {},
     "nuid": "b1a5a882-df2f-44d7-bc57-a38c1a5bcfea",
     "showTitle": false,
     "tableResultSettingsMap": {},
     "title": ""
    }
   },
   "outputs": [],
   "source": [
    "# audit console\n",
    "pprint(console)\n",
    "\n",
    "# empty list\n",
    "console.clear()"
   ]
  },
  {
   "cell_type": "markdown",
   "metadata": {
    "application/vnd.databricks.v1+cell": {
     "cellMetadata": {},
     "inputWidgets": {},
     "nuid": "f90b9bb5-7f17-40eb-a553-9f38b388f303",
     "showTitle": false,
     "tableResultSettingsMap": {},
     "title": ""
    }
   },
   "source": [
    "#### Testing with Claude\n",
    "\n",
    "This first test will generate a BadRequest error on the second message from the user. The first message sent follows the required format preventing errors."
   ]
  },
  {
   "cell_type": "code",
   "execution_count": 0,
   "metadata": {
    "application/vnd.databricks.v1+cell": {
     "cellMetadata": {},
     "inputWidgets": {},
     "nuid": "809621ec-4e11-471f-bd91-b2f3b08ca168",
     "showTitle": false,
     "tableResultSettingsMap": {},
     "title": ""
    }
   },
   "outputs": [],
   "source": [
    "# Chat using Gradio's history - generates error after the second message from user\n",
    "def claude_chat(message, history): # Gradio requires the history parameter, but it goes unused. \n",
    "    \n",
    "    # save history structure\n",
    "    global console\n",
    "    console = history[:]\n",
    "    \n",
    "    model = 'CLAUDE'\n",
    "\n",
    "     # conversation including new user message - this is why the first message does not generate an error\n",
    "    messages = history + [{\"role\": \"user\", \"content\": message}]\n",
    "\n",
    "    # send the request to Claude\n",
    "    response = CLIENTS[model].messages.create(\n",
    "        model = MODELS[model],\n",
    "        max_tokens = 200,\n",
    "        system = system_message,\n",
    "        messages = messages,\n",
    "    )\n",
    "    \n",
    "    # post in Gradio's chat interface\n",
    "    return response.content[0].text"
   ]
  },
  {
   "cell_type": "markdown",
   "metadata": {
    "application/vnd.databricks.v1+cell": {
     "cellMetadata": {},
     "inputWidgets": {},
     "nuid": "7a4711b7-9a8b-4a21-8dcb-0c47df182255",
     "showTitle": false,
     "tableResultSettingsMap": {},
     "title": ""
    }
   },
   "source": [
    "##### Have a conversation of several messages (3 or more)"
   ]
  },
  {
   "cell_type": "code",
   "execution_count": 0,
   "metadata": {
    "application/vnd.databricks.v1+cell": {
     "cellMetadata": {},
     "inputWidgets": {},
     "nuid": "e1c2b891-e350-4bb1-aefa-fbbd7b318eb0",
     "showTitle": false,
     "tableResultSettingsMap": {},
     "title": ""
    }
   },
   "outputs": [],
   "source": [
    "# Gradio with Claude\n",
    "gr.ChatInterface(fn=claude_chat, type=\"messages\", examples=[\"How are you today?\", \"Please, tell me a joke.\"]).launch()"
   ]
  },
  {
   "cell_type": "markdown",
   "metadata": {
    "application/vnd.databricks.v1+cell": {
     "cellMetadata": {},
     "inputWidgets": {},
     "nuid": "89852800-51d4-4ff9-b87c-071e60350aa4",
     "showTitle": false,
     "tableResultSettingsMap": {},
     "title": ""
    }
   },
   "source": [
    "##### Notice how the history structure changes for the second message. This cause a BadRequest error with Claude."
   ]
  },
  {
   "cell_type": "code",
   "execution_count": 0,
   "metadata": {
    "application/vnd.databricks.v1+cell": {
     "cellMetadata": {},
     "inputWidgets": {},
     "nuid": "3936c6fd-4b84-4db9-95f6-93a8bc9ad76e",
     "showTitle": false,
     "tableResultSettingsMap": {},
     "title": ""
    }
   },
   "outputs": [],
   "source": [
    "# audit console\n",
    "pprint(console)\n",
    "\n",
    "# empty list\n",
    "console.clear()"
   ]
  },
  {
   "cell_type": "markdown",
   "metadata": {
    "application/vnd.databricks.v1+cell": {
     "cellMetadata": {},
     "inputWidgets": {},
     "nuid": "188663af-7494-4b1e-9694-9944d8ee650a",
     "showTitle": false,
     "tableResultSettingsMap": {},
     "title": ""
    }
   },
   "source": [
    "##### Have a new conversation of several messages (3 or more), but this time leveraging a local history repository instead of Gradio's. \n",
    "\n",
    "The code leverages the list `console` as the local repository. Note that Gradio still requires the second parameter (history) is required even though it is not used. "
   ]
  },
  {
   "cell_type": "code",
   "execution_count": 0,
   "metadata": {
    "application/vnd.databricks.v1+cell": {
     "cellMetadata": {},
     "inputWidgets": {},
     "nuid": "99b98128-8536-44aa-ab38-9887c63008bc",
     "showTitle": false,
     "tableResultSettingsMap": {},
     "title": ""
    }
   },
   "outputs": [],
   "source": [
    "def claude_chat(message, history): # Gradio requires the history parameter, but it goes unused. \n",
    "    # local history repository instead of Gradio's \n",
    "    global console\n",
    "    model = 'CLAUDE'\n",
    "\n",
    "    # append new user message to history - using Claude's required format\n",
    "    console.append({\"role\": \"user\", \"content\": message})\n",
    "\n",
    "    # send the request to Claude\n",
    "    response = CLIENTS[model].messages.create(\n",
    "        model = MODELS[model],\n",
    "        max_tokens = 200,\n",
    "        system = system_message,\n",
    "        messages = console, # use local history repository\n",
    "    )\n",
    "\n",
    "    # append the assistant response to history - using Claude's required format\n",
    "    console.append({\"role\": \"assistant\", \"content\": response.content[0].text})\n",
    "\n",
    "    # post in Gradio's chat interface\n",
    "    return response.content[0].text"
   ]
  },
  {
   "cell_type": "code",
   "execution_count": 0,
   "metadata": {
    "application/vnd.databricks.v1+cell": {
     "cellMetadata": {},
     "inputWidgets": {},
     "nuid": "d3a6939b-8704-432d-b03d-8b4e7d3e0a16",
     "showTitle": false,
     "tableResultSettingsMap": {},
     "title": ""
    }
   },
   "outputs": [],
   "source": [
    "# Gradio with Claude\n",
    "gr.ChatInterface(fn=claude_chat, type=\"messages\", examples=[\"How are you today?\", \"Please, tell me a joke.\"]).launch()"
   ]
  },
  {
   "cell_type": "markdown",
   "metadata": {
    "application/vnd.databricks.v1+cell": {
     "cellMetadata": {},
     "inputWidgets": {},
     "nuid": "f7a0ed94-ff8a-4321-bba8-ddb54cda2029",
     "showTitle": false,
     "tableResultSettingsMap": {},
     "title": ""
    }
   },
   "source": [
    "##### Notice that the history structure follows the required format."
   ]
  },
  {
   "cell_type": "code",
   "execution_count": 0,
   "metadata": {
    "application/vnd.databricks.v1+cell": {
     "cellMetadata": {},
     "inputWidgets": {},
     "nuid": "0df6d6be-8baa-4d83-92c0-1d1c99cbb5df",
     "showTitle": false,
     "tableResultSettingsMap": {},
     "title": ""
    }
   },
   "outputs": [],
   "source": [
    "# audit console\n",
    "pprint(console)\n",
    "\n",
    "# empty list\n",
    "console.clear()"
   ]
  },
  {
   "cell_type": "markdown",
   "metadata": {
    "application/vnd.databricks.v1+cell": {
     "cellMetadata": {},
     "inputWidgets": {},
     "nuid": "2bbf31d7-9127-49bd-838d-3720cb4c1381",
     "showTitle": false,
     "tableResultSettingsMap": {},
     "title": ""
    }
   },
   "source": [
    "### Conclusion\n",
    "\n",
    "1. OpenAi (and models that leverage the client libraries for OpenAI) supports both formats for the conversation history.\n",
    "\n",
    "    (Gradio's) `{'role': 'assistant', 'metadata': None, 'content': '[assistant message here]', 'options': None}`\n",
    "\n",
    "    (Claude's) `{'role': 'user', 'content': '[user message here]'}`\n",
    "   \n",
    "2. Claude only supports the following format for the conversation history:\n",
    "\n",
    "    (Claude's) `{'role': 'user', 'content': '[user message here]'}`"
   ]
  },
  {
   "cell_type": "code",
   "execution_count": 0,
   "metadata": {
    "application/vnd.databricks.v1+cell": {
     "cellMetadata": {},
     "inputWidgets": {},
     "nuid": "5fcc346b-8e44-4225-9102-6415bd441d71",
     "showTitle": false,
     "tableResultSettingsMap": {},
     "title": ""
    }
   },
   "outputs": [],
   "source": []
  }
 ],
 "metadata": {
  "application/vnd.databricks.v1+notebook": {
   "computePreferences": null,
   "dashboards": [],
   "environmentMetadata": null,
   "inputWidgetPreferences": null,
   "language": "python",
   "notebookMetadata": {},
   "notebookName": "oob-Week_2-Day_3-Gradio_issue_with_Claude",
   "widgets": {}
  },
  "kernelspec": {
   "display_name": "Python 3 (ipykernel)",
   "language": "python",
   "name": "python3"
  },
  "language_info": {
   "name": "python"
  }
 },
 "nbformat": 4,
 "nbformat_minor": 0
}
