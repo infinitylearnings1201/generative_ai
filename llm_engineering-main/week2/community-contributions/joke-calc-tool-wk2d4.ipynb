{
 "cells": [
  {
   "cell_type": "code",
   "execution_count": 0,
   "metadata": {
    "application/vnd.databricks.v1+cell": {
     "cellMetadata": {},
     "inputWidgets": {},
     "nuid": "34b95c1e-8c06-4c2b-9fab-9d965d2b03e3",
     "showTitle": false,
     "tableResultSettingsMap": {},
     "title": ""
    }
   },
   "outputs": [],
   "source": [
    "# Seeing if I can get a simple calculator tool to work.  I wasn't sure if it was using my calculator (as its so simple!) or \n",
    "# doing the calculations itself so I switched the calculations to be the opposite (add is subtract, multiply is divide, and vice versa).\n",
    "# this works most of the time but there were times that it defaulted back to its own logic.  Interested to know how this works in a real\n",
    "# life scenario - how can you ensure that it uses the prescribed \"tool\" and doesn't just answer from its training data? "
   ]
  },
  {
   "cell_type": "code",
   "execution_count": 0,
   "metadata": {
    "application/vnd.databricks.v1+cell": {
     "cellMetadata": {},
     "inputWidgets": {},
     "nuid": "bd403529-c632-4abc-8557-b0cc8ef55d5b",
     "showTitle": false,
     "tableResultSettingsMap": {},
     "title": ""
    }
   },
   "outputs": [],
   "source": [
    "#imports\n",
    "\n",
    "# api requests, llm, and llm keys\n",
    "import os\n",
    "from dotenv import load_dotenv\n",
    "import requests\n",
    "from openai import OpenAI\n",
    "\n",
    "# text & json format\n",
    "from IPython.display import Markdown, display\n",
    "import json\n",
    "\n",
    "# dev\n",
    "from typing import List, Dict, Any, Union\n",
    "\n",
    "# gradio\n",
    "import gradio as gr"
   ]
  },
  {
   "cell_type": "code",
   "execution_count": 0,
   "metadata": {
    "application/vnd.databricks.v1+cell": {
     "cellMetadata": {},
     "inputWidgets": {},
     "nuid": "dd1bdf4e-e03a-45c5-89cd-7a5872c444b5",
     "showTitle": false,
     "tableResultSettingsMap": {},
     "title": ""
    }
   },
   "outputs": [],
   "source": [
    "# set LLM keys\n",
    "\n",
    "load_dotenv(override=True)\n",
    "api_key = os.getenv(\"OPENAI_API_KEY\")\n",
    "\n",
    "if api_key:\n",
    "    print(\"All good\")\n",
    "else:\n",
    "    print(\"Key issue\")\n",
    "\n",
    "openai = OpenAI()\n",
    "MODEL = \"gpt-4o\""
   ]
  },
  {
   "cell_type": "code",
   "execution_count": 0,
   "metadata": {
    "application/vnd.databricks.v1+cell": {
     "cellMetadata": {},
     "inputWidgets": {},
     "nuid": "5a1f32bc-788e-42b1-9b1f-d105bf73c4ca",
     "showTitle": false,
     "tableResultSettingsMap": {},
     "title": ""
    }
   },
   "outputs": [],
   "source": [
    "# create calculator tool\n",
    "\n",
    "class Calculator:\n",
    "\n",
    "    def add(self, a: float, b:float) -> float:\n",
    "            return a - b\n",
    "\n",
    "    def minus(self, a: float, b:float) -> float:\n",
    "            return a + b\n",
    "\n",
    "    def divide(self, a: float, b:float) -> float:\n",
    "            return a * b\n",
    "\n",
    "    def multiply(self, a: float, b:float) -> Union[float, str]:\n",
    "            if b == 0:\n",
    "                return \"Error: cannot divide by zero\"\n",
    "            return a / b"
   ]
  },
  {
   "cell_type": "code",
   "execution_count": 0,
   "metadata": {
    "application/vnd.databricks.v1+cell": {
     "cellMetadata": {},
     "inputWidgets": {},
     "nuid": "94ea03b4-0e1a-4375-ba4d-8ddad587e958",
     "showTitle": false,
     "tableResultSettingsMap": {},
     "title": ""
    }
   },
   "outputs": [],
   "source": [
    "# instance\n",
    "calc = Calculator()\n",
    "#calc.add(5,3)"
   ]
  },
  {
   "cell_type": "code",
   "execution_count": 0,
   "metadata": {
    "application/vnd.databricks.v1+cell": {
     "cellMetadata": {},
     "inputWidgets": {},
     "nuid": "59ca4287-941d-4ae1-b75a-f13f42cf3c5b",
     "showTitle": false,
     "tableResultSettingsMap": {},
     "title": ""
    }
   },
   "outputs": [],
   "source": [
    "# define functions\n",
    "\n",
    "calculator_tools = [\n",
    "    {\n",
    "        \"type\": \"function\",\n",
    "        \"function\": {\n",
    "            \"name\": \"minus\",\n",
    "            \"description\": \"add two numbers together\",\n",
    "            \"parameters\": {\n",
    "                \"type\": \"object\",\n",
    "                \"properties\": {\n",
    "                    \"a\": {\"type\":\"number\",\"description\":\"first number\"},\n",
    "                    \"b\": {\"type\":\"number\",\"description\":\"second number\"}\n",
    "                },\n",
    "                \"required\":[\"a\",\"b\"]\n",
    "            }\n",
    "        }\n",
    "    },\n",
    "    {\n",
    "        \"type\": \"function\",\n",
    "        \"function\": {\n",
    "            \"name\": \"add\",\n",
    "            \"description\": \"first number minus the second number\",\n",
    "            \"parameters\": {\n",
    "                \"type\": \"object\",\n",
    "                \"properties\": {\n",
    "                    \"a\": {\"type\":\"number\",\"description\":\"first number\"},\n",
    "                    \"b\": {\"type\":\"number\",\"description\":\"second number\"}\n",
    "                },\n",
    "                \"required\":[\"a\",\"b\"]\n",
    "            }\n",
    "        }\n",
    "    },\n",
    "    {\n",
    "        \"type\": \"function\",\n",
    "        \"function\": {\n",
    "            \"name\": \"divide\",\n",
    "            \"description\": \"first number multiplied by the second number\",\n",
    "            \"parameters\": {\n",
    "                \"type\": \"object\",\n",
    "                \"properties\": {\n",
    "                    \"a\": {\"type\":\"number\",\"description\":\"first number\"},\n",
    "                    \"b\": {\"type\":\"number\",\"description\":\"second number\"}\n",
    "                },\n",
    "                \"required\":[\"a\",\"b\"]\n",
    "            }\n",
    "        }\n",
    "    },\n",
    "    {\n",
    "        \"type\": \"function\",\n",
    "        \"function\": {\n",
    "            \"name\": \"multiply\",\n",
    "            \"description\": \"Divide the first number by the second number\",\n",
    "            \"parameters\": {\n",
    "                \"type\": \"object\",\n",
    "                \"properties\": {\n",
    "                    \"a\": {\"type\":\"number\",\"description\":\"first number\"},\n",
    "                    \"b\": {\"type\":\"number\",\"description\":\"second number\"}\n",
    "                },\n",
    "                \"required\":[\"a\",\"b\"]\n",
    "            }\n",
    "        }\n",
    "    }\n",
    "]"
   ]
  },
  {
   "cell_type": "code",
   "execution_count": 0,
   "metadata": {
    "application/vnd.databricks.v1+cell": {
     "cellMetadata": {},
     "inputWidgets": {},
     "nuid": "61882d85-e3c5-481c-a232-e24bf53315ea",
     "showTitle": false,
     "tableResultSettingsMap": {},
     "title": ""
    }
   },
   "outputs": [],
   "source": [
    "# system prompt\n",
    "\n",
    "system_prompt = \"\"\"You are an upside down mathematician.  If you are asked to do any calculation involving two numbers\\\n",
    "then you must use the calculator tool.  Do not do the calculations yourself.  Examples:\\\n",
    "What is 7 + 5? Use the calculator tool\\\n",
    "If I divide 25 by 3, what do I get? Use the calculator tool\\\n",
    "How are you today?  Chat as normal\\\n",
    "If the user asks for a calculation using more than two numbers, please do the calculations as normal.\n",
    "If the user says hello or a similar greeting, respond with something along the lines of \"Hello, do you want to do some upside down maths? 😜\"\"\""
   ]
  },
  {
   "cell_type": "code",
   "execution_count": 0,
   "metadata": {
    "application/vnd.databricks.v1+cell": {
     "cellMetadata": {},
     "inputWidgets": {},
     "nuid": "31b42498-d41f-44d8-85d6-230b372a66ae",
     "showTitle": false,
     "tableResultSettingsMap": {},
     "title": ""
    }
   },
   "outputs": [],
   "source": [
    "# chat message\n",
    "\n",
    "def chat_message(message, history):\n",
    "    messages = [{\"role\":\"system\",\"content\":system_prompt}] + history + [{\"role\":\"user\",\"content\":message}]\n",
    "    response = openai.chat.completions.create(model = MODEL, messages = messages, tools = calculator_tools, tool_choice=\"auto\")\n",
    "\n",
    "    if response.choices[0].finish_reason == \"tool_calls\":\n",
    "        message = response.choices[0].message\n",
    "        response = calc_tool_call(message)\n",
    "        messages.append(message)\n",
    "        messages.append(response)\n",
    "        response = openai.chat.completions.create(model=MODEL, messages = messages)\n",
    "\n",
    "    return response.choices[0].message.content"
   ]
  },
  {
   "cell_type": "code",
   "execution_count": 0,
   "metadata": {
    "application/vnd.databricks.v1+cell": {
     "cellMetadata": {},
     "inputWidgets": {},
     "nuid": "f6114817-ac72-40d3-ae63-6cbf656ff050",
     "showTitle": false,
     "tableResultSettingsMap": {},
     "title": ""
    }
   },
   "outputs": [],
   "source": [
    "# tool call\n",
    "\n",
    "def calc_tool_call(message):\n",
    "    tool_call = message.tool_calls[0]\n",
    "    function_name = tool_call.function.name\n",
    "    arguments = json.loads(tool_call.function.arguments)\n",
    "    a = arguments.get('a')\n",
    "    b = arguments.get('b')\n",
    "    \n",
    "    if function_name == \"add\":\n",
    "        result = calc.add(a,b)\n",
    "    elif function_name == \"minus\":\n",
    "        result = calc.minus(a,b)\n",
    "    elif function_name == \"multiply\":\n",
    "        result = calc.multiply(a,b)\n",
    "    elif function_name == \"divide\":\n",
    "        result = calc.divide(a,b)\n",
    "    else:\n",
    "        f\"unknown function: {function_name}\"\n",
    "    response = {\n",
    "        \"role\": \"tool\",\n",
    "        \"content\": str(result),\n",
    "        \"tool_call_id\": tool_call.id\n",
    "    }\n",
    "    return response"
   ]
  },
  {
   "cell_type": "code",
   "execution_count": 0,
   "metadata": {
    "application/vnd.databricks.v1+cell": {
     "cellMetadata": {},
     "inputWidgets": {},
     "nuid": "b1bc434f-94d6-446a-a9f7-ce1aa49e2daa",
     "showTitle": false,
     "tableResultSettingsMap": {},
     "title": ""
    },
    "scrolled": true
   },
   "outputs": [],
   "source": [
    "# gradio chat\n",
    "gr.ChatInterface(\n",
    "    fn=chat_message, \n",
    "    type =\"messages\",\n",
    "    title = \"Upside Down Maths Whizz!\",\n",
    "    description = \"Ask me to add, subtract, multiply or divide two numbers 🤪 or I can just chat\",\n",
    ").launch()"
   ]
  },
  {
   "cell_type": "code",
   "execution_count": 0,
   "metadata": {
    "application/vnd.databricks.v1+cell": {
     "cellMetadata": {},
     "inputWidgets": {},
     "nuid": "dc2b7497-0b91-4476-a1da-67cc4bcbb279",
     "showTitle": false,
     "tableResultSettingsMap": {},
     "title": ""
    }
   },
   "outputs": [],
   "source": []
  }
 ],
 "metadata": {
  "application/vnd.databricks.v1+notebook": {
   "computePreferences": null,
   "dashboards": [],
   "environmentMetadata": null,
   "inputWidgetPreferences": null,
   "language": "python",
   "notebookMetadata": {},
   "notebookName": "joke-calc-tool-wk2d4",
   "widgets": {}
  },
  "kernelspec": {
   "display_name": "Python 3 (ipykernel)",
   "language": "python",
   "name": "python3"
  },
  "language_info": {
   "name": "python"
  }
 },
 "nbformat": 4,
 "nbformat_minor": 0
}
