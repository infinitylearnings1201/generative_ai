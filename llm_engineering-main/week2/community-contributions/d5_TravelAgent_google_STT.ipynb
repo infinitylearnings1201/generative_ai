{
 "cells": [
  {
   "cell_type": "code",
   "execution_count": 0,
   "metadata": {
    "application/vnd.databricks.v1+cell": {
     "cellMetadata": {},
     "inputWidgets": {},
     "nuid": "2323c8e9-5172-4380-b16d-eaf72f0d6af2",
     "showTitle": false,
     "tableResultSettingsMap": {},
     "title": ""
    }
   },
   "outputs": [],
   "source": [
    "import os\n",
    "import json\n",
    "from dotenv import load_dotenv\n",
    "from openai import OpenAI\n",
    "import gradio as gr\n",
    "import random\n",
    "import re\n",
    "import base64\n",
    "from io import BytesIO\n",
    "from PIL import Image\n",
    "from IPython.display import Audio, display\n",
    "import speech_recognition as sr #requires pip install speechrecognition AND pip install pyaudio"
   ]
  },
  {
   "cell_type": "code",
   "execution_count": 0,
   "metadata": {
    "application/vnd.databricks.v1+cell": {
     "cellMetadata": {},
     "inputWidgets": {},
     "nuid": "8bebe012-0013-4a05-86e5-3d25bf6a4982",
     "showTitle": false,
     "tableResultSettingsMap": {},
     "title": ""
    }
   },
   "outputs": [],
   "source": [
    "load_dotenv()\n",
    "\n",
    "openai_api_key = os.getenv('OPENAI_API_KEY')\n",
    "if openai_api_key:\n",
    "    print(f\"OpenAI API Key exists and begins with {openai_api_key[:8]}\")\n",
    "else:\n",
    "    print(\"OpenAI API Key? As if!\")\n",
    "    \n",
    "MODEL = \"gpt-4o-mini\"\n",
    "openai = OpenAI()"
   ]
  },
  {
   "cell_type": "code",
   "execution_count": 0,
   "metadata": {
    "application/vnd.databricks.v1+cell": {
     "cellMetadata": {},
     "inputWidgets": {},
     "nuid": "5a064b56-1887-40a2-a1f1-92a0798f2b5b",
     "showTitle": false,
     "tableResultSettingsMap": {},
     "title": ""
    }
   },
   "outputs": [],
   "source": [
    "system_message = \"You are a helpful assistant for an Airline called FlightAI. \"\n",
    "system_message += \"Give short, courteous answers, no more than 1 sentence. \"\n",
    "system_message += \"Always be accurate. If you don't know the answer, say so. \"\n",
    "system_message += \"You can book flights directly. \"\n",
    "system_message += \"You can generate beautiful artistic renditions of the cities we fly to.\""
   ]
  },
  {
   "cell_type": "code",
   "execution_count": 0,
   "metadata": {
    "application/vnd.databricks.v1+cell": {
     "cellMetadata": {},
     "inputWidgets": {},
     "nuid": "359b4b61-d1cf-4b86-b83a-dd87a46dfc05",
     "showTitle": false,
     "tableResultSettingsMap": {},
     "title": ""
    }
   },
   "outputs": [],
   "source": [
    "# ticket price function\n",
    "\n",
    "#spelled-out currency notation for better tts rendition\n",
    "ticket_prices = {\"valletta\": \"799 Dollars\", \"turin\": \"899 Dollars\", \"sacramento\": \"1400 Dollars\", \"montreal\": \"499 Dollars\"}\n",
    "\n",
    "def get_ticket_price(destination_city):\n",
    "    print(f\"Tool get_ticket_price called for {destination_city}\")\n",
    "    city = destination_city.lower()\n",
    "    return ticket_prices.get(city, \"Unknown\")"
   ]
  },
  {
   "cell_type": "code",
   "execution_count": 0,
   "metadata": {
    "application/vnd.databricks.v1+cell": {
     "cellMetadata": {},
     "inputWidgets": {},
     "nuid": "a0905a7b-d7f7-4238-a098-1f1fb31e491e",
     "showTitle": false,
     "tableResultSettingsMap": {},
     "title": ""
    }
   },
   "outputs": [],
   "source": [
    "# travel booking function\n",
    "\n",
    "def book_flight(destination_city):\n",
    "    booking_code = ''.join(random.choice('0123456789BCDFXYZ') for i in range(2)) + ''.join(random.choice('012346789HIJKLMNOPQRS') for i in range(2)) + ''.join(random.choice('0123456789GHIJKLMNUOP') for i in range(2))\n",
    "    print(f\"Booking code {booking_code} generated for flight to {destination_city}.\")\n",
    "    \n",
    "    return booking_code"
   ]
  },
  {
   "cell_type": "code",
   "execution_count": 0,
   "metadata": {
    "application/vnd.databricks.v1+cell": {
     "cellMetadata": {},
     "inputWidgets": {},
     "nuid": "c2ad17a2-d45e-4603-b5d3-057b5be69105",
     "showTitle": false,
     "tableResultSettingsMap": {},
     "title": ""
    }
   },
   "outputs": [],
   "source": [
    "# verify if booking code is valid (i.e. follows the pattern)\n",
    "\n",
    "def check_code(code):\n",
    "    valid = \"valid\" if re.match(\"^[0123456789BCDFXYZ]{2}[012346789HIJKLMNOPQRS]{2}[0123456789GHIJKLMNUOP]{2}$\", code) != None else \"not valid\"\n",
    "    print(f\"Code checker called for code {code}, which is {valid}.\")\n",
    "    return re.match(\"^[0123456789BCDFXYZ]{2}[012346789HIJKLMNOPQRS]{2}[0123456789GHIJKLMNUOP]{2}$\", code) != None"
   ]
  },
  {
   "cell_type": "code",
   "execution_count": 0,
   "metadata": {
    "application/vnd.databricks.v1+cell": {
     "cellMetadata": {},
     "inputWidgets": {},
     "nuid": "75fd1017-a754-4d83-ba34-27e0f8c4988f",
     "showTitle": false,
     "tableResultSettingsMap": {},
     "title": ""
    }
   },
   "outputs": [],
   "source": [
    "# make a nice preview of the travel destination\n",
    "\n",
    "def artist(city):\n",
    "    image_response = openai.images.generate(\n",
    "        model=\"dall-e-3\",\n",
    "        prompt=f\"Make an image in the style of a vibrant, artistically filtered photo that is a collage of the best sights and views in {city}.\",\n",
    "        size=\"1024x1024\",\n",
    "        n=1,\n",
    "        response_format=\"b64_json\",\n",
    "    )\n",
    "    image_base64 = image_response.data[0].b64_json\n",
    "    image_data = base64.b64decode(image_base64)\n",
    "    img = Image.open(BytesIO(image_data))\n",
    "\n",
    "    img.save(\"img001.png\") #make them 4 cents count! .save is from PIL library, btw\n",
    "    \n",
    "    return img"
   ]
  },
  {
   "cell_type": "code",
   "execution_count": 0,
   "metadata": {
    "application/vnd.databricks.v1+cell": {
     "cellMetadata": {},
     "inputWidgets": {},
     "nuid": "0cc27f7f-0d09-4818-9804-2cd6581ada6b",
     "showTitle": false,
     "tableResultSettingsMap": {},
     "title": ""
    }
   },
   "outputs": [],
   "source": [
    "price_function = {\n",
    "    \"name\": \"get_ticket_price\",\n",
    "    \"description\": \"Get the price of a return ticket to the destination city. Call this whenever you need to know the ticket price, for example when a customer asks 'How much is a ticket to this city'\",\n",
    "    \"parameters\": {\n",
    "        \"type\": \"object\",\n",
    "        \"properties\": {\n",
    "            \"destination_city\": {\n",
    "                \"type\": \"string\",\n",
    "                \"description\": \"The city that the customer wants to travel to\",\n",
    "            },\n",
    "        },\n",
    "        \"required\": [\"destination_city\"],\n",
    "        \"additionalProperties\": False\n",
    "    }\n",
    "}"
   ]
  },
  {
   "cell_type": "code",
   "execution_count": 0,
   "metadata": {
    "application/vnd.databricks.v1+cell": {
     "cellMetadata": {},
     "inputWidgets": {},
     "nuid": "86497e70-c44b-43ec-b10e-d809d258245d",
     "showTitle": false,
     "tableResultSettingsMap": {},
     "title": ""
    }
   },
   "outputs": [],
   "source": [
    "booking_function = {\n",
    "    \"name\": \"book_flight\",\n",
    "    \"description\": \"Call this whenever you have to book a flight. Give it the destination city and you will get a booking code. Tell the customer \\\n",
    "that the flight is booked and give them the booking code obtained through this function. Never give any other codes to the customer.\",\n",
    "    \"parameters\": {\n",
    "        \"type\": \"object\",\n",
    "        \"properties\": {\n",
    "            \"destination_city\": {\n",
    "                \"type\": \"string\",\n",
    "                \"description\": \"The city that the customer wants to book their flight to\",\n",
    "            },\n",
    "        },\n",
    "        \"required\": [\"destination_city\"],\n",
    "        \"additionalProperties\": False\n",
    "    }\n",
    "}"
   ]
  },
  {
   "cell_type": "code",
   "execution_count": 0,
   "metadata": {
    "application/vnd.databricks.v1+cell": {
     "cellMetadata": {},
     "inputWidgets": {},
     "nuid": "2478d3d5-8c03-44df-9b5e-82afb47204fb",
     "showTitle": false,
     "tableResultSettingsMap": {},
     "title": ""
    }
   },
   "outputs": [],
   "source": [
    "artist_function = {\n",
    "    \"name\": \"artist\",\n",
    "    \"description\": \"Call this whenever you need to generate a picture, photo, or graphic impression of a city.\",\n",
    "    \"parameters\": {\n",
    "        \"type\": \"object\",\n",
    "        \"properties\": {\n",
    "            \"city\": {\n",
    "                \"type\": \"string\",\n",
    "                \"description\": \"The city of which an image is to be generated\",\n",
    "            },\n",
    "        },\n",
    "        \"required\": [\"city\"],\n",
    "        \"additionalProperties\": False\n",
    "    }\n",
    "}"
   ]
  },
  {
   "cell_type": "code",
   "execution_count": 0,
   "metadata": {
    "application/vnd.databricks.v1+cell": {
     "cellMetadata": {},
     "inputWidgets": {},
     "nuid": "7353930f-3911-4c52-a889-0851962b2ae0",
     "showTitle": false,
     "tableResultSettingsMap": {},
     "title": ""
    }
   },
   "outputs": [],
   "source": [
    "codecheck_function = {\n",
    "    \"name\": \"check_code\",\n",
    "    \"description\": \"Call this whenever you need to verify if a booking code for a flight (also called 'flight code', 'booking reference', \\\n",
    "or variations thereof) is valid.\",\n",
    "    \"parameters\": {\n",
    "        \"type\": \"object\",\n",
    "        \"properties\": {\n",
    "            \"code\": {\n",
    "                \"type\": \"string\",\n",
    "                \"description\": \"The code that you or the user needs to verify\",\n",
    "            },\n",
    "        },\n",
    "        \"required\": [\"code\"],\n",
    "        \"additionalProperties\": False\n",
    "    }\n",
    "}"
   ]
  },
  {
   "cell_type": "code",
   "execution_count": 0,
   "metadata": {
    "application/vnd.databricks.v1+cell": {
     "cellMetadata": {},
     "inputWidgets": {},
     "nuid": "7c56cca0-22eb-4605-8d44-33b4995faa42",
     "showTitle": false,
     "tableResultSettingsMap": {},
     "title": ""
    }
   },
   "outputs": [],
   "source": [
    "# List of tools:\n",
    "\n",
    "tools = [{\"type\": \"function\", \"function\": price_function}, {\"type\": \"function\", \"function\": booking_function}, {\"type\": \"function\", \"function\": codecheck_function}, {\"type\": \"function\", \"function\": artist_function}]"
   ]
  },
  {
   "cell_type": "code",
   "execution_count": 0,
   "metadata": {
    "application/vnd.databricks.v1+cell": {
     "cellMetadata": {},
     "inputWidgets": {},
     "nuid": "3d936a96-f00d-42e5-aae2-ecec67093bae",
     "showTitle": false,
     "tableResultSettingsMap": {},
     "title": ""
    }
   },
   "outputs": [],
   "source": [
    "# speech recognition (STT) by Google\n",
    "\n",
    "r = sr.Recognizer()\n",
    "\n",
    "def speech_to_text():\n",
    "    try:\n",
    "        with sr.Microphone() as source:\n",
    "            r.adjust_for_ambient_noise(source, duration=0.2)\n",
    "            speech = r.listen(source, 10, 5) #timeout of 10 seconds, listen for 5\n",
    "            text = r.recognize_google(speech)\n",
    "            print(f\"STT heard: \\\"{text}\\\"\")\n",
    "            return text\n",
    "\n",
    "    # sometimes, this STT fails. You'll see \"...\" as your input. Just try again even w/o re-starting Gradio.\n",
    "    except sr.RequestError as e:\n",
    "        print(f\"Could not request results; {0}\".format(e))\n",
    "        return \"…\"\n",
    "    except sr.UnknownValueError:\n",
    "        print(\"An unknown error occurred\")\n",
    "        return \"…\"\n",
    "    except sr.WaitTimeoutError:\n",
    "        print(\"Wait timed out\")\n",
    "        return \"…\""
   ]
  },
  {
   "cell_type": "code",
   "execution_count": 0,
   "metadata": {
    "application/vnd.databricks.v1+cell": {
     "cellMetadata": {},
     "inputWidgets": {},
     "nuid": "4348e5f4-3a9f-4016-8aa8-d3edea5659d1",
     "showTitle": false,
     "tableResultSettingsMap": {},
     "title": ""
    }
   },
   "outputs": [],
   "source": [
    "# TTS by OpenAI\n",
    "\n",
    "def talker(message):\n",
    "    response = openai.audio.speech.create(\n",
    "        model=\"tts-1\",\n",
    "        voice=\"onyx\",\n",
    "        input=message)\n",
    "\n",
    "    audio_stream = BytesIO(response.content)\n",
    "    output_filename = \"output_audio.mp3\"\n",
    "    with open(output_filename, \"wb\") as f:\n",
    "        f.write(audio_stream.read())\n",
    "\n",
    "    # Play the generated audio\n",
    "    display(Audio(output_filename, autoplay=True))"
   ]
  },
  {
   "cell_type": "code",
   "execution_count": 0,
   "metadata": {
    "application/vnd.databricks.v1+cell": {
     "cellMetadata": {},
     "inputWidgets": {},
     "nuid": "90c2a3e4-0e4f-4d13-873a-e19b21a43439",
     "showTitle": false,
     "tableResultSettingsMap": {},
     "title": ""
    }
   },
   "outputs": [],
   "source": [
    "def chat(history):\n",
    "    messages = [{\"role\": \"system\", \"content\": system_message}] + history\n",
    "    response = openai.chat.completions.create(model=MODEL, messages=messages, tools=tools)\n",
    "    image = None\n",
    "    \n",
    "    if response.choices[0].finish_reason==\"tool_calls\":\n",
    "        message = response.choices[0].message\n",
    "        responses = handle_tool_call(message)[0]\n",
    "        image = handle_tool_call(message)[1]\n",
    "        messages.append(message)\n",
    "        for response in responses:\n",
    "            messages.append(response)\n",
    "        response = openai.chat.completions.create(model=MODEL, messages=messages)\n",
    "        \n",
    "    reply = response.choices[0].message.content\n",
    "\n",
    "    # comment in if you want the replies read out to you. Mind the price!\n",
    "    #talker(reply) #current cost: $0.015 per 1000 characters (not tokens!)\n",
    "    \n",
    "    history += [{\"role\": \"assistant\", \"content\": reply}]\n",
    "    \n",
    "    return history, image"
   ]
  },
  {
   "cell_type": "code",
   "execution_count": 0,
   "metadata": {
    "application/vnd.databricks.v1+cell": {
     "cellMetadata": {},
     "inputWidgets": {},
     "nuid": "8f9c0f94-1a52-46b7-b38b-91bece383bdd",
     "showTitle": false,
     "tableResultSettingsMap": {},
     "title": ""
    }
   },
   "outputs": [],
   "source": [
    "def handle_tool_call(message):\n",
    "    responses = []\n",
    "    image = None\n",
    "    \n",
    "    for tool_call in message.tool_calls:\n",
    "        arguments = json.loads(tool_call.function.arguments)\n",
    "        indata = arguments[list(arguments.keys())[0]] # works for now because we only have one argument in each of our functions\n",
    "        function_name = tool_call.function.name\n",
    "        if function_name == 'get_ticket_price':\n",
    "            outdata = get_ticket_price(indata)\n",
    "            input_name = \"destination city\"\n",
    "            output_name = \"price\"\n",
    "        elif function_name == 'book_flight':\n",
    "            outdata = book_flight(indata)\n",
    "            input_name = \"destination city\"\n",
    "            output_name = \"booking code\"\n",
    "        elif function_name == \"check_code\":\n",
    "            outdata = check_code(indata)\n",
    "            input_name = \"booking code\"\n",
    "            output_name = \"validity\"\n",
    "        elif function_name == \"artist\":\n",
    "            image = artist(indata)\n",
    "            outdata = f\"artistic rendition of {indata}\"\n",
    "            input_name = \"city\"\n",
    "            output_name = \"image\"\n",
    "\n",
    "        responses.append({\n",
    "            \"role\": \"tool\",\n",
    "            \"content\": json.dumps({input_name: indata, output_name: outdata}),\n",
    "            \"tool_call_id\": tool_call.id\n",
    "        })\n",
    "\n",
    "    return responses, image"
   ]
  },
  {
   "cell_type": "code",
   "execution_count": 0,
   "metadata": {
    "application/vnd.databricks.v1+cell": {
     "cellMetadata": {},
     "inputWidgets": {},
     "nuid": "ea9011ad-e0ef-4521-9d75-8db34ccee076",
     "showTitle": false,
     "tableResultSettingsMap": {},
     "title": ""
    },
    "scrolled": true
   },
   "outputs": [],
   "source": [
    "## Gradio with 'fancy' buttons. Claude explained this css business to me, and geeksforgeeks.\n",
    "## see week2/community-contributions/day5_Careerhelper.ipynb for a much more competent version of this.\n",
    "\n",
    "with gr.Blocks(\n",
    "    css=\"\"\"\n",
    "    .red-button {\n",
    "        background-color: darkred !important;\n",
    "        border-color: red !important;\n",
    "    }\n",
    "    .blue-button {\n",
    "        background-color: darkblue !important;\n",
    "        border-color: blue !important;\n",
    "    }\n",
    "    \"\"\"\n",
    ") as ui:\n",
    "    with gr.Row():\n",
    "        chatbot = gr.Chatbot(height=500, type=\"messages\")\n",
    "        image_output = gr.Image(height=500)\n",
    "    with gr.Row():\n",
    "        entry = gr.Textbox(label=\"Chat with our AI Assistant:\")\n",
    "    with gr.Row():\n",
    "            speak = gr.Button(value=\"Speak to our AI Assistant\", elem_classes=\"blue-button\")\n",
    "            clear = gr.Button(value=\"Clear Chat\", elem_classes=\"red-button\")\n",
    "\n",
    "    def do_entry(message, history):\n",
    "        history += [{\"role\":\"user\", \"content\":message}]\n",
    "        return \"\", history\n",
    "\n",
    "    def listen(history):\n",
    "        message = speech_to_text()\n",
    "        history += [{\"role\":\"user\", \"content\":message}]\n",
    "        return history\n",
    "\n",
    "    entry.submit(do_entry, inputs=[entry, chatbot], outputs=[entry, chatbot]).then(\n",
    "        chat, inputs=chatbot, outputs=[chatbot, image_output]\n",
    "    )\n",
    "    \n",
    "    clear.click(lambda: None, inputs=None, outputs=chatbot, queue=False)\n",
    "    \n",
    "    speak.click(listen, inputs=chatbot, outputs=chatbot, queue=False).then(\n",
    "        chat, inputs=chatbot, outputs=[chatbot, image_output]\n",
    "    )\n",
    "\n",
    "ui.launch(inbrowser=True)"
   ]
  }
 ],
 "metadata": {
  "application/vnd.databricks.v1+notebook": {
   "computePreferences": null,
   "dashboards": [],
   "environmentMetadata": null,
   "inputWidgetPreferences": null,
   "language": "python",
   "notebookMetadata": {},
   "notebookName": "d5_TravelAgent_google_STT",
   "widgets": {}
  },
  "kernelspec": {
   "display_name": "Python 3 (ipykernel)",
   "language": "python",
   "name": "python3"
  },
  "language_info": {
   "name": "python"
  }
 },
 "nbformat": 4,
 "nbformat_minor": 0
}
