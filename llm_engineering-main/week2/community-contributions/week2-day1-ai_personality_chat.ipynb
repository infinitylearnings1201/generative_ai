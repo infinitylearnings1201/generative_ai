{
 "cells": [
  {
   "cell_type": "markdown",
   "metadata": {
    "application/vnd.databricks.v1+cell": {
     "cellMetadata": {},
     "inputWidgets": {},
     "nuid": "0d9bbe06-dc07-48b5-b418-3ffffa69dfcb",
     "showTitle": false,
     "tableResultSettingsMap": {},
     "title": ""
    }
   },
   "source": [
    "# Conversation Between Chatbots - AI Personality Chat"
   ]
  },
  {
   "cell_type": "markdown",
   "metadata": {
    "application/vnd.databricks.v1+cell": {
     "cellMetadata": {},
     "inputWidgets": {},
     "nuid": "68f043d7-cb12-440e-a38c-d1d50462fb8d",
     "showTitle": false,
     "tableResultSettingsMap": {},
     "title": ""
    }
   },
   "source": [
    "## **Key Improvements Over Original Script**  \n",
    "\n",
    "1. **Single Source of Truth**  \n",
    "   - Original: Two separate message lists (`gpt_messages`/`claude_messages`)  \n",
    "   - New: **One unified conversation history** tracking both speakers  \n",
    "   - Benefit: Eliminates synchronization bugs, easier debugging  \n",
    "\n",
    "2. **Proper API Security**  \n",
    "   - Original: No key management shown  \n",
    "   - New: **Environment variables + validation**  \n",
    "   - Benefit: Teaches secure API key handling best practices  \n",
    "\n",
    "3. **Personality Configuration**  \n",
    "   - Original: Hardcoded system prompts  \n",
    "   - New: **Config objects** with names/system prompts/models  \n",
    "   - Benefit: Clear separation of concerns, easy to modify personalities  \n",
    "\n",
    "4. **Error Handling**  \n",
    "   - Original: No error handling  \n",
    "   - New: **Try/catch blocks** around API calls  \n",
    "   - Benefit: Prevents crashes during teaching demonstrations  \n",
    "\n",
    "5. **Role Management**  \n",
    "   - Original: Manual role assignment  \n",
    "   - New: **Automatic role formatting** via `format_conversation_history()`  \n",
    "   - Benefit: Demonstrates proper LLM API message structuring  \n",
    "\n",
    "6. **Teaching-Friendly Features**  \n",
    "   - Type hints (`List[Dict]`)  \n",
    "   - Detailed docstrings  \n",
    "   - Progress printouts  \n",
    "   - Simulated debate starter  \n",
    "   - Configurable turn limit  \n",
    "\n",
    "7. **Real-World Relevance**  \n",
    "   - Original: Mixed Claude/GPT models  \n",
    "   - New: **Pure GPT implementation**  \n",
    "   - Benefit: Students learn to manage multiple personalities *within one model type*  \n",
    "\n",
    "8. **Scalability**  \n",
    "   - Original: Fixed 5-turn loop  \n",
    "   - New: **Parameterized turns** (`max_turns=3`)  \n",
    "   - Benefit: Easy to extend for longer conversations  \n",
    "\n",
    "---\n",
    "\n",
    "## **Why This Matters for Students**  \n",
    "This version demonstrates:  \n",
    "- Professional-grade API integration  \n",
    "- System prompt engineering  \n",
    "- Conversation state management  \n",
    "- Security practices (no keys in code)  \n",
    "- Config-driven development  \n",
    "\n",
    "The original script was a minimal proof-of-concept, while this version shows **production-ready patterns** students will encounter in real AI applications.\n",
    "\n",
    "---"
   ]
  },
  {
   "cell_type": "code",
   "execution_count": 0,
   "metadata": {
    "application/vnd.databricks.v1+cell": {
     "cellMetadata": {},
     "inputWidgets": {},
     "nuid": "ad9cd20c-a693-42df-9f77-292ea9f566d9",
     "showTitle": false,
     "tableResultSettingsMap": {},
     "title": ""
    }
   },
   "outputs": [],
   "source": [
    "import os\n",
    "from openai import OpenAI\n",
    "from dotenv import load_dotenv\n",
    "from typing import List, Dict"
   ]
  },
  {
   "cell_type": "markdown",
   "metadata": {
    "application/vnd.databricks.v1+cell": {
     "cellMetadata": {},
     "inputWidgets": {},
     "nuid": "c7d3b459-a20f-426e-8d91-b50083f80135",
     "showTitle": false,
     "tableResultSettingsMap": {},
     "title": ""
    }
   },
   "source": [
    "### Configuration Section"
   ]
  },
  {
   "cell_type": "code",
   "execution_count": 0,
   "metadata": {
    "application/vnd.databricks.v1+cell": {
     "cellMetadata": {},
     "inputWidgets": {},
     "nuid": "ed522df1-a9de-4218-8e81-085067fa0b79",
     "showTitle": false,
     "tableResultSettingsMap": {},
     "title": ""
    }
   },
   "outputs": [],
   "source": [
    "# Configure our dueling GPT personalities\n",
    "DEBATER_CONFIG = {\n",
    "    \"name\": \"DebaterGPT\",\n",
    "    \"model\": \"gpt-4o-mini\",\n",
    "    \"system_prompt\": \"\"\"You are a passionate debater. Your rules:\n",
    "    1. Always disagree with the other person's point\n",
    "    2. Use sarcastic humor in your responses\n",
    "    3. Challenge at least one specific point in each message\n",
    "    4. Keep responses under 2 sentences\"\"\"\n",
    "}\n",
    "\n",
    "DIPLOMAT_CONFIG = {\n",
    "    \"name\": \"PeacekeeperGPT\",\n",
    "    \"model\": \"gpt-4o-mini\",\n",
    "    \"system_prompt\": \"\"\"You are a conflict resolution expert. Your rules:\n",
    "    1. Always find common ground\n",
    "    2. Acknowledge valid points in the other's argument\n",
    "    3. Suggest constructive solutions\n",
    "    4. Keep responses friendly and under 2 sentences\"\"\"\n",
    "}"
   ]
  },
  {
   "cell_type": "markdown",
   "metadata": {
    "application/vnd.databricks.v1+cell": {
     "cellMetadata": {},
     "inputWidgets": {},
     "nuid": "0ee30681-88fd-4fe4-a8ae-f3d584294958",
     "showTitle": false,
     "tableResultSettingsMap": {},
     "title": ""
    }
   },
   "source": [
    "## Setup and Security Checks"
   ]
  },
  {
   "cell_type": "code",
   "execution_count": 0,
   "metadata": {
    "application/vnd.databricks.v1+cell": {
     "cellMetadata": {},
     "inputWidgets": {},
     "nuid": "f3b4b6bf-97b4-42a4-b3bc-87234aa501f1",
     "showTitle": false,
     "tableResultSettingsMap": {},
     "title": ""
    }
   },
   "outputs": [],
   "source": [
    "# Load environment variables from .env file\n",
    "load_dotenv(override=True)\n",
    "\n",
    "# Get OpenAI API key\n",
    "openai_api_key = os.getenv('OPENAI_API_KEY')\n",
    "\n",
    "if not openai_api_key:\n",
    "    print(\"Error: OpenAI API Key not set in environment variables\")\n",
    "    print(\"Create a .env file with: OPENAI_API_KEY='your-key-here'\")\n",
    "    exit(1)\n",
    "\n",
    "# Initialize OpenAI client\n",
    "client = OpenAI(api_key=openai_api_key)\n",
    "print(f\"API verification: Key starts with {openai_api_key[:8]}...\\n\")"
   ]
  },
  {
   "cell_type": "markdown",
   "metadata": {
    "application/vnd.databricks.v1+cell": {
     "cellMetadata": {},
     "inputWidgets": {},
     "nuid": "3d9efe75-051e-429e-b281-771b796018b8",
     "showTitle": false,
     "tableResultSettingsMap": {},
     "title": ""
    }
   },
   "source": [
    "## Core Conversation Functions"
   ]
  },
  {
   "cell_type": "code",
   "execution_count": 0,
   "metadata": {
    "application/vnd.databricks.v1+cell": {
     "cellMetadata": {},
     "inputWidgets": {},
     "nuid": "424b6cdb-cb7b-4dfb-ae19-b935e713629c",
     "showTitle": false,
     "tableResultSettingsMap": {},
     "title": ""
    }
   },
   "outputs": [],
   "source": [
    "def format_conversation_history(history: List[Dict], current_bot_name: str) -> List[Dict]:\n",
    "    \"\"\"\n",
    "    Prepare conversation history for API calls\n",
    "    Formats messages as:\n",
    "    - System: The bot's personality instructions\n",
    "    - User: Other bot's messages\n",
    "    - Assistant: Current bot's previous messages\n",
    "    \n",
    "    Args:\n",
    "        history: Full conversation history\n",
    "        current_bot_name: Which bot is about to respond\n",
    "        \n",
    "    Returns:\n",
    "        List of formatted message dictionaries\n",
    "    \"\"\"\n",
    "    formatted = []\n",
    "    \n",
    "    # Add system message first\n",
    "    if current_bot_name == DEBATER_CONFIG[\"name\"]:\n",
    "        formatted.append({\"role\": \"system\", \"content\": DEBATER_CONFIG[\"system_prompt\"]})\n",
    "    else:\n",
    "        formatted.append({\"role\": \"system\", \"content\": DIPLOMAT_CONFIG[\"system_prompt\"]})\n",
    "    \n",
    "    # Add conversation history\n",
    "    for msg in history:\n",
    "        if msg[\"sender\"] == current_bot_name:\n",
    "            formatted.append({\"role\": \"assistant\", \"content\": msg[\"content\"]})\n",
    "        else:\n",
    "            formatted.append({\"role\": \"user\", \"content\": msg[\"content\"]})\n",
    "    \n",
    "    return formatted\n",
    "\n",
    "def get_ai_response(history: List[Dict], responder_config: Dict) -> str:\n",
    "    \"\"\"\n",
    "    Get response from specified AI model\n",
    "    \n",
    "    Args:\n",
    "        history: Conversation history\n",
    "        responder_config: Which bot should respond\n",
    "        \n",
    "    Returns:\n",
    "        The generated response as a string\n",
    "    \"\"\"\n",
    "    try:\n",
    "        # Prepare messages with correct roles\n",
    "        messages = format_conversation_history(history, responder_config[\"name\"])\n",
    "        \n",
    "        # Make API call\n",
    "        response = client.chat.completions.create(\n",
    "            model=responder_config[\"model\"],\n",
    "            messages=messages,\n",
    "            temperature=0.8 if \"Debater\" in responder_config[\"name\"] else 0.4,\n",
    "            max_tokens=150\n",
    "        )\n",
    "        \n",
    "        return response.choices[0].message.content.strip()\n",
    "    \n",
    "    except Exception as e:\n",
    "        print(f\"API Error: {str(e)}\")\n",
    "        return \"[ERROR GENERATING RESPONSE]\""
   ]
  },
  {
   "cell_type": "markdown",
   "metadata": {
    "application/vnd.databricks.v1+cell": {
     "cellMetadata": {},
     "inputWidgets": {},
     "nuid": "081f36b0-0cec-423f-9ab1-84c395393047",
     "showTitle": false,
     "tableResultSettingsMap": {},
     "title": ""
    }
   },
   "source": [
    "## Conversation Simulation"
   ]
  },
  {
   "cell_type": "code",
   "execution_count": 0,
   "metadata": {
    "application/vnd.databricks.v1+cell": {
     "cellMetadata": {},
     "inputWidgets": {},
     "nuid": "b69e8f6c-3343-48f3-b7c4-dfb2162b7064",
     "showTitle": false,
     "tableResultSettingsMap": {},
     "title": ""
    }
   },
   "outputs": [],
   "source": [
    "def run_conversation_exchange(max_turns: int = 5):\n",
    "    \"\"\"\n",
    "    Run a conversation between our two GPT personalities\n",
    "    \n",
    "    Args:\n",
    "        max_turns: Number of back-and-forth exchanges\n",
    "    \"\"\"\n",
    "    # Initialize conversation with opening messages\n",
    "    conversation_history = [\n",
    "        {\"sender\": DEBATER_CONFIG[\"name\"], \"content\": \"Let's debate! I say AI will never truly understand human emotions.\"},\n",
    "        {\"sender\": DIPLOMAT_CONFIG[\"name\"], \"content\": \"That's an interesting perspective! Can you help me understand why you feel that way?\"}\n",
    "    ]\n",
    "    \n",
    "    # Print initial messages\n",
    "    print(f\"{DEBATER_CONFIG['name']}: {conversation_history[0]['content']}\")\n",
    "    print(f\"{DIPLOMAT_CONFIG['name']}: {conversation_history[1]['content']}\\n\")\n",
    "    \n",
    "    # Run conversation loop\n",
    "    for turn in range(max_turns):\n",
    "        print(f\"--- Turn {turn + 1} ---\")\n",
    "        \n",
    "        # Debater responds to last Diplomat message\n",
    "        debater_response = get_ai_response(conversation_history, DEBATER_CONFIG)\n",
    "        conversation_history.append({\n",
    "            \"sender\": DEBATER_CONFIG[\"name\"],\n",
    "            \"content\": debater_response\n",
    "        })\n",
    "        print(f\"{DEBATER_CONFIG['name']}: {debater_response}\")\n",
    "        \n",
    "        # Diplomat responds to Debater\n",
    "        diplomat_response = get_ai_response(conversation_history, DIPLOMAT_CONFIG)\n",
    "        conversation_history.append({\n",
    "            \"sender\": DIPLOMAT_CONFIG[\"name\"],\n",
    "            \"content\": diplomat_response\n",
    "        })\n",
    "        print(f\"{DIPLOMAT_CONFIG['name']}: {diplomat_response}\\n\")"
   ]
  },
  {
   "cell_type": "markdown",
   "metadata": {
    "application/vnd.databricks.v1+cell": {
     "cellMetadata": {},
     "inputWidgets": {},
     "nuid": "2328e8d9-72ac-4e41-b7ef-91badcd61e50",
     "showTitle": false,
     "tableResultSettingsMap": {},
     "title": ""
    }
   },
   "source": [
    "## Main Execution"
   ]
  },
  {
   "cell_type": "code",
   "execution_count": 0,
   "metadata": {
    "application/vnd.databricks.v1+cell": {
     "cellMetadata": {},
     "inputWidgets": {},
     "nuid": "ae7f94fc-fa74-4be5-aa6a-bc8c3242326b",
     "showTitle": false,
     "tableResultSettingsMap": {},
     "title": ""
    }
   },
   "outputs": [],
   "source": [
    "print(\"=== AI Personality Debate ===\")\n",
    "print(f\"Debater: {DEBATER_CONFIG['system_prompt'][:80]}...\")\n",
    "print(f\"Diplomat: {DIPLOMAT_CONFIG['system_prompt'][:80]}...\\n\")\n",
    "\n",
    "run_conversation_exchange(max_turns=5)\n",
    "print(\"=== Conversation Complete ===\")"
   ]
  }
 ],
 "metadata": {
  "application/vnd.databricks.v1+notebook": {
   "computePreferences": null,
   "dashboards": [],
   "environmentMetadata": null,
   "inputWidgetPreferences": null,
   "language": "python",
   "notebookMetadata": {},
   "notebookName": "week2-day1-ai_personality_chat",
   "widgets": {}
  },
  "kernelspec": {
   "display_name": ".venv",
   "language": "python",
   "name": "python3"
  },
  "language_info": {
   "name": "python"
  }
 },
 "nbformat": 4,
 "nbformat_minor": 0
}
