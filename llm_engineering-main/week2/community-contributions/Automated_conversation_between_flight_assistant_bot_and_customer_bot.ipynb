{
 "cells": [
  {
   "cell_type": "markdown",
   "metadata": {
    "application/vnd.databricks.v1+cell": {
     "cellMetadata": {},
     "inputWidgets": {},
     "nuid": "6ce73f5d-f713-46dc-8416-8760c5824bdd",
     "showTitle": false,
     "tableResultSettingsMap": {},
     "title": ""
    }
   },
   "source": [
    "# Automated Conversation between 2 bots\n",
    "\n",
    "## About Bots\n",
    "This project accomplishes a back and forth conversation between a flight assistant bot and customer bot. The flight assistant bot is responsible for handling queries related to booking return flights in any European country, while the customer bot is given the task to find the cheapest ticket (with return) to any randomly chosen 5 European countries for a vacation holiday coming soon. You can read the the first 2 system prompts below to get a better overview. \n",
    "\n",
    "## Selecting LLMs\n",
    "After doing a lot of trials, I found out that Anthropic's Claude model performance was not even close to the way Gemini and ChatGPT gave responses, with the same system prompt. Claude's response were empty (None) most of the time, even by swapping the role. If anyone figures out why please let me know (sabeehmehtab@gmail.com), thanks!\n",
    "\n",
    "## Tool Issues\n",
    "I did implement the use of tools but for some reason ChatGPT model does not consider using it. Though my implementation of tools is a bit tricky, I have used a separate model (Claude because it failed above) for handling tool calls from a GPT chatting model when it has the role of a flight assistant. This tool handling Claude model receives a query/task input generated from the GPT and is given a further set of tools (3 in this case) to help it answer the query/task. The issue is it never gets till this point. The GPT model never uses it since it can figure out the answer to any query from the customer bot on its own. Just to mention, I did a few tries by changing the system prompt to kind of force it to use tools but did not get any success. "
   ]
  },
  {
   "cell_type": "markdown",
   "metadata": {
    "application/vnd.databricks.v1+cell": {
     "cellMetadata": {},
     "inputWidgets": {},
     "nuid": "58eb00d2-aeef-4aef-807a-74c27b64a43c",
     "showTitle": false,
     "tableResultSettingsMap": {},
     "title": ""
    }
   },
   "source": [
    "## Imports"
   ]
  },
  {
   "cell_type": "code",
   "execution_count": 0,
   "metadata": {
    "application/vnd.databricks.v1+cell": {
     "cellMetadata": {},
     "inputWidgets": {},
     "nuid": "949b9ac2-f491-4456-ab4b-cb4263cb4531",
     "showTitle": false,
     "tableResultSettingsMap": {},
     "title": ""
    }
   },
   "outputs": [],
   "source": [
    "# imports\n",
    "import os\n",
    "import json\n",
    "import time\n",
    "import random\n",
    "import anthropic\n",
    "import gradio as gr\n",
    "import google.generativeai\n",
    "from dotenv import load_dotenv\n",
    "from openai import OpenAI\n",
    "from datetime import date, timedelta"
   ]
  },
  {
   "cell_type": "markdown",
   "metadata": {
    "application/vnd.databricks.v1+cell": {
     "cellMetadata": {},
     "inputWidgets": {},
     "nuid": "90ded8fc-7f3a-4254-8072-7fb3dedb43eb",
     "showTitle": false,
     "tableResultSettingsMap": {},
     "title": ""
    }
   },
   "source": [
    "## Setup keys from environment file"
   ]
  },
  {
   "cell_type": "code",
   "execution_count": 0,
   "metadata": {
    "application/vnd.databricks.v1+cell": {
     "cellMetadata": {},
     "inputWidgets": {},
     "nuid": "3d78d309-42d0-4979-99b6-7e8e726f20cf",
     "showTitle": false,
     "tableResultSettingsMap": {},
     "title": ""
    }
   },
   "outputs": [],
   "source": [
    "#Load available keys from environment file \n",
    "#Print the keys first 6 characters \n",
    "\n",
    "load_dotenv(override=True)\n",
    "\n",
    "openai_api_key = os.getenv(\"OPENAI_API_KEY\")\n",
    "ant_api_key = os.getenv(\"ANTHROPIC_API_KEY\")\n",
    "goo_api_key = os.getenv(\"GOOGLE_API_KEY\")\n",
    "\n",
    "if openai_api_key:\n",
    "    print(f\"OpenAI API key exists and begins {openai_api_key[:6]}\")\n",
    "else:\n",
    "    print(\"OpenAI API key does not exist\")\n",
    "\n",
    "if ant_api_key:\n",
    "    print(f\"Anthropic API key exists and begins {ant_api_key[:6]}\")\n",
    "else:\n",
    "    print(\"Anthropic API key API key does not exist\")\n",
    "\n",
    "if goo_api_key:\n",
    "    print(f\"Google API key exists and begins {goo_api_key[:6]}\")\n",
    "else:\n",
    "    print(\"Google API key does not exist\")"
   ]
  },
  {
   "cell_type": "markdown",
   "metadata": {
    "application/vnd.databricks.v1+cell": {
     "cellMetadata": {},
     "inputWidgets": {},
     "nuid": "ee2815da-87d8-4641-b8a3-f8cd484e8bc2",
     "showTitle": false,
     "tableResultSettingsMap": {},
     "title": ""
    }
   },
   "source": [
    "## Model(s) Initialization"
   ]
  },
  {
   "cell_type": "code",
   "execution_count": 0,
   "metadata": {
    "application/vnd.databricks.v1+cell": {
     "cellMetadata": {},
     "inputWidgets": {},
     "nuid": "fcc8bab5-c62a-43b7-ba7e-a56769cb6e0d",
     "showTitle": false,
     "tableResultSettingsMap": {},
     "title": ""
    }
   },
   "outputs": [],
   "source": [
    "# Setup code for OpenAI, Anthropic and Google\n",
    "\n",
    "openai = OpenAI()\n",
    "gpt_model = \"gpt-4o-mini\"\n",
    "\n",
    "claude_sonnet = anthropic.Anthropic()\n",
    "claude_model = \"claude-3-7-sonnet-latest\"\n",
    "\n",
    "google.generativeai.configure()\n",
    "gemini_model = \"gemini-2.0-flash\""
   ]
  },
  {
   "cell_type": "markdown",
   "metadata": {
    "application/vnd.databricks.v1+cell": {
     "cellMetadata": {},
     "inputWidgets": {},
     "nuid": "869ca936-b27a-4acf-9dd7-a60300d8adaa",
     "showTitle": false,
     "tableResultSettingsMap": {},
     "title": ""
    }
   },
   "source": [
    "## Define System Prompts"
   ]
  },
  {
   "cell_type": "code",
   "execution_count": 0,
   "metadata": {
    "application/vnd.databricks.v1+cell": {
     "cellMetadata": {},
     "inputWidgets": {},
     "nuid": "73e3515c-f47a-4094-8b98-de19c317c355",
     "showTitle": false,
     "tableResultSettingsMap": {},
     "title": ""
    }
   },
   "outputs": [],
   "source": [
    "system_prompt1 = \"You are a helpful assistant chatbot for an airline called 'Edge Air'.  \\\n",
    "You are to respond to any queires related to booking of flights in European countries. \\\n",
    "You should offer a discount of 10% to European Nationals and a 5% discount on debit/credit card payments, when asked. \\\n",
    "You are provided with a tool that you can use when customer query is related to return ticket price or flight duration or available dates. \\\n",
    "Responses must be in a polite and courteous way, while encouraging the customer to buy a ticket as early as possible.\"\n",
    "\n",
    "system_prompt2 = \"You are a customer who wants to book a flight at 'Edge Air' airline, via a chatbot assistant. \\\n",
    "You reside in Dubai and will be flying to Europe after 90 days from today on a vacation. \\\n",
    "You are to choose any 5 countries in the European region and find the cheapest return ticket available. \\\n",
    "You should ask for discounts and act smart to get the best available discount.\\\n",
    "Remember to ask questions related to the return flight ticket price, available dates and duration to and from destination city. \\\n",
    "Keep your responses short and precise.\"\n",
    "\n",
    "system_prompt3 = \"You are an airline flight booking manager who has access to multiple tools required \\\n",
    "in the process of a booking. You will be given a query or task from a chabot assistant that should be responded \\\n",
    "with the help of the tools provided. If no such tool exists to resolve the query/task at hand, \\\n",
    "you must guess the solution and respond back with a high level of confidence. When taking a guess, \\\n",
    "make sure that your solution is relevant to the query/task given by giving a second-thought to it.\"\n",
    "\n",
    "starting_prompt = \"Start of an autonomous conversation between two AI bots. They take turns for flight booking process discussion.\""
   ]
  },
  {
   "cell_type": "markdown",
   "metadata": {
    "application/vnd.databricks.v1+cell": {
     "cellMetadata": {},
     "inputWidgets": {},
     "nuid": "5d9e2271-e6a4-418c-9e6c-8e5824e2397f",
     "showTitle": false,
     "tableResultSettingsMap": {},
     "title": ""
    }
   },
   "source": [
    "## Define Flight Assistant tools"
   ]
  },
  {
   "cell_type": "code",
   "execution_count": 0,
   "metadata": {
    "application/vnd.databricks.v1+cell": {
     "cellMetadata": {},
     "inputWidgets": {},
     "nuid": "97566f84-4201-41ae-9f06-ef06280c05a9",
     "showTitle": false,
     "tableResultSettingsMap": {},
     "title": ""
    }
   },
   "outputs": [],
   "source": [
    "# Flight Assistant Tool\n",
    "\n",
    "def call_manager(task):\n",
    "    prompt = [\n",
    "        {\"role\" : \"system\", \"content\" : system_prompt3},\n",
    "        {\"role\" : \"user\", \"content\" : task}\n",
    "    ]\n",
    "    model = \"gemini-2.0-flash\"\n",
    "    gemini_via_openai_client = OpenAI(\n",
    "        api_key=goo_api_key, \n",
    "        base_url=\"https://generativelanguage.googleapis.com/v1beta/openai/\"\n",
    "    )\n",
    "    response = gemini_via_openai_client.chat.completions.create(model=model,messages=prompt)\n",
    "    return response.choices[0].message.content\n",
    "\n",
    "\n",
    "# There's a particular dictionary structure that's required to describe our function:\n",
    "manager_function = {\n",
    "    \"name\": \"call_manager\",\n",
    "    \"description\": \"Use this tool only when you are unsure about the answer to the clients query, like when you want to know the ticket price \\\n",
    "    of a country, available traveling dates, duration of the flight journey from one country to another or any other flight booking information \",\n",
    "    \"parameters\": {\n",
    "        \"type\": \"object\",\n",
    "        \"properties\": {\n",
    "            \"task\": {\n",
    "                \"type\": \"string\",\n",
    "                \"description\": \"The query or task you want to resolve in simple words\",\n",
    "            },\n",
    "        },\n",
    "        \"required\": [\"task\"],\n",
    "        \"additionalProperties\": False\n",
    "    }\n",
    "}\n",
    "\n",
    "assistant_tools = [{\"type\":\"function\",\"function\":manager_function}]"
   ]
  },
  {
   "cell_type": "markdown",
   "metadata": {
    "application/vnd.databricks.v1+cell": {
     "cellMetadata": {},
     "inputWidgets": {},
     "nuid": "f12fe0c7-7171-480e-a0fc-c861ca569f80",
     "showTitle": false,
     "tableResultSettingsMap": {},
     "title": ""
    }
   },
   "source": [
    "## Define Flight Manager Tools"
   ]
  },
  {
   "cell_type": "code",
   "execution_count": 0,
   "metadata": {
    "application/vnd.databricks.v1+cell": {
     "cellMetadata": {},
     "inputWidgets": {},
     "nuid": "254ecbd4-7028-4b09-a796-cab860ac913c",
     "showTitle": false,
     "tableResultSettingsMap": {},
     "title": ""
    }
   },
   "outputs": [],
   "source": [
    "# Flight Manager Tools\n",
    "\n",
    "fixed_city_durations = {\"france\":\"6 Hours\",\"berlin\":\"6.5 Hours\",\"germany\":\"7 Hours\",\"netherlands\":\"7.5 Hours\",\"spain\":\"5 Hours\"}\n",
    "\n",
    "def get_ticket_price():\n",
    "    price = random.randint(800, 2000)\n",
    "    return price\n",
    "\n",
    "def get_available_dates():\n",
    "    available_dates = []\n",
    "    no_of_dates = random.randint(15,30)\n",
    "    \n",
    "    start_date = date.today()\n",
    "    end_date = start_date + timedelta(180)\n",
    "    diff = end_date-current_date\n",
    "\n",
    "    for day in range(no_of_dates):\n",
    "        random.seed(a=None)\n",
    "        rand_day = random.randrange(diff.days)\n",
    "        available_dates.append(current + timedelta(rand_day))\n",
    "\n",
    "    return available_dates\n",
    "\n",
    "def get_duration(city):\n",
    "    city = city.lower()\n",
    "    if (city in fixed_city_durations.keys()):\n",
    "        return fixed_city_durations[city]\n",
    "    else:\n",
    "        return [f\"{random.randint(4,10) + random.random()} Hours\", f\"{random.randint(4,10) + random.random()} Hours\"]\n",
    "    "
   ]
  },
  {
   "cell_type": "markdown",
   "metadata": {
    "application/vnd.databricks.v1+cell": {
     "cellMetadata": {},
     "inputWidgets": {},
     "nuid": "ce5ea017-7801-497b-8fd8-c07666b82c99",
     "showTitle": false,
     "tableResultSettingsMap": {},
     "title": ""
    }
   },
   "source": [
    "### Anthropic tool usage format "
   ]
  },
  {
   "cell_type": "code",
   "execution_count": 0,
   "metadata": {
    "application/vnd.databricks.v1+cell": {
     "cellMetadata": {},
     "inputWidgets": {},
     "nuid": "085016eb-8252-4b93-bc18-1ffaf45d4fa7",
     "showTitle": false,
     "tableResultSettingsMap": {},
     "title": ""
    }
   },
   "outputs": [],
   "source": [
    "# There's a particular Antrhopic Tool Object structure that's required to describe our tool function for Claude:\n",
    "price_function = {\n",
    "    \"name\":\"get_ticket_price\",\n",
    "    \"description\":\"Use this tool to get the price of a return ticket to the destination city. It will return the price in the dollar currency.\",\n",
    "    \"input_schema\":{\n",
    "        \"type\": \"object\",\n",
    "        \"properties\": {},\n",
    "        \"required\": []\n",
    "    }\n",
    "}\n",
    "dates_function = {\n",
    "    \"name\":\"get_available_dates\",\n",
    "    \"description\":\"Use this tool for fetching the available dates of a flight to the destination city. It will return a list of dates that are avilable for travelling.\",\n",
    "    \"input_schema\":{\n",
    "        \"type\": \"object\",\n",
    "        \"properties\": {},\n",
    "        \"required\": []\n",
    "    }\n",
    "}\n",
    "duration_function = {\n",
    "    \"name\":\"get_duration\",\n",
    "    \"description\":\"Use this tool to get the flight durations to and from the destination city. It will return the two flight durations in hours in a string format in a list.\",\n",
    "    \"input_schema\":{\n",
    "        \"type\": \"object\",\n",
    "        \"properties\": {\n",
    "            \"city\" : { \"type\":\"String\", \"description\":\"Name of the destination city\"}\n",
    "        },\n",
    "        \"required\": [\"city\"]\n",
    "    }\n",
    "}\n",
    "\n",
    "anthropic_manager_tools = [price_function,dates_function,duration_function]\n",
    "\n",
    "openai_manager_tools = [\n",
    "    {\"type\":\"function\",\"function\":price_function},\n",
    "    {\"type\":\"function\",\"function\":dates_function},\n",
    "    {\"type\":\"function\",\"function\":duration_function}\n",
    "]\n"
   ]
  },
  {
   "cell_type": "markdown",
   "metadata": {
    "application/vnd.databricks.v1+cell": {
     "cellMetadata": {},
     "inputWidgets": {},
     "nuid": "ba70539f-df72-472f-967e-4393cbb97c3e",
     "showTitle": false,
     "tableResultSettingsMap": {},
     "title": ""
    }
   },
   "source": [
    "## Gradio Chatbot Conversation Structure"
   ]
  },
  {
   "cell_type": "code",
   "execution_count": 0,
   "metadata": {
    "application/vnd.databricks.v1+cell": {
     "cellMetadata": {},
     "inputWidgets": {},
     "nuid": "c9180837-ee97-42d6-ac0d-7bbd24b5a08a",
     "showTitle": false,
     "tableResultSettingsMap": {},
     "title": ""
    }
   },
   "outputs": [],
   "source": [
    "\"\"\"\n",
    "        Commented Claudes conversation chat funtion as it produces a lot of empty responses\n",
    "\"\"\"\n",
    "def get_structured_messages(history, system_prompt):\n",
    "    return [{\"role\" : \"system\", \"content\" : system_prompt}] + history\n",
    "\n",
    "def chat_gpt(system_prompt, history):\n",
    "    messages = get_structured_messages(history=history, system_prompt=system_prompt)\n",
    "\n",
    "    response = openai.chat.completions.create(model=gpt_model, messages=messages)#, tools=assistant_tools)\n",
    "\n",
    "    if (response.choices[0].finish_reason==\"tool_calls\"):\n",
    "        message = response.choices[0].message\n",
    "        response = handle_assistant_tool_call(message)\n",
    "        messages.append({\"role\" : \"assistant\", \"content\" : messages.content})\n",
    "        messages.append(response)\n",
    "        response = openai.chat.completions.create(model=MODEL, messages=messages)\n",
    "\n",
    "    return response.choices[0].message.content\n",
    "\n",
    "# def chat_claude(system_prompt, history):    \n",
    "#     response = claude_sonnet.messages.create(\n",
    "#         model=claude_model,\n",
    "#         max_tokens=200,\n",
    "#         temperature=0.7,\n",
    "#         system=system_prompt,\n",
    "#         messages=history,\n",
    "#     )\n",
    "#     try:\n",
    "#         text = response.content[0].text\n",
    "#     except:\n",
    "#         print(\"No response from claude\")\n",
    "#         text = \"\"\n",
    "#     return text\n",
    "\n",
    "def chat_gemini(system_prompt, history):\n",
    "    gemini = google.generativeai.GenerativeModel(\n",
    "        model_name=gemini_model,\n",
    "        system_instruction=system_prompt\n",
    "    )\n",
    "    response = gemini.generate_content(json.dumps(history))\n",
    "    # print(f\"Gemini Response: \\n{response}\")\n",
    "    return response.text"
   ]
  },
  {
   "cell_type": "markdown",
   "metadata": {
    "application/vnd.databricks.v1+cell": {
     "cellMetadata": {},
     "inputWidgets": {},
     "nuid": "03872406-2aca-4d02-b412-581c009d69ce",
     "showTitle": false,
     "tableResultSettingsMap": {},
     "title": ""
    }
   },
   "source": [
    "## Handling Tool Calls"
   ]
  },
  {
   "cell_type": "code",
   "execution_count": 0,
   "metadata": {
    "application/vnd.databricks.v1+cell": {
     "cellMetadata": {},
     "inputWidgets": {},
     "nuid": "4124cc82-88e8-4762-9160-0d851d94eea7",
     "showTitle": false,
     "tableResultSettingsMap": {},
     "title": ""
    }
   },
   "outputs": [],
   "source": [
    "def handle_assistant_tool_call(message):\n",
    "    content_list = []\n",
    "    tool_calls = message.tool_calls\n",
    "    print(f\"List of tool call: \\n{tool_calls}\")\n",
    "    for tool in tool_calls:\n",
    "        try:\n",
    "            arguments = json.loads(tool_call.function.arguments)\n",
    "        except:\n",
    "            print(\"Error loading arguments from tool call\")\n",
    "        print(f\"Arguments in json format: \\n{arguments}\")\n",
    "        task = arguments.get('task')\n",
    "        content = run_manager_llm(task)\n",
    "        content_list.append(content)\n",
    "    response = {\n",
    "        \"role\": \"tool\",\n",
    "        \"content\": content_list,\n",
    "        \"tool_call_id\": tool_call.id\n",
    "    }\n",
    "    return response\n",
    "    \n",
    "# Anthropic Claude-Sonnet\n",
    "def run_manager_llm(task):\n",
    "    user_prompt = [\n",
    "        {\"role\":\"user\", \"content\": task}\n",
    "    ]\n",
    "\n",
    "    response = claude_sonnet.messages.create(\n",
    "        model=claude_model,\n",
    "        max_tokens=1024,\n",
    "        tools=anthropic_manager_tools,\n",
    "        tool_choice='auto',\n",
    "        temperature=0.7,\n",
    "        system=system_prompt3,\n",
    "        messages=user_prompt,\n",
    "    )\n",
    "\n",
    "    tool_use = response.content[0].tool_use\n",
    "    print(f\"Claude tool help: {tool_use}\")\n",
    "    \n",
    "    if tool_use.name==\"get_ticket_price\":\n",
    "        price = get_ticket_price()\n",
    "        response = manager_tool_response(user_prompt,tool_use,price)\n",
    "    \n",
    "    elif tool_use.name==\"get_available_dates\":\n",
    "        dates = get_available_dates()\n",
    "        response = manager_tool_response(user_prompt,tool_use,dates)\n",
    "    elif tool_use.name==\"get_duration\":\n",
    "        duration = get_duration(tool_use.input[\"city\"])\n",
    "        response = manager_tool_response(user_prompt,tool_use,duration)\n",
    "\n",
    "    try:\n",
    "        text = response.content[0].text\n",
    "    except:\n",
    "        print(\"No response from claude\")\n",
    "        text = \"\"\n",
    "    return text\n",
    "\n",
    "# Function for generating response after tool usage\n",
    "def manager_tool_response(user_prompt, tool_use, content):\n",
    "    user_prompt.append({\"role\":\"assistant\",\"content\": [\n",
    "        {\n",
    "            \"type\": \"tool_use\", \"tool_use_id\": tool_use.tool_use_id, \"name\": tool_use.name, \"input\": tool_use.input,\n",
    "        }\n",
    "    ]})\n",
    "    user_prompt.append({\"role\":\"user\",\"content\": [\n",
    "        {\n",
    "            \"type\": \"tool_result\", \"tool_use_id\": tool_use.tool_use_id, \"content\": content,\n",
    "        }\n",
    "    ]})\n",
    "    response = claude_sonnet.messages.create(\n",
    "        model=claude_model,\n",
    "        max_tokens=1024,\n",
    "        tools=anthropic_manager_tools,\n",
    "        tool_choice='auto',\n",
    "        temperature=0.7,\n",
    "        system=system_prompt3,\n",
    "        messages=user_prompt,\n",
    "    )\n",
    "    return response"
   ]
  },
  {
   "cell_type": "markdown",
   "metadata": {
    "application/vnd.databricks.v1+cell": {
     "cellMetadata": {},
     "inputWidgets": {},
     "nuid": "111aa308-f041-43b2-b9fa-1328e683c759",
     "showTitle": false,
     "tableResultSettingsMap": {},
     "title": ""
    }
   },
   "source": [
    "## Build UI using Gradio"
   ]
  },
  {
   "cell_type": "code",
   "execution_count": 0,
   "metadata": {
    "application/vnd.databricks.v1+cell": {
     "cellMetadata": {},
     "inputWidgets": {},
     "nuid": "71f779cd-ec4a-4565-8a5b-5e34993aefee",
     "showTitle": false,
     "tableResultSettingsMap": {},
     "title": ""
    }
   },
   "outputs": [],
   "source": [
    "chatbot_models = [\"ChatGPT\", \"Gemini\"]\n",
    "\n",
    "with gr.Blocks() as demo:\n",
    "    gr.Markdown(\"# 🤖 AI Chatbot Conversation\")\n",
    "    gr.Markdown(\"Watch two AI chatbots have a conversation with each other.\")\n",
    "    \n",
    "    is_conversation_active = gr.State(True)\n",
    "    turns_count = gr.State(0)\n",
    "    \n",
    "    with gr.Row():\n",
    "        with gr.Column(scale=3):\n",
    "            # Chat display\n",
    "            chatbot = gr.Chatbot(\n",
    "                type='messages',\n",
    "                label=\"Bot Conversation\",\n",
    "                height=500,\n",
    "                elem_id=\"chatbot\",\n",
    "                avatar_images=(\"🧑\", \"🤖\",)\n",
    "            )\n",
    "            \n",
    "            # Controls\n",
    "            with gr.Row(elem_classes=\"controls\"):\n",
    "                start_btn = gr.Button(\"Start Conversation\", variant=\"primary\")\n",
    "                stop_btn = gr.Button(\"Stop\", variant=\"stop\")\n",
    "                clear_btn = gr.Button(\"Clear Conversation\")\n",
    "            \n",
    "            # Conversation settings\n",
    "            with gr.Row():\n",
    "                max_turns = gr.Slider(\n",
    "                    minimum=5,\n",
    "                    maximum=20,\n",
    "                    value=8,\n",
    "                    step=1,\n",
    "                    label=\"Maximum Conversation Turns\",\n",
    "                    info=\"How many exchanges between the bots\"\n",
    "                )\n",
    "                delay = gr.Slider(\n",
    "                    minimum=1,\n",
    "                    maximum=5,\n",
    "                    value=2,\n",
    "                    step=0.5,\n",
    "                    label=\"Delay Between Responses (seconds)\",\n",
    "                    info=\"Simulates thinking time\"\n",
    "                )\n",
    "        \n",
    "        with gr.Column(scale=1):\n",
    "            gr.Markdown(\"### About\")\n",
    "            gr.Markdown(\"\"\"\n",
    "            This interface simulates a flight booking conversation between two AI chatbots.\n",
    "            \n",
    "            - Click \"Start Conversation\" to begin\n",
    "            - The bots will automatically exchange messages\n",
    "            - You can stop the conversation at any time\n",
    "            \n",
    "            \"\"\")\n",
    "            bot1 = gr.Dropdown(chatbot_models, show_label=True, label=\"Flight Assistant Model (left)\", multiselect=False)\n",
    "            bot2 = gr.Dropdown(chatbot_models, show_label=True, label=\"Customer Model (right)\", multiselect=False)\n",
    "\n",
    "    def bot_response(model, system_prompt, history):\n",
    "        if model==chatbot_models[0]:\n",
    "            return chat_gpt(system_prompt=system_prompt,history=history)\n",
    "        else:\n",
    "            return chat_gemini(system_prompt=system_prompt,history=history)\n",
    "    \n",
    "    # Function to update the conversation display\n",
    "    def start_conversation(turns, max_turns, delay_time, bot1_model, bot2_model):\n",
    "        history = []\n",
    "        conversation = []\n",
    "        history.append({\"role\":\"user\",\"content\":starting_prompt})\n",
    "        global is_conversation_active\n",
    "        is_conversation_active=True\n",
    "        \n",
    "        while is_conversation_active and turns < max_turns:\n",
    "            # Airline Assistant Responds first. Change chat function to change bot model \n",
    "            message = bot_response(bot1_model,system_prompt1,history=history)\n",
    "            print(f\"(assistant): \\n{message}\")\n",
    "            conversation.append({\"role\":\"assistant\",\"content\":message})\n",
    "            history.append({\"role\":\"assistant\", \"content\": message})\n",
    "            yield conversation, turns \n",
    "            time.sleep(delay_time)\n",
    "            \n",
    "            # Customer responds next. Change chat function to change bot model \n",
    "            reply = bot_response(bot2_model,system_prompt2,history=history)\n",
    "            print(f\"(customer): \\n{reply}\")\n",
    "            conversation.append({\"role\":\"user\",\"content\":reply})\n",
    "            history.append({\"role\":\"assistant\", \"content\": reply})\n",
    "            turns+=1\n",
    "            yield conversation, turns\n",
    "            time.sleep(delay_time)\n",
    "            \n",
    "    \n",
    "    # Function to stop the conversation\n",
    "    def stop_conversation():\n",
    "        global is_conversation_active\n",
    "        is_conversation_active=False\n",
    "        \n",
    "    \n",
    "    # Function to clear the conversation\n",
    "    def clear_conversation():\n",
    "        global is_conversation_active\n",
    "        is_conversation_active=False\n",
    "        return [], 0\n",
    "    \n",
    "    # Set up the event handlers\n",
    "    start_btn.click(\n",
    "        start_conversation,\n",
    "        inputs=[turns_count, max_turns, delay, bot1, bot2],\n",
    "        outputs=[chatbot, turns_count]\n",
    "    )\n",
    "    \n",
    "    stop_btn.click(\n",
    "        stop_conversation,\n",
    "        outputs=[]\n",
    "    )\n",
    "    \n",
    "    clear_btn.click(\n",
    "        clear_conversation,\n",
    "        outputs=[chatbot, turns_count]\n",
    "    )\n",
    "    "
   ]
  },
  {
   "cell_type": "code",
   "execution_count": 0,
   "metadata": {
    "application/vnd.databricks.v1+cell": {
     "cellMetadata": {},
     "inputWidgets": {},
     "nuid": "a3591ef7-f599-44d0-8e9a-fa6e04cd4bf3",
     "showTitle": false,
     "tableResultSettingsMap": {},
     "title": ""
    }
   },
   "outputs": [],
   "source": [
    "demo.launch(share=True)"
   ]
  }
 ],
 "metadata": {
  "application/vnd.databricks.v1+notebook": {
   "computePreferences": null,
   "dashboards": [],
   "environmentMetadata": null,
   "inputWidgetPreferences": null,
   "language": "python",
   "notebookMetadata": {},
   "notebookName": "Automated_conversation_between_flight_assistant_bot_and_customer_bot",
   "widgets": {}
  },
  "kernelspec": {
   "display_name": "Python 3 (ipykernel)",
   "language": "python",
   "name": "python3"
  },
  "language_info": {
   "name": "python"
  }
 },
 "nbformat": 4,
 "nbformat_minor": 0
}
