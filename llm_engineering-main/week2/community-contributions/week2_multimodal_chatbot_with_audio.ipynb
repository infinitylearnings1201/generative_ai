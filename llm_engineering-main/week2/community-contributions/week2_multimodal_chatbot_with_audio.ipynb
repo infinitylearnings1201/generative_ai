{
 "cells": [
  {
   "cell_type": "markdown",
   "metadata": {
    "application/vnd.databricks.v1+cell": {
     "cellMetadata": {},
     "inputWidgets": {},
     "nuid": "f164c77d-4710-4d1e-b1b9-a079f6db768d",
     "showTitle": false,
     "tableResultSettingsMap": {},
     "title": ""
    }
   },
   "source": [
    "# Multimodal Expert Tutor\n",
    "\n",
    "An AI assistant which leverages expertise from other sources for you.\n",
    "\n",
    "Features:\n",
    "- Multimodal\n",
    "- Uses tools\n",
    "- Streams responses\n",
    "- Reads out the responses after streaming\n",
    "- Coverts voice to text during input\n",
    "\n",
    "Scope for Improvement\n",
    "- Read response faster (as streaming starts)\n",
    "- code optimization\n",
    "- UI enhancements\n",
    "- Make it more real time"
   ]
  },
  {
   "cell_type": "code",
   "execution_count": 0,
   "metadata": {
    "application/vnd.databricks.v1+cell": {
     "cellMetadata": {},
     "inputWidgets": {},
     "nuid": "5c706677-0f4e-414e-8cae-e9e4032cee29",
     "showTitle": false,
     "tableResultSettingsMap": {},
     "title": ""
    }
   },
   "outputs": [],
   "source": [
    "# imports\n",
    "\n",
    "import os\n",
    "import json\n",
    "from dotenv import load_dotenv\n",
    "from IPython.display import Markdown, display, update_display\n",
    "from openai import OpenAI\n",
    "import gradio as gr\n",
    "import google.generativeai\n",
    "import anthropic"
   ]
  },
  {
   "cell_type": "code",
   "execution_count": 0,
   "metadata": {
    "application/vnd.databricks.v1+cell": {
     "cellMetadata": {},
     "inputWidgets": {},
     "nuid": "153e0292-03ed-4a06-bc43-1fbcb1dfa7fa",
     "showTitle": false,
     "tableResultSettingsMap": {},
     "title": ""
    }
   },
   "outputs": [],
   "source": [
    "# constants\n",
    "\n",
    "MODEL_GPT = 'gpt-4o-mini'\n",
    "MODEL_CLAUDE = 'claude-3-5-sonnet-20240620'\n",
    "MODEL_GEMINI = 'gemini-1.5-flash'"
   ]
  },
  {
   "cell_type": "code",
   "execution_count": 0,
   "metadata": {
    "application/vnd.databricks.v1+cell": {
     "cellMetadata": {},
     "inputWidgets": {},
     "nuid": "97e97527-159a-4e93-9ae9-47accc642ccb",
     "showTitle": false,
     "tableResultSettingsMap": {},
     "title": ""
    }
   },
   "outputs": [],
   "source": [
    "# set up environment\n",
    "\n",
    "load_dotenv()\n",
    "os.environ['OPENAI_API_KEY'] = os.getenv('OPENAI_API_KEY', 'your-key-if-not-using-env')\n",
    "os.environ['ANTHROPIC_API_KEY'] = os.getenv('ANTHROPIC_API_KEY', 'your-key-if-not-using-env')\n",
    "os.environ['GOOGLE_API_KEY'] = os.getenv('GOOGLE_API_KEY', 'your-key-if-not-using-env')"
   ]
  },
  {
   "cell_type": "code",
   "execution_count": 0,
   "metadata": {
    "application/vnd.databricks.v1+cell": {
     "cellMetadata": {},
     "inputWidgets": {},
     "nuid": "6acee469-7b42-4d1f-be16-bf0d2cadd654",
     "showTitle": false,
     "tableResultSettingsMap": {},
     "title": ""
    }
   },
   "outputs": [],
   "source": [
    "# Connect to OpenAI, Anthropic and Google\n",
    "\n",
    "openai = OpenAI()\n",
    "\n",
    "claude = anthropic.Anthropic()\n",
    "\n",
    "google.generativeai.configure()"
   ]
  },
  {
   "cell_type": "code",
   "execution_count": 0,
   "metadata": {
    "application/vnd.databricks.v1+cell": {
     "cellMetadata": {},
     "inputWidgets": {},
     "nuid": "6dd82b9f-db19-44a6-a9e3-8cf553ab62dd",
     "showTitle": false,
     "tableResultSettingsMap": {},
     "title": ""
    }
   },
   "outputs": [],
   "source": [
    "import tempfile\n",
    "import subprocess\n",
    "from io import BytesIO\n",
    "from pydub import AudioSegment\n",
    "import time\n",
    "\n",
    "def play_audio(audio_segment):\n",
    "    temp_dir = tempfile.gettempdir()\n",
    "    temp_path = os.path.join(temp_dir, \"temp_audio.wav\")\n",
    "    try:\n",
    "        audio_segment.export(temp_path, format=\"wav\")\n",
    "        subprocess.call([\n",
    "            \"ffplay\",\n",
    "            \"-nodisp\",\n",
    "            \"-autoexit\",\n",
    "            \"-hide_banner\",\n",
    "            temp_path\n",
    "        ], stdout=subprocess.DEVNULL, stderr=subprocess.DEVNULL)\n",
    "    finally:\n",
    "        try:\n",
    "            os.remove(temp_path)\n",
    "        except Exception:\n",
    "            pass\n",
    " \n",
    "def talker(message):\n",
    "    response = openai.audio.speech.create(\n",
    "        model=\"tts-1\",\n",
    "        voice=\"onyx\",  # Also, try replacing onyx with alloy\n",
    "        input=message\n",
    "    )\n",
    "    audio_stream = BytesIO(response.content)\n",
    "    audio = AudioSegment.from_file(audio_stream, format=\"mp3\")\n",
    "    play_audio(audio)\n",
    "\n",
    "talker(\"Well hi there\")"
   ]
  },
  {
   "cell_type": "code",
   "execution_count": 0,
   "metadata": {
    "application/vnd.databricks.v1+cell": {
     "cellMetadata": {},
     "inputWidgets": {},
     "nuid": "56f058d9-df68-42c4-ae55-371bbc7ec12e",
     "showTitle": false,
     "tableResultSettingsMap": {},
     "title": ""
    }
   },
   "outputs": [],
   "source": [
    "# prompts\n",
    "general_prompt = \"Please be as technical as possible with your answers.\\\n",
    "Only answer questions about topics you have expertise in.\\\n",
    "If you do not know something say so.\"\n",
    "\n",
    "additional_prompt_gpt = \"Analyze the user query and determine if the content is primarily related to \\\n",
    "coding, software engineering, data science and LLMs. \\\n",
    "If so please answer it yourself else if it is primarily related to \\\n",
    "physics, chemistry or biology get answers from tool ask_gemini or \\\n",
    "if it belongs to subject related to finance, business or economics get answers from tool ask_claude.\"\n",
    "\n",
    "system_prompt_gpt = \"You are a helpful technical tutor who is an expert in \\\n",
    "coding, software engineering, data science and LLMs.\"+ additional_prompt_gpt + general_prompt\n",
    "system_prompt_gemini = \"You are a helpful technical tutor who is an expert in physics, chemistry and biology.\" + general_prompt\n",
    "system_prompt_claude = \"You are a helpful technical tutor who is an expert in finance, business and economics.\" + general_prompt\n",
    "\n",
    "def get_user_prompt(question):\n",
    "    return \"Please give a detailed explanation to the following question: \" + question"
   ]
  },
  {
   "cell_type": "code",
   "execution_count": 0,
   "metadata": {
    "application/vnd.databricks.v1+cell": {
     "cellMetadata": {},
     "inputWidgets": {},
     "nuid": "0ace9b85-907d-4c7a-bbaa-5a4771399aaa",
     "showTitle": false,
     "tableResultSettingsMap": {},
     "title": ""
    }
   },
   "outputs": [],
   "source": [
    "def call_claude(question):\n",
    "    result = claude.messages.create(\n",
    "        model=MODEL_CLAUDE,\n",
    "        max_tokens=200,\n",
    "        temperature=0.7,\n",
    "        system=system_prompt_claude,\n",
    "        messages=[\n",
    "            {\"role\": \"user\", \"content\": get_user_prompt(question)},\n",
    "        ],\n",
    "    )\n",
    "    \n",
    "    return result.content[0].text"
   ]
  },
  {
   "cell_type": "code",
   "execution_count": 0,
   "metadata": {
    "application/vnd.databricks.v1+cell": {
     "cellMetadata": {},
     "inputWidgets": {},
     "nuid": "9c02fe2b-ca00-4d92-9566-4a73bbb06ec0",
     "showTitle": false,
     "tableResultSettingsMap": {},
     "title": ""
    }
   },
   "outputs": [],
   "source": [
    "def call_gemini(question):\n",
    "    gemini = google.generativeai.GenerativeModel(\n",
    "        model_name=MODEL_GEMINI,\n",
    "        system_instruction=system_prompt_gemini\n",
    "    )\n",
    "    response = gemini.generate_content(get_user_prompt(question))\n",
    "    response = response.text\n",
    "    return response"
   ]
  },
  {
   "cell_type": "code",
   "execution_count": 0,
   "metadata": {
    "application/vnd.databricks.v1+cell": {
     "cellMetadata": {},
     "inputWidgets": {},
     "nuid": "9944a6cc-0ee6-4576-8a76-c09b9295857e",
     "showTitle": false,
     "tableResultSettingsMap": {},
     "title": ""
    }
   },
   "outputs": [],
   "source": [
    "# tools and functions\n",
    "\n",
    "def ask_claude(question):\n",
    "    print(f\"Tool ask_claude called for {question}\")\n",
    "    return call_claude(question)\n",
    "def ask_gemini(question):\n",
    "    print(f\"Tool ask_gemini called for {question}\")\n",
    "    return call_gemini(question)"
   ]
  },
  {
   "cell_type": "code",
   "execution_count": 0,
   "metadata": {
    "application/vnd.databricks.v1+cell": {
     "cellMetadata": {},
     "inputWidgets": {},
     "nuid": "b1717807-4f57-4238-9820-7a6cc339ffee",
     "showTitle": false,
     "tableResultSettingsMap": {},
     "title": ""
    }
   },
   "outputs": [],
   "source": [
    "ask_claude_function = {\n",
    "    \"name\": \"ask_claude\",\n",
    "    \"description\": \"Get the answer to the question related to a topic this agent is faimiliar with. Call this whenever you need to answer something related to finance, marketing, sales or business in general.For example 'What is gross margin' or 'Explain stock market'\",\n",
    "    \"parameters\": {\n",
    "        \"type\": \"object\",\n",
    "        \"properties\": {\n",
    "            \"question_for_topic\": {\n",
    "                \"type\": \"string\",\n",
    "                \"description\": \"The question which is related to finance, business or economics.\",\n",
    "            },\n",
    "        },\n",
    "        \"required\": [\"question_for_topic\"],\n",
    "        \"additionalProperties\": False\n",
    "    }\n",
    "}\n",
    "\n",
    "ask_gemini_function = {\n",
    "    \"name\": \"ask_gemini\",\n",
    "    \"description\": \"Get the answer to the question related to a topic this agent is faimiliar with. Call this whenever you need to answer something related to physics, chemistry or biology.Few examples: 'What is gravity','How do rockets work?', 'What is ATP'\",\n",
    "    \"parameters\": {\n",
    "        \"type\": \"object\",\n",
    "        \"properties\": {\n",
    "            \"question_for_topic\": {\n",
    "                \"type\": \"string\",\n",
    "                \"description\": \"The question which is related to physics, chemistry or biology\",\n",
    "            },\n",
    "        },\n",
    "        \"required\": [\"question_for_topic\"],\n",
    "        \"additionalProperties\": False\n",
    "    }\n",
    "}"
   ]
  },
  {
   "cell_type": "code",
   "execution_count": 0,
   "metadata": {
    "application/vnd.databricks.v1+cell": {
     "cellMetadata": {},
     "inputWidgets": {},
     "nuid": "453fe833-125f-49b8-aefe-e0d8eb3b8aee",
     "showTitle": false,
     "tableResultSettingsMap": {},
     "title": ""
    }
   },
   "outputs": [],
   "source": [
    "tools = [{\"type\": \"function\", \"function\": ask_claude_function},\n",
    "        {\"type\": \"function\", \"function\": ask_gemini_function}]\n",
    "tools_functions_map = {\n",
    "    \"ask_claude\":ask_claude,\n",
    "    \"ask_gemini\":ask_gemini\n",
    "}"
   ]
  },
  {
   "cell_type": "code",
   "execution_count": 0,
   "metadata": {
    "application/vnd.databricks.v1+cell": {
     "cellMetadata": {},
     "inputWidgets": {},
     "nuid": "00cb7f37-1111-4cca-b5c5-a2f71b654f79",
     "showTitle": false,
     "tableResultSettingsMap": {},
     "title": ""
    }
   },
   "outputs": [],
   "source": [
    "def chat(history):\n",
    "    messages = [{\"role\": \"system\", \"content\": system_prompt_gpt}] + history\n",
    "    stream = openai.chat.completions.create(model=MODEL_GPT, messages=messages, tools=tools, stream=True)\n",
    "    \n",
    "    full_response = \"\"\n",
    "    history += [{\"role\":\"assistant\", \"content\":full_response}]\n",
    "    \n",
    "    tool_call_accumulator = \"\"  # Accumulator for JSON fragments of tool call arguments\n",
    "    tool_call_id = None  # Current tool call ID\n",
    "    tool_call_function_name = None # Function name\n",
    "    tool_calls = []  # List to store complete tool calls\n",
    "\n",
    "    for chunk in stream:\n",
    "        if chunk.choices[0].delta.content:\n",
    "            full_response += chunk.choices[0].delta.content or \"\"\n",
    "            history[-1]['content']=full_response\n",
    "            yield history\n",
    "        \n",
    "        if chunk.choices[0].delta.tool_calls:\n",
    "            message = chunk.choices[0].delta\n",
    "            for tc in chunk.choices[0].delta.tool_calls:\n",
    "                if tc.id:  # New tool call detected here\n",
    "                    tool_call_id = tc.id\n",
    "                    if tool_call_function_name is None:\n",
    "                        tool_call_function_name = tc.function.name\n",
    "                \n",
    "                tool_call_accumulator += tc.function.arguments if tc.function.arguments else \"\"\n",
    "                \n",
    "                # When the accumulated JSON string seems complete then:\n",
    "                try:\n",
    "                    func_args = json.loads(tool_call_accumulator)\n",
    "                    \n",
    "                    # Handle tool call and get response\n",
    "                    tool_response, tool_call = handle_tool_call(tool_call_function_name, func_args, tool_call_id)\n",
    "                    \n",
    "                    tool_calls.append(tool_call)\n",
    "\n",
    "                    # Add tool call and tool response to messages this is required by openAI api\n",
    "                    messages.append({\n",
    "                        \"role\": \"assistant\",\n",
    "                        \"tool_calls\": tool_calls\n",
    "                    })\n",
    "                    messages.append(tool_response)\n",
    "                    \n",
    "                    # Create new response with full context\n",
    "                    response = openai.chat.completions.create(\n",
    "                        model=MODEL_GPT, \n",
    "                        messages=messages, \n",
    "                        stream=True\n",
    "                    )\n",
    "                    \n",
    "                    # Reset and accumulate new full response\n",
    "                    full_response = \"\"\n",
    "                    for chunk in response:\n",
    "                        if chunk.choices[0].delta.content:\n",
    "                            full_response += chunk.choices[0].delta.content or \"\"\n",
    "                            history[-1]['content'] = full_response\n",
    "                            yield history\n",
    "                    \n",
    "                    # Reset tool call accumulator and related variables\n",
    "                    tool_call_accumulator = \"\"\n",
    "                    tool_call_id = None\n",
    "                    tool_call_function_name = None\n",
    "                    tool_calls = []\n",
    "\n",
    "                except json.JSONDecodeError:\n",
    "                    # Incomplete JSON; continue accumulating\n",
    "                    pass\n",
    "\n",
    "    # trigger text-to-audio once full response available\n",
    "    talker(full_response)"
   ]
  },
  {
   "cell_type": "code",
   "execution_count": 0,
   "metadata": {
    "application/vnd.databricks.v1+cell": {
     "cellMetadata": {},
     "inputWidgets": {},
     "nuid": "16a723c4-7b83-4e67-b394-72cf555b9d8f",
     "showTitle": false,
     "tableResultSettingsMap": {},
     "title": ""
    }
   },
   "outputs": [],
   "source": [
    "# We have to write that function handle_tool_call:\n",
    "def handle_tool_call(function_name, arguments, tool_call_id):\n",
    "    question = arguments.get('question_for_topic')\n",
    " \n",
    "    # Prepare tool call information\n",
    "    tool_call = {\n",
    "        \"id\": tool_call_id,\n",
    "        \"type\": \"function\",\n",
    "        \"function\": {\n",
    "            \"name\": function_name,\n",
    "            \"arguments\": json.dumps(arguments)\n",
    "        }\n",
    "    }\n",
    "    \n",
    "    if function_name in tools_functions_map:\n",
    "        answer = tools_functions_map[function_name](question)\n",
    "        response = {\n",
    "            \"role\": \"tool\",\n",
    "            \"content\": json.dumps({\"question\": question, \"answer\" : answer}),\n",
    "            \"tool_call_id\": tool_call_id\n",
    "        }\n",
    "\n",
    "        return response, tool_call"
   ]
  },
  {
   "cell_type": "code",
   "execution_count": 0,
   "metadata": {
    "application/vnd.databricks.v1+cell": {
     "cellMetadata": {},
     "inputWidgets": {},
     "nuid": "3da095ee-0524-4e57-b856-322a771ed3ac",
     "showTitle": false,
     "tableResultSettingsMap": {},
     "title": ""
    }
   },
   "outputs": [],
   "source": [
    "def transcribe_audio(audio_file_path):\n",
    "    try:\n",
    "        audio_file = open(audio_file_path, \"rb\")\n",
    "        response = openai.audio.transcriptions.create(model=\"whisper-1\", file=audio_file)        \n",
    "        return response.text\n",
    "    except Exception as e:\n",
    "        return f\"An error occurred: {e}\""
   ]
  },
  {
   "cell_type": "code",
   "execution_count": 0,
   "metadata": {
    "application/vnd.databricks.v1+cell": {
     "cellMetadata": {},
     "inputWidgets": {},
     "nuid": "725e6856-2a59-4cc7-95a2-cdb73221d328",
     "showTitle": false,
     "tableResultSettingsMap": {},
     "title": ""
    },
    "scrolled": true
   },
   "outputs": [],
   "source": [
    "with gr.Blocks() as ui:\n",
    "    with gr.Row():\n",
    "        chatbot = gr.Chatbot(height=500, type=\"messages\", label=\"Multimodal Technical Expert Chatbot\")\n",
    "    with gr.Row():\n",
    "        entry = gr.Textbox(label=\"Ask our technical expert anything:\")\n",
    "        audio_input = gr.Audio(\n",
    "            sources=\"microphone\", \n",
    "            type=\"filepath\",\n",
    "            label=\"Record audio\",\n",
    "            editable=False,\n",
    "            waveform_options=gr.WaveformOptions(\n",
    "                show_recording_waveform=False,\n",
    "            ),\n",
    "        )\n",
    "\n",
    "        # Add event listener for audio stop recording and show text on input area\n",
    "        audio_input.stop_recording(\n",
    "            fn=transcribe_audio, \n",
    "            inputs=audio_input, \n",
    "            outputs=entry\n",
    "        )\n",
    "            \n",
    "    with gr.Row():\n",
    "        clear = gr.Button(\"Clear\")\n",
    "\n",
    "    def do_entry(message, history):\n",
    "        history += [{\"role\":\"user\", \"content\":message}]\n",
    "        yield \"\", history\n",
    "        \n",
    "    entry.submit(do_entry, inputs=[entry, chatbot], outputs=[entry,chatbot]).then(\n",
    "        chat, inputs=chatbot, outputs=chatbot)\n",
    "    \n",
    "    clear.click(lambda: None, inputs=None, outputs=chatbot, queue=False)\n",
    "\n",
    "ui.launch(inbrowser=True)"
   ]
  },
  {
   "cell_type": "code",
   "execution_count": 0,
   "metadata": {
    "application/vnd.databricks.v1+cell": {
     "cellMetadata": {},
     "inputWidgets": {},
     "nuid": "f3b71930-dd70-43db-a10f-6e4ee363cc1e",
     "showTitle": false,
     "tableResultSettingsMap": {},
     "title": ""
    }
   },
   "outputs": [],
   "source": []
  }
 ],
 "metadata": {
  "application/vnd.databricks.v1+notebook": {
   "computePreferences": null,
   "dashboards": [],
   "environmentMetadata": null,
   "inputWidgetPreferences": null,
   "language": "python",
   "notebookMetadata": {},
   "notebookName": "week2_multimodal_chatbot_with_audio",
   "widgets": {}
  },
  "kernelspec": {
   "display_name": "Python 3 (ipykernel)",
   "language": "python",
   "name": "python3"
  },
  "language_info": {
   "name": "python"
  }
 },
 "nbformat": 4,
 "nbformat_minor": 0
}
