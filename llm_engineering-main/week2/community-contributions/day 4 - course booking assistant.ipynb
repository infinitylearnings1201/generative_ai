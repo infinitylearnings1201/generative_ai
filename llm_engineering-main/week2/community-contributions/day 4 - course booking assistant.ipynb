{
 "cells": [
  {
   "cell_type": "markdown",
   "metadata": {
    "application/vnd.databricks.v1+cell": {
     "cellMetadata": {},
     "inputWidgets": {},
     "nuid": "38d94b1d-1b4b-4fdd-969a-a68640122b09",
     "showTitle": false,
     "tableResultSettingsMap": {},
     "title": ""
    }
   },
   "source": [
    "## Project - Course Booking AI Asssistant\n",
    "AI Customer Support Bot that \n",
    "- Returns Prices\n",
    "- Books Tickets\n",
    "- Adds Information to Text File"
   ]
  },
  {
   "cell_type": "code",
   "execution_count": 0,
   "metadata": {
    "application/vnd.databricks.v1+cell": {
     "cellMetadata": {},
     "inputWidgets": {},
     "nuid": "3b65b9d4-9720-41ce-93dc-123a35bd63b4",
     "showTitle": false,
     "tableResultSettingsMap": {},
     "title": ""
    }
   },
   "outputs": [],
   "source": [
    "# imports\n",
    "\n",
    "import os\n",
    "import json\n",
    "from dotenv import load_dotenv\n",
    "from openai import OpenAI\n",
    "import gradio as gr"
   ]
  },
  {
   "cell_type": "code",
   "execution_count": 0,
   "metadata": {
    "application/vnd.databricks.v1+cell": {
     "cellMetadata": {},
     "inputWidgets": {},
     "nuid": "c46ccd40-86de-423b-8c7f-2f3b8d1bf374",
     "showTitle": false,
     "tableResultSettingsMap": {},
     "title": ""
    }
   },
   "outputs": [],
   "source": [
    "# Initialization\n",
    "\n",
    "load_dotenv(override=True)\n",
    "\n",
    "openai_api_key = os.getenv('OPENAI_API_KEY')\n",
    "if openai_api_key:\n",
    "    print(f\"OpenAI API Key exists and begins {openai_api_key[:8]}\")\n",
    "else:\n",
    "    print(\"OpenAI API Key not set\")\n",
    "    \n",
    "MODEL = \"gpt-4o-mini\"\n",
    "openai = OpenAI()"
   ]
  },
  {
   "cell_type": "code",
   "execution_count": 0,
   "metadata": {
    "application/vnd.databricks.v1+cell": {
     "cellMetadata": {},
     "inputWidgets": {},
     "nuid": "7c9dd721-ffd3-4e64-9955-8e7950fb35f1",
     "showTitle": false,
     "tableResultSettingsMap": {},
     "title": ""
    }
   },
   "outputs": [],
   "source": [
    "system_message = \"You are a helpful assistant for an Online Course Platform called StudyAI. \"\n",
    "system_message += \"Give short, courteous answers, no more than 1 sentence. \"\n",
    "system_message += \"Always be accurate. If you don't know the answer, say so.\"\n",
    "system_message += \"If you are given a partial name, for example 'discrete' instead of 'discrete structures' \\\n",
    "ask the user if they meant to say 'discrete structures', and then display the price. The user may also use \\\n",
    "acronyms like 'PF' instead of programming fundamentals or 'OOP' to mean 'Object oriented programming'. \\\n",
    "Clarify what the user means and then proceed as directed.\""
   ]
  },
  {
   "cell_type": "code",
   "execution_count": 0,
   "metadata": {
    "application/vnd.databricks.v1+cell": {
     "cellMetadata": {},
     "inputWidgets": {},
     "nuid": "9358f509-9d8d-467d-96d7-b79328abd6a1",
     "showTitle": false,
     "tableResultSettingsMap": {},
     "title": ""
    }
   },
   "outputs": [],
   "source": [
    "course_prices = {\"programming fundamentals\": \"$19\", \"discrete structures\": \"$39\", \"operating systems\": \"$24\", \"object oriented programming\": \"$39\"}\n",
    "\n",
    "def get_course_price(course):\n",
    "    print(f\"Tool get_course_price called for {course}\")\n",
    "    course = course.lower()\n",
    "    return course_prices.get(course, \"Unknown\")\n",
    "\n",
    "def enroll_in_course(course):\n",
    "    print(f'Tool enroll_in_course_ called for {course}')\n",
    "    course_price = get_course_price(course)\n",
    "    if course_price != 'Unknown':\n",
    "        with open('enrolled_courses.txt', 'a') as file:  \n",
    "            file.write(course + \"\\n\")\n",
    "        return 'Successfully enrolled in course'\n",
    "    else:\n",
    "        return 'Enrollment failed, no such course available'"
   ]
  },
  {
   "cell_type": "code",
   "execution_count": 0,
   "metadata": {
    "application/vnd.databricks.v1+cell": {
     "cellMetadata": {},
     "inputWidgets": {},
     "nuid": "db206757-31a9-4e4e-9f38-228b93b998f1",
     "showTitle": false,
     "tableResultSettingsMap": {},
     "title": ""
    }
   },
   "outputs": [],
   "source": [
    "get_course_price('graph theory')\n",
    "get_course_price('discrete structures')"
   ]
  },
  {
   "cell_type": "code",
   "execution_count": 0,
   "metadata": {
    "application/vnd.databricks.v1+cell": {
     "cellMetadata": {},
     "inputWidgets": {},
     "nuid": "be0bf962-e7f6-439b-9eae-8b46383ec533",
     "showTitle": false,
     "tableResultSettingsMap": {},
     "title": ""
    }
   },
   "outputs": [],
   "source": [
    "price_function = {\n",
    "    \"name\": \"get_course_price\",\n",
    "    \"description\": \"Get the price of a course. Call this whenever you need to know the course price, for example when a customer asks 'How much is a ticket for this course?'\",\n",
    "    \"parameters\": {\n",
    "        \"type\": \"object\",\n",
    "        \"properties\": {\n",
    "            \"course\": {\n",
    "                \"type\": \"string\",\n",
    "                \"description\": \"The course that the customer wants to purchase\",\n",
    "            },\n",
    "        },\n",
    "        \"required\": [\"course\"],\n",
    "        \"additionalProperties\": False\n",
    "    }\n",
    "}\n",
    "\n",
    "enroll_function = {\n",
    "    \"name\": \"enroll_in_course\",\n",
    "    \"description\":\"Get the success status of course enrollment. Call whenever a customer wants to enroll in a course\\\n",
    "                for example, if they say 'I want to purchase this course' or 'I want to enroll in this course'\",\n",
    "    \"parameters\":{\n",
    "        \"type\":\"object\",\n",
    "        \"properties\":{\n",
    "            \"course\":{\n",
    "                \"type\":\"string\",\n",
    "                \"description\": \"The course that the customer wants to purchase\",\n",
    "            },\n",
    "        },\n",
    "        \"required\": [\"course\"],\n",
    "        \"additionalProperties\": False\n",
    "    }   \n",
    "}"
   ]
  },
  {
   "cell_type": "code",
   "execution_count": 0,
   "metadata": {
    "application/vnd.databricks.v1+cell": {
     "cellMetadata": {},
     "inputWidgets": {},
     "nuid": "25afad2c-f56a-48a2-bdbd-8d749db3bc78",
     "showTitle": false,
     "tableResultSettingsMap": {},
     "title": ""
    }
   },
   "outputs": [],
   "source": [
    "tools = [\n",
    "    {\"type\":\"function\",\"function\":price_function},\n",
    "    {\"type\":\"function\",\"function\":enroll_function}\n",
    "]"
   ]
  },
  {
   "cell_type": "code",
   "execution_count": 0,
   "metadata": {
    "application/vnd.databricks.v1+cell": {
     "cellMetadata": {},
     "inputWidgets": {},
     "nuid": "51c9e223-6a61-4397-8bd0-18a28d84a304",
     "showTitle": false,
     "tableResultSettingsMap": {},
     "title": ""
    }
   },
   "outputs": [],
   "source": [
    "def chat(message,history):\n",
    "    messages = [{\"role\":\"system\",\"content\":system_message}] + history + [{\"role\":\"user\",\"content\":message}]\n",
    "    response = openai.chat.completions.create(model=MODEL,messages=messages,tools=tools)\n",
    "\n",
    "    if response.choices[0].finish_reason == \"tool_calls\":\n",
    "        message = response.choices[0].message\n",
    "        messages.append(message)\n",
    "        for tool_call in message.tool_calls:\n",
    "            messages.append(handle_tool_call(tool_call))\n",
    "        response = openai.chat.completions.create(model=MODEL,messages=messages)\n",
    "\n",
    "    return response.choices[0].message.content"
   ]
  },
  {
   "cell_type": "code",
   "execution_count": 0,
   "metadata": {
    "application/vnd.databricks.v1+cell": {
     "cellMetadata": {},
     "inputWidgets": {},
     "nuid": "deeda670-2ae0-41f4-8c7f-279c72caa7b9",
     "showTitle": false,
     "tableResultSettingsMap": {},
     "title": ""
    }
   },
   "outputs": [],
   "source": [
    "# We have to write that function handle_tool_call:\n",
    "\n",
    "def handle_tool_call(tool_call):\n",
    "    function = tool_call.function.name\n",
    "    arguments = json.loads(tool_call.function.arguments)\n",
    "    match function:\n",
    "        case 'get_course_price':\n",
    "            course = arguments.get('course')\n",
    "            price = get_course_price(course)\n",
    "            return {\n",
    "                \"role\": \"tool\",\n",
    "                \"content\": json.dumps({\"course\": course,\"price\": price}),\n",
    "                \"tool_call_id\": tool_call.id\n",
    "            }\n",
    "        case 'enroll_in_course':\n",
    "            course = arguments.get('course')\n",
    "            status = enroll_in_course(course)\n",
    "            return {\n",
    "                \"role\": \"tool\",\n",
    "                \"content\": json.dumps({\"course\": course, \"status\": status}),\n",
    "                \"tool_call_id\": tool_call.id\n",
    "            }\n",
    "    "
   ]
  },
  {
   "cell_type": "code",
   "execution_count": 0,
   "metadata": {
    "application/vnd.databricks.v1+cell": {
     "cellMetadata": {},
     "inputWidgets": {},
     "nuid": "6cac20ce-e24b-4ab2-9371-f2508562b489",
     "showTitle": false,
     "tableResultSettingsMap": {},
     "title": ""
    }
   },
   "outputs": [],
   "source": [
    "gr.ChatInterface(fn=chat,type=\"messages\").launch(inbrowser=True)"
   ]
  },
  {
   "cell_type": "code",
   "execution_count": 0,
   "metadata": {
    "application/vnd.databricks.v1+cell": {
     "cellMetadata": {},
     "inputWidgets": {},
     "nuid": "a3521e41-7ec1-4c0f-8c8d-30da07058841",
     "showTitle": false,
     "tableResultSettingsMap": {},
     "title": ""
    }
   },
   "outputs": [],
   "source": []
  }
 ],
 "metadata": {
  "application/vnd.databricks.v1+notebook": {
   "computePreferences": null,
   "dashboards": [],
   "environmentMetadata": null,
   "inputWidgetPreferences": null,
   "language": "python",
   "notebookMetadata": {},
   "notebookName": "day 4 - course booking assistant",
   "widgets": {}
  },
  "kernelspec": {
   "display_name": "Python 3 (ipykernel)",
   "language": "python",
   "name": "python3"
  },
  "language_info": {
   "name": "python"
  }
 },
 "nbformat": 4,
 "nbformat_minor": 0
}
