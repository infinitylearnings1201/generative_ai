{
 "cells": [
  {
   "cell_type": "code",
   "execution_count": 0,
   "metadata": {
    "application/vnd.databricks.v1+cell": {
     "cellMetadata": {},
     "inputWidgets": {},
     "nuid": "53b755c9-1921-48bc-b9ce-9f9c9b228b24",
     "showTitle": false,
     "tableResultSettingsMap": {},
     "title": ""
    }
   },
   "outputs": [],
   "source": [
    "# imports\n",
    "\n",
    "import os\n",
    "from dotenv import load_dotenv\n",
    "from openai import OpenAI\n",
    "import anthropic\n",
    "from IPython.display import Markdown, display, update_display\n",
    "import google.generativeai"
   ]
  },
  {
   "cell_type": "code",
   "execution_count": 0,
   "metadata": {
    "application/vnd.databricks.v1+cell": {
     "cellMetadata": {},
     "inputWidgets": {},
     "nuid": "eff34ce8-eca5-4753-9e30-508f653997d3",
     "showTitle": false,
     "tableResultSettingsMap": {},
     "title": ""
    }
   },
   "outputs": [],
   "source": [
    "# Load environment variables in a file called .env\n",
    "# Print the key prefixes to help with any debugging\n",
    "\n",
    "load_dotenv(override=True)\n",
    "openai_api_key = os.getenv('OPENAI_API_KEY')\n",
    "anthropic_api_key = os.getenv('ANTHROPIC_API_KEY')\n",
    "google_api_key = os.getenv('GOOGLE_API_KEY')\n",
    "\n",
    "if openai_api_key:\n",
    "    print(f\"OpenAI API Key exists and begins {openai_api_key[:8]}\")\n",
    "else:\n",
    "    print(\"OpenAI API Key not set\")\n",
    "    \n",
    "if anthropic_api_key:\n",
    "    print(f\"Anthropic API Key exists and begins {anthropic_api_key[:7]}\")\n",
    "else:\n",
    "    print(\"Anthropic API Key not set\")\n",
    "\n",
    "if google_api_key:\n",
    "    print(f\"Google API Key exists and begins {google_api_key[:8]}\")\n",
    "else:\n",
    "    print(\"Google API Key not set\")"
   ]
  },
  {
   "cell_type": "code",
   "execution_count": 0,
   "metadata": {
    "application/vnd.databricks.v1+cell": {
     "cellMetadata": {},
     "inputWidgets": {},
     "nuid": "245e80b7-28cd-45bd-83db-c1d23c8dab24",
     "showTitle": false,
     "tableResultSettingsMap": {},
     "title": ""
    }
   },
   "outputs": [],
   "source": [
    "gpt_model = \"gpt-4o-mini\"\n",
    "claude_model = \"claude-3-haiku-20240307\"\n",
    "gemini_model = \"gemini-2.0-flash\"\n",
    "\n",
    "gpt_name = \"Maggie\"\n",
    "claude_name = \"Eddie\"\n",
    "gemini_name = \"Jean\"\n",
    "\n",
    "gpt_system = \"You are a chatbot that impersonates the late great actress Maggie Smith \\\n",
    "with her dry sharp British wit. Your name is Maggie, and you are a good friend of Eddie and Jean \\\n",
    "but that doesn't stop you to tease and try to outwit them both. \\\n",
    "Respond in short phrases.\"\n",
    "\n",
    "claude_system = \"You are a chatbot that impersonates Eddie Murphy \\\n",
    "with his high-energy, fast talking American humor. Your name is Eddie, and you a good friend of Maggie and Jean \\\n",
    "but that doesn't stop you to try to outdo them both. \\\n",
    "Respond in short phrases.\"\n",
    "\n",
    "gemini_system = \"You are a chatbot that impersonates Jean Dujardin \\\n",
    "with his charming, slapstick, deadpan irony kind of humor. Your name is Jean, and you are a good friend of Maggie and Eddie \\\n",
    "but that doesn't stop you to try to outcharm them both. \\\n",
    "Respond in short phrases.\""
   ]
  },
  {
   "cell_type": "code",
   "execution_count": 0,
   "metadata": {
    "application/vnd.databricks.v1+cell": {
     "cellMetadata": {},
     "inputWidgets": {},
     "nuid": "543c6005-fc75-4f65-afcb-37292659b25b",
     "showTitle": false,
     "tableResultSettingsMap": {},
     "title": ""
    }
   },
   "outputs": [],
   "source": [
    "# Connect to OpenAI, Anthropic and Google\n",
    "\n",
    "openai = OpenAI()\n",
    "claude = anthropic.Anthropic()\n",
    "google.generativeai.configure()\n",
    "gemini = google.generativeai.GenerativeModel(\n",
    "    model_name='gemini-2.0-flash-exp',\n",
    "    system_instruction=gemini_system\n",
    ")"
   ]
  },
  {
   "cell_type": "code",
   "execution_count": 0,
   "metadata": {
    "application/vnd.databricks.v1+cell": {
     "cellMetadata": {},
     "inputWidgets": {},
     "nuid": "1fdacdb0-059c-4e2c-949e-e760e8743009",
     "showTitle": false,
     "tableResultSettingsMap": {},
     "title": ""
    }
   },
   "outputs": [],
   "source": [
    "def call_gpt():    \n",
    "    messages = [{\"role\": \"system\", \"content\": gpt_system}]\n",
    "    for gpt_m, claude_m, gemini_m in zip(gpt_messages, claude_messages,gemini_messages): \n",
    "        messages.append({\"role\": \"assistant\", \"content\": gpt_m})\n",
    "        messages.append({\"role\": \"user\", \"content\": concatenate_user_msg(claude_m,claude_name,gemini_m,gemini_name)})        \n",
    "    completion = openai.chat.completions.create(\n",
    "        model=gpt_model,\n",
    "        messages=messages\n",
    "    )\n",
    "    return completion.choices[0].message.content"
   ]
  },
  {
   "cell_type": "code",
   "execution_count": 0,
   "metadata": {
    "application/vnd.databricks.v1+cell": {
     "cellMetadata": {},
     "inputWidgets": {},
     "nuid": "55101b76-e645-4355-9842-ca3f4a9f8345",
     "showTitle": false,
     "tableResultSettingsMap": {},
     "title": ""
    }
   },
   "outputs": [],
   "source": [
    "def concatenate_user_msg(msg1, name1, msg2, name2):\n",
    "    return name1 + ' said: ' + msg1 + '. \\n\\nThen ' + name2 + ' said: ' + msg2 + '.'"
   ]
  },
  {
   "cell_type": "code",
   "execution_count": 0,
   "metadata": {
    "application/vnd.databricks.v1+cell": {
     "cellMetadata": {},
     "inputWidgets": {},
     "nuid": "d827fe27-02fd-49da-ac9d-d94452ac25cf",
     "showTitle": false,
     "tableResultSettingsMap": {},
     "title": ""
    }
   },
   "outputs": [],
   "source": [
    "def call_claude():\n",
    "    messages = []\n",
    "    for gpt_m, claude_m,gemini_m in zip(gpt_messages, claude_messages,gemini_messages):\n",
    "        messages.append({\"role\": \"user\", \"content\": concatenate_user_msg(gpt_m,gpt_name,gemini_m,gemini_name)})\n",
    "        messages.append({\"role\": \"assistant\", \"content\": claude_m})        \n",
    "    messages.append({\"role\": \"user\", \"content\": gemini_messages[-1]})  \n",
    "    message = claude.messages.create(\n",
    "        model=claude_model,\n",
    "        system=claude_system,\n",
    "        messages=messages,\n",
    "        max_tokens=500\n",
    "    )\n",
    "    return message.content[0].text"
   ]
  },
  {
   "cell_type": "code",
   "execution_count": 0,
   "metadata": {
    "application/vnd.databricks.v1+cell": {
     "cellMetadata": {},
     "inputWidgets": {},
     "nuid": "e04de8da-5c7f-46f4-bd2d-a3bcf187c61a",
     "showTitle": false,
     "tableResultSettingsMap": {},
     "title": ""
    }
   },
   "outputs": [],
   "source": [
    "def call_gemini():\n",
    "    messages = []\n",
    "    for gpt_m, claude_m, gemini_m in zip(gpt_messages, claude_messages,gemini_messages):\n",
    "        messages.append({\"role\": \"user\", \"parts\": concatenate_user_msg(gpt_m,gpt_name,claude_m,claude_name)})        \n",
    "        messages.append({\"role\": \"assistant\", \"parts\": [{\"text\": gemini_m}]})        \n",
    "    messages.append({\"role\": \"user\", \"parts\": [{\"text\": gemini_messages[-1]}]})   \n",
    "    response = gemini.generate_content(messages)\n",
    "    return response.candidates[0].content.parts[0].text"
   ]
  },
  {
   "cell_type": "code",
   "execution_count": 0,
   "metadata": {
    "application/vnd.databricks.v1+cell": {
     "cellMetadata": {},
     "inputWidgets": {},
     "nuid": "852ff453-b634-4b53-bd4b-a156f6e00033",
     "showTitle": false,
     "tableResultSettingsMap": {},
     "title": ""
    }
   },
   "outputs": [],
   "source": [
    "gpt_messages = [\"Well, look what the cat dragged in. And here I thought you'd all been lost at sea.\"]\n",
    "claude_messages = [\"Awww man, c'mere! I ain't seen y'all in forever — you still look crazy!\"]\n",
    "gemini_messages = [\"Mes amis! At last! I thought you had forgotten the most handsome of your friends!\"]"
   ]
  },
  {
   "cell_type": "code",
   "execution_count": 0,
   "metadata": {
    "application/vnd.databricks.v1+cell": {
     "cellMetadata": {},
     "inputWidgets": {},
     "nuid": "9f69601f-9cb1-4c55-9e1b-432dc4c55659",
     "showTitle": false,
     "tableResultSettingsMap": {},
     "title": ""
    }
   },
   "outputs": [],
   "source": [
    "print(f\"Maggie:\\n{gpt_messages[0]}\\n\")\n",
    "print(f\"Eddie:\\n{claude_messages[0]}\\n\")\n",
    "print(f\"Jean:\\n{gemini_messages[0]}\\n\")\n",
    "for i in range(5):\n",
    "    gpt_next = call_gpt()\n",
    "    print(f\"Maggie:\\n{gpt_next}\\n\")\n",
    "    gpt_messages.append(gpt_next)\n",
    "    \n",
    "    claude_next = call_claude()\n",
    "    print(f\"Eddie:\\n{claude_next}\\n\")\n",
    "    claude_messages.append(claude_next)\n",
    "\n",
    "    gemini_next=call_gemini()\n",
    "    print(f\"Jean:\\n{gemini_next}\\n\")\n",
    "    gemini_messages.append(gemini_next)"
   ]
  },
  {
   "cell_type": "code",
   "execution_count": 0,
   "metadata": {
    "application/vnd.databricks.v1+cell": {
     "cellMetadata": {},
     "inputWidgets": {},
     "nuid": "13e966df-f93a-47ee-9755-89914dbe177d",
     "showTitle": false,
     "tableResultSettingsMap": {},
     "title": ""
    }
   },
   "outputs": [],
   "source": []
  }
 ],
 "metadata": {
  "application/vnd.databricks.v1+notebook": {
   "computePreferences": null,
   "dashboards": [],
   "environmentMetadata": null,
   "inputWidgetPreferences": null,
   "language": "python",
   "notebookMetadata": {},
   "notebookName": "day1-three-actors",
   "widgets": {}
  },
  "kernelspec": {
   "display_name": "Python 3 (ipykernel)",
   "language": "python",
   "name": "python3"
  },
  "language_info": {
   "name": "python"
  }
 },
 "nbformat": 4,
 "nbformat_minor": 0
}
