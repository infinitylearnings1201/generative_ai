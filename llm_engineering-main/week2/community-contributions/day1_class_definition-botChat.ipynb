{
 "cells": [
  {
   "cell_type": "code",
   "execution_count": 0,
   "metadata": {
    "application/vnd.databricks.v1+cell": {
     "cellMetadata": {},
     "inputWidgets": {},
     "nuid": "0b7b6f91-005e-4bb3-bb43-19d43fca5e87",
     "showTitle": false,
     "tableResultSettingsMap": {},
     "title": ""
    }
   },
   "outputs": [],
   "source": [
    "# imports\n",
    "\n",
    "%run week2/community-contributions/day1_class_definition.ipynb"
   ]
  },
  {
   "cell_type": "code",
   "execution_count": 0,
   "metadata": {
    "application/vnd.databricks.v1+cell": {
     "cellMetadata": {},
     "inputWidgets": {},
     "nuid": "46ec4300-ffe5-42f4-9222-e2616889c034",
     "showTitle": false,
     "tableResultSettingsMap": {},
     "title": ""
    }
   },
   "outputs": [],
   "source": [
    "gpt_system = \"You are a chatbot who is very argumentative; \\\n",
    "you disagree with anything in the conversation and you challenge everything, in a snarky way.\"\n",
    "\n",
    "claude_system = \"You are a very polite, courteous chatbot. You try to agree with \\\n",
    "everything the other person says, or find common ground. If the other person is argumentative, \\\n",
    "you try to calm them down and keep chatting.\""
   ]
  },
  {
   "cell_type": "code",
   "execution_count": 0,
   "metadata": {
    "application/vnd.databricks.v1+cell": {
     "cellMetadata": {},
     "inputWidgets": {},
     "nuid": "19739feb-94a5-4b81-9732-9e6e888963de",
     "showTitle": false,
     "tableResultSettingsMap": {},
     "title": ""
    }
   },
   "outputs": [],
   "source": [
    "gpt_startmessage = \"Hello\"\n",
    "claude_startmessage = \"Hi\"\n"
   ]
  },
  {
   "cell_type": "code",
   "execution_count": 0,
   "metadata": {
    "application/vnd.databricks.v1+cell": {
     "cellMetadata": {},
     "inputWidgets": {},
     "nuid": "df497617-30e2-4ec5-9124-7ae829164c0c",
     "showTitle": false,
     "tableResultSettingsMap": {},
     "title": ""
    }
   },
   "outputs": [],
   "source": [
    "print(f\"GPT:\\n{gpt_startmessage}\\n\")\n",
    "print(f\"Claude:\\n{claude_startmessage}\\n\")\n",
    "\n",
    "# startMessage added as user role\n",
    "gpt=GPT_Wrapper(gpt_system, gpt_startmessage)\n",
    "claude=Claude_Wrapper(claude_system, claude_startmessage)\n",
    "\n",
    "initialMsg = [\n",
    "    {\"role\": \"system\", \"content\": gpt_system},\n",
    "    {\"role\": \"assistant\", \"content\": gpt_startmessage}\n",
    "]\n",
    "# Replace user for assistant role\n",
    "gpt.messageSet(initialMsg)\n",
    "claude.messageSet([{\"role\": \"assistant\", \"content\": claude_startmessage}])\n",
    "\n",
    "claude_next=claude_startmessage\n",
    "for i in range(5):\n",
    "    gpt.messageAppend(\"user\", claude_next)\n",
    "    gpt_next = gpt.getResult()\n",
    "    print(f\"GPT:\\n{gpt_next}\\n\")\n",
    "    gpt.messageAppend(\"assistant\", gpt_next)\n",
    "\n",
    "    claude.messageAppend(\"user\", gpt_next)\n",
    "    claude_next = claude.getResult()\n",
    "    print(f\"Claude:\\n{claude_next}\\n\")\n",
    "    claude.messageAppend(\"assistant\", claude_next)"
   ]
  }
 ],
 "metadata": {
  "application/vnd.databricks.v1+notebook": {
   "computePreferences": null,
   "dashboards": [],
   "environmentMetadata": null,
   "inputWidgetPreferences": null,
   "language": "python",
   "notebookMetadata": {},
   "notebookName": "day1_class_definition-botChat",
   "widgets": {}
  },
  "kernelspec": {
   "display_name": "Python 3 (ipykernel)",
   "language": "python",
   "name": "python3"
  },
  "language_info": {
   "name": "python"
  }
 },
 "nbformat": 4,
 "nbformat_minor": 0
}
