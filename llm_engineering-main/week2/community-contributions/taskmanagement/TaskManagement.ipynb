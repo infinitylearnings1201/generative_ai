{
 "cells": [
  {
   "cell_type": "markdown",
   "metadata": {
    "application/vnd.databricks.v1+cell": {
     "cellMetadata": {},
     "inputWidgets": {},
     "nuid": "82eb5f75-13d1-44be-85db-0d24910e6a01",
     "showTitle": false,
     "tableResultSettingsMap": {},
     "title": ""
    },
    "colab_type": "text",
    "id": "view-in-github"
   },
   "source": [
    "<a href=\"https://colab.research.google.com/github/sngo/llms-practice/blob/main/taskmanagement/TaskManagement.ipynb\" target=\"_parent\"><img src=\"https://colab.research.google.com/assets/colab-badge.svg\" alt=\"Open In Colab\"/></a>"
   ]
  },
  {
   "cell_type": "code",
   "execution_count": 0,
   "metadata": {
    "application/vnd.databricks.v1+cell": {
     "cellMetadata": {},
     "inputWidgets": {},
     "nuid": "87004259-cb81-4366-801f-dcb801d6ea2e",
     "showTitle": false,
     "tableResultSettingsMap": {},
     "title": ""
    },
    "id": "GM-U1_ArmVFO"
   },
   "outputs": [],
   "source": [
    "!pip install -q gradio>=4.0.0"
   ]
  },
  {
   "cell_type": "code",
   "execution_count": 0,
   "metadata": {
    "application/vnd.databricks.v1+cell": {
     "cellMetadata": {},
     "inputWidgets": {},
     "nuid": "63645fe2-df00-4294-b80c-341d0a5d683d",
     "showTitle": false,
     "tableResultSettingsMap": {},
     "title": ""
    },
    "id": "FciiJrKSmfOV"
   },
   "outputs": [],
   "source": [
    "import gradio as gr\n",
    "import openai\n",
    "import json\n",
    "import html\n",
    "from openai import OpenAI\n",
    "import random\n",
    "import datetime\n",
    "from google.colab import userdata"
   ]
  },
  {
   "cell_type": "code",
   "execution_count": 0,
   "metadata": {
    "application/vnd.databricks.v1+cell": {
     "cellMetadata": {},
     "inputWidgets": {},
     "nuid": "a1980f8d-82d7-48d2-9ed2-3cd37427f580",
     "showTitle": false,
     "tableResultSettingsMap": {},
     "title": ""
    },
    "id": "7fPLICmznVur"
   },
   "outputs": [],
   "source": [
    "api_key = userdata.get('OPENAI_API_KEY')\n",
    "client = OpenAI(api_key=api_key)\n",
    "model = \"gpt-4.1-mini\""
   ]
  },
  {
   "cell_type": "code",
   "execution_count": 0,
   "metadata": {
    "application/vnd.databricks.v1+cell": {
     "cellMetadata": {},
     "inputWidgets": {},
     "nuid": "08587079-37ea-4849-a634-557cc12e8d11",
     "showTitle": false,
     "tableResultSettingsMap": {},
     "title": ""
    },
    "id": "zyXLchykmoW_"
   },
   "outputs": [],
   "source": [
    "def abcd_taskTool():\n",
    "  tasks = [\n",
    "         {\"taskId\": \"T001\", \"accNo\": \"1234567890\", \"status\": \"Pending\", \"description\": \"Update account details\"},\n",
    "        {\"taskId\": \"T002\", \"accNo\": \"9876543210\", \"status\": \"In Progress\", \"description\": \"Verify transaction\"}\n",
    "    ]\n",
    "\n",
    "  probability_of_tasks = 0.8\n",
    "  if random.random() < probability_of_tasks:\n",
    "    return tasks\n",
    "  else:\n",
    "    return []"
   ]
  },
  {
   "cell_type": "code",
   "execution_count": 0,
   "metadata": {
    "application/vnd.databricks.v1+cell": {
     "cellMetadata": {},
     "inputWidgets": {},
     "nuid": "aeb59d65-07c5-4559-8a79-28576b8fc87e",
     "showTitle": false,
     "tableResultSettingsMap": {},
     "title": ""
    },
    "id": "h4J8HOOJm78X"
   },
   "outputs": [],
   "source": [
    "def abcd_NotifyTool():\n",
    "    # Mock notification function\n",
    "    return True"
   ]
  },
  {
   "cell_type": "code",
   "execution_count": 0,
   "metadata": {
    "application/vnd.databricks.v1+cell": {
     "cellMetadata": {},
     "inputWidgets": {},
     "nuid": "38815651-d773-4253-a60d-0ab7e0c39498",
     "showTitle": false,
     "tableResultSettingsMap": {},
     "title": ""
    },
    "id": "KOtTI6PunNJ7"
   },
   "outputs": [],
   "source": [
    "# Tool definitions for OpenAI\n",
    "tools = [\n",
    "    {\n",
    "        \"type\": \"function\",\n",
    "        \"function\": {\n",
    "            \"name\": \"abcd_taskTool\",\n",
    "            \"description\": \"Retrieve a list of ABCD tasks.\",\n",
    "            \"parameters\": {}\n",
    "        }\n",
    "    },\n",
    "    {\n",
    "        \"type\": \"function\",\n",
    "        \"function\": {\n",
    "            \"name\": \"abcd_NotifyTool\",\n",
    "            \"description\": \"Notify the support team about tasks.\",\n",
    "            \"parameters\": {}\n",
    "        }\n",
    "    }\n",
    "]"
   ]
  },
  {
   "cell_type": "code",
   "execution_count": 0,
   "metadata": {
    "application/vnd.databricks.v1+cell": {
     "cellMetadata": {},
     "inputWidgets": {},
     "nuid": "7624cd93-3013-443f-bf72-2ba216588b0e",
     "showTitle": false,
     "tableResultSettingsMap": {},
     "title": ""
    },
    "id": "p7wU9CRBnTAS"
   },
   "outputs": [],
   "source": [
    "# Function to mask first four digits of accNo\n",
    "def mask_accNo(accNo):\n",
    "    return \"****\" + accNo[4:] if len(accNo) >= 4 else accNo"
   ]
  },
  {
   "cell_type": "code",
   "execution_count": 0,
   "metadata": {
    "application/vnd.databricks.v1+cell": {
     "cellMetadata": {},
     "inputWidgets": {},
     "nuid": "d309161d-d09a-4ebf-a027-fbb044821538",
     "showTitle": false,
     "tableResultSettingsMap": {},
     "title": ""
    },
    "id": "b4GLrDLyntA7"
   },
   "outputs": [],
   "source": [
    "# Function to format tasks as an HTML table\n",
    "def format_tasks_as_table(tasks):\n",
    "    if not tasks:\n",
    "        return \"No tasks found.\"\n",
    "\n",
    "    table = \"<table border='1' style='border-collapse: collapse; width: 100%;'>\"\n",
    "    table += \"<tr><th>Task ID</th><th>Account Number</th><th>Status</th><th>Description</th></tr>\"\n",
    "    for task in tasks:\n",
    "        table += \"<tr>\"\n",
    "        table += f\"<td>{html.escape(task.get('taskId', ''))}</td>\"\n",
    "        table += f\"<td>{html.escape(mask_accNo(task.get('accNo', '')))}</td>\"\n",
    "        table += f\"<td>{html.escape(task.get('status', ''))}</td>\"\n",
    "        table += f\"<td>{html.escape(task.get('description', ''))}</td>\"\n",
    "        table += \"</tr>\"\n",
    "    table += \"</table>\"\n",
    "    return table"
   ]
  },
  {
   "cell_type": "code",
   "execution_count": 0,
   "metadata": {
    "application/vnd.databricks.v1+cell": {
     "cellMetadata": {},
     "inputWidgets": {},
     "nuid": "32375032-1dff-4add-b5f5-52cf1b9e6796",
     "showTitle": false,
     "tableResultSettingsMap": {},
     "title": ""
    },
    "id": "m9MN8vFDnwsA"
   },
   "outputs": [],
   "source": [
    "# Chat function to handle user input and bot responses with tool calling\n",
    "def chat_function(message, history):\n",
    "    # Append user message to history\n",
    "    print(f\"User message: {message}\")\n",
    "\n",
    "    history.append([message, None])\n",
    "    print(f\"History: {history}\")\n",
    "\n",
    "    # Prepare messages for OpenAI API\n",
    "    messages = [{\"role\": \"system\", \"content\": (\n",
    "        \"You are a helpful assistant. When the user asks about checking ABCD tasks, call the abcd_taskTool function. \"\n",
    "        \"If tasks are returned, ask the user if they want to notify the support team. \"\n",
    "        \"If the user agrees to notify, call the abcd_NotifyTool function. \"\n",
    "        \"If no tasks are found, respond with a cheerful message. \"\n",
    "        \"If the user declines notification, respond creatively.\"\n",
    "    )}]\n",
    "    for user_msg, bot_msg in history[:-1]:\n",
    "        if user_msg:\n",
    "            messages.append({\"role\": \"user\", \"content\": user_msg})\n",
    "        if bot_msg:\n",
    "            messages.append({\"role\": \"assistant\", \"content\": bot_msg})\n",
    "    messages.append({\"role\": \"user\", \"content\": message})\n",
    "\n",
    "    # Handle state for notification response\n",
    "    state = history[-2][1] if len(history) > 1 else None\n",
    "    if state and \"Would you like to notify the support team?\" in state:\n",
    "        if message.lower() in [\"yes\", \"y\", \"yeah\", \"sure\", \"ok\", \"notify\", \"yep\"]:\n",
    "            # Simulate tool call for notification\n",
    "            notify_result = abcd_NotifyTool()\n",
    "            response = \"The support team has been notified successfully! They'll take it from here. 😊\"\n",
    "            history[-1][1] = response\n",
    "            yield history, \"normal\", \"\"\n",
    "            return\n",
    "        else:\n",
    "            response = (\n",
    "                \"Alright, we'll hold off on notifying the team. 🌟 \"\n",
    "                \"How about we explore something fun, like planning your next big adventure?\"\n",
    "            )\n",
    "            history[-1][1] = response\n",
    "            yield history, \"normal\", \"\"\n",
    "            return\n",
    "\n",
    "    try:\n",
    "        # Call OpenAI API with tool calling\n",
    "        response = client.chat.completions.create(\n",
    "            model= model,\n",
    "            messages=messages,\n",
    "            tools=tools,\n",
    "            tool_choice=\"auto\",\n",
    "            max_tokens=300\n",
    "        )\n",
    "\n",
    "        # Process response\n",
    "        response_message = response.choices[0].message\n",
    "        tool_calls = response_message.tool_calls\n",
    "\n",
    "        if tool_calls:\n",
    "            for tool_call in tool_calls:\n",
    "                function_name = tool_call.function.name\n",
    "                if function_name == \"abcd_taskTool\":\n",
    "                    tasks = abcd_taskTool()\n",
    "                    task_count = len(tasks)\n",
    "\n",
    "                    if task_count > 0:\n",
    "                        table = format_tasks_as_table(tasks)\n",
    "                        response = (\n",
    "                            f\"There are {task_count} tasks found:<br>{table}<br>\"\n",
    "                            \"Would you like to notify the support team? (Yes/No)\"\n",
    "                        )\n",
    "                        history[-1][1] = response\n",
    "                        print(f\"History after tool call: {history}\")\n",
    "                        print(f\"History at -1, 1: {history[-1][1]}\")\n",
    "                        yield history, \"waiting_for_notify_response\", \"\"\n",
    "                    else:\n",
    "                        response = (\n",
    "                            \"Hooray! No ABCD tasks to worry about! 🎈 \"\n",
    "                            \"You're free as a bird—any fun plans for the day?\"\n",
    "                        )\n",
    "                        history[-1][1] = response\n",
    "                        yield history, \"normal\", \"\"\n",
    "                elif function_name == \"abcd_NotifyTool\":\n",
    "                    abcd_NotifyTool()\n",
    "                    response = \"The support team has been notified successfully! They'll take it from here. 😊\"\n",
    "                    history[-1][1] = response\n",
    "                    yield history, \"normal\", \"\"\n",
    "        else:\n",
    "            # No tool calls, use the LLM's response\n",
    "            bot_response = response_message.content\n",
    "            history[-1][1] = bot_response\n",
    "            yield history, \"normal\", \"\"\n",
    "\n",
    "    except Exception as e:\n",
    "        history[-1][1] = f\"Error: {str(e)}\"\n",
    "        yield history, \"normal\", \"\""
   ]
  },
  {
   "cell_type": "code",
   "execution_count": 0,
   "metadata": {
    "application/vnd.databricks.v1+cell": {
     "cellMetadata": {},
     "inputWidgets": {},
     "nuid": "53593924-a130-430c-9f8e-6e10108f836c",
     "showTitle": false,
     "tableResultSettingsMap": {},
     "title": ""
    },
    "id": "X3Egf6jAn3uP"
   },
   "outputs": [],
   "source": [
    "# Custom CSS for table and chat styling\n",
    "custom_css = \"\"\"\n",
    "table {\n",
    "    font-family: Arial, sans-serif;\n",
    "    margin: 10px 0;\n",
    "}\n",
    "th, td {\n",
    "    padding: 8px;\n",
    "    text-align: left;\n",
    "}\n",
    "th {\n",
    "    background-color: #f2f2f2;\n",
    "}\n",
    "tr:nth-child(even) {\n",
    "    background-color: #f9f9f9;\n",
    "}\n",
    "\"\"\""
   ]
  },
  {
   "cell_type": "code",
   "execution_count": 0,
   "metadata": {
    "application/vnd.databricks.v1+cell": {
     "cellMetadata": {},
     "inputWidgets": {},
     "nuid": "66b35807-7891-4178-a712-63ecc5355a71",
     "showTitle": false,
     "tableResultSettingsMap": {},
     "title": ""
    },
    "id": "g9ctQlBOoDvi"
   },
   "outputs": [],
   "source": [
    "# Create Gradio interface\n",
    "with gr.Blocks(css=custom_css) as demo:\n",
    "    chatbot = gr.Chatbot()\n",
    "    msg = gr.Textbox(placeholder=\"Type your message here...\")\n",
    "    state = gr.State(value=\"normal\")\n",
    "\n",
    "    msg.submit(\n",
    "        chat_function,\n",
    "        inputs=[msg, chatbot],\n",
    "        outputs=[chatbot, state, msg]\n",
    "    )"
   ]
  },
  {
   "cell_type": "code",
   "execution_count": 0,
   "metadata": {
    "application/vnd.databricks.v1+cell": {
     "cellMetadata": {},
     "inputWidgets": {},
     "nuid": "59a462f6-22b0-4554-b05c-f05b35143be5",
     "showTitle": false,
     "tableResultSettingsMap": {},
     "title": ""
    },
    "id": "DG5gjlXloHhj"
   },
   "outputs": [],
   "source": [
    "demo.launch(debug=True, share=True)"
   ]
  },
  {
   "cell_type": "code",
   "execution_count": 0,
   "metadata": {
    "application/vnd.databricks.v1+cell": {
     "cellMetadata": {},
     "inputWidgets": {},
     "nuid": "6a686eb5-642a-4e3a-8837-368eab231294",
     "showTitle": false,
     "tableResultSettingsMap": {},
     "title": ""
    },
    "id": "GiWUiQNJxPSq"
   },
   "outputs": [],
   "source": []
  }
 ],
 "metadata": {
  "application/vnd.databricks.v1+notebook": {
   "computePreferences": null,
   "dashboards": [],
   "environmentMetadata": null,
   "inputWidgetPreferences": null,
   "language": "python",
   "notebookMetadata": {},
   "notebookName": "TaskManagement",
   "widgets": {}
  },
  "colab": {
   "authorship_tag": "ABX9TyMlDthhM8w5NIUNYffwmHfr",
   "include_colab_link": true,
   "provenance": []
  },
  "kernelspec": {
   "display_name": "Python 3",
   "name": "python3"
  },
  "language_info": {
   "name": "python"
  }
 },
 "nbformat": 4,
 "nbformat_minor": 0
}
