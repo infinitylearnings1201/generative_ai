{
 "cells": [
  {
   "cell_type": "markdown",
   "metadata": {
    "application/vnd.databricks.v1+cell": {
     "cellMetadata": {},
     "inputWidgets": {},
     "nuid": "4c9dbe1b-d834-4ad4-95fb-f950aceff655",
     "showTitle": false,
     "tableResultSettingsMap": {},
     "title": ""
    }
   },
   "source": [
    "importing refs"
   ]
  },
  {
   "cell_type": "code",
   "execution_count": 0,
   "metadata": {
    "application/vnd.databricks.v1+cell": {
     "cellMetadata": {},
     "inputWidgets": {},
     "nuid": "76c45909-5954-435f-ad4e-f7ae017e83af",
     "showTitle": false,
     "tableResultSettingsMap": {},
     "title": ""
    }
   },
   "outputs": [],
   "source": [
    "import os\n",
    "from enum import Enum, auto\n",
    "from dotenv import load_dotenv\n",
    "from openai import OpenAI\n",
    "import anthropic\n",
    "import random\n",
    "from IPython.display import Markdown, display, update_display\n",
    "# import for google\n",
    "# in rare cases, this seems to give an error on some systems, or even crashes the kernel\n",
    "# If this happens to you, simply ignore this cell - I give an alternative approach for using Gemini later\n",
    "\n",
    "import google.generativeai\n"
   ]
  },
  {
   "cell_type": "code",
   "execution_count": 0,
   "metadata": {
    "application/vnd.databricks.v1+cell": {
     "cellMetadata": {},
     "inputWidgets": {},
     "nuid": "552ce73f-971e-4d47-b24d-42f6df77e58e",
     "showTitle": false,
     "tableResultSettingsMap": {},
     "title": ""
    }
   },
   "outputs": [],
   "source": [
    "class AI(Enum):\n",
    "    OPEN_AI = \"OPEN AI\"\n",
    "    CLAUDE = \"CLAUDE\"\n",
    "    GEMINI = \"GEMINI\"\n",
    "    OLLAMA = \"OLLAMA\""
   ]
  },
  {
   "cell_type": "code",
   "execution_count": 0,
   "metadata": {
    "application/vnd.databricks.v1+cell": {
     "cellMetadata": {},
     "inputWidgets": {},
     "nuid": "82421e6d-a96e-4aef-aad2-978cf3930f45",
     "showTitle": false,
     "tableResultSettingsMap": {},
     "title": ""
    }
   },
   "outputs": [],
   "source": [
    "\n",
    "# Load environment variables in a file called .env\n",
    "# Print the key prefixes to help with any debugging\n",
    "\n",
    "load_dotenv()\n",
    "openai_api_key = os.getenv('OPENAI_API_KEY')\n",
    "anthropic_api_key = os.getenv('ANTHROPIC_API_KEY')\n",
    "google_api_key = os.getenv('GOOGLE_API_KEY')\n",
    "\n",
    "if openai_api_key:\n",
    "    print(f\"OpenAI API Key exists and begins {openai_api_key[:8]}\")\n",
    "else:\n",
    "    print(\"OpenAI API Key not set\")\n",
    "    \n",
    "if anthropic_api_key:\n",
    "    print(f\"Anthropic API Key exists and begins {anthropic_api_key[:7]}\")\n",
    "else:\n",
    "    print(\"Anthropic API Key not set\")\n",
    "\n",
    "if google_api_key:\n",
    "    print(f\"Google API Key exists and begins {google_api_key[:8]}\")\n",
    "else:\n",
    "    print(\"Google API Key not set\")"
   ]
  },
  {
   "cell_type": "code",
   "execution_count": 0,
   "metadata": {
    "application/vnd.databricks.v1+cell": {
     "cellMetadata": {},
     "inputWidgets": {},
     "nuid": "b88bbc77-b2ca-455c-99f0-3037cc00d253",
     "showTitle": false,
     "tableResultSettingsMap": {},
     "title": ""
    }
   },
   "outputs": [],
   "source": [
    "openai = OpenAI()\n",
    "\n",
    "claude = anthropic.Anthropic()\n",
    "\n",
    "gemini_via_openai_client = OpenAI(\n",
    "    api_key=google_api_key, \n",
    "    base_url=\"https://generativelanguage.googleapis.com/v1beta/openai/\"\n",
    ")\n",
    "ollama_via_openai = OpenAI(base_url='http://localhost:11434/v1', api_key='ollama')\n",
    "openai_model = \"gpt-4o-mini\"\n",
    "claude_model = \"claude-3-haiku-20240307\"\n",
    "gemini_model = \"gemini-1.5-flash\"\n",
    "ollama_model = \"llama3.2\""
   ]
  },
  {
   "cell_type": "code",
   "execution_count": 0,
   "metadata": {
    "application/vnd.databricks.v1+cell": {
     "cellMetadata": {},
     "inputWidgets": {},
     "nuid": "fead8f77-d8e6-413b-ab48-5ba8b6ad2472",
     "showTitle": false,
     "tableResultSettingsMap": {},
     "title": ""
    }
   },
   "outputs": [],
   "source": [
    "class ChatSystem:\n",
    "    def __init__(self, processor, system_string=\"\", model=\"\", type=AI.OPEN_AI):\n",
    "        \"\"\"\n",
    "        Initialize the ChatSystem with a system string and empty messages list.\n",
    "        \n",
    "        :param system_string: Optional initial system string description\n",
    "        \"\"\"\n",
    "        self.processor = processor\n",
    "        self.system = system_string\n",
    "        self.model = model\n",
    "        self.messages = []\n",
    "        self.type = type\n",
    "        \n",
    "    def call(self, message):\n",
    "        self.messages.append(message)\n",
    "        toSend = self.messages\n",
    "      \n",
    "        if self.type == AI.CLAUDE:\n",
    "            message = self.processor.messages.create(\n",
    "                model=self.model,\n",
    "                system=self.system,\n",
    "                messages=self.messages,\n",
    "                max_tokens=500\n",
    "            )\n",
    "            return message.content[0].text\n",
    "        else:\n",
    "            toSend.insert(0,self.system)\n",
    "            completion = self.processor.chat.completions.create(\n",
    "                model=self.model,\n",
    "                messages= toSend\n",
    "            )\n",
    "            return completion.choices[0].message.content"
   ]
  },
  {
   "cell_type": "code",
   "execution_count": 0,
   "metadata": {
    "application/vnd.databricks.v1+cell": {
     "cellMetadata": {},
     "inputWidgets": {},
     "nuid": "63646088-c36c-43ce-9ba2-f0c2ef2a19d2",
     "showTitle": false,
     "tableResultSettingsMap": {},
     "title": ""
    }
   },
   "outputs": [],
   "source": [
    "def generateChatPrompt(role, content):\n",
    "    return {\"role\": role, \"content\": content}"
   ]
  },
  {
   "cell_type": "code",
   "execution_count": 0,
   "metadata": {
    "application/vnd.databricks.v1+cell": {
     "cellMetadata": {},
     "inputWidgets": {},
     "nuid": "29d19a4a-e2ef-4ed3-aeb7-9cdece5b6fab",
     "showTitle": false,
     "tableResultSettingsMap": {},
     "title": ""
    }
   },
   "outputs": [],
   "source": [
    "geminiChat = ChatSystem(gemini_via_openai_client,\n",
    "                        generateChatPrompt(\"system\",\"You are a chatbot. you always try to make conversation and get more in depth\"), \n",
    "                        gemini_model,\n",
    "                        AI.GEMINI)\n",
    "\n",
    "openAiChat =  ChatSystem(openai,\n",
    "                        generateChatPrompt(\"system\",\"You are a chatbot. you always try to make conversation and get more in depth\"), \n",
    "                         openai_model,\n",
    "                        AI.OPEN_AI)\n",
    "\n",
    "claudeChat = ChatSystem(claude,\n",
    "                       \"You are a chatbot. you always try to make conversation and get more in depth\", \n",
    "                       claude_model,\n",
    "                        AI.CLAUDE)\n",
    "\n",
    "ollamaChat = ChatSystem(ollama_via_openai,\n",
    "                        generateChatPrompt(\"system\",\"You are a chatbot. you always try to make conversation and get more in depth\"), \n",
    "                        ollama_model,\n",
    "                        AI.OLLAMA)\n",
    "\n",
    "chatbots = [geminiChat, openAiChat, ollamaChat, claudeChat]\n",
    "\n",
    "conversation = []\n",
    "for i in range(5):\n",
    "    random_number = random.randint(0, 1)\n",
    "    botTalking = chatbots[random_number]\n",
    "    messageToSend =\"Hi\"\n",
    "    if i > 0:\n",
    "        messageToSend = conversation[len(conversation)-1]\n",
    "       \n",
    "    response = botTalking.call(generateChatPrompt(\"user\",messageToSend))\n",
    "    conversation.append(response)\n",
    "    botTalking.messages.append(generateChatPrompt(\"user\",response))\n",
    "    print(f\"{botTalking.type}:\\n{response}\\n\")"
   ]
  },
  {
   "cell_type": "code",
   "execution_count": 0,
   "metadata": {
    "application/vnd.databricks.v1+cell": {
     "cellMetadata": {},
     "inputWidgets": {},
     "nuid": "0897cd98-dcd6-4e55-9718-c4f06bf27c5b",
     "showTitle": false,
     "tableResultSettingsMap": {},
     "title": ""
    }
   },
   "outputs": [],
   "source": []
  }
 ],
 "metadata": {
  "application/vnd.databricks.v1+notebook": {
   "computePreferences": null,
   "dashboards": [],
   "environmentMetadata": null,
   "inputWidgetPreferences": null,
   "language": "python",
   "notebookMetadata": {},
   "notebookName": "day1_exercise_multi_conversation_bots",
   "widgets": {}
  },
  "kernelspec": {
   "display_name": "Python 3 (ipykernel)",
   "language": "python",
   "name": "python3"
  },
  "language_info": {
   "name": "python"
  }
 },
 "nbformat": 4,
 "nbformat_minor": 0
}
