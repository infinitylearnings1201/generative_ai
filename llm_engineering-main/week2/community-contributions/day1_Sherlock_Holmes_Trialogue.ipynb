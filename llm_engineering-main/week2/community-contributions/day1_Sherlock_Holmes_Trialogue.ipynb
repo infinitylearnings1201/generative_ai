{
 "cells": [
  {
   "cell_type": "markdown",
   "metadata": {
    "application/vnd.databricks.v1+cell": {
     "cellMetadata": {},
     "inputWidgets": {},
     "nuid": "63c8f00f-1cc7-40a1-aca2-29ce9df503d8",
     "showTitle": false,
     "tableResultSettingsMap": {},
     "title": ""
    }
   },
   "source": [
    "# A Cryptic City Scandal.\n",
    "\n",
    "## A trilogue between three chatbots that impersonate Sherlock Holmes, Dr Watson and Inspetor Lastrade, respetively."
   ]
  },
  {
   "cell_type": "code",
   "execution_count": 0,
   "metadata": {
    "application/vnd.databricks.v1+cell": {
     "cellMetadata": {},
     "inputWidgets": {},
     "nuid": "dd2e908c-3e9f-48e5-96af-5aa7a7973252",
     "showTitle": false,
     "tableResultSettingsMap": {},
     "title": ""
    }
   },
   "outputs": [],
   "source": [
    "# Crucial imports\n",
    "\n",
    "import os\n",
    "from dotenv import load_dotenv\n",
    "from openai import OpenAI\n",
    "import anthropic\n",
    "from IPython.display import Markdown, display, update_display"
   ]
  },
  {
   "cell_type": "code",
   "execution_count": 0,
   "metadata": {
    "application/vnd.databricks.v1+cell": {
     "cellMetadata": {},
     "inputWidgets": {},
     "nuid": "1e3f41ce-24e6-4c66-970d-38db441c1046",
     "showTitle": false,
     "tableResultSettingsMap": {},
     "title": ""
    }
   },
   "outputs": [],
   "source": [
    "#We load environment variables in a file called .env and print the key prefixes to help with any debugging\n",
    "\n",
    "load_dotenv(override=True)\n",
    "openai_api_key = os.getenv('OPENAI_API_KEY')\n",
    "anthropic_api_key = os.getenv('ANTHROPIC_API_KEY')\n",
    "\n",
    "if openai_api_key:\n",
    "    print(f\"OpenAI API Key exists and begins {openai_api_key[:8]}\")\n",
    "else:\n",
    "    print(\"OpenAI API Key not set\")\n",
    "    \n",
    "if anthropic_api_key:\n",
    "    print(f\"Anthropic API Key exists and begins {anthropic_api_key[:7]}\")\n",
    "else:\n",
    "    print(\"Anthropic API Key not set\")"
   ]
  },
  {
   "cell_type": "code",
   "execution_count": 0,
   "metadata": {
    "application/vnd.databricks.v1+cell": {
     "cellMetadata": {},
     "inputWidgets": {},
     "nuid": "5954f234-0ec9-4389-b914-e760445609c6",
     "showTitle": false,
     "tableResultSettingsMap": {},
     "title": ""
    }
   },
   "outputs": [],
   "source": [
    "# We connect to OpenAI and Anthropic\n",
    "\n",
    "openai = OpenAI()\n",
    "\n",
    "claude = anthropic.Anthropic()"
   ]
  },
  {
   "cell_type": "code",
   "execution_count": 0,
   "metadata": {
    "application/vnd.databricks.v1+cell": {
     "cellMetadata": {},
     "inputWidgets": {},
     "nuid": "67210853-ff70-4331-a6d9-cc469c3c3e62",
     "showTitle": false,
     "tableResultSettingsMap": {},
     "title": ""
    }
   },
   "outputs": [],
   "source": [
    "# We now generate a conversation between one GPT-4o-mini chatbot and two Claude-3-haiku chatbots.\n",
    "# We model it upon the conversations between Sherlock Holmes, Dr Watson and Inspector Lastrade from the famous short stories and novels by Conan Doyle.\n",
    "# Since Claude-3-haiku appears to be the wittier one, we assign to it the roles of Holmes and Watson.\n",
    "# We don't include Gemini because of the lack of comprehension it exhibited in dozens of test runs.\n",
    "\n",
    "claude_model = \"claude-3-haiku-20240307\"\n",
    "gpt_model = \"gpt-4o-mini\"\n",
    "\n",
    "\n",
    "lestrade_system = \"You are Inspector Lestrade from the novels by Conan Doyle.\\\n",
    "You visit Sherlock Holmes and Dr Watson at 221B Baker Street to inquire whether Holmes knows anything \\\n",
    "about the recent mysterious events in the City of London, especially the disappearance billions of pounds \\\n",
    "worth of crypto currency and the strange behavior of the Lord Mayor. \\\n",
    "You engage in a conversation with Sherlock Holmes and Dr John Watson. \\\n",
    "Any description of the situation should be given from a narrator's perspective, in the present tense and within parentheses. \\\n",
    "Whatever Holmes and Watson reply within parantheses is merely a description of the situation. \\\n",
    "Do not impersonate Holmes. Do not impersonate Watson.\"\n",
    "\n",
    "\n",
    "holmes_system = \"You are the famous detective Sherlock Holmes from the novels by Conan Doyle Your best friend and housemate is Dr John Watson. \\\n",
    "You engage in a witty conversation with Inspector Lestrade from Scotland Yard and Watson. \\\n",
    "You believe that the mysterious events menionted by Lestrade are proof that the so-called Q-Day has occurred and that it has been brought about by a \\\n",
    "successful combination of artificial general intelligence and quantum computing. \\\n",
    "Moreover, you are convinced that this could be a sinister conspiracy by your arch enemy Prof Moriarty. \\\n",
    "Any description of the situation should be given from a narrator's perspective, in the present tense and within parentheses. \\\n",
    "Whatever Lestrade and Watson reply within parantheses is merely a description of the situation. \\\n",
    "Do not impersonate Lestrade. Do not impersonate Watson.\"\n",
    "\n",
    "\n",
    "watson_system = \"You are Dr John Watson from the novels by Conan Doyle, Sherlock Holmes's housemate and closest friend. \\\n",
    "You engage in a witty conversation with Inspector Lestrade from Scotland Yard and Holmes about the events mentioned by Lestrade. \\\n",
    "While you aren't totally convinced by Holmes's theory and express doubts the capabilities of Holmes's arch enemy Prof Moriarty,\\\n",
    "you wonder whether Sherlock Holmes's brother, Mycroft Holmes, might be involved. \\\n",
    "Any description of your behavior should be given from a narrator's perspective, in the present tense and within parentheses. \\\n",
    "Whatever Lestrade and Holmes reply within parantheses is merely a description of the situation. \\\n",
    "Do not impersonate Lestrade. Do not impersonate Holmes.\"\n",
    "\n",
    "\n",
    "lestrade_messages = [\"Good evening, gentlemen! I apologize for showing up unexpectedly at this late hour!\"]\n",
    "\n",
    "holmes_messages = [\"Inspector Lestrade, please come in! As a matter of fact, we've been expecting you for a few hours already!\"]\n",
    "\n",
    "watson_messages = [\"Good evening, Inspector!\"]"
   ]
  },
  {
   "cell_type": "code",
   "execution_count": 0,
   "metadata": {
    "application/vnd.databricks.v1+cell": {
     "cellMetadata": {},
     "inputWidgets": {},
     "nuid": "99e1ca8a-a2a2-4cdc-92a1-8918fe200269",
     "showTitle": false,
     "tableResultSettingsMap": {},
     "title": ""
    }
   },
   "outputs": [],
   "source": [
    "def call_lestrade():\n",
    "    messages = [{\"role\": \"system\", \"content\": lestrade_system}]\n",
    "    \n",
    "    for les_mes, hol_mes, wat_mes in zip(lestrade_messages, holmes_messages, watson_messages):\n",
    "        messages.append({\"role\": \"assistant\", \"content\": les_mes})\n",
    "        messages.append({\"role\": \"user\", \"content\": hol_mes})\n",
    "        messages.append({\"role\": \"user\", \"content\": wat_mes})\n",
    "\n",
    "    completion = openai.chat.completions.create(\n",
    "        model=gpt_model,\n",
    "        messages=messages\n",
    "    )\n",
    "    return completion.choices[0].message.content"
   ]
  },
  {
   "cell_type": "code",
   "execution_count": 0,
   "metadata": {
    "application/vnd.databricks.v1+cell": {
     "cellMetadata": {},
     "inputWidgets": {},
     "nuid": "7e1a2da2-12d0-42fb-83e8-6358af68b9ed",
     "showTitle": false,
     "tableResultSettingsMap": {},
     "title": ""
    }
   },
   "outputs": [],
   "source": [
    "def call_holmes():\n",
    "    messages = []\n",
    "    \n",
    "    for les_mes, hol_mes, wat_mes in zip(lestrade_messages, holmes_messages, watson_messages):\n",
    "        messages.append({\"role\": \"user\", \"content\": les_mes})\n",
    "        messages.append({\"role\": \"assistant\", \"content\": hol_mes})\n",
    "        messages.append({\"role\": \"user\", \"content\": wat_mes})\n",
    "        \n",
    "    messages.append({\"role\": \"user\", \"content\": lestrade_messages[-1]})\n",
    "    messages.append({\"role\": \"user\", \"content\": watson_messages[-1]})\n",
    "\n",
    "    message = claude.messages.create(\n",
    "        model=claude_model,\n",
    "        system=holmes_system,\n",
    "        messages=messages,\n",
    "        max_tokens=500\n",
    "    )\n",
    "    return message.content[0].text"
   ]
  },
  {
   "cell_type": "code",
   "execution_count": 0,
   "metadata": {
    "application/vnd.databricks.v1+cell": {
     "cellMetadata": {},
     "inputWidgets": {},
     "nuid": "28b3b43a-e887-41be-b88f-16a605ac1d22",
     "showTitle": false,
     "tableResultSettingsMap": {},
     "title": ""
    }
   },
   "outputs": [],
   "source": [
    "def call_watson():\n",
    "    messages = []\n",
    "    \n",
    "    for les_mes, hol_mes, wat_mes in zip(lestrade_messages, holmes_messages, watson_messages):\n",
    "        messages.append({\"role\": \"user\", \"content\": les_mes})\n",
    "        messages.append({\"role\": \"user\", \"content\": hol_mes})\n",
    "        messages.append({\"role\": \"assistant\", \"content\": wat_mes})\n",
    "        \n",
    "    messages.append({\"role\": \"user\", \"content\": lestrade_messages[-1]})\n",
    "    messages.append({\"role\": \"user\", \"content\": holmes_messages[-1]})\n",
    "\n",
    "    message = claude.messages.create(\n",
    "        model=claude_model,\n",
    "        system=watson_system,\n",
    "        messages=messages,\n",
    "        max_tokens=500\n",
    "    )\n",
    "    return message.content[0].text"
   ]
  },
  {
   "cell_type": "code",
   "execution_count": 0,
   "metadata": {
    "application/vnd.databricks.v1+cell": {
     "cellMetadata": {},
     "inputWidgets": {},
     "nuid": "b28b0948-6e98-4371-a4f0-8bda6329c7b9",
     "showTitle": false,
     "tableResultSettingsMap": {},
     "title": ""
    }
   },
   "outputs": [],
   "source": [
    "print(f\"Inspector Lestrade:\\n{lestrade_messages[0]}\\n\")\n",
    "print(f\"Holmes:\\n{holmes_messages[0]}\\n\")\n",
    "print(f\"Dr Watson:\\n{watson_messages[0]}\\n\")\n",
    "\n",
    "for i in range(2):\n",
    "    \n",
    "    les_next = call_lestrade()\n",
    "    print(f\"Inspector Lestrade:\\n{les_next}\\n\")\n",
    "    lestrade_messages.append(les_next)\n",
    "    \n",
    "    hol_next = call_holmes()\n",
    "    print(f\"Holmes:\\n{hol_next}\\n\")\n",
    "    holmes_messages.append(hol_next)\n",
    "    \n",
    "    wat_next = call_watson()\n",
    "    print(f\"Dr Watson:\\n{wat_next}\\n\")\n",
    "    watson_messages.append(wat_next)"
   ]
  },
  {
   "cell_type": "code",
   "execution_count": 0,
   "metadata": {
    "application/vnd.databricks.v1+cell": {
     "cellMetadata": {},
     "inputWidgets": {},
     "nuid": "f0974c46-2059-487d-b2db-80a8c5782d15",
     "showTitle": false,
     "tableResultSettingsMap": {},
     "title": ""
    }
   },
   "outputs": [],
   "source": []
  }
 ],
 "metadata": {
  "application/vnd.databricks.v1+notebook": {
   "computePreferences": null,
   "dashboards": [],
   "environmentMetadata": null,
   "inputWidgetPreferences": null,
   "language": "python",
   "notebookMetadata": {},
   "notebookName": "day1_Sherlock_Holmes_Trialogue",
   "widgets": {}
  },
  "kernelspec": {
   "display_name": "Python 3 (ipykernel)",
   "language": "python",
   "name": "python3"
  },
  "language_info": {
   "name": "python"
  }
 },
 "nbformat": 4,
 "nbformat_minor": 0
}
