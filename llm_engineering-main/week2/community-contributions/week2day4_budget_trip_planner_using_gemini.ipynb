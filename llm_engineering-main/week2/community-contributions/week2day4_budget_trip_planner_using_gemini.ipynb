{
 "cells": [
  {
   "cell_type": "markdown",
   "metadata": {
    "application/vnd.databricks.v1+cell": {
     "cellMetadata": {},
     "inputWidgets": {},
     "nuid": "a7d1c83e-fdeb-4aef-b6d3-0481e32911ea",
     "showTitle": false,
     "tableResultSettingsMap": {},
     "title": ""
    },
    "id": "2UAcHYzT6ikw"
   },
   "source": [
    "Import libraries as needed & keep your gemini api key ready"
   ]
  },
  {
   "cell_type": "code",
   "execution_count": 0,
   "metadata": {
    "application/vnd.databricks.v1+cell": {
     "cellMetadata": {},
     "inputWidgets": {},
     "nuid": "01613c0f-96aa-41da-bb15-1f22ee2af0d7",
     "showTitle": false,
     "tableResultSettingsMap": {},
     "title": ""
    },
    "id": "XW0IY4xK6JZ1"
   },
   "outputs": [],
   "source": [
    "#!pip install gradio"
   ]
  },
  {
   "cell_type": "code",
   "execution_count": 0,
   "metadata": {
    "application/vnd.databricks.v1+cell": {
     "cellMetadata": {},
     "inputWidgets": {},
     "nuid": "917e3e14-bb5c-49fe-af41-af1a19f01f59",
     "showTitle": false,
     "tableResultSettingsMap": {},
     "title": ""
    },
    "id": "dwoPNMMP4ZSh"
   },
   "outputs": [],
   "source": [
    "from google import genai\n",
    "from google.genai import types\n",
    "from google.colab import userdata\n",
    "\n"
   ]
  },
  {
   "cell_type": "code",
   "execution_count": 0,
   "metadata": {
    "application/vnd.databricks.v1+cell": {
     "cellMetadata": {},
     "inputWidgets": {},
     "nuid": "62baa793-bd0d-4530-8036-6488dee053b9",
     "showTitle": false,
     "tableResultSettingsMap": {},
     "title": ""
    },
    "id": "cnYD07T24ueV"
   },
   "outputs": [],
   "source": [
    "def get_trip_itinerary(budget: int) -> str:\n",
    "    \"\"\"\n",
    "    Returns a trip itinerary based on the given budget.\n",
    "    \"\"\"\n",
    "    itinerary_dict: Dict[int, str] = {\n",
    "        500: \"Paris: 3-day budget trip covering Eiffel Tower, Louvre, and Seine River Cruise.\",\n",
    "        1000: \"Tokyo: 5-day adventure covering Shibuya, Akihabara, Mount Fuji day trip.\",\n",
    "        2000: \"New York: 7-day luxury stay covering Times Square, Broadway show, and helicopter tour.\",\n",
    "        3000: \"Dubai: 7-day ultra-luxury trip with Burj Khalifa VIP tour, desert safari, and yacht cruise.\",\n",
    "    }\n",
    "\n",
    "    return itinerary_dict.get(budget, \"No itinerary found for this budget. Try another amount!\")\n"
   ]
  },
  {
   "cell_type": "code",
   "execution_count": 0,
   "metadata": {
    "application/vnd.databricks.v1+cell": {
     "cellMetadata": {},
     "inputWidgets": {},
     "nuid": "9dcee952-6566-4865-b566-d61b0c1f568a",
     "showTitle": false,
     "tableResultSettingsMap": {},
     "title": ""
    },
    "id": "3WRUXvD45VFC"
   },
   "outputs": [],
   "source": [
    "from google.genai import types\n",
    "\n",
    "config = types.GenerateContentConfig(tools=[get_trip_itinerary])\n",
    "\n",
    "from google import genai\n",
    "\n",
    "client = genai.Client(api_key=userdata.get('gemini_api'))\n",
    "\n",
    "response = client.models.generate_content(\n",
    "    model='gemini-2.0-flash',\n",
    "    config=config,\n",
    "    contents='Based on the user budget suggest trip itinerary'\n",
    ")\n"
   ]
  },
  {
   "cell_type": "code",
   "execution_count": 0,
   "metadata": {
    "application/vnd.databricks.v1+cell": {
     "cellMetadata": {},
     "inputWidgets": {},
     "nuid": "cb7bcbdd-016f-4226-8ca8-b1d5e884e1f4",
     "showTitle": false,
     "tableResultSettingsMap": {},
     "title": ""
    },
    "colab": {
     "base_uri": "https://localhost:8080/",
     "height": 645
    },
    "id": "5fE700z96DHs",
    "outputId": "3e35423c-8b2b-4868-8113-00d9d3a7a2ba"
   },
   "outputs": [],
   "source": [
    "import gradio as gr\n",
    "\n",
    "# Chat function using Gemini\n",
    "chat = client.chats.create(model='gemini-2.0-flash', config=config)\n",
    "\n",
    "def chat_with_ai(user_input: str):\n",
    "    response = chat.send_message(user_input)\n",
    "    return response.text\n",
    "\n",
    "# Gradio Chat Interface\n",
    "demo = gr.Interface(fn=chat_with_ai, inputs=\"text\", outputs=\"text\", title=\"AI Trip Planner\")\n",
    "\n",
    "demo.launch()\n"
   ]
  },
  {
   "cell_type": "code",
   "execution_count": 0,
   "metadata": {
    "application/vnd.databricks.v1+cell": {
     "cellMetadata": {},
     "inputWidgets": {},
     "nuid": "af18b26a-7c26-4e4d-9c2d-cc3d1c06de85",
     "showTitle": false,
     "tableResultSettingsMap": {},
     "title": ""
    },
    "id": "XC9zzq8X5u8m"
   },
   "outputs": [],
   "source": []
  }
 ],
 "metadata": {
  "application/vnd.databricks.v1+notebook": {
   "computePreferences": null,
   "dashboards": [],
   "environmentMetadata": null,
   "inputWidgetPreferences": null,
   "language": "python",
   "notebookMetadata": {},
   "notebookName": "week2day4_budget_trip_planner_using_gemini",
   "widgets": {}
  },
  "colab": {
   "provenance": []
  },
  "kernelspec": {
   "display_name": "Python 3",
   "name": "python3"
  },
  "language_info": {
   "name": "python"
  }
 },
 "nbformat": 4,
 "nbformat_minor": 0
}
