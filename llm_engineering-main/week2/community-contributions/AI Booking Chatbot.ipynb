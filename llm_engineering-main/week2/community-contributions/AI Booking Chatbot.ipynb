{
 "cells": [
  {
   "cell_type": "markdown",
   "metadata": {
    "application/vnd.databricks.v1+cell": {
     "cellMetadata": {},
     "inputWidgets": {},
     "nuid": "5d04348f-bdee-45d4-b499-1508088aabb4",
     "showTitle": false,
     "tableResultSettingsMap": {},
     "title": ""
    }
   },
   "source": [
    "# Additional End of week Exercise - week 2\n",
    "\n",
    "Now use everything you've learned from Week 2 to build a full prototype for the technical question/answerer you built in Week 1 Exercise.\n",
    "\n",
    "This should include a Gradio UI, streaming, use of the system prompt to add expertise, and the ability to switch between models. Bonus points if you can demonstrate use of a tool!\n",
    "\n",
    "If you feel bold, see if you can add audio input so you can talk to it, and have it respond with audio. ChatGPT or Claude can help you, or email me if you have questions.\n",
    "\n",
    "I will publish a full solution here soon - unless someone beats me to it...\n",
    "\n",
    "There are so many commercial applications for this, from a language tutor, to a company onboarding solution, to a companion AI to a course (like this one!) I can't wait to see your results."
   ]
  },
  {
   "cell_type": "code",
   "execution_count": 0,
   "metadata": {
    "application/vnd.databricks.v1+cell": {
     "cellMetadata": {},
     "inputWidgets": {},
     "nuid": "3e3bc5dd-c843-447c-bef9-72620679886c",
     "showTitle": false,
     "tableResultSettingsMap": {},
     "title": ""
    }
   },
   "outputs": [],
   "source": [
    "# imports\n",
    "\n",
    "import os\n",
    "import json\n",
    "from dotenv import load_dotenv\n",
    "from openai import OpenAI\n",
    "import gradio as gr\n",
    "import base64\n",
    "from io import BytesIO\n",
    "import tempfile\n",
    "import subprocess\n",
    "from pydub import AudioSegment\n",
    "import time\n",
    "import anthropic"
   ]
  },
  {
   "cell_type": "code",
   "execution_count": 0,
   "metadata": {
    "application/vnd.databricks.v1+cell": {
     "cellMetadata": {},
     "inputWidgets": {},
     "nuid": "32c79752-c926-4804-bdcc-436508640b6d",
     "showTitle": false,
     "tableResultSettingsMap": {},
     "title": ""
    }
   },
   "outputs": [],
   "source": [
    "# Initialization\n",
    "\n",
    "load_dotenv(override=True)\n",
    "\n",
    "openai_api_key = os.getenv('OPENAI_API_KEY')\n",
    "if openai_api_key:\n",
    "    print(f\"OpenAI API Key exists and begins {openai_api_key[:8]}\")\n",
    "else:\n",
    "    print(\"OpenAI API Key not set\")\n",
    "    \n",
    "gpt_model = \"gpt-4o-mini\"\n",
    "claude_model = \"claude-3-haiku-20240307\"\n",
    "\n",
    "openai = OpenAI()\n",
    "claude = anthropic.Anthropic()"
   ]
  },
  {
   "cell_type": "code",
   "execution_count": 0,
   "metadata": {
    "application/vnd.databricks.v1+cell": {
     "cellMetadata": {},
     "inputWidgets": {},
     "nuid": "41fc45b4-0def-4fd1-a6a9-964df171b675",
     "showTitle": false,
     "tableResultSettingsMap": {},
     "title": ""
    }
   },
   "outputs": [],
   "source": [
    "system_message = \"You are a helpful assistant. \"\n",
    "system_message += \"Give short, courteous answers. You can check ticket price, ticket availability, and reserve tickets for users. \"\n",
    "system_message += \"Always be accurate. If you don't know the answer, say so.\""
   ]
  },
  {
   "cell_type": "code",
   "execution_count": 0,
   "metadata": {
    "application/vnd.databricks.v1+cell": {
     "cellMetadata": {},
     "inputWidgets": {},
     "nuid": "3936cb31-0aec-4416-bcd2-f229cd085626",
     "showTitle": false,
     "tableResultSettingsMap": {},
     "title": ""
    }
   },
   "outputs": [],
   "source": [
    "# Let's start by making a useful function\n",
    "\n",
    "ticket_prices = {\"london\": \"$799\", \"paris\": \"$899\", \"tokyo\": \"$1400\", \"berlin\": \"$499\"}\n",
    "\n",
    "def get_ticket_price(destination_city):\n",
    "    print(f\"Tool get_ticket_price called for {destination_city}\")\n",
    "    city = destination_city.lower()\n",
    "    return ticket_prices.get(city, \"Unknown\")"
   ]
  },
  {
   "cell_type": "code",
   "execution_count": 0,
   "metadata": {
    "application/vnd.databricks.v1+cell": {
     "cellMetadata": {},
     "inputWidgets": {},
     "nuid": "4fad6ccc-9a30-4505-91d5-5bb023bbcfa5",
     "showTitle": false,
     "tableResultSettingsMap": {},
     "title": ""
    }
   },
   "outputs": [],
   "source": [
    "ticket_availability = {\"london\": \"20\", \"paris\": \"90\", \"tokyo\": \"100\", \"berlin\": \"2\"}"
   ]
  },
  {
   "cell_type": "code",
   "execution_count": 0,
   "metadata": {
    "application/vnd.databricks.v1+cell": {
     "cellMetadata": {},
     "inputWidgets": {},
     "nuid": "1071962d-f0f7-4192-9268-5b534bd49133",
     "showTitle": false,
     "tableResultSettingsMap": {},
     "title": ""
    }
   },
   "outputs": [],
   "source": [
    "# Let's start by making a useful function\n",
    "def get_ticket_availability(destination_city):\n",
    "    print(f\"Tool get_ticket_availability called for {destination_city}\")\n",
    "    available = destination_city.lower()\n",
    "    return ticket_availability.get(available, \"Unknown\")"
   ]
  },
  {
   "cell_type": "code",
   "execution_count": 0,
   "metadata": {
    "application/vnd.databricks.v1+cell": {
     "cellMetadata": {},
     "inputWidgets": {},
     "nuid": "88cc541f-bf03-40e6-a378-65e67d952661",
     "showTitle": false,
     "tableResultSettingsMap": {},
     "title": ""
    }
   },
   "outputs": [],
   "source": [
    "def get_ticket_price_availability(destination_city):\n",
    "    print(f\"Tool get_ticket_price_availability called for {destination_city}\")\n",
    "    available = destination_city.lower()\n",
    "    price = destination_city.lower()\n",
    "    return ticket_price.get(price, \"Unknown\"), ticket_availability.get(available, \"Unknown\")"
   ]
  },
  {
   "cell_type": "code",
   "execution_count": 0,
   "metadata": {
    "application/vnd.databricks.v1+cell": {
     "cellMetadata": {},
     "inputWidgets": {},
     "nuid": "9f406e6f-468f-4a5a-bee0-cfb5bd3ecf95",
     "showTitle": false,
     "tableResultSettingsMap": {},
     "title": ""
    }
   },
   "outputs": [],
   "source": [
    "def book_ticket(destination_city,price,availability,no_of_tickets):\n",
    "    status=\"\"\n",
    "    if availability == 0:\n",
    "        status=\"Cannot book a ticket, no seat available\\n\"\n",
    "    elif (int(availability)-int(no_of_tickets)) < 0:\n",
    "        status=\"Cannot book a ticket, no seat available\\n\"\n",
    "    else:\n",
    "        print(f\"Tool book_function called for {destination_city}\")\n",
    "        f = open(\"C:/Users/aruna/Desktop/book_status.txt\", \"a\")\n",
    "        f.write(f\"{no_of_tickets} ticket/s to {destination_city} booked for {price} x {no_of_tickets}, currently available - {int(availability)-int(no_of_tickets)}\")\n",
    "        f.write(\"\\n\")\n",
    "        f.close()\n",
    "        ticket_availability[destination_city.lower()]=str(int(availability)-int(no_of_tickets))\n",
    "        \n",
    "        status=\"Ticket reservation is a success\\n\"\n",
    "    return status"
   ]
  },
  {
   "cell_type": "code",
   "execution_count": 0,
   "metadata": {
    "application/vnd.databricks.v1+cell": {
     "cellMetadata": {},
     "inputWidgets": {},
     "nuid": "5c6c8f9d-5ee6-4877-abd9-73f2a626ab43",
     "showTitle": false,
     "tableResultSettingsMap": {},
     "title": ""
    }
   },
   "outputs": [],
   "source": [
    "book_function = {\n",
    "    \"name\": \"book_ticket\",\n",
    "    \"description\": \"Book the ticket based on the ticket price and/ or availability as requested by the user. For example, when a \\\n",
    "     user asks to purchase one or more tickets to Tokyo after getting to know the ticket price and/or the availability, then \\\n",
    "     proceed with this tool call. Else, request the user to either ask for ticket price or availability first. Please help the customer in booking the ticket/s if tickets are available. But before each time\\\n",
    "     you book, ask confirmation from the user before proceeding with booking.\",\n",
    "    \"parameters\": {\n",
    "        \"type\": \"object\",\n",
    "        \"properties\": {\n",
    "            \"destination_city\": {\n",
    "                \"type\": \"string\",\n",
    "                \"description\": \"The city that the customer wants to travel to\",\n",
    "            },\n",
    "            \"price\": {\n",
    "                \"type\": \"string\",\n",
    "                \"description\": \"The price of the ticket to the city\",\n",
    "            },\n",
    "            \"availability\": {\n",
    "                \"type\": \"string\",\n",
    "                \"description\": \"ticket availability to the city the customer wants to travel to\",\n",
    "            },\n",
    "            \"no_of_tickets\": {\n",
    "                \"type\": \"string\",\n",
    "                \"description\": \"the number of tickets the customer wants to purchase/ book to the destination\",\n",
    "            }\n",
    "        },\n",
    "        \"required\": [\"destination_city\",\"price\",\"availability\",\"no_of_tickets\"],\n",
    "        \"additionalProperties\": False\n",
    "    }\n",
    "}"
   ]
  },
  {
   "cell_type": "code",
   "execution_count": 0,
   "metadata": {
    "application/vnd.databricks.v1+cell": {
     "cellMetadata": {},
     "inputWidgets": {},
     "nuid": "a435d35c-9933-4219-ada3-6671dd3a138c",
     "showTitle": false,
     "tableResultSettingsMap": {},
     "title": ""
    }
   },
   "outputs": [],
   "source": [
    "# There's a particular dictionary structure that's required to describe our function:\n",
    "\n",
    "price_function = {\n",
    "    \"name\": \"get_ticket_price\",\n",
    "    \"description\": \"Get the price of a one_way ticket to the destination city. Call this whenever you need to know the ticket price, for example when a customer asks 'How much is a ticket to this city'\",\n",
    "    \"parameters\": {\n",
    "        \"type\": \"object\",\n",
    "        \"properties\": {\n",
    "            \"destination_city\": {\n",
    "                \"type\": \"string\",\n",
    "                \"description\": \"The city that the customer wants to travel to\",\n",
    "            },\n",
    "        },\n",
    "        \"required\": [\"destination_city\"],\n",
    "        \"additionalProperties\": False\n",
    "    }\n",
    "}"
   ]
  },
  {
   "cell_type": "code",
   "execution_count": 0,
   "metadata": {
    "application/vnd.databricks.v1+cell": {
     "cellMetadata": {},
     "inputWidgets": {},
     "nuid": "5e1959ea-65de-4f7f-a5ec-e686a6b57582",
     "showTitle": false,
     "tableResultSettingsMap": {},
     "title": ""
    }
   },
   "outputs": [],
   "source": [
    "availability_function = {\n",
    "    \"name\": \"get_ticket_availability\",\n",
    "    \"description\": \"Get the availability of a one-way ticket to the destination city. Call this whenever you need to know the ticket availability, for example when a customer asks 'What is the ticket availability to this city'\",\n",
    "    \"parameters\": {\n",
    "        \"type\": \"object\",\n",
    "        \"properties\": {\n",
    "            \"destination_city\": {\n",
    "                \"type\": \"string\",\n",
    "                \"description\": \"The city that the customer wants to travel to\",\n",
    "            },\n",
    "        },\n",
    "        \"required\": [\"destination_city\"],\n",
    "        \"additionalProperties\": False\n",
    "    }\n",
    "}"
   ]
  },
  {
   "cell_type": "code",
   "execution_count": 0,
   "metadata": {
    "application/vnd.databricks.v1+cell": {
     "cellMetadata": {},
     "inputWidgets": {},
     "nuid": "f3f5b0d1-6d7a-4719-bbc7-ba51ae8d960e",
     "showTitle": false,
     "tableResultSettingsMap": {},
     "title": ""
    }
   },
   "outputs": [],
   "source": [
    "ticket_price_availability_function = {\n",
    "    \"name\": \"get_ticket_price_availability\",\n",
    "    \"description\": \"Get the price or availability of a one-way ticket to the destination city. Call this whenever you need to know the ticket price and availability, for example when a customer asks 'What is the ticket availability and price to this city'\\\n",
    "    or 'what is the price and ticket for the city?'\",\n",
    "    \"parameters\": {\n",
    "        \"type\": \"object\",\n",
    "        \"properties\": {\n",
    "            \"destination_city\": {\n",
    "                \"type\": \"string\",\n",
    "                \"description\": \"The city that the customer wants to travel to\",\n",
    "            },\n",
    "        },\n",
    "        \"required\": [\"destination_city\"],\n",
    "        \"additionalProperties\": False\n",
    "    }\n",
    "}"
   ]
  },
  {
   "cell_type": "code",
   "execution_count": 0,
   "metadata": {
    "application/vnd.databricks.v1+cell": {
     "cellMetadata": {},
     "inputWidgets": {},
     "nuid": "84d6423e-bd53-4461-8d85-2adf6992e94a",
     "showTitle": false,
     "tableResultSettingsMap": {},
     "title": ""
    }
   },
   "outputs": [],
   "source": [
    "# And this is included in a list of tools:\n",
    "\n",
    "tools = [{\"type\": \"function\", \"function\": price_function},\n",
    "         {\"type\": \"function\", \"function\": availability_function},\n",
    "         {\"type\": \"function\", \"function\": ticket_price_availability_function},\n",
    "         {\"type\": \"function\", \"function\": book_function}]"
   ]
  },
  {
   "cell_type": "code",
   "execution_count": 0,
   "metadata": {
    "application/vnd.databricks.v1+cell": {
     "cellMetadata": {},
     "inputWidgets": {},
     "nuid": "9d7485b0-f65c-4807-8bbe-0ddfe718dcb7",
     "showTitle": false,
     "tableResultSettingsMap": {},
     "title": ""
    }
   },
   "outputs": [],
   "source": [
    "def play_audio(audio_segment):\n",
    "    temp_dir = tempfile.gettempdir()\n",
    "    temp_path = os.path.join(temp_dir, \"temp_audio.wav\")\n",
    "    try:\n",
    "        audio_segment.export(temp_path, format=\"wav\")\n",
    "        time.sleep(3) # Student Dominic found that this was needed. You could also try commenting out to see if not needed on your PC\n",
    "        subprocess.call([\n",
    "            \"ffplay\",\n",
    "            \"-nodisp\",\n",
    "            \"-autoexit\",\n",
    "            \"-hide_banner\",\n",
    "            temp_path\n",
    "        ], stdout=subprocess.DEVNULL, stderr=subprocess.DEVNULL)\n",
    "    finally:\n",
    "        try:\n",
    "            os.remove(temp_path)\n",
    "        except Exception:\n",
    "            pass\n",
    " \n",
    "def talker(message):\n",
    "    response = openai.audio.speech.create(\n",
    "        model=\"tts-1\",\n",
    "        voice=\"alloy\",  # Also, try replacing with onyx\n",
    "        input=message\n",
    "    )\n",
    "    audio_stream = BytesIO(response.content)\n",
    "    audio = AudioSegment.from_file(audio_stream, format=\"mp3\")\n",
    "    play_audio(audio)\n"
   ]
  },
  {
   "cell_type": "code",
   "execution_count": 0,
   "metadata": {
    "application/vnd.databricks.v1+cell": {
     "cellMetadata": {},
     "inputWidgets": {},
     "nuid": "53504c07-b9ec-4ded-b149-8e194cf98186",
     "showTitle": false,
     "tableResultSettingsMap": {},
     "title": ""
    }
   },
   "outputs": [],
   "source": [
    "# We have to write that function handle_tool_call:\n",
    "\n",
    "def handle_tool_call1(message):\n",
    "    tool_call = message.tool_calls[0]\n",
    "    arguments = json.loads(tool_call.function.arguments)\n",
    "    name = json.dumps(tool_call.function.name)\n",
    "    city = arguments.get('destination_city')\n",
    "    no = arguments.get('no_of_tickets')\n",
    "    \n",
    "    if name.replace('\"','') == \"get_ticket_price\":\n",
    "        price = get_ticket_price(city)\n",
    "        response = {\n",
    "        \"role\": \"tool\",\n",
    "        \"content\": json.dumps({\"destination_city\": city,\"price\": price}),\n",
    "        \"tool_call_id\": tool_call.id\n",
    "        }\n",
    "    elif name.replace('\"','') == \"book_ticket\":\n",
    "        price = get_ticket_price(city)\n",
    "        availability = get_ticket_availability(city)\n",
    "        booked=book_ticket(city,price,availability,no)\n",
    "        response = {\n",
    "        \"role\": \"tool\",\n",
    "        \"content\": json.dumps({\"destination_city\": city, \"number of tickets\":no, \"booking_status\": booked}),\n",
    "        \"tool_call_id\": tool_call.id\n",
    "        }\n",
    "    else :\n",
    "        availability = get_ticket_availability(city)\n",
    "        response = {\n",
    "        \"role\": \"tool\",\n",
    "        \"content\": json.dumps({\"destination_city\": city,\"availability\": availability},),\n",
    "        \"tool_call_id\": tool_call.id\n",
    "        }\n",
    "        \n",
    "    return response, city"
   ]
  },
  {
   "cell_type": "code",
   "execution_count": 0,
   "metadata": {
    "application/vnd.databricks.v1+cell": {
     "cellMetadata": {},
     "inputWidgets": {},
     "nuid": "c8ba6152-c59d-4212-b0fb-931560ad7165",
     "showTitle": false,
     "tableResultSettingsMap": {},
     "title": ""
    }
   },
   "outputs": [],
   "source": [
    "def chat_open_ai(history):\n",
    "    messages = [{\"role\": \"system\", \"content\": system_message}] + history \n",
    "    response = openai.chat.completions.create(model=gpt_model, messages=messages, tools=tools)\n",
    "    if response.choices[0].finish_reason==\"tool_calls\":\n",
    "            message = response.choices[0].message\n",
    "            print(message)\n",
    "            tool_call = message.tool_calls[0]\n",
    "            arguments = json.loads(tool_call.function.arguments)\n",
    "            name = json.dumps(tool_call.function.name)\n",
    "            city = arguments.get('destination_city')\n",
    "    \n",
    "            if name.replace('\"','') == \"book_ticket\":\n",
    "                response, city = handle_tool_call1(message)\n",
    "                messages.append(message)\n",
    "                messages.append(response)\n",
    "                # image = artist(city)\n",
    "                response = openai.chat.completions.create(model=gpt_model, messages=messages, tools=tools)\n",
    "            elif name.replace('\"','') == \"get_ticket_price_availability\":\n",
    "                price = get_ticket_price(city)\n",
    "                availability = get_ticket_availability(city)\n",
    "                response = {\n",
    "                                \"role\": \"tool\",\n",
    "                                \"content\": json.dumps({\"destination_city\": city,\"price\": price,\"availability\": availability}),\n",
    "                                \"tool_call_id\": tool_call.id\n",
    "                            }\n",
    "                messages.append(message)\n",
    "                messages.append(response)\n",
    "                print(messages)\n",
    "                response = openai.chat.completions.create(model=gpt_model, messages=messages, tools=tools)                    \n",
    "            else:    \n",
    "                response, city = handle_tool_call1(message)\n",
    "                messages.append(message)\n",
    "                messages.append(response)\n",
    "                # image = artist(city)\n",
    "                response = openai.chat.completions.create(model=gpt_model, messages=messages, tools=tools)\n",
    "            \n",
    "    reply = response.choices[0].message.content\n",
    "    history += [{\"role\":\"assistant\", \"content\":reply}]\n",
    "\n",
    "    # Comment out or delete the next line if you'd rather skip Audio for now..\n",
    "    talker(reply)\n",
    "    \n",
    "    # return history, image\n",
    "    return history"
   ]
  },
  {
   "cell_type": "code",
   "execution_count": 0,
   "metadata": {
    "application/vnd.databricks.v1+cell": {
     "cellMetadata": {},
     "inputWidgets": {},
     "nuid": "70ed8945-5e55-43d4-9914-329166768fdd",
     "showTitle": false,
     "tableResultSettingsMap": {},
     "title": ""
    }
   },
   "outputs": [],
   "source": [
    "tools_claude=[\n",
    "                {\n",
    "                    \"name\": \"get_ticket_price_availability\",\n",
    "                    \"description\": \"Get the availability of a one-way ticket to the destination city or the price. Call this whenever you need to know the ticket price or availability or both, for example, when a customer asks 'What is the ticket availability and/ or price to this city'\",\n",
    "                    \"input_schema\": {\n",
    "                                    \"type\": \"object\",\n",
    "                                    \"properties\": {\n",
    "                                    \"destination_city\": {\n",
    "                                                            \"type\": \"string\",\n",
    "                                                            \"description\": \"The city that the customer wants to travel to\",\n",
    "                                                        },\n",
    "                                                  },\n",
    "                                    \"required\": [\"destination_city\"]\n",
    "                                    ,\"additionalProperties\": False\n",
    "                                    }\n",
    "                }\n",
    "            ]\n",
    "tool_choice = [{\"type\": \"tool\", \"name\": \"get_ticket_price_availability\"}]"
   ]
  },
  {
   "cell_type": "code",
   "execution_count": 0,
   "metadata": {
    "application/vnd.databricks.v1+cell": {
     "cellMetadata": {},
     "inputWidgets": {},
     "nuid": "6a409fdb-68cb-4bb3-a918-e90a92d2d0cc",
     "showTitle": false,
     "tableResultSettingsMap": {},
     "title": ""
    }
   },
   "outputs": [],
   "source": [
    "def chat_claude(history):\n",
    "    for element in history:\n",
    "        del element[\"metadata\"]\n",
    "        del element[\"options\"]\n",
    "\n",
    "    messages = history\n",
    "    response = claude.messages.create(\n",
    "        model=claude_model,\n",
    "        system=system_message,\n",
    "        messages=messages,\n",
    "        max_tokens=500,\n",
    "        tools=tools_claude\n",
    "    )\n",
    "    print(response.content[0])\n",
    "    if response.stop_reason==\"tool_use\":        \n",
    "        if \"text=\" in str(response.content[0]):\n",
    "        # if response.content[0].text is None:\n",
    "                tool_name = response.content[1].name\n",
    "                tool_input = response.content[1].input\n",
    "                tool_id = response.content[1].id\n",
    "                tool_use=response.content[1]\n",
    "        else:\n",
    "                tool_name = response.content[0].name\n",
    "                tool_input = response.content[0].input\n",
    "                tool_id = response.content[0].id\n",
    "                tool_use=response.content[0]\n",
    "        \n",
    "     \n",
    "        city = tool_input.get('destination_city')    \n",
    "        if tool_name == \"get_ticket_price_availability\":\n",
    "            price = get_ticket_price(city)\n",
    "            availability = get_ticket_availability(city)\n",
    "            result_dict = {\n",
    "                'destination_city': city,\n",
    "                'price': price,\n",
    "                'availability': availability\n",
    "            }\n",
    "            messages += [{\"role\": \"user\",\"content\": json.dumps(result_dict)}]\n",
    "        response = claude.messages.create(\n",
    "                model=claude_model,\n",
    "                system=system_message,\n",
    "                messages=messages,\n",
    "                max_tokens=500,\n",
    "                # tools=tools_claude\n",
    "            )    \n",
    "        history.pop(len(history)-1)\n",
    "        print(history)\n",
    "    reply = response.content[0].text\n",
    "    history += [{\"role\":\"assistant\", \"content\":reply}]\n",
    "    # Comment out or delete the next line if you'd rather skip Audio for now..\n",
    "    # talker(reply)\n",
    "    \n",
    "    # return history, image\n",
    "    return history"
   ]
  },
  {
   "cell_type": "code",
   "execution_count": 0,
   "metadata": {
    "application/vnd.databricks.v1+cell": {
     "cellMetadata": {},
     "inputWidgets": {},
     "nuid": "be184a72-2350-400b-a202-5d0f3b677694",
     "showTitle": false,
     "tableResultSettingsMap": {},
     "title": ""
    }
   },
   "outputs": [],
   "source": [
    "def chat1(history, Model):\n",
    "    # + [{\"role\": \"user\", \"content\": message}]\n",
    "    if Model==\"Open AI\":\n",
    "        history = chat_open_ai(history)\n",
    "    else:\n",
    "        history = chat_claude(history)\n",
    "    return history"
   ]
  },
  {
   "cell_type": "code",
   "execution_count": 0,
   "metadata": {
    "application/vnd.databricks.v1+cell": {
     "cellMetadata": {},
     "inputWidgets": {},
     "nuid": "27b521a2-4887-45b1-9f63-3b027281854f",
     "showTitle": false,
     "tableResultSettingsMap": {},
     "title": ""
    }
   },
   "outputs": [],
   "source": [
    "def listen2(history):\n",
    "    import speech_recognition as sr\n",
    "\n",
    "    r = sr.Recognizer()\n",
    "    with sr.Microphone() as source:\n",
    "        print(\"Speak now...\")\n",
    "        audio = r.listen(source, phrase_time_limit=30)\n",
    "        text=\"\"\n",
    "        try:\n",
    "            text = r.recognize_google(audio)\n",
    "            print(\"You said:\", text)\n",
    "        except sr.UnknownValueError:\n",
    "            print(\"Could not understand audio.\")\n",
    "\n",
    "        history += [{\"role\":\"user\", \"content\":text}]        \n",
    "        return \"\", history"
   ]
  },
  {
   "cell_type": "code",
   "execution_count": 0,
   "metadata": {
    "application/vnd.databricks.v1+cell": {
     "cellMetadata": {},
     "inputWidgets": {},
     "nuid": "fc1a4d0e-7e0a-47f8-8610-1f1ca38f138e",
     "showTitle": false,
     "tableResultSettingsMap": {},
     "title": ""
    }
   },
   "outputs": [],
   "source": [
    "# import speech_recognition as sr\n",
    "# from pydub import AudioSegment\n",
    "# import simpleaudio as sa\n",
    "\n",
    "# def listener():\n",
    "#     recognizer = sr.Recognizer()\n",
    "    \n",
    "#     with sr.Microphone() as source:\n",
    "#         print(\"Listening... Speak now!\")\n",
    "#         recognizer.adjust_for_ambient_noise(source)  # Adjust for background noise\n",
    "#         audio = recognizer.listen(source, phrase_time_limit=30)\n",
    "    \n",
    "#     try:\n",
    "#         print(\"Processing speech...\")\n",
    "#         text = recognizer.recognize_google(audio)  # Use Google Speech-to-Text\n",
    "#         print(f\"You said: {text}\")\n",
    "#         return text\n",
    "#     except sr.UnknownValueError:\n",
    "#         print(\"Sorry, I could not understand what you said.\")\n",
    "#         return None\n",
    "#     except sr.RequestError:\n",
    "#         print(\"Could not request results, please check your internet connection.\")\n",
    "#         return None\n",
    "\n",
    "# # Example usage:\n",
    "# # text = listener()  # Listen for speech\n",
    "# # if text:\n",
    "# #     print(f\"You just said: {text}\") "
   ]
  },
  {
   "cell_type": "code",
   "execution_count": 0,
   "metadata": {
    "application/vnd.databricks.v1+cell": {
     "cellMetadata": {},
     "inputWidgets": {},
     "nuid": "c005f9ea-5976-43e9-9386-d56741c90e62",
     "showTitle": false,
     "tableResultSettingsMap": {},
     "title": ""
    }
   },
   "outputs": [],
   "source": [
    "with gr.Blocks() as ui:\n",
    "    with gr.Row():\n",
    "        chatbot = gr.Chatbot(height=300, type=\"messages\")\n",
    "        # image_output = gr.Image(height=500)\n",
    "    with gr.Row():\n",
    "        Model = gr.Dropdown([\"Open AI\",\"Claude\"],\n",
    "                              # value=[\"Open AI\",\"Claude\"],\n",
    "                              multiselect=False,\n",
    "                              label=\"Model\",\n",
    "                              interactive=True)\n",
    "    with gr.Row():\n",
    "        entry = gr.Textbox(label=\"Chat with our AI Assistant:\")\n",
    "    with gr.Row():\n",
    "        speak = gr.Button(\"click for voice search\") \n",
    "    with gr.Row():\n",
    "        clear = gr.Button(\"Clear\")\n",
    "\n",
    "    def listen(history):\n",
    "        message, history=listen2(history)\n",
    "        return message, history\n",
    "\n",
    "    def do_entry(message, history):\n",
    "        history += [{\"role\":\"user\", \"content\":message}]\n",
    "        return \"\", history\n",
    "\n",
    "    entry.submit(do_entry, inputs=[entry, chatbot], outputs=[entry, chatbot]).then(\n",
    "        # chat, inputs=chatbot, outputs=[chatbot, image_output]\n",
    "        chat1, inputs=[chatbot, Model], outputs=[chatbot]\n",
    "    )\n",
    "    speak.click(listen, inputs=[chatbot], outputs=[entry, chatbot]).then(\n",
    "        chat1, inputs=[chatbot, Model], outputs=[chatbot]\n",
    "    )\n",
    "    clear.click(lambda: None, inputs=None, outputs=chatbot, queue=False)\n",
    "\n",
    "ui.launch(inbrowser=True)"
   ]
  },
  {
   "cell_type": "code",
   "execution_count": 0,
   "metadata": {
    "application/vnd.databricks.v1+cell": {
     "cellMetadata": {},
     "inputWidgets": {},
     "nuid": "20c86174-1338-4156-9b63-6d2bbb1aa292",
     "showTitle": false,
     "tableResultSettingsMap": {},
     "title": ""
    }
   },
   "outputs": [],
   "source": [
    "print(ticket_availability)"
   ]
  },
  {
   "cell_type": "code",
   "execution_count": 0,
   "metadata": {
    "application/vnd.databricks.v1+cell": {
     "cellMetadata": {},
     "inputWidgets": {},
     "nuid": "ef97f60b-47b4-499a-b240-81bc7ea41968",
     "showTitle": false,
     "tableResultSettingsMap": {},
     "title": ""
    }
   },
   "outputs": [],
   "source": []
  },
  {
   "cell_type": "code",
   "execution_count": 0,
   "metadata": {
    "application/vnd.databricks.v1+cell": {
     "cellMetadata": {},
     "inputWidgets": {},
     "nuid": "e7497da6-0f62-47e2-8ac0-65201b2c9631",
     "showTitle": false,
     "tableResultSettingsMap": {},
     "title": ""
    }
   },
   "outputs": [],
   "source": []
  }
 ],
 "metadata": {
  "application/vnd.databricks.v1+notebook": {
   "computePreferences": null,
   "dashboards": [],
   "environmentMetadata": null,
   "inputWidgetPreferences": null,
   "language": "python",
   "notebookMetadata": {},
   "notebookName": "AI Booking Chatbot",
   "widgets": {}
  },
  "kernelspec": {
   "display_name": "Python 3 (ipykernel)",
   "language": "python",
   "name": "python3"
  },
  "language_info": {
   "name": "python"
  }
 },
 "nbformat": 4,
 "nbformat_minor": 0
}
