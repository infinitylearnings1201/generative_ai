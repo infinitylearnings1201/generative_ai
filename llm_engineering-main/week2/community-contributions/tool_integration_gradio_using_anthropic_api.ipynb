{
 "cells": [
  {
   "cell_type": "markdown",
   "metadata": {
    "application/vnd.databricks.v1+cell": {
     "cellMetadata": {},
     "inputWidgets": {},
     "nuid": "22fcba39-de49-4780-87e3-c4ba5c285e5d",
     "showTitle": false,
     "tableResultSettingsMap": {},
     "title": ""
    },
    "panel-layout": {
     "height": 68.2639,
     "visible": true,
     "width": 100
    }
   },
   "source": [
    "# Project - Laptops Assistant\n",
    "\n",
    "A simple inventory tool integrated with Anthropic API"
   ]
  },
  {
   "cell_type": "code",
   "execution_count": 0,
   "metadata": {
    "application/vnd.databricks.v1+cell": {
     "cellMetadata": {},
     "inputWidgets": {},
     "nuid": "14c3494b-8d9a-4bc0-b0db-b6fa10a8bce0",
     "showTitle": false,
     "tableResultSettingsMap": {},
     "title": ""
    }
   },
   "outputs": [],
   "source": [
    "# imports\n",
    "\n",
    "import os\n",
    "import json\n",
    "from dotenv import load_dotenv\n",
    "import anthropic\n",
    "import gradio as gr"
   ]
  },
  {
   "cell_type": "code",
   "execution_count": 0,
   "metadata": {
    "application/vnd.databricks.v1+cell": {
     "cellMetadata": {},
     "inputWidgets": {},
     "nuid": "b2f49d70-5e92-4b9b-a33f-5677eff18219",
     "showTitle": false,
     "tableResultSettingsMap": {},
     "title": ""
    }
   },
   "outputs": [],
   "source": [
    "# Load environment variables in a file called .env\n",
    "# Print the key prefixes to help with any debugging\n",
    "\n",
    "load_dotenv(override=True)\n",
    "anthropic_api_key = os.getenv('ANTHROPIC_API_KEY')\n",
    "\n",
    "if anthropic_api_key:\n",
    "    print(f\"Anthropic API Key exists and begins {anthropic_api_key[:7]}\")\n",
    "else:\n",
    "    print(\"Anthropic API Key not set\")"
   ]
  },
  {
   "cell_type": "code",
   "execution_count": 0,
   "metadata": {
    "application/vnd.databricks.v1+cell": {
     "cellMetadata": {},
     "inputWidgets": {},
     "nuid": "1d2a49f5-6a07-49c6-a698-4ed794cbffa2",
     "showTitle": false,
     "tableResultSettingsMap": {},
     "title": ""
    }
   },
   "outputs": [],
   "source": [
    "# Connect to OpenAI, Anthropic and Google; comment out the Claude or Google lines if you're not using them\n",
    "\n",
    "claude = anthropic.Anthropic()"
   ]
  },
  {
   "cell_type": "code",
   "execution_count": 0,
   "metadata": {
    "application/vnd.databricks.v1+cell": {
     "cellMetadata": {},
     "inputWidgets": {},
     "nuid": "4ce17755-3f8f-4c84-97f2-4c08dcc1b0b4",
     "showTitle": false,
     "tableResultSettingsMap": {},
     "title": ""
    }
   },
   "outputs": [],
   "source": [
    "MODEL = \"claude-3-haiku-20240307\""
   ]
  },
  {
   "cell_type": "code",
   "execution_count": 0,
   "metadata": {
    "application/vnd.databricks.v1+cell": {
     "cellMetadata": {},
     "inputWidgets": {},
     "nuid": "fa011e96-887d-4da9-8093-c89ac4685065",
     "showTitle": false,
     "tableResultSettingsMap": {},
     "title": ""
    }
   },
   "outputs": [],
   "source": [
    "system_message = \"You are a helpful assistant for an  Inventory Sales called InvAI. \"\n",
    "system_message += \"Give short, courteous answers, no more than 1 sentence. \"\n",
    "system_message += \"Always be accurate. If you don't know the answer, say so.\""
   ]
  },
  {
   "cell_type": "code",
   "execution_count": 0,
   "metadata": {
    "application/vnd.databricks.v1+cell": {
     "cellMetadata": {},
     "inputWidgets": {},
     "nuid": "d179b94d-2dbf-4a53-90eb-3a7a344d1491",
     "showTitle": false,
     "tableResultSettingsMap": {},
     "title": ""
    }
   },
   "outputs": [],
   "source": [
    "laptop_items = [\n",
    "    {\n",
    "        \"model\": \"Aspire 3 A315-59-570Z OPI Pure Silver\", \n",
    "        \"brand\": \"Acer\",\n",
    "        \"price\": \"$595.96\"\n",
    "    },\n",
    "    {\n",
    "        \"model\": \"Aspire Lite 14 AL14-31P-36BE Pure Silver\", \n",
    "        \"brand\": \"Acer\",\n",
    "        \"price\": \"$463.52\"\n",
    "    },\n",
    "    {\n",
    "        \"model\": \"Raider 18 HX\",\n",
    "        \"brand\": \"MSI\",\n",
    "        \"price\": \"$235.25\"\n",
    "    }\n",
    "]"
   ]
  },
  {
   "cell_type": "code",
   "execution_count": 0,
   "metadata": {
    "application/vnd.databricks.v1+cell": {
     "cellMetadata": {},
     "inputWidgets": {},
     "nuid": "aabaa9f0-15c8-469f-809f-2ca87d447a4e",
     "showTitle": false,
     "tableResultSettingsMap": {},
     "title": ""
    }
   },
   "outputs": [],
   "source": [
    "def get_laptop_price(model):\n",
    "    print(f\"Tool get_laptop_price called for laptop model {model}\")\n",
    "    laptop_model = model.lower()\n",
    "    for item in laptop_items:\n",
    "        if laptop_model in item.get(\"model\").lower():\n",
    "            return item\n",
    "    return \"Unknown\""
   ]
  },
  {
   "cell_type": "code",
   "execution_count": 0,
   "metadata": {
    "application/vnd.databricks.v1+cell": {
     "cellMetadata": {},
     "inputWidgets": {},
     "nuid": "2e6f7eaf-f1a8-4a48-a075-cf2e74e603d9",
     "showTitle": false,
     "tableResultSettingsMap": {},
     "title": ""
    }
   },
   "outputs": [],
   "source": [
    "\n",
    "# get_laptop_price(\"Lite 14 AL14-31P-36BE Pure SilveR\")\n",
    "\n",
    "get_laptop_price(\"Aspire Lite 14\")"
   ]
  },
  {
   "cell_type": "code",
   "execution_count": 0,
   "metadata": {
    "application/vnd.databricks.v1+cell": {
     "cellMetadata": {},
     "inputWidgets": {},
     "nuid": "b4731d99-4b51-484a-ab76-5e01f09daa4f",
     "showTitle": false,
     "tableResultSettingsMap": {},
     "title": ""
    }
   },
   "outputs": [],
   "source": [
    "# There's a particular dictionary structure that's required to describe our function:\n",
    "\n",
    "price_function = {\n",
    "    \"name\": \"get_laptop_price\",\n",
    "    \"description\": (\n",
    "        \"Returns the laptop's price, brand, and exact model from a given query.\"\n",
    "        \"Use when the user asks about a laptop's price, e.g.,\"\n",
    "        \"'How much is this laptop?' → 'The Acer Aspire Lite 14 AL14-31P-36BE Pure Silver is priced at $463.52.'\"\n",
    "    ),\n",
    "    \"input_schema\": {\n",
    "      \"type\": \"object\",\n",
    "      \"properties\": {\n",
    "        \"model\": {\n",
    "          \"type\": \"string\",\n",
    "          \"description\": \"The model name of the laptop the customer is asking about.\"\n",
    "        }\n",
    "      },\n",
    "      \"required\": [\"model\"]\n",
    "    }\n",
    "}"
   ]
  },
  {
   "cell_type": "code",
   "execution_count": 0,
   "metadata": {
    "application/vnd.databricks.v1+cell": {
     "cellMetadata": {},
     "inputWidgets": {},
     "nuid": "eb7eb5aa-8d7e-42bb-a787-ad93d33dc0b6",
     "showTitle": false,
     "tableResultSettingsMap": {},
     "title": ""
    }
   },
   "outputs": [],
   "source": [
    "# And this is included in a list of tools:\n",
    "\n",
    "tools = [price_function]"
   ]
  },
  {
   "cell_type": "code",
   "execution_count": 0,
   "metadata": {
    "application/vnd.databricks.v1+cell": {
     "cellMetadata": {},
     "inputWidgets": {},
     "nuid": "03e81f4e-1d61-4e65-ab81-3e51981c3be9",
     "showTitle": false,
     "tableResultSettingsMap": {},
     "title": ""
    }
   },
   "outputs": [],
   "source": [
    "def chat(message, history):\n",
    "    print(history)\n",
    "    messages = [{\"role\": \"user\", \"content\": message}]\n",
    "\n",
    "    for history_message in history:\n",
    "        if history_message[\"role\"] == \"user\":\n",
    "            messages.append({\"role\": \"user\", \"content\": history_message[\"content\"]})\n",
    "        \n",
    "    response = claude.messages.create(model=MODEL, messages=messages, tools=tools, max_tokens=500)\n",
    "\n",
    "    if len(response.content) > 1:\n",
    "        assistant, user, laptop_model = handle_tool_call(response)\n",
    "        messages.append(assistant)\n",
    "        messages.append(user)\n",
    "        response = claude.messages.create(model=MODEL, messages=messages, tools=tools, max_tokens=500)\n",
    "\n",
    "\n",
    "    return response.content[0].text"
   ]
  },
  {
   "cell_type": "code",
   "execution_count": 0,
   "metadata": {
    "application/vnd.databricks.v1+cell": {
     "cellMetadata": {},
     "inputWidgets": {},
     "nuid": "6570498d-d7d2-461d-b2b1-9a9adac828fd",
     "showTitle": false,
     "tableResultSettingsMap": {},
     "title": ""
    }
   },
   "outputs": [],
   "source": [
    "# We have to write that function handle_tool_call:\n",
    "\n",
    "def handle_tool_call(message):\n",
    "    # laptop_model = message\n",
    "    laptop_model = message.content[1].input.get(\"model\")\n",
    "    laptop_item = get_laptop_price(laptop_model)\n",
    "    assistant = {\n",
    "        \"role\": \"assistant\",\n",
    "        \"content\": [\n",
    "            {\n",
    "                \"type\": \"text\",\n",
    "                \"text\": message.content[0].text\n",
    "            },\n",
    "            {\n",
    "                \"type\": \"tool_use\",\n",
    "                \"id\": message.content[1].id,\n",
    "                \"name\": message.content[1].name,\n",
    "                \"input\": message.content[1].input\n",
    "            }\n",
    "        ]\n",
    "    }\n",
    "    user = {\n",
    "        \"role\": \"user\",\n",
    "        \"content\": [\n",
    "            {\n",
    "                \"type\": \"tool_result\",\n",
    "                \"tool_use_id\": message.content[1].id,\n",
    "                # \"content\": laptop_item.get(\"price\")\n",
    "                \"content\": json.dumps(laptop_item)\n",
    "            }\n",
    "        ]\n",
    "    }\n",
    "    \n",
    "\n",
    "    return assistant, user, laptop_model"
   ]
  },
  {
   "cell_type": "code",
   "execution_count": 0,
   "metadata": {
    "application/vnd.databricks.v1+cell": {
     "cellMetadata": {},
     "inputWidgets": {},
     "nuid": "bb8691d6-b9be-43f1-99b7-1651b331d2b6",
     "showTitle": false,
     "tableResultSettingsMap": {},
     "title": ""
    }
   },
   "outputs": [],
   "source": [
    "gr.ChatInterface(fn=chat, type=\"messages\").launch()"
   ]
  }
 ],
 "metadata": {
  "application/vnd.databricks.v1+notebook": {
   "computePreferences": null,
   "dashboards": [],
   "environmentMetadata": null,
   "inputWidgetPreferences": null,
   "language": "python",
   "notebookMetadata": {},
   "notebookName": "tool_integration_gradio_using_anthropic_api",
   "widgets": {}
  },
  "kernelspec": {
   "display_name": "Python [conda env:base] *",
   "language": "python",
   "name": "conda-base-py"
  },
  "language_info": {
   "name": "python"
  },
  "panel-cell-order": [
   "3f9b483c-f410-4ad3-8f3a-e33527f30f8a"
  ]
 },
 "nbformat": 4,
 "nbformat_minor": 0
}
