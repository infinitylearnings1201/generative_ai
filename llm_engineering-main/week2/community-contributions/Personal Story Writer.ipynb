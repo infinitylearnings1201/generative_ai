{
 "cells": [
  {
   "cell_type": "code",
   "execution_count": 0,
   "metadata": {
    "application/vnd.databricks.v1+cell": {
     "cellMetadata": {},
     "inputWidgets": {},
     "nuid": "09aae210-d25a-499b-bdf1-2d7548764173",
     "showTitle": false,
     "tableResultSettingsMap": {},
     "title": ""
    }
   },
   "outputs": [],
   "source": [
    "# imports\n",
    "\n",
    "from dotenv import load_dotenv\n",
    "import anthropic\n",
    "import requests\n",
    "from bs4 import BeautifulSoup\n",
    "from selenium import webdriver\n",
    "from selenium.webdriver.chrome.options import Options\n",
    "import os\n",
    "import json\n",
    "from typing import List\n",
    "from dotenv import load_dotenv\n",
    "from IPython.display import Markdown, display, update_display\n",
    "from openai import OpenAI\n",
    "import gradio as gr # oh yeah!"
   ]
  },
  {
   "cell_type": "code",
   "execution_count": 0,
   "metadata": {
    "application/vnd.databricks.v1+cell": {
     "cellMetadata": {},
     "inputWidgets": {},
     "nuid": "11af4bec-28eb-40ca-b576-aea021e92a1d",
     "showTitle": false,
     "tableResultSettingsMap": {},
     "title": ""
    }
   },
   "outputs": [],
   "source": [
    "# Load environment variables in a file called .env\n",
    "# Print the key prefixes to help with any debugging\n",
    "\n",
    "load_dotenv(override=True)\n",
    "openai_api_key = os.getenv('OPENAI_API_KEY')\n",
    "anthropic_api_key = os.getenv('ANTHROPIC_API_KEY')\n",
    "\n",
    "if openai_api_key:\n",
    "    print(f\"OpenAI API Key exists and begins {openai_api_key[:8]}\")\n",
    "else:\n",
    "    print(\"OpenAI API Key not set\")\n",
    "    \n",
    "if anthropic_api_key:\n",
    "    print(f\"Anthropic API Key exists and begins {anthropic_api_key[:7]}\")\n",
    "else:\n",
    "    print(\"Anthropic API Key not set\")"
   ]
  },
  {
   "cell_type": "code",
   "execution_count": 0,
   "metadata": {
    "application/vnd.databricks.v1+cell": {
     "cellMetadata": {},
     "inputWidgets": {},
     "nuid": "8eb41caa-b475-4a4a-b3c0-348080ed17fe",
     "showTitle": false,
     "tableResultSettingsMap": {},
     "title": ""
    }
   },
   "outputs": [],
   "source": [
    "# Connect to OpenAI, Anthropic\n",
    "\n",
    "openai = OpenAI()\n",
    "\n",
    "claude = anthropic.Anthropic()"
   ]
  },
  {
   "cell_type": "code",
   "execution_count": 0,
   "metadata": {
    "application/vnd.databricks.v1+cell": {
     "cellMetadata": {},
     "inputWidgets": {},
     "nuid": "72b2809d-7599-46a2-b13c-6cc9a42984ec",
     "showTitle": false,
     "tableResultSettingsMap": {},
     "title": ""
    }
   },
   "outputs": [],
   "source": [
    "gpt_model = \"gpt-4o-mini\"\n",
    "claude_model = \"claude-3-haiku-20240307\"\n",
    "\n",
    "gpt_name=\"GPT\"\n",
    "claude_name=\"Claude\"\n"
   ]
  },
  {
   "cell_type": "code",
   "execution_count": 0,
   "metadata": {
    "application/vnd.databricks.v1+cell": {
     "cellMetadata": {},
     "inputWidgets": {},
     "nuid": "d8535ea6-31c0-49af-b4c0-9058025fe94b",
     "showTitle": false,
     "tableResultSettingsMap": {},
     "title": ""
    }
   },
   "outputs": [],
   "source": [
    "def call_gpt(Language, Genre, gpt_messages, claude_messages, Remarks):\n",
    "  \n",
    "    if Remarks == \"\":\n",
    "        # print(\"remarks is not there\")\n",
    "        gpt_system = f\"You are a chatbot who is a short story writer; Your name is g1. \\\n",
    "        Please write a story in markdown in {Language} , the genre being {Genre}. \\\n",
    "        Please also incorporate feedback such as areas of improvement (if any) coming from the user \\\n",
    "        and only publish the improved version without any extra comments.\"\n",
    "    else :\n",
    "        # print(\"remarks is there\")\n",
    "        gpt_system = f\"You are a chatbot who is a short story writer; Your name is g1. \\\n",
    "        Please write a story in markdown in {Language} , the genre being {Genre}. \\\n",
    "        The story should consist {Remarks}\\\n",
    "        Please also incorporate feedback such as areas of improvement (if any) coming from the user \\\n",
    "        and only publish the improved version without any extra comments.\"\n",
    "    \n",
    "    messages = [{\"role\": \"system\", \"content\": gpt_system}]\n",
    "    for gpt, claude in zip(gpt_messages, claude_messages):\n",
    "        messages.append({\"role\": \"assistant\", \"content\": gpt})\n",
    "        messages.append({\"role\": \"user\", \"content\": claude})\n",
    "    # print(messages)\n",
    "   \n",
    "    completion = openai.chat.completions.create(\n",
    "        model=gpt_model,\n",
    "        messages=messages\n",
    "    )\n",
    "    return completion.choices[0].message.content\n",
    "    \n",
    "    # stream = openai.chat.completions.create(\n",
    "    #     model=gpt_model,\n",
    "    #     messages=messages,\n",
    "    #     stream=True\n",
    "    # )\n",
    "    # result = \"\"\n",
    "    # for chunk in stream:\n",
    "    #     result += chunk.choices[0].delta.content or \"\"\n",
    "    #     yield result"
   ]
  },
  {
   "cell_type": "code",
   "execution_count": 0,
   "metadata": {
    "application/vnd.databricks.v1+cell": {
     "cellMetadata": {},
     "inputWidgets": {},
     "nuid": "e360faff-d013-4124-bdde-54cc8db980dd",
     "showTitle": false,
     "tableResultSettingsMap": {},
     "title": ""
    }
   },
   "outputs": [],
   "source": [
    "# call_gpt()"
   ]
  },
  {
   "cell_type": "code",
   "execution_count": 0,
   "metadata": {
    "application/vnd.databricks.v1+cell": {
     "cellMetadata": {},
     "inputWidgets": {},
     "nuid": "6f58ca24-d87e-46cc-8a19-e2a2a985eeda",
     "showTitle": false,
     "tableResultSettingsMap": {},
     "title": ""
    }
   },
   "outputs": [],
   "source": [
    "def call_claude(Language, Genre, gpt_messages, claude_messages):\n",
    "\n",
    "    claude_system = f\"You are a chatbot who is a short story analyser; Your name is c1. \\\n",
    "    You will accept an input story in {Genre} genre and {Language} language and publish only the areas of improvement if you find any with no other comments\"\n",
    "    \n",
    "    messages1 = []\n",
    "    for gpt, claude1 in zip(gpt_messages, claude_messages):\n",
    "        messages1.append({\"role\": \"user\", \"content\": gpt})\n",
    "        messages1.append({\"role\": \"assistant\", \"content\": claude1})\n",
    "    messages1.append({\"role\": \"user\", \"content\": gpt_messages[-1]})\n",
    "    # print(messages1)\n",
    "    message = claude.messages.create(\n",
    "        model=claude_model,\n",
    "        system=claude_system,\n",
    "        messages=messages1,\n",
    "        max_tokens=500\n",
    "    )\n",
    "    return message.content[0].text\n",
    "\n",
    "    # result = claude.messages.stream(\n",
    "    #     model=claude_model,\n",
    "    #     max_tokens=1000,\n",
    "    #     temperature=0.7,\n",
    "    #     system=claude_system,\n",
    "    #     messages=messages\n",
    "    # )\n",
    "    # response = \"\"\n",
    "    # with result as stream:\n",
    "    #     for text in stream.text_stream:\n",
    "    #         response += text or \"\"\n",
    "    #         yield response\n",
    "\n",
    "   "
   ]
  },
  {
   "cell_type": "code",
   "execution_count": 0,
   "metadata": {
    "application/vnd.databricks.v1+cell": {
     "cellMetadata": {},
     "inputWidgets": {},
     "nuid": "ec913cb3-5340-4886-861b-fb196f60e344",
     "showTitle": false,
     "tableResultSettingsMap": {},
     "title": ""
    }
   },
   "outputs": [],
   "source": [
    "def Write_Me(Language, Genre, Iterations, Remarks):\n",
    "    \n",
    "    gpt_messages = [\"Hi I will share a story now!!\"]\n",
    "    claude_messages = [\"Please share, I will critique the story.\"]\n",
    "    \n",
    "    print(f\"{gpt_name}:\\n{gpt_messages[0]}\\n\")\n",
    "    print(f\"{claude_name}:\\n{claude_messages[0]}\\n\")\n",
    "\n",
    "    for i in range(int(Iterations)):\n",
    "        gpt_next = call_gpt(Language, Genre, gpt_messages, claude_messages, Remarks)\n",
    "        print(f\"{gpt_name}:\\n{gpt_next}\\n\")\n",
    "        # yield gpt_next\n",
    "        gpt_messages.append(gpt_next)\n",
    "    \n",
    "        claude_next = f\"After {i+1} iterations, this is the critique for the provided story - \\\n",
    "        \\n\\n{call_claude(Language, Genre, gpt_messages, claude_messages)}\"\n",
    "        print(f\"{claude_name}:\\n{claude_next}\\n\")\n",
    "        # yield claude_next\n",
    "        claude_messages.append(claude_next)\n",
    "\n",
    "        yield gpt_next, claude_next\n",
    "        \n",
    "    # yield gpt_next, claude_next\n",
    "    # return (gpt_next, claude_next)"
   ]
  },
  {
   "cell_type": "code",
   "execution_count": 0,
   "metadata": {
    "application/vnd.databricks.v1+cell": {
     "cellMetadata": {},
     "inputWidgets": {},
     "nuid": "9052c489-2e4c-4a04-995f-0a9758b94cb2",
     "showTitle": false,
     "tableResultSettingsMap": {},
     "title": ""
    }
   },
   "outputs": [],
   "source": [
    "view = gr.Interface(\n",
    "    fn=Write_Me,\n",
    "    inputs=[gr.Dropdown([\"English\",\"Bengali\",\"Hindi\",\"French\",\"Spanish\"],label = \"Language\"),\n",
    "            gr.Dropdown([\"Romantic\",\"Horror\",\"Comedy\",\"Romantic Comedy\",\"Horror Comedy\"],label = \"Genre\"),\n",
    "            gr.Textbox(label=\"Iterations:\", lines=1),\n",
    "            gr.Textbox(label=\"Remarks:\", lines=1)],\n",
    "    outputs=[gr.Markdown(label=\"Short Story:\"),\n",
    "             gr.Textbox(label=\"Critique:\", lines=8)],\n",
    "    flagging_mode=\"never\")\n",
    "view.launch(inbrowser=True)"
   ]
  },
  {
   "cell_type": "code",
   "execution_count": 0,
   "metadata": {
    "application/vnd.databricks.v1+cell": {
     "cellMetadata": {},
     "inputWidgets": {},
     "nuid": "874d63d5-a3ae-4727-9754-3d1fc3b823c5",
     "showTitle": false,
     "tableResultSettingsMap": {},
     "title": ""
    }
   },
   "outputs": [],
   "source": []
  },
  {
   "cell_type": "code",
   "execution_count": 0,
   "metadata": {
    "application/vnd.databricks.v1+cell": {
     "cellMetadata": {},
     "inputWidgets": {},
     "nuid": "ba746b93-2be8-4655-931b-26320a09219c",
     "showTitle": false,
     "tableResultSettingsMap": {},
     "title": ""
    }
   },
   "outputs": [],
   "source": []
  },
  {
   "cell_type": "code",
   "execution_count": 0,
   "metadata": {
    "application/vnd.databricks.v1+cell": {
     "cellMetadata": {},
     "inputWidgets": {},
     "nuid": "70a5d9f4-229c-4441-a1ab-e25462a60ecf",
     "showTitle": false,
     "tableResultSettingsMap": {},
     "title": ""
    }
   },
   "outputs": [],
   "source": []
  }
 ],
 "metadata": {
  "application/vnd.databricks.v1+notebook": {
   "computePreferences": null,
   "dashboards": [],
   "environmentMetadata": null,
   "inputWidgetPreferences": null,
   "language": "python",
   "notebookMetadata": {},
   "notebookName": "Personal Story Writer",
   "widgets": {}
  },
  "kernelspec": {
   "display_name": "Python 3 (ipykernel)",
   "language": "python",
   "name": "python3"
  },
  "language_info": {
   "name": "python"
  }
 },
 "nbformat": 4,
 "nbformat_minor": 0
}
