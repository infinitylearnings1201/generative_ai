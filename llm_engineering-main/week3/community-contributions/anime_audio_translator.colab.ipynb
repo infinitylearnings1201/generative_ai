{
 "cells": [
  {
   "cell_type": "code",
   "execution_count": 0,
   "metadata": {
    "application/vnd.databricks.v1+cell": {
     "cellMetadata": {},
     "inputWidgets": {},
     "nuid": "c0f9db7a-7e5d-4808-afca-791e682df6a6",
     "showTitle": false,
     "tableResultSettingsMap": {},
     "title": ""
    },
    "id": "kayiMLgsBnVt"
   },
   "outputs": [],
   "source": [
    "!pip install -q requests torch bitsandbytes transformers sentencepiece accelerate openai gradio"
   ]
  },
  {
   "cell_type": "code",
   "execution_count": 0,
   "metadata": {
    "application/vnd.databricks.v1+cell": {
     "cellMetadata": {},
     "inputWidgets": {},
     "nuid": "4e41d150-d296-449c-808d-53a8c735a88b",
     "showTitle": false,
     "tableResultSettingsMap": {},
     "title": ""
    },
    "executionInfo": {
     "elapsed": 15255,
     "status": "ok",
     "timestamp": 1744678358807,
     "user": {
      "displayName": "Kenneth Andales",
      "userId": "04047926009324958530"
     },
     "user_tz": -480
    },
    "id": "ByKEQHyhiLl7"
   },
   "outputs": [],
   "source": [
    "import os\n",
    "import requests\n",
    "from IPython.display import Markdown, display, update_display\n",
    "from openai import OpenAI\n",
    "from google.colab import drive, userdata\n",
    "from huggingface_hub import login\n",
    "from transformers import AutoTokenizer, AutoModelForCausalLM, BitsAndBytesConfig, TextStreamer\n",
    "import torch\n",
    "import gradio as gr"
   ]
  },
  {
   "cell_type": "code",
   "execution_count": 0,
   "metadata": {
    "application/vnd.databricks.v1+cell": {
     "cellMetadata": {},
     "inputWidgets": {},
     "nuid": "ca680475-1e79-45c1-a1cc-381b1b11ed0c",
     "showTitle": false,
     "tableResultSettingsMap": {},
     "title": ""
    },
    "executionInfo": {
     "elapsed": 2,
     "status": "ok",
     "timestamp": 1744678358815,
     "user": {
      "displayName": "Kenneth Andales",
      "userId": "04047926009324958530"
     },
     "user_tz": -480
    },
    "id": "9tzK_t3jiOo1"
   },
   "outputs": [],
   "source": [
    "AUDIO_MODEL = 'whisper-1'\n",
    "LLAMA = \"meta-llama/Meta-Llama-3.1-8B-Instruct\""
   ]
  },
  {
   "cell_type": "code",
   "execution_count": 0,
   "metadata": {
    "application/vnd.databricks.v1+cell": {
     "cellMetadata": {},
     "inputWidgets": {},
     "nuid": "48e922e4-a850-44c5-8d44-ed6de04250e9",
     "showTitle": false,
     "tableResultSettingsMap": {},
     "title": ""
    },
    "executionInfo": {
     "elapsed": 737,
     "status": "ok",
     "timestamp": 1744678360474,
     "user": {
      "displayName": "Kenneth Andales",
      "userId": "04047926009324958530"
     },
     "user_tz": -480
    },
    "id": "PYNmGaQniW73"
   },
   "outputs": [],
   "source": [
    "hf_token = userdata.get('HF_TOKEN')\n",
    "login(hf_token, add_to_git_credential=True)"
   ]
  },
  {
   "cell_type": "code",
   "execution_count": 0,
   "metadata": {
    "application/vnd.databricks.v1+cell": {
     "cellMetadata": {},
     "inputWidgets": {},
     "nuid": "4f5264a4-63a0-4613-838d-234a5ea40a98",
     "showTitle": false,
     "tableResultSettingsMap": {},
     "title": ""
    },
    "executionInfo": {
     "elapsed": 555,
     "status": "ok",
     "timestamp": 1744678362522,
     "user": {
      "displayName": "Kenneth Andales",
      "userId": "04047926009324958530"
     },
     "user_tz": -480
    },
    "id": "yGjVTeMEig-b"
   },
   "outputs": [],
   "source": [
    "openai_api_key = userdata.get(\"OPENAI_API_KEY\")\n",
    "openai = OpenAI(api_key=openai_api_key)"
   ]
  },
  {
   "cell_type": "code",
   "execution_count": 0,
   "metadata": {
    "application/vnd.databricks.v1+cell": {
     "cellMetadata": {},
     "inputWidgets": {},
     "nuid": "73628815-7d1a-4ca5-8e2a-63d7d563c783",
     "showTitle": false,
     "tableResultSettingsMap": {},
     "title": ""
    },
    "executionInfo": {
     "elapsed": 9,
     "status": "ok",
     "timestamp": 1744679561600,
     "user": {
      "displayName": "Kenneth Andales",
      "userId": "04047926009324958530"
     },
     "user_tz": -480
    },
    "id": "6jboyASHilLz"
   },
   "outputs": [],
   "source": [
    "def message_prompt(transciption):\n",
    "  system_message = \"\"\"\n",
    "      You are an assistant that translate japanese text into two different languages like 'English' and 'Filipino',\n",
    "      please display the translated text into markdown and include the original text from japanese using 'Romaji',\n",
    "      sample format would be - original text (converted to romaji): orignal_translated_text_here \\n\\n translated to english: translated_english_text_here \\n\\n translated to filipino: translated_filipino_text_here\"\n",
    "  \"\"\"\n",
    "\n",
    "  user_propmpt = f\"Here is the transcripted japanese audio and translate it into two languages: '{transciption}'. No explaination just the translated languages only.\"\n",
    "\n",
    "  messages = [\n",
    "      {\"role\": \"system\", \"content\": system_message},\n",
    "      {\"role\": \"user\", \"content\": user_propmpt}\n",
    "  ]\n",
    "\n",
    "  return messages"
   ]
  },
  {
   "cell_type": "code",
   "execution_count": 0,
   "metadata": {
    "application/vnd.databricks.v1+cell": {
     "cellMetadata": {},
     "inputWidgets": {},
     "nuid": "0ad2790f-80b0-4710-8829-fdd9fa04a09a",
     "showTitle": false,
     "tableResultSettingsMap": {},
     "title": ""
    },
    "executionInfo": {
     "elapsed": 7,
     "status": "ok",
     "timestamp": 1744678366113,
     "user": {
      "displayName": "Kenneth Andales",
      "userId": "04047926009324958530"
     },
     "user_tz": -480
    },
    "id": "nYrf_wKmmoUs"
   },
   "outputs": [],
   "source": [
    "quant_config = BitsAndBytesConfig(\n",
    "    load_in_4bit=True,\n",
    "    bnb_4bit_use_double_quant=True,\n",
    "    bnb_4bit_quant_type=\"nf4\",\n",
    "    bnb_4bit_compute_dtype=torch.bfloat16\n",
    ")"
   ]
  },
  {
   "cell_type": "code",
   "execution_count": 0,
   "metadata": {
    "application/vnd.databricks.v1+cell": {
     "cellMetadata": {},
     "inputWidgets": {},
     "nuid": "ae928cd6-26c4-41b5-b139-b9d5a940cf78",
     "showTitle": false,
     "tableResultSettingsMap": {},
     "title": ""
    },
    "executionInfo": {
     "elapsed": 7,
     "status": "ok",
     "timestamp": 1744678367778,
     "user": {
      "displayName": "Kenneth Andales",
      "userId": "04047926009324958530"
     },
     "user_tz": -480
    },
    "id": "ESlOaRGioqUQ"
   },
   "outputs": [],
   "source": [
    "def translation(messages):\n",
    "  tokenizer = AutoTokenizer.from_pretrained(LLAMA)\n",
    "  tokenizer.pad_token = tokenizer.eos_token\n",
    "  inputs = tokenizer.apply_chat_template(messages, return_tensors=\"pt\").to(\"cuda\")\n",
    "  streamer = TextStreamer(tokenizer)\n",
    "  model = AutoModelForCausalLM.from_pretrained(LLAMA, device_map=\"auto\", quantization_config=quant_config)\n",
    "  outputs = model.generate(inputs, max_new_tokens=2000, streamer=streamer)\n",
    "\n",
    "  return tokenizer.decode(outputs[0])"
   ]
  },
  {
   "cell_type": "code",
   "execution_count": 0,
   "metadata": {
    "application/vnd.databricks.v1+cell": {
     "cellMetadata": {},
     "inputWidgets": {},
     "nuid": "840de93d-08b6-4518-947d-771d420d089c",
     "showTitle": false,
     "tableResultSettingsMap": {},
     "title": ""
    },
    "executionInfo": {
     "elapsed": 6,
     "status": "ok",
     "timestamp": 1744679567326,
     "user": {
      "displayName": "Kenneth Andales",
      "userId": "04047926009324958530"
     },
     "user_tz": -480
    },
    "id": "FSGFTvIEys0j"
   },
   "outputs": [],
   "source": [
    "def translate_text(file):\n",
    "  try:\n",
    "    audio_file = open(file, \"rb\")\n",
    "\n",
    "    transciption = openai.audio.transcriptions.create(\n",
    "        model=AUDIO_MODEL,\n",
    "        file=audio_file,\n",
    "        response_format=\"text\",\n",
    "        language=\"ja\"\n",
    "    )\n",
    "\n",
    "    messages = message_prompt(transciption)\n",
    "    response = translation(messages)\n",
    "\n",
    "    return response\n",
    "  except Exception as e:\n",
    "    return f\"Unexpected error: {str(e)}\""
   ]
  },
  {
   "cell_type": "code",
   "execution_count": 0,
   "metadata": {
    "application/vnd.databricks.v1+cell": {
     "cellMetadata": {},
     "inputWidgets": {},
     "nuid": "33fc86b5-dee6-47ff-91e4-6028f9c4d80c",
     "showTitle": false,
     "tableResultSettingsMap": {},
     "title": ""
    },
    "id": "bexgSsWuvUmU"
   },
   "outputs": [],
   "source": [
    "with gr.Blocks() as demo:\n",
    "    gr.Markdown(\"# 🎙️ Anime Audio Translator\")\n",
    "    with gr.Row():\n",
    "        with gr.Column():\n",
    "          audio_file = gr.Audio(type=\"filepath\", label=\"Upload Audio\")\n",
    "          button = gr.Button(\"Translate\", variant=\"primary\")\n",
    "\n",
    "        with gr.Column():\n",
    "          gr.Label(value=\"Result of translated text to 'English' and 'Filipino'\", label=\"Character\")\n",
    "          output_text = gr.Markdown()\n",
    "\n",
    "    button.click(\n",
    "        fn=translate_text,\n",
    "        inputs=audio_file,\n",
    "        outputs=output_text,\n",
    "        trigger_mode=\"once\"\n",
    "    )\n",
    "demo.launch()"
   ]
  }
 ],
 "metadata": {
  "accelerator": "GPU",
  "application/vnd.databricks.v1+notebook": {
   "computePreferences": null,
   "dashboards": [],
   "environmentMetadata": null,
   "inputWidgetPreferences": null,
   "language": "python",
   "notebookMetadata": {},
   "notebookName": "anime_audio_translator.colab",
   "widgets": {}
  },
  "colab": {
   "authorship_tag": "ABX9TyO+HrhlkaVchpoGIfmYAHdf",
   "gpuType": "T4",
   "provenance": []
  },
  "kernelspec": {
   "display_name": "Python [conda env:base] *",
   "language": "python",
   "name": "conda-base-py"
  },
  "language_info": {
   "name": "python"
  }
 },
 "nbformat": 4,
 "nbformat_minor": 0
}
