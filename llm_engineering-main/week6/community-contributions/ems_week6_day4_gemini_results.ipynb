{
 "cells": [
  {
   "cell_type": "markdown",
   "metadata": {
    "application/vnd.databricks.v1+cell": {
     "cellMetadata": {},
     "inputWidgets": {},
     "nuid": "9d4b5a98-d7d6-4be0-9a02-41b63fbb4b06",
     "showTitle": false,
     "tableResultSettingsMap": {},
     "title": ""
    }
   },
   "source": [
    "# The Product Pricer Continued...\n",
    "\n",
    "## Testing Gemini-1.5-pro model"
   ]
  },
  {
   "cell_type": "code",
   "execution_count": 0,
   "metadata": {
    "application/vnd.databricks.v1+cell": {
     "cellMetadata": {},
     "inputWidgets": {},
     "nuid": "b8031b10-c721-41bf-991f-334485395eab",
     "showTitle": false,
     "tableResultSettingsMap": {},
     "title": ""
    }
   },
   "outputs": [],
   "source": [
    "import os\n",
    "import re\n",
    "from dotenv import load_dotenv\n",
    "import matplotlib.pyplot as plt\n",
    "import pickle\n",
    "import google.generativeai as google_genai\n",
    "import time"
   ]
  },
  {
   "cell_type": "code",
   "execution_count": 0,
   "metadata": {
    "application/vnd.databricks.v1+cell": {
     "cellMetadata": {},
     "inputWidgets": {},
     "nuid": "494fd204-4ec1-4d07-989e-4162eae859b4",
     "showTitle": false,
     "tableResultSettingsMap": {},
     "title": ""
    }
   },
   "outputs": [],
   "source": [
    "from items import Item\n",
    "from testing import Tester "
   ]
  },
  {
   "cell_type": "code",
   "execution_count": 0,
   "metadata": {
    "application/vnd.databricks.v1+cell": {
     "cellMetadata": {},
     "inputWidgets": {},
     "nuid": "410afbf7-0893-49f9-aa73-41cd118fb1c4",
     "showTitle": false,
     "tableResultSettingsMap": {},
     "title": ""
    }
   },
   "outputs": [],
   "source": [
    "# environment\n",
    "load_dotenv()\n",
    "os.environ['GOOGLE_API_KEY'] = os.getenv('GOOGLE_API_KEY', 'your-key-if-not-using-env')"
   ]
  },
  {
   "cell_type": "code",
   "execution_count": 0,
   "metadata": {
    "application/vnd.databricks.v1+cell": {
     "cellMetadata": {},
     "inputWidgets": {},
     "nuid": "69c5ad4e-e8b7-49cc-96e0-9e254ef83dbb",
     "showTitle": false,
     "tableResultSettingsMap": {},
     "title": ""
    }
   },
   "outputs": [],
   "source": [
    "google_genai.configure()"
   ]
  },
  {
   "cell_type": "code",
   "execution_count": 0,
   "metadata": {
    "application/vnd.databricks.v1+cell": {
     "cellMetadata": {},
     "inputWidgets": {},
     "nuid": "5e604545-6212-4566-9592-74075093b43f",
     "showTitle": false,
     "tableResultSettingsMap": {},
     "title": ""
    }
   },
   "outputs": [],
   "source": [
    "%matplotlib inline"
   ]
  },
  {
   "cell_type": "code",
   "execution_count": 0,
   "metadata": {
    "application/vnd.databricks.v1+cell": {
     "cellMetadata": {},
     "inputWidgets": {},
     "nuid": "26a89b6e-2b9f-4c35-b654-3346ce22bc9c",
     "showTitle": false,
     "tableResultSettingsMap": {},
     "title": ""
    }
   },
   "outputs": [],
   "source": [
    "# Load in the pickle files that are located in the `pickled_dataset` folder\n",
    "with open('train.pkl', 'rb') as file:\n",
    "    train = pickle.load(file)\n",
    "\n",
    "with open('test.pkl', 'rb') as file:\n",
    "    test = pickle.load(file)"
   ]
  },
  {
   "cell_type": "code",
   "execution_count": 0,
   "metadata": {
    "application/vnd.databricks.v1+cell": {
     "cellMetadata": {},
     "inputWidgets": {},
     "nuid": "e471bd02-25b1-4ee0-9eb2-ddf7db0f916a",
     "showTitle": false,
     "tableResultSettingsMap": {},
     "title": ""
    }
   },
   "outputs": [],
   "source": [
    "# Function to create the messages format required for Gemini 1.5 Pro\n",
    "# This function prepares the system and user messages in the format expected by Gemini models.\n",
    "def gemini_messages_for(item):\n",
    "    system_message = \"You estimate prices of items. Reply only with the price, no explanation\"\n",
    "    \n",
    "    # Modify the test prompt by removing \"to the nearest dollar\" and \"Price is $\"\n",
    "    # This ensures that the model receives a cleaner, simpler prompt.\n",
    "    user_prompt = item.test_prompt().replace(\" to the nearest dollar\", \"\").replace(\"\\n\\nPrice is $\", \"\")\n",
    "\n",
    "    # Reformat messages to Gemini’s expected format: messages = [{'role':'user', 'parts': ['hello']}]\n",
    "    return [\n",
    "        {\"role\": \"system\", \"parts\": [system_message]},  # System-level instruction\n",
    "        {\"role\": \"user\", \"parts\": [user_prompt]},       # User's query\n",
    "        {\"role\": \"model\", \"parts\": [\"Price is $\"]}  # Assistant's expected prefix for response\n",
    "    ]"
   ]
  },
  {
   "cell_type": "code",
   "execution_count": 0,
   "metadata": {
    "application/vnd.databricks.v1+cell": {
     "cellMetadata": {},
     "inputWidgets": {},
     "nuid": "6e2cf3e8-7877-4492-8f5a-afc9ff1e6318",
     "showTitle": false,
     "tableResultSettingsMap": {},
     "title": ""
    }
   },
   "outputs": [],
   "source": [
    "# Example usage of the gemini_messages_for function\n",
    "gemini_messages_for(test[0])  # Generate message structure for the first test item"
   ]
  },
  {
   "cell_type": "code",
   "execution_count": 0,
   "metadata": {
    "application/vnd.databricks.v1+cell": {
     "cellMetadata": {},
     "inputWidgets": {},
     "nuid": "ba43bdfc-12f7-4a74-8e6c-50775a8005c6",
     "showTitle": false,
     "tableResultSettingsMap": {},
     "title": ""
    }
   },
   "outputs": [],
   "source": [
    "# Utility function to extract the numerical price from a given string\n",
    "# This function removes currency symbols and commas, then extracts the first number found.\n",
    "def get_price(s):\n",
    "    s = s.replace('$', '').replace(',', '')  # Remove currency symbols and formatting\n",
    "    match = re.search(r\"[-+]?\\d*\\.\\d+|\\d+\", s)  # Regular expression to find a number\n",
    "    return float(match.group()) if match else 0  # Convert matched value to float, return 0 if no match"
   ]
  },
  {
   "cell_type": "code",
   "execution_count": 0,
   "metadata": {
    "application/vnd.databricks.v1+cell": {
     "cellMetadata": {},
     "inputWidgets": {},
     "nuid": "9eedc770-2117-4351-81b2-5a0d960b104e",
     "showTitle": false,
     "tableResultSettingsMap": {},
     "title": ""
    }
   },
   "outputs": [],
   "source": [
    "# Example usage of get_price function\n",
    "get_price(\"The price is roughly $99.99 because blah blah\")  # Expected output: 99.99"
   ]
  },
  {
   "cell_type": "code",
   "execution_count": 0,
   "metadata": {
    "application/vnd.databricks.v1+cell": {
     "cellMetadata": {},
     "inputWidgets": {},
     "nuid": "2388f5d3-441b-412c-b26d-01c5a5a8a07b",
     "showTitle": false,
     "tableResultSettingsMap": {},
     "title": ""
    }
   },
   "outputs": [],
   "source": [
    "# Function to get the estimated price using Gemini 1.5 Pro\n",
    "def gemini_1_point_5_pro(item):\n",
    "    messages = gemini_messages_for(item)  # Generate messages for the model\n",
    "    system_message = messages[0]['parts'][0]  # Extract system-level instruction\n",
    "    user_messages = messages[1:]  # Remove system message from messages list\n",
    "    \n",
    "    # Initialize Gemini 1.5 Pro model with system instruction\n",
    "    gemini = google_genai.GenerativeModel(\n",
    "        model_name=\"gemini-1.5-pro\",\n",
    "        system_instruction=system_message\n",
    "    )\n",
    "\n",
    "    # Generate response using Gemini API\n",
    "    response = gemini.generate_content(\n",
    "        contents=user_messages,\n",
    "        generation_config=google_genai.GenerationConfig(max_output_tokens=5)\n",
    "    )\n",
    "\n",
    "    # Extract text response and convert to numerical price\n",
    "    return get_price(response.text)"
   ]
  },
  {
   "cell_type": "code",
   "execution_count": 0,
   "metadata": {
    "application/vnd.databricks.v1+cell": {
     "cellMetadata": {},
     "inputWidgets": {},
     "nuid": "5929978f-8f44-4ec7-836f-bc72b4b1c09d",
     "showTitle": false,
     "tableResultSettingsMap": {},
     "title": ""
    }
   },
   "outputs": [],
   "source": [
    "# Example usage:\n",
    "gemini_1_point_5_pro(test[0])"
   ]
  },
  {
   "cell_type": "code",
   "execution_count": 0,
   "metadata": {
    "application/vnd.databricks.v1+cell": {
     "cellMetadata": {},
     "inputWidgets": {},
     "nuid": "6fc43976-92eb-40bc-98a3-dfeba68c5301",
     "showTitle": false,
     "tableResultSettingsMap": {},
     "title": ""
    }
   },
   "outputs": [],
   "source": [
    "# Retrieve the actual price of the test item (for comparison)\n",
    "test[0].price    # Output: 374.41"
   ]
  },
  {
   "cell_type": "code",
   "execution_count": 0,
   "metadata": {
    "application/vnd.databricks.v1+cell": {
     "cellMetadata": {},
     "inputWidgets": {},
     "nuid": "f7452886-1cac-4fc2-911f-9e978444f89c",
     "showTitle": false,
     "tableResultSettingsMap": {},
     "title": ""
    }
   },
   "outputs": [],
   "source": [
    "# Test the function for gemini-1.5 pro using the Tester framework\n",
    "Tester.test(gemini_1_point_5_pro, test)"
   ]
  },
  {
   "cell_type": "markdown",
   "metadata": {
    "application/vnd.databricks.v1+cell": {
     "cellMetadata": {},
     "inputWidgets": {},
     "nuid": "91a186b7-7e93-41e9-9f8b-d3fd741472bb",
     "showTitle": false,
     "tableResultSettingsMap": {},
     "title": ""
    }
   },
   "source": [
    "## Five, Gemini-2.0-flash"
   ]
  },
  {
   "cell_type": "code",
   "execution_count": 0,
   "metadata": {
    "application/vnd.databricks.v1+cell": {
     "cellMetadata": {},
     "inputWidgets": {},
     "nuid": "207fb68a-9a4d-4a15-9e63-73ac4230a8f2",
     "showTitle": false,
     "tableResultSettingsMap": {},
     "title": ""
    }
   },
   "outputs": [],
   "source": [
    "# Function to get the estimated price using Gemini-2.0-flash-exp\n",
    "def gemini_2_point_0_flash_exp(item):\n",
    "    messages = gemini_messages_for(item)  # Generate messages for the model\n",
    "    system_message = messages[0]['parts'][0]  # Extract system-level instruction\n",
    "    user_messages = messages[1:]  # Remove system message from messages list\n",
    "    \n",
    "    # Initialize Gemini-2.0-flash-exp model with system instruction\n",
    "    gemini = google_genai.GenerativeModel(\n",
    "        model_name=\"gemini-2.0-flash-exp\",\n",
    "        system_instruction=system_message\n",
    "    )\n",
    "\n",
    "    # Adding a delay to avoid hitting the API rate limit and getting a \"ResourceExhausted: 429\" error\n",
    "    time.sleep(5)\n",
    "    \n",
    "    # Generate response using Gemini API\n",
    "    response = gemini.generate_content(\n",
    "        contents=user_messages,\n",
    "        generation_config=google_genai.GenerationConfig(max_output_tokens=5)\n",
    "    )\n",
    "\n",
    "    # Extract text response and convert to numerical price\n",
    "    return get_price(response.text)"
   ]
  },
  {
   "cell_type": "code",
   "execution_count": 0,
   "metadata": {
    "application/vnd.databricks.v1+cell": {
     "cellMetadata": {},
     "inputWidgets": {},
     "nuid": "ed9df977-e587-4a49-90b6-af0f03da2a49",
     "showTitle": false,
     "tableResultSettingsMap": {},
     "title": ""
    }
   },
   "outputs": [],
   "source": [
    "# Example usage:\n",
    "gemini_2_point_0_flash_exp(test[0])  "
   ]
  },
  {
   "cell_type": "code",
   "execution_count": 0,
   "metadata": {
    "application/vnd.databricks.v1+cell": {
     "cellMetadata": {},
     "inputWidgets": {},
     "nuid": "7f9ad0d9-e2f6-41e1-a165-afbd221135b2",
     "showTitle": false,
     "tableResultSettingsMap": {},
     "title": ""
    }
   },
   "outputs": [],
   "source": [
    "# Retrieve the actual price of the test item (for comparison)\n",
    "test[0].price    # Output: 374.41"
   ]
  },
  {
   "cell_type": "code",
   "execution_count": 0,
   "metadata": {
    "application/vnd.databricks.v1+cell": {
     "cellMetadata": {},
     "inputWidgets": {},
     "nuid": "9e41de1d-56ba-44cc-91f1-70a8a3a156f7",
     "showTitle": false,
     "tableResultSettingsMap": {},
     "title": ""
    }
   },
   "outputs": [],
   "source": [
    "# Test the function for gemini-2.0-flash-exp using the Tester framework\n",
    "Tester.test(gemini_2_point_0_flash_exp, test)"
   ]
  },
  {
   "cell_type": "code",
   "execution_count": 0,
   "metadata": {
    "application/vnd.databricks.v1+cell": {
     "cellMetadata": {},
     "inputWidgets": {},
     "nuid": "47da58c6-e64d-4270-bc12-4ff0fedb3334",
     "showTitle": false,
     "tableResultSettingsMap": {},
     "title": ""
    }
   },
   "outputs": [],
   "source": []
  }
 ],
 "metadata": {
  "application/vnd.databricks.v1+notebook": {
   "computePreferences": null,
   "dashboards": [],
   "environmentMetadata": null,
   "inputWidgetPreferences": null,
   "language": "python",
   "notebookMetadata": {},
   "notebookName": "ems_week6_day4_gemini_results",
   "widgets": {}
  },
  "kernelspec": {
   "display_name": "Python 3 (ipykernel)",
   "language": "python",
   "name": "python3"
  },
  "language_info": {
   "name": "python"
  }
 },
 "nbformat": 4,
 "nbformat_minor": 0
}
