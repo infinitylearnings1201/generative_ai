{
 "cells": [
  {
   "cell_type": "markdown",
   "metadata": {
    "application/vnd.databricks.v1+cell": {
     "cellMetadata": {},
     "inputWidgets": {},
     "nuid": "e0d93d0b-b4a5-4e30-a63a-d65d1fca322f",
     "showTitle": false,
     "tableResultSettingsMap": {},
     "title": ""
    }
   },
   "source": [
    "If you have some Modal.com credits remaining why not host a large (130GB) Deepseek:R1 model yourself and add a Gradio GUI?\n",
    "\n",
    "The git repository for this is located here: [GitHub Repository](https://github.com/stevef1uk/modal_deepseek_r1_gradio.git)\n",
    "\n",
    "There is a README which shows you how to run model deploy to download and merge the model on Modal Volumes.\n",
    "\n",
    "Then deploy your own LLM instance with a Gradio GUI for your use.\n",
    "\n",
    "\n"
   ]
  },
  {
   "cell_type": "markdown",
   "metadata": {
    "application/vnd.databricks.v1+cell": {
     "cellMetadata": {},
     "inputWidgets": {},
     "nuid": "9dd2628f-328a-4b46-bb66-d7bc6d5d5511",
     "showTitle": false,
     "tableResultSettingsMap": {},
     "title": ""
    }
   },
   "source": []
  },
  {
   "cell_type": "markdown",
   "metadata": {
    "application/vnd.databricks.v1+cell": {
     "cellMetadata": {},
     "inputWidgets": {},
     "nuid": "7fb2c7b5-4b4b-48a5-97d3-25d1ac2d267b",
     "showTitle": false,
     "tableResultSettingsMap": {},
     "title": ""
    },
    "tags": []
   },
   "source": [
    "I also created a example project of how to use CrewAI agents to solve complex tasks such as fixing Golang code so that it will compile and buid and also how to use Agents and Tasks to create unit tests for the fixed code. The example project show how configuration for Agent tasks can be externalised in configuration files and also shows how different LLMs can be used to support the Crew. Current LLMs supported includes: OpenAI, Gemini, Ollama and Groq: [GitHub Repo](https://github.com/stevef1uk/crewai_llms_fix_go_code.git)\n"
   ]
  },
  {
   "cell_type": "code",
   "execution_count": 0,
   "metadata": {
    "application/vnd.databricks.v1+cell": {
     "cellMetadata": {},
     "inputWidgets": {},
     "nuid": "d1123b8e-b486-41ea-8f82-9eb603ec38de",
     "showTitle": false,
     "tableResultSettingsMap": {},
     "title": ""
    },
    "tags": []
   },
   "outputs": [],
   "source": [
    "from IPython.display import display, HTML\n",
    "\n",
    "display(HTML('''\n",
    "    <script>\n",
    "        code_show = false;\n",
    "        function code_toggle() {\n",
    "            $('div.cell.code_cell .input').each(function(){\n",
    "                if (code_show) {\n",
    "                    $(this).show();\n",
    "                } else {\n",
    "                    $(this).hide();\n",
    "                }\n",
    "            });\n",
    "            code_show = !code_show;\n",
    "        }\n",
    "        $(document).ready(code_toggle);\n",
    "    </script>\n",
    "    <a href=\"javascript:code_toggle()\">Click here to toggle the code cell</a>\n",
    "'''))\n",
    "\n",
    "# Your code\n",
    "import matplotlib.pyplot as plt\n",
    "import matplotlib.image as mpimg\n",
    "\n",
    "# Load the images\n",
    "img1 = mpimg.imread(\"images/gui.png\")  # Change filenames as needed\n",
    "img2 = mpimg.imread(\"images/metrics.png\")\n",
    "\n",
    "# Set figure size\n",
    "plt.figure(figsize=(20, 20))  # Adjust width and height as needed\n",
    "\n",
    "# First image (Top)\n",
    "plt.subplot(2, 1, 1)  # (rows, cols, index)\n",
    "plt.imshow(img1)\n",
    "plt.axis(\"off\")\n",
    "plt.title(\"Gradio GUI running on Modal with streaming\")\n",
    "\n",
    "# Second image (Bottom)\n",
    "plt.subplot(2, 1, 2)\n",
    "plt.imshow(img2)\n",
    "plt.axis(\"off\")\n",
    "plt.title(\"Metrics of the LLM container running on Modal with 3 x H100 (80 GB VRAM) GPUs\")\n",
    "\n",
    "# Show the images\n",
    "plt.show()"
   ]
  },
  {
   "cell_type": "code",
   "execution_count": 0,
   "metadata": {
    "application/vnd.databricks.v1+cell": {
     "cellMetadata": {},
     "inputWidgets": {},
     "nuid": "a271cdaf-9cee-4d6b-8c60-c1d30c199aa4",
     "showTitle": false,
     "tableResultSettingsMap": {},
     "title": ""
    }
   },
   "outputs": [],
   "source": []
  }
 ],
 "metadata": {
  "application/vnd.databricks.v1+notebook": {
   "computePreferences": null,
   "dashboards": [],
   "environmentMetadata": null,
   "inputWidgetPreferences": null,
   "language": "python",
   "notebookMetadata": {},
   "notebookName": "Deploy_Deepseek_r1_on_Modal",
   "widgets": {}
  },
  "kernelspec": {
   "display_name": "Python 3 (ipykernel)",
   "language": "python",
   "name": "python3"
  },
  "language_info": {
   "name": "python"
  }
 },
 "nbformat": 4,
 "nbformat_minor": 0
}
