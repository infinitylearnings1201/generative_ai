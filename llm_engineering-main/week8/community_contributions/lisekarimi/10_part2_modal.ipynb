{
 "cells": [
  {
   "cell_type": "markdown",
   "metadata": {
    "application/vnd.databricks.v1+cell": {
     "cellMetadata": {},
     "inputWidgets": {},
     "nuid": "6d3420dd-3c82-42e5-8856-639c23ed523c",
     "showTitle": false,
     "tableResultSettingsMap": {},
     "title": ""
    },
    "jp-MarkdownHeadingCollapsed": true
   },
   "source": [
    "# Modal (Part 2)\n",
    "\n",
    "---\n",
    "✅ With all models and ChromaDB set up, it's time to integrate everything into a real system: **Snapr** — an app that scans online product listings, predicts their value, and alerts users to great deals.\n",
    "\n",
    "To power SSnapr, we’ll need:\n",
    "- Price prediction models — ready for production  \n",
    "- Fast, on-demand predictions  \n",
    "- A scalable setup that handles real-world usage\n",
    "\n",
    "🔧 That’s where **Modal** comes in. Modal lets us deploy models and services to the cloud, with minimal setup, low latency, and clean Python APIs.\n",
    "\n",
    "- You can check out a [live demo](https://huggingface.co/spaces/lisekarimi/snapr) of the project\n",
    "- The source code is available on [GitHub](https://github.com/lisekarimi/snapr)\n",
    "\n",
    "---\n",
    "📢 Find more LLM notebooks on my [GitHub repository](https://github.com/lisekarimi/lexo)\n"
   ]
  },
  {
   "cell_type": "markdown",
   "metadata": {
    "application/vnd.databricks.v1+cell": {
     "cellMetadata": {},
     "inputWidgets": {},
     "nuid": "3ae9af7a-c5af-4e56-8021-44f94b35d2ef",
     "showTitle": false,
     "tableResultSettingsMap": {},
     "title": ""
    }
   },
   "source": [
    "## 📚 Pre-requisites\n",
    "\n",
    "To follow this project smoothly, it's helpful to know:\n",
    "\n",
    "- 🛰️ What an API is: You send a request → it’s processed remotely → you receive a result\n",
    "- 🐳 What a Docker image & container are:\n",
    "    - Image = environment with code & dependencies\n",
    "    - Container = running instance of that image\n",
    "- 🧑‍💻 Local vs Remote code execution:\n",
    "    - Local code runs on your machine\n",
    "    - Remote code runs in the cloud (via Modal"
   ]
  },
  {
   "cell_type": "markdown",
   "metadata": {
    "application/vnd.databricks.v1+cell": {
     "cellMetadata": {},
     "inputWidgets": {},
     "nuid": "ebc39b24-7bf9-4f58-bbb2-209513aadb07",
     "showTitle": false,
     "tableResultSettingsMap": {},
     "title": ""
    }
   },
   "source": [
    "## 🔧  Install & Setup Modal\n",
    "- Before starting, install Modal in your environment (Run this once): `uv pip install modal`\n",
    "- Create an account at modal.com (they give you $5 free to start).\n",
    "- Then authenticate your environment: `modal setup`"
   ]
  },
  {
   "cell_type": "code",
   "execution_count": 0,
   "metadata": {
    "application/vnd.databricks.v1+cell": {
     "cellMetadata": {},
     "inputWidgets": {},
     "nuid": "49d02ee7-7aa8-4f95-9d9a-7dadfdc2f92e",
     "showTitle": false,
     "tableResultSettingsMap": {},
     "title": ""
    }
   },
   "outputs": [],
   "source": [
    "!uv pip install modal"
   ]
  },
  {
   "cell_type": "code",
   "execution_count": 0,
   "metadata": {
    "application/vnd.databricks.v1+cell": {
     "cellMetadata": {},
     "inputWidgets": {},
     "nuid": "756b6e92-3236-438f-92ec-7b65de641c8b",
     "showTitle": false,
     "tableResultSettingsMap": {},
     "title": ""
    }
   },
   "outputs": [],
   "source": [
    "import modal\n",
    "import sys\n",
    "sys.path.append(\".\")  # Make sure your local modules are accessible"
   ]
  },
  {
   "cell_type": "markdown",
   "metadata": {
    "application/vnd.databricks.v1+cell": {
     "cellMetadata": {},
     "inputWidgets": {},
     "nuid": "7d6d4154-be56-4927-a33b-29b8f09533f0",
     "showTitle": false,
     "tableResultSettingsMap": {},
     "title": ""
    }
   },
   "source": [
    "## 🧠 Key Concepts\n",
    "\n",
    "Modal is a platform that lets you run Python code in the cloud. You can:\n",
    "- Deploy code as APIs\n",
    "- Run GPU workloads (e.g., LLMs)\n",
    "- Automatically handle Docker, infra, deployment\n",
    "\n",
    "What is a Modal App?\n",
    "An \"App\" is a containerized cloud service where you can run code remotely.\n",
    "- Code runs in isolated containers (like Docker)\n",
    "- These containers are created on-demand and destroyed when idle\n",
    "- You define your logic in a file and deploy it to Modal\n",
    "\n",
    "Key Modal Concepts\n",
    "- `modal.Image`: Defines the environment (like a Docker image)\n",
    "- `@app.cls`: Runs classes remotely inside a container\n",
    "- `modal.App`: Defines and registers the Modal app\n",
    "- `.remote()`: Sends request to Modal API to execute the code remotely\n",
    "- `modal deploy -m`: Deploys app permanently like a real cloud service"
   ]
  },
  {
   "cell_type": "markdown",
   "metadata": {
    "application/vnd.databricks.v1+cell": {
     "cellMetadata": {},
     "inputWidgets": {},
     "nuid": "557a01b3-cf2a-4a69-a4e1-06cae4b6aad3",
     "showTitle": false,
     "tableResultSettingsMap": {},
     "title": ""
    }
   },
   "source": [
    "## ⚙️ Minimal Example"
   ]
  },
  {
   "cell_type": "code",
   "execution_count": 0,
   "metadata": {
    "application/vnd.databricks.v1+cell": {
     "cellMetadata": {},
     "inputWidgets": {},
     "nuid": "5a7a0bf1-8695-46cd-a649-ef07ec570332",
     "showTitle": false,
     "tableResultSettingsMap": {},
     "title": ""
    }
   },
   "outputs": [],
   "source": [
    "from modal_services.get_started import app, f\n",
    "\n",
    "with app.run():  # This spins up a container in Modal\n",
    "    print(f.local(1000))    # Run locally inside the notebook\n",
    "    print('*' * 5)\n",
    "    print(f.remote(1000))   # Run remotely via Modal API inside a container"
   ]
  },
  {
   "cell_type": "markdown",
   "metadata": {
    "application/vnd.databricks.v1+cell": {
     "cellMetadata": {},
     "inputWidgets": {},
     "nuid": "ec0ee590-fd45-4d3d-92da-f3cbaf8f635e",
     "showTitle": false,
     "tableResultSettingsMap": {},
     "title": ""
    }
   },
   "source": [
    "🔄 What Happens When You Call .remote()?\n",
    "\n",
    "some_function.remote() → Modal SDK sends API request\n",
    "                    → Spins up a container\n",
    "                    → Runs the code remotely\n",
    "                    → Sends the result back to your local machine\n",
    "\n",
    "![image.png](attachment:886d059a-a8ca-4552-86d2-fb87fb824441.png)\n",
    "\n",
    "What we have here is an **ephemeral app**: the container shuts down after finishing.\n",
    "\n",
    "For our project, we need a persistently running app that behaves like a production API. To achieve that, we should use `modal deploy -m`, making the app suitable for serving AI services reliably."
   ]
  },
  {
   "cell_type": "markdown",
   "metadata": {
    "application/vnd.databricks.v1+cell": {
     "cellMetadata": {},
     "inputWidgets": {},
     "nuid": "eba3fa19-9043-4a0b-b60e-b5fccdd7b0b8",
     "showTitle": false,
     "tableResultSettingsMap": {},
     "title": ""
    }
   },
   "source": [
    "## 📦 Persistent Deployment with `modal deploy`"
   ]
  },
  {
   "cell_type": "markdown",
   "metadata": {
    "application/vnd.databricks.v1+cell": {
     "cellMetadata": {},
     "inputWidgets": {},
     "nuid": "53a15f71-aedf-47ee-afc2-f7565406631c",
     "showTitle": false,
     "tableResultSettingsMap": {},
     "title": ""
    }
   },
   "source": [
    "Click the blue \"+\" button at the top left of JupyterLab, then choose \"Terminal\" to open a new terminal tab.\n",
    "\n",
    "There, you can run:\n",
    "\n",
    "```bash\n",
    "conda activate llms\n",
    "modal deploy -m modal_services.get_started\n",
    "```\n",
    "\n",
    "This builds and deploys the app (`example-hello-world`), registers `f()`, and makes it callable via `.remote()` anytime — even outside the notebook.\n",
    "\n",
    "![image.png](attachment:b84a3557-9805-462f-a1d5-008b3aa4f4f5.png)"
   ]
  },
  {
   "cell_type": "code",
   "execution_count": 0,
   "metadata": {
    "application/vnd.databricks.v1+cell": {
     "cellMetadata": {},
     "inputWidgets": {},
     "nuid": "307f1d8b-0374-4e7b-a762-b704527b182c",
     "showTitle": false,
     "tableResultSettingsMap": {},
     "title": ""
    }
   },
   "outputs": [],
   "source": [
    "from modal_services.get_started import f\n",
    "f = modal.Function.from_name(\"example-hello-world\", \"f\")  # (app_name, function_name)\n",
    "print(f.remote(20))"
   ]
  },
  {
   "cell_type": "markdown",
   "metadata": {
    "application/vnd.databricks.v1+cell": {
     "cellMetadata": {},
     "inputWidgets": {},
     "nuid": "d8ae8d52-8eda-414c-883e-84bb3734b434",
     "showTitle": false,
     "tableResultSettingsMap": {},
     "title": ""
    }
   },
   "source": [
    "## 🚀 Deploy Our first Modal-powered model\n",
    "\n",
    "So far, we’ve seen how to run simple remote functions using `@app.function()` and call them via `modal.Function.from_name(...)` in a **persistent app** — good for basic tasks.\n",
    "\n",
    "But in our Smart Deal Finder project, we need more:\n",
    "- Load and reuse a large model (like LLaMA)  \n",
    "- Keep the model in memory  \n",
    "- Expose one or more methods (like `price()`)\n",
    "\n",
    "That’s why we use `@app.cls` — it lets us define a class (e.g. `Pricer`) that lives in a Modal container, loads the model once in `setup()`, and handles remote requests efficiently.\n",
    "\n",
    "Full code : `\\modal_services.ft_pricer.py`\n",
    "\n",
    "---\n",
    "\n",
    "\n",
    "🚀 In this step, we’ll deploy a class-based app using `modal.Cls.from_name`.\n",
    "\n",
    "Specifically, we’ll deploy `Pricer`, which loads our 4-bit quantized fine-tuned LLaMA model (trained in Notebook 9), and exposes a remote `.price()` method to estimate item prices.\n",
    "\n",
    "⚠️ Before deploying, add your HF_TOKEN in Modal\n",
    "\n",
    "Then open a terminal and run:\n",
    "\n",
    "```bash\n",
    "modal deploy -m modal_services.ft_pricer\n",
    "```\n",
    "\n",
    "This will:\n",
    "- Build the image with your code and dependencies\n",
    "- Deploy the app `llm-ft-pricer` and register the `Pricer` class and its methods\n",
    "- Not start any container yet — setup() isn't run and the model isn’t loaded\n",
    "- Prepare the app to handle `.remote()` calls when they come in\n",
    "\n",
    "![image.png](attachment:b950fed1-8806-424c-830a-d8b99927801e.png)"
   ]
  },
  {
   "cell_type": "markdown",
   "metadata": {
    "application/vnd.databricks.v1+cell": {
     "cellMetadata": {},
     "inputWidgets": {},
     "nuid": "db3d3c48-ac10-4a50-9b57-44f1446b4035",
     "showTitle": false,
     "tableResultSettingsMap": {},
     "title": ""
    }
   },
   "source": [
    "## 🔗 Connect to Our Deployed App\n",
    "\n",
    "Now that our app is deployed, we can connect to it and use it like a remote service.\n",
    "\n",
    "We'll do this using `modal.Cls.from_name(\"llm-ft-pricer\", \"Pricer\")`, which fetches the `Pricer` class from our deployed app via the Modal API.\n",
    "\n",
    "Then, calling `.price.remote(...)` sends a request to Modal, spins up a container if needed, loads the model, runs the method, and returns the result.\n",
    "\n",
    "This is how we turn our model into a cloud API.\n",
    "\n",
    "What happens under the hood when calling price.remote(...): \n",
    "- First run = downloads model files → stores in volume (/cache) → loads into memory → runs \n",
    "- Later runs = load from volume → memory → run (no re-download)\n",
    "\n",
    "---\n",
    "\n",
    "Since we added `min_containers=1`, a container is created and kept warm as soon as the app is deployed. Models remain loaded in memory, so there are no cold starts — unless the app is stopped or the container crashes.  \n",
    "\n",
    "![image.png](attachment:1c697283-e5e2-4b09-b1f1-d1c11f18c8e4.png)\n",
    "\n",
    "⚠️ However, this **continuously consumes credits** if you forget to stop the container or app manually.\n",
    "\n",
    "To save credits, you can set `min_containers=0` and `scaledown_window=300` — this way, no container stays warm by default, and a new one will spin up only when `.remote()` is called (i.e., on cold start).\n",
    "\n",
    "![image.png](attachment:4a22e438-6b25-4c69-9439-99d146ffd188.png)\n"
   ]
  },
  {
   "cell_type": "code",
   "execution_count": 0,
   "metadata": {
    "application/vnd.databricks.v1+cell": {
     "cellMetadata": {},
     "inputWidgets": {},
     "nuid": "dc457599-4c75-4b92-bbfc-91be6853c66a",
     "showTitle": false,
     "tableResultSettingsMap": {},
     "title": ""
    }
   },
   "outputs": [],
   "source": [
    "Pricer = modal.Cls.from_name(\"llm-ft-pricer\", \"Pricer\")\n",
    "pricer = Pricer()\n",
    "reply = pricer.price.remote(\"SEVERIN 28L Microwave, 900W, 5 power levels, 35-min timer, turntable (31.5 cm), Silver, MW 7772\")\n",
    "print(reply)"
   ]
  },
  {
   "cell_type": "markdown",
   "metadata": {
    "application/vnd.databricks.v1+cell": {
     "cellMetadata": {},
     "inputWidgets": {},
     "nuid": "17e7c36d-4191-40ca-ae04-885c3464ba47",
     "showTitle": false,
     "tableResultSettingsMap": {},
     "title": ""
    }
   },
   "source": [
    "Now that we’ve deployed our model and learned how to call it remotely with `.remote()`,\n",
    "let’s go one step further — wrap this logic inside a local Python class.\n",
    "\n",
    "In the next step, we'll build a local Agent that cleanly interacts with our deployed `Modal app`, using the same `Modal API` under the hood."
   ]
  },
  {
   "cell_type": "markdown",
   "metadata": {
    "application/vnd.databricks.v1+cell": {
     "cellMetadata": {},
     "inputWidgets": {},
     "nuid": "638b1846-cfa8-4188-af0e-3cb8fdab5f15",
     "showTitle": false,
     "tableResultSettingsMap": {},
     "title": ""
    }
   },
   "source": [
    "## 🔌 Connect to Your Modal App with a Local Agent\n",
    "\n",
    "`ft_pricer.py` is now a deployed API on Modal. \n",
    "\n",
    "To use it locally, we’ll wrap it in a class called `FTPriceAgent` (Full code: `\\agents\\ft_price_agent.py)` that:\n",
    "\n",
    "- Connects to the remote app via `modal.Cls.from_name(...)`  \n",
    "- Calls `.price.remote(...)` to run predictions  \n",
    "\n",
    "🔄 **Two API Calls:** happen\n",
    "1. `modal.Cls.from_name(...)` → fetches the deployed class  \n",
    "2. `.price.remote(...)` → runs the remote method on Modal  \n",
    "\n",
    "This keeps our code clean and modular."
   ]
  },
  {
   "cell_type": "code",
   "execution_count": 0,
   "metadata": {
    "application/vnd.databricks.v1+cell": {
     "cellMetadata": {},
     "inputWidgets": {},
     "nuid": "676755e4-3e04-4f61-a24e-70fb68c6a361",
     "showTitle": false,
     "tableResultSettingsMap": {},
     "title": ""
    }
   },
   "outputs": [],
   "source": [
    "from agents.ft_price_agent import FTPriceAgent\n",
    "\n",
    "agent = FTPriceAgent()\n",
    "agent.price(\"Apple AirPods Max wireless over-ear headphones with active noise cancellation and spatial audio\")"
   ]
  },
  {
   "cell_type": "markdown",
   "metadata": {
    "application/vnd.databricks.v1+cell": {
     "cellMetadata": {},
     "inputWidgets": {},
     "nuid": "7fa1728d-45d2-4497-8dd4-77a5aaaa4b4d",
     "showTitle": false,
     "tableResultSettingsMap": {},
     "title": ""
    }
   },
   "source": [
    "Now that we’ve seen how Modal agents work — connecting to remote services and running `.remote()` — we’ll use the same pattern for the rest of our models.\n",
    "\n",
    "✅ For each model — **XGBoost**, **GPT-4o RAG**, and the **Ensemble** — we’ll build a dedicated Agent.  "
   ]
  }
 ],
 "metadata": {
  "application/vnd.databricks.v1+notebook": {
   "computePreferences": null,
   "dashboards": [],
   "environmentMetadata": null,
   "inputWidgetPreferences": null,
   "language": "python",
   "notebookMetadata": {},
   "notebookName": "10_part2_modal",
   "widgets": {}
  },
  "kernelspec": {
   "display_name": ".venv",
   "language": "python",
   "name": "python3"
  },
  "language_info": {
   "name": "python"
  }
 },
 "nbformat": 4,
 "nbformat_minor": 0
}
