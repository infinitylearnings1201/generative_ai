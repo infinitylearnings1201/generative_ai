{
 "cells": [
  {
   "cell_type": "markdown",
   "metadata": {
    "application/vnd.databricks.v1+cell": {
     "cellMetadata": {},
     "inputWidgets": {},
     "nuid": "5a0f9029-5a14-42ee-8f85-8aed82950667",
     "showTitle": false,
     "tableResultSettingsMap": {},
     "title": ""
    },
    "id": "4WDyBU0Vm0Zl"
   },
   "source": [
    "# 🔍 Predicting Item Prices from Descriptions (Part 5)\n",
    "---\n",
    "-  Data Curation & Preprocessing\n",
    "- Model Benchmarking – Traditional ML vs LLMs\n",
    "- E5 Embeddings & RAG\n",
    "- Fine-Tuning GPT-4o Mini\n",
    "- ➡️ Evaluating LLaMA 3.1 8B Quantized\n",
    "- Fine-Tuning LLaMA 3.1 with QLoRA\n",
    "- Evaluating Fine-Tuned LLaMA\n",
    "- Summary & Leaderboard\n",
    "\n",
    "---\n",
    "\n",
    "# 🦙 Part 5: Evaluating LLaMA 3.1 8B Quantized\n",
    "\n",
    "- 🧑‍💻 Skill Level: Advanced\n",
    "- ⚙️ Hardware: ⚠️ GPU required - use Google Colab\n",
    "- 🛠️ Requirements: 🔑 HF Token\n",
    "- Tasks:\n",
    "    - Quantize LLaMA 3.1 8B to 4-bit\n",
    "    - Define prediction function\n",
    "    - Evaluate with Tester\n",
    "\n",
    "We know LLaMA 3.1 won’t beat frontier models — but how far behind is it without any tuning?\n",
    "\n",
    "---\n",
    "📢 Find more LLM notebooks on my [GitHub repository](https://github.com/lisekarimi/lexo)"
   ]
  },
  {
   "cell_type": "code",
   "execution_count": 0,
   "metadata": {
    "application/vnd.databricks.v1+cell": {
     "cellMetadata": {},
     "inputWidgets": {},
     "nuid": "a354ac93-dde0-4911-bd41-ac6799141017",
     "showTitle": false,
     "tableResultSettingsMap": {},
     "title": ""
    },
    "colab": {
     "base_uri": "https://localhost:8080/"
    },
    "id": "MDyR63OTNUJ6",
    "outputId": "7e9e5b6b-d11c-45df-d774-2da5f6455d51"
   },
   "outputs": [],
   "source": [
    "# Install required packages in Google Colab\n",
    "%pip install -q datasets torch transformers bitsandbytes accelerate matplotlib"
   ]
  },
  {
   "cell_type": "code",
   "execution_count": 0,
   "metadata": {
    "application/vnd.databricks.v1+cell": {
     "cellMetadata": {},
     "inputWidgets": {},
     "nuid": "b87fd61a-17aa-4c2c-a5b5-2033f7cd034a",
     "showTitle": false,
     "tableResultSettingsMap": {},
     "title": ""
    },
    "id": "-yikV8pRBer9"
   },
   "outputs": [],
   "source": [
    "#  imports\n",
    "\n",
    "import re\n",
    "import math\n",
    "import torch\n",
    "from huggingface_hub import login\n",
    "from datasets import load_dataset\n",
    "from transformers import AutoModelForCausalLM, AutoTokenizer, BitsAndBytesConfig, set_seed\n",
    "from google.colab import userdata\n",
    "import matplotlib.pyplot as plt\n",
    "%matplotlib inline"
   ]
  },
  {
   "cell_type": "code",
   "execution_count": 0,
   "metadata": {
    "application/vnd.databricks.v1+cell": {
     "cellMetadata": {},
     "inputWidgets": {},
     "nuid": "19368772-fdc3-4354-bf5b-b796d4f8e054",
     "showTitle": false,
     "tableResultSettingsMap": {},
     "title": ""
    },
    "id": "uuTX-xonNeOK"
   },
   "outputs": [],
   "source": [
    "# Google Colab User Data\n",
    "# Ensure you have set the following in your Google Colab environment:\n",
    "hf_token = userdata.get('HF_TOKEN')"
   ]
  },
  {
   "cell_type": "code",
   "execution_count": 0,
   "metadata": {
    "application/vnd.databricks.v1+cell": {
     "cellMetadata": {},
     "inputWidgets": {},
     "nuid": "1ddea49a-1885-4884-a0ab-e9eadffc7ce3",
     "showTitle": false,
     "tableResultSettingsMap": {},
     "title": ""
    }
   },
   "outputs": [],
   "source": [
    "# Constants\n",
    "\n",
    "BASE_MODEL = \"meta-llama/Meta-Llama-3.1-8B\"\n",
    "HF_USER = \"lisekarimi\"\n",
    "DATASET_NAME = f\"{HF_USER}/pricer-data\"\n",
    "\n",
    "login(hf_token, add_to_git_credential=True)"
   ]
  },
  {
   "cell_type": "markdown",
   "metadata": {
    "application/vnd.databricks.v1+cell": {
     "cellMetadata": {},
     "inputWidgets": {},
     "nuid": "0e9e6ef2-101b-4eea-8794-30aafd0f0641",
     "showTitle": false,
     "tableResultSettingsMap": {},
     "title": ""
    },
    "id": "DTMo_1msQb9X"
   },
   "source": [
    "## 📥 Load Dataset"
   ]
  },
  {
   "cell_type": "code",
   "execution_count": 0,
   "metadata": {
    "application/vnd.databricks.v1+cell": {
     "cellMetadata": {},
     "inputWidgets": {},
     "nuid": "caaa509f-c24e-4d89-bb55-eb25d30d0153",
     "showTitle": false,
     "tableResultSettingsMap": {},
     "title": ""
    }
   },
   "outputs": [],
   "source": [
    "# #If you face NotImplementedError: Loading a dataset cached in a LocalFileSystem is not supported run:\n",
    "# %pip install -U datasets"
   ]
  },
  {
   "cell_type": "code",
   "execution_count": 0,
   "metadata": {
    "application/vnd.databricks.v1+cell": {
     "cellMetadata": {},
     "inputWidgets": {},
     "nuid": "28af16fa-5db9-4465-92b7-3f8108e41fb7",
     "showTitle": false,
     "tableResultSettingsMap": {},
     "title": ""
    },
    "colab": {
     "base_uri": "https://localhost:8080/",
     "height": 177,
     "referenced_widgets": [
      "048d1b454cdc400ea5979230703770b8",
      "7dd26897141a4d87bc3893bb1b1bafb3",
      "c4f6e0b6237c46b98d393d27b35cabe7",
      "dd525aced49e4ebe8395514601c20b20",
      "69a35e3916ae488296a70687b5e890de",
      "e3442871bdb5445ba86e5aa0f0ee8de9",
      "8981816dd709488e9ace85e6b160892d",
      "6edd1bd723324c128fec4de5f1758330",
      "f77a98060e9d48dc8ac4919902ffc88d",
      "ed6dfe86de2e4957b4e24df3f564c5db",
      "e253ec71b5104dd291455753a160c7f1",
      "b802074124bc4d7d979c28ba9e84a432",
      "76abd56919414e2b8b2b4683d4cb2bd5",
      "2bb62653ed2d4e86b9eb0476a0333a3a",
      "58a799a559ff4f2681b586650c35b12e",
      "878d6cea9b2c40d3b3b58b1c1bff902f",
      "d00a41c676034c38881da90ae961e936",
      "da539e354ea540509a2ea7d13dc8dc45",
      "4f27fc91cbb14aa08d08b848c6689937",
      "abea7cdfa8624614aca8d8ab3c07a671",
      "b5ed6e3c852c49c1b904a19e05f5a90b",
      "ac7225138dfa48b086b30f154f9a1111",
      "70da4d47bd4c4b57a7f65d82d7a01829",
      "19f8ee6f626845beaa7154efe4802045",
      "13556136763b49bda041c92445ee2ad4",
      "a2f5735e3c314155be432484fcf72fe7",
      "81c15499cc8e4011b9bd392f660a3b6e",
      "96b6a830727d48539c181343efada938",
      "0ead4e0b3435492693636130d2782c25",
      "50a8e3f2c06c4595931788b18f5152e9",
      "cebc935dafae4d4eba105d3107c46ddc",
      "f566351d5c504181b00a53c3c654090f",
      "4238f42b624142fea3746fb2f03bcc2d",
      "be8416b487d04d769fd93973b7fe916a",
      "1bbada4a48444e60a360aba596af77b3",
      "75436fb8e4eb43e4b0a309871e4d3cc1",
      "e4ae815e69d3448296e4c3bcb713710e",
      "72ca180ed6604f148f2f2e61ac97259a",
      "c0b34963c7a446908fadfb38c958b612",
      "38fa12125f024935852122d434c2cbf6",
      "ff564729da354497b606bfb809ac4e33",
      "9ee352287f8b4e27af617e3427cb3012",
      "15522242cf72440ca8895496ad5144c4",
      "e7dc05ebb11a4b30b4806c2628ec6bde",
      "413fafe61f7c415a9c1c90dea56aa301",
      "ac2522256e73492d9b5d0e7976d92ff5",
      "53266635573042b4b94496f38915e6d4",
      "8da5f5529fef4f1bb884793e503e5fc5",
      "80b7529e0ad541749bf464a1d8927225",
      "2203154b7c464105b12f1ef8caf410cd",
      "87b8c46fa98a4940ab90422ab44d33de",
      "6dee11eaa4a849bbb58488a233d3719e",
      "be947f2a2b8a484daa61f45ae06c5232",
      "0b1de2365ad1497ab2ebfec1be33a720",
      "326453121cd84c1e95b3b5da0166c931"
     ]
    },
    "id": "5PVXACKHQhh4",
    "outputId": "80dc4772-ea31-4752-8f97-573efaa43917"
   },
   "outputs": [],
   "source": [
    "dataset = load_dataset(DATASET_NAME)\n",
    "train = dataset['train']\n",
    "test = dataset['test']"
   ]
  },
  {
   "cell_type": "code",
   "execution_count": 0,
   "metadata": {
    "application/vnd.databricks.v1+cell": {
     "cellMetadata": {},
     "inputWidgets": {},
     "nuid": "a07373aa-f87d-4319-acb0-e5107c62b02e",
     "showTitle": false,
     "tableResultSettingsMap": {},
     "title": ""
    },
    "colab": {
     "base_uri": "https://localhost:8080/"
    },
    "id": "pGJR24lbQlRS",
    "outputId": "a1bb5e66-1aa9-40b7-c361-562eafae5d8c"
   },
   "outputs": [],
   "source": [
    "test[0]"
   ]
  },
  {
   "cell_type": "markdown",
   "metadata": {
    "application/vnd.databricks.v1+cell": {
     "cellMetadata": {},
     "inputWidgets": {},
     "nuid": "f0954e15-4c34-439e-bc59-818b4e52d8e8",
     "showTitle": false,
     "tableResultSettingsMap": {},
     "title": ""
    },
    "id": "vrxH6h00P9qc"
   },
   "source": [
    "## 🦙 Load Tokenizer and Quantized LLaMA Model"
   ]
  },
  {
   "cell_type": "code",
   "execution_count": 0,
   "metadata": {
    "application/vnd.databricks.v1+cell": {
     "cellMetadata": {},
     "inputWidgets": {},
     "nuid": "2c3cfeb0-d765-4a96-b31e-cde1e7744638",
     "showTitle": false,
     "tableResultSettingsMap": {},
     "title": ""
    },
    "colab": {
     "base_uri": "https://localhost:8080/",
     "height": 418,
     "referenced_widgets": [
      "8698049df4ce440d8a16bc34d69231e7",
      "b0f74f9ed33649ebb16952d0fb0aecab",
      "00241684d4f64383b032a1362d174d55",
      "b74ea8552d8145d28f43cf7ad8450d0b",
      "6838953f363945d79e079c12aeb2232b",
      "57c4a682571e401f9fec996603fa587d",
      "e2b93774cb4a4648a4210c7693864ccc",
      "766c8e2406ce407faf3489229dada75a",
      "a52ea6c6672b4ab2bae4f669dc45deb6",
      "381094cbfef64531a58df85e6d453847",
      "a6a14894a06a4d4b839f3b791cfadd34",
      "b43b118cae174c3c810f08c2249b80dc",
      "6502e59cbd344bf6be966923bb3e38fa",
      "f86fcf5f6bf24ce399c5d64dc83c3690",
      "46598b397fbc4461bb83ad45000e5569",
      "dd307f2b56824c6c91b8fe1c028a1704",
      "b87577323cb44a2f9f3cc0a8219eadf4",
      "0ed52815268a4d90a224029e9e23e09f",
      "fafd3011a3cb4e0099a0db77caf843aa",
      "89bb151875e349118677c9677bec4137",
      "b8722d98e81d4e3494c9c0b8b01319d4",
      "b8f661dd658e45a49b5bac2bdf7f3b78",
      "f031fadfbba14031a944c351fd99b032",
      "a6bf09a98289481abb0c9882702eb575",
      "09d54c271e55463495cb9b617d2ec41d",
      "32bdcc7f7efd47679258f398184dd0ab",
      "0f090959768e40aa8fabfacdf772d8df",
      "e40a9c85694c446d84d3493274138178",
      "ceb1bbb613f0438aa6996d5551f713f3",
      "59b59d4040e04b65a66f578160d13d43",
      "079ab8a1fae64a0782ea8035f494f2fd",
      "1e425099c1044c14986386e5a4ce0b48",
      "1e3e028ec53448c691abb2cfad4ffd8c",
      "d2142e9de5ea4dd2b8d00b56354352c3",
      "cf1d7a58189b4a5bbe6d005de998548c",
      "5b6e10b9e5a146be85e519c1bc476fcd",
      "6d9feded70b84654ab79f9d13b065c83",
      "ec5afa847d364fbc974b35d821ccd931",
      "fa392b34ae8647668e94aca22c1a5edb",
      "4d315c92d7c84191a165218d403c0f8d",
      "c4279579368841b99a46f529c55125e9",
      "572bb151402e4940a8d7c92156f9711b",
      "d4536337378b4146b054371b18f83fdc",
      "14ddae4a15d74c80b1712443853e3f96",
      "46e827e5d7a94a619536ff08127b6172",
      "ad7977cc642e4cae890e52d03d753788",
      "73ba16b54d314d94aaeebea2ba291a94",
      "1bc2120a87ab4ad99798b1706342bd89",
      "4c4772ace8c246b9a5c8f870ed27c11b",
      "d179e366c02f4bb2897cc9f531955e5e",
      "1134fd00384740d0a39b6de241ca17cd",
      "5a120718aa934959bd50cf4864b137b4",
      "46917a8997f942fea0aaf00a95459f93",
      "6076b184b66c4d50a91bc477c8eea53e",
      "2538bc7fc4594363934266f25bcd52bc",
      "f6144dfa2a20416b9e5c28615a5ff129",
      "35941d364234488da6fcc0997a5cccf7",
      "8c5e160cc4434ca99f694f5e195a2005",
      "fa82a4c6e8fc4591aa5652d7d95c6e40",
      "2a82034aebcb4e3fbaff825ca59817d0",
      "edcabc56841a4ba68ee53385fe2dc0f6",
      "e8bf66aa640e433d8d890ae541b21dcd",
      "eb7b76b25ce44dc1b8eba7cac8bc9671",
      "c9648aceda71470284f6ed7ce2add462",
      "7df6ddb46ae3419fbc3fac488eb8a6b6",
      "3b2aa7ca49e4451fbfc65560a2d3d43d",
      "6af2831aa4e641568d72df6d13fc074a",
      "732cb67ef916489298655df845773934",
      "cc96573e39e148dbac8b0bd299f0f0b0",
      "4e9cbcdc1cfb495a850be45cf752d3c4",
      "b811921bdbe84b0dbd9add0f69271ef0",
      "a1053fdea18348119949b326f3a12651",
      "90c10be928c54821aacf11705c0513ff",
      "a543366ec93c486bb2d28d1ff9567197",
      "97ff48d2660444a1a7503e735e2b2a55",
      "1fd84a85c98246adb2e18e41c8a9d88f",
      "fed4a63b10ea4788af8cd181d8d24863",
      "8bd5f65dda734db1a253897f85428d4c",
      "2744cec152a44fd483f5cdd8f4de8c70",
      "47780d4dab77454ab898f6707d8d4168",
      "6653b71e07bc488ebbb4ed5728564ccd",
      "59d44fcd08114cb4aaeea768b1438bcf",
      "18cf08eb051d48c9a5c0b6b827507b7f",
      "fee935f9fb354a67a37d42641ff0d81e",
      "22ec450031234856a304ccee34d452f4",
      "4944567015cc46be83a8524c0542722a",
      "b80d78f92da64255991b4fcfde98b1d4",
      "e239b0fe8301409f9dd7e5e801949ec2",
      "6e7533e6b43c4f1dbb1e0421b99fdc47",
      "4be15c8712e340b3b9d9a3bd1c7c7516",
      "337d98c0886948929a48411422a81ff8",
      "83d8d49cf93c4af7bb3e3cfa3234c6c6",
      "a1fb4ca7292e4cdc85b522248fdddaf6",
      "ce26e74cc006450ca4e44bee2d14d80c",
      "c01c7b35b1914ae681550421c0035a8c",
      "c7966f356f80422abb3dcb45dbc541db",
      "a86bb39581e1430a8314a616951af75e",
      "446c7ef56bcc437388d4a99859c1b9fb",
      "5c16ffe6a5504f2585aa6bc3132ff2ee",
      "9d466ef4939c43f2846f22a5a21e5cd0",
      "bec4a9e185074743848c04c4aff12037",
      "cff028485bae4d96b4f7a48b738f6b61",
      "c02af33357e64469aeb01a7af5a9ab37",
      "fd0ff0c9933d4238a373c286f8e1dd5d",
      "c517e6db93f04398b9a3ccc86e090499",
      "e75b68d16bc443e39974922342952de9",
      "0536d41437f54df38624a7d290e45325",
      "eec3717367b348a388bb76eb6482ce25",
      "e16f1ef5ee06493fac2d5871806a3b3a",
      "24f7575f0f47498480b2a2f79f0d4ce5",
      "c17fe53a4a2b4266a3cbd24c9f145cde",
      "b4d715f23ada4ee48fdfd9af463f7124",
      "7d9102b6a7b44e14809ecf8fa421ee70",
      "8d640aa311f34b33b0967e128c138130",
      "3680065e53494bad98e74fd7c81185dd",
      "11fb0bacbcc44352b3b25d9f0923c332",
      "7319ccdb3e3349328d6f9b4bb5445776",
      "35017cc6cb484eeaa12714532e872f99",
      "ae22d146f6f24981bde97896ad3d8b14",
      "3feeca46c382431c9868e4852ca04d49",
      "0e3b239635704ab391f1801b762b7f93",
      "90d35d2eda00413eba027093309f6c31",
      "d61446d3664a455baaada9761a1715be",
      "92b7d7f81ebc441d8e6d6e20477aa37c",
      "8b5b230489104f6bba63720fa9fad0ae",
      "0afc992c54ec4a10a7f9fd3e45fa7761",
      "4fbbb9ba6f4e44d6b2ccc5197dad5488",
      "18e5f93ef3b64301b7c1548d17843d64",
      "ee997f8eeccc4dd98aea71b930531cf5",
      "e11a6cfa4615457090d4c87815fdb716",
      "4d74f0ec93f54e09a22c3cb93a042570",
      "31cdf14402f34270bdc1b1efd2a0d011"
     ]
    },
    "id": "TAit9IzsQLcc",
    "outputId": "176a77ad-0245-4a3d-b9f3-e139de359da7"
   },
   "outputs": [],
   "source": [
    "quant_config = BitsAndBytesConfig(\n",
    "    load_in_4bit=True,\n",
    "    bnb_4bit_use_double_quant=True,\n",
    "    bnb_4bit_compute_dtype=torch.bfloat16,\n",
    "    bnb_4bit_quant_type=\"nf4\"\n",
    ")\n",
    "\n",
    "tokenizer = AutoTokenizer.from_pretrained(BASE_MODEL, trust_remote_code=True)\n",
    "tokenizer.pad_token = tokenizer.eos_token\n",
    "tokenizer.padding_side = \"right\"\n",
    "\n",
    "base_model = AutoModelForCausalLM.from_pretrained(\n",
    "    BASE_MODEL,\n",
    "    quantization_config=quant_config,\n",
    "    device_map=\"auto\",\n",
    ")\n",
    "base_model.generation_config.pad_token_id = tokenizer.pad_token_id\n",
    "\n",
    "print(f\"Memory footprint: {base_model.get_memory_footprint() / 1e9:.1f} GB\")"
   ]
  },
  {
   "cell_type": "markdown",
   "metadata": {
    "application/vnd.databricks.v1+cell": {
     "cellMetadata": {},
     "inputWidgets": {},
     "nuid": "71d1e5bb-0362-4309-9913-474226315271",
     "showTitle": false,
     "tableResultSettingsMap": {},
     "title": ""
    }
   },
   "source": [
    "## 🤖 Prediction"
   ]
  },
  {
   "cell_type": "code",
   "execution_count": 0,
   "metadata": {
    "application/vnd.databricks.v1+cell": {
     "cellMetadata": {},
     "inputWidgets": {},
     "nuid": "37509d57-d8e9-4b2d-9988-16bbf4984573",
     "showTitle": false,
     "tableResultSettingsMap": {},
     "title": ""
    },
    "id": "1FfMJ2JbzEr3"
   },
   "outputs": [],
   "source": [
    "def extract_price(s):\n",
    "    if \"Price is $\" in s:\n",
    "      contents = s.split(\"Price is $\")[1]\n",
    "      contents = contents.replace(',','').replace('$','')\n",
    "      match = re.search(r\"[-+]?\\d*\\.\\d+|\\d+\", contents)\n",
    "      return float(match.group()) if match else 0\n",
    "    return 0"
   ]
  },
  {
   "cell_type": "code",
   "execution_count": 0,
   "metadata": {
    "application/vnd.databricks.v1+cell": {
     "cellMetadata": {},
     "inputWidgets": {},
     "nuid": "025506c9-9d83-42ad-8cc0-221d0aaca935",
     "showTitle": false,
     "tableResultSettingsMap": {},
     "title": ""
    },
    "id": "CgN8eRttRAZx"
   },
   "outputs": [],
   "source": [
    "def model_predict(prompt):\n",
    "    set_seed(42)\n",
    "    inputs = tokenizer.encode(prompt, return_tensors=\"pt\").to(\"cuda\")\n",
    "    attention_mask = torch.ones(inputs.shape, device=\"cuda\")\n",
    "    outputs = base_model.generate(inputs, max_new_tokens=4, attention_mask=attention_mask, num_return_sequences=1)\n",
    "    response = tokenizer.decode(outputs[0])\n",
    "    return extract_price(response)"
   ]
  },
  {
   "cell_type": "code",
   "execution_count": 0,
   "metadata": {
    "application/vnd.databricks.v1+cell": {
     "cellMetadata": {},
     "inputWidgets": {},
     "nuid": "eb48a02e-0f47-4846-9a78-6fd0dd73f13f",
     "showTitle": false,
     "tableResultSettingsMap": {},
     "title": ""
    },
    "colab": {
     "base_uri": "https://localhost:8080/"
    },
    "id": "hpdEk2-FW6aT",
    "outputId": "f8913c56-1a8f-4a13-9084-21acfdb64ceb"
   },
   "outputs": [],
   "source": [
    "model_predict(test[0]['text']), test[0]['price']"
   ]
  },
  {
   "cell_type": "markdown",
   "metadata": {
    "application/vnd.databricks.v1+cell": {
     "cellMetadata": {},
     "inputWidgets": {},
     "nuid": "341224d6-f3cd-4563-be0a-b8c7cf7aec2d",
     "showTitle": false,
     "tableResultSettingsMap": {},
     "title": ""
    },
    "id": "auFzPUJKTLln"
   },
   "source": [
    "## 🧪 Run Evaluation"
   ]
  },
  {
   "cell_type": "code",
   "execution_count": 0,
   "metadata": {
    "application/vnd.databricks.v1+cell": {
     "cellMetadata": {},
     "inputWidgets": {},
     "nuid": "7ea1be2a-cb75-49c3-9c52-dcfc8a59d7e8",
     "showTitle": false,
     "tableResultSettingsMap": {},
     "title": ""
    },
    "id": "jnoI1EWGTUau"
   },
   "outputs": [],
   "source": [
    "# Helper class for evaluating model predictions\n",
    "\n",
    "GREEN = \"\\033[92m\"\n",
    "YELLOW = \"\\033[93m\"\n",
    "RED = \"\\033[91m\"\n",
    "RESET = \"\\033[0m\"\n",
    "COLOR_MAP = {\"red\":RED, \"orange\": YELLOW, \"green\": GREEN}\n",
    "\n",
    "class Tester:\n",
    "\n",
    "    def __init__(self, predictor, data, title=None, size=100):\n",
    "        self.predictor = predictor\n",
    "        self.data = data\n",
    "        self.title = title or predictor.__name__.replace(\"_\", \" \").title()\n",
    "        self.size = size\n",
    "        self.guesses = []\n",
    "        self.truths = []\n",
    "        self.errors = []\n",
    "        self.sles = []\n",
    "        self.colors = []\n",
    "\n",
    "    def color_for(self, error, truth):\n",
    "        if error<40 or error/truth < 0.2:\n",
    "            return \"green\"\n",
    "        elif error<80 or error/truth < 0.4:\n",
    "            return \"orange\"\n",
    "        else:\n",
    "            return \"red\"\n",
    "\n",
    "    def run_datapoint(self, i):\n",
    "        datapoint = self.data[i]\n",
    "        guess = self.predictor(datapoint[\"text\"])\n",
    "        truth = datapoint[\"price\"]\n",
    "        error = abs(guess - truth)\n",
    "        log_error = math.log(truth+1) - math.log(guess+1)\n",
    "        sle = log_error ** 2\n",
    "        color = self.color_for(error, truth)\n",
    "        # title = datapoint[\"text\"].split(\"\\n\\n\")[1][:20] + \"...\"\n",
    "        self.guesses.append(guess)\n",
    "        self.truths.append(truth)\n",
    "        self.errors.append(error)\n",
    "        self.sles.append(sle)\n",
    "        self.colors.append(color)\n",
    "        # print(f\"{COLOR_MAP[color]}{i+1}: Guess: ${guess:,.2f} Truth: ${truth:,.2f} Error: ${error:,.2f} SLE: {sle:,.2f} Item: {title}{RESET}\")\n",
    "\n",
    "    def chart(self, title):\n",
    "        # max_error = max(self.errors)\n",
    "        plt.figure(figsize=(12, 8))\n",
    "        max_val = max(max(self.truths), max(self.guesses))\n",
    "        plt.plot([0, max_val], [0, max_val], color='deepskyblue', lw=2, alpha=0.6)\n",
    "        plt.scatter(self.truths, self.guesses, s=3, c=self.colors)\n",
    "        plt.xlabel('Ground Truth')\n",
    "        plt.ylabel('Model Estimate')\n",
    "        plt.xlim(0, max_val)\n",
    "        plt.ylim(0, max_val)\n",
    "        plt.title(title)\n",
    "\n",
    "        # Add color legend\n",
    "        from matplotlib.lines import Line2D\n",
    "        legend_elements = [\n",
    "            Line2D([0], [0], marker='o', color='w', label='Accurate (green)', markerfacecolor='green', markersize=8),\n",
    "            Line2D([0], [0], marker='o', color='w', label='Medium error (orange)', markerfacecolor='orange', markersize=8),\n",
    "            Line2D([0], [0], marker='o', color='w', label='High error (red)', markerfacecolor='red', markersize=8)\n",
    "        ]\n",
    "        plt.legend(handles=legend_elements, loc='upper right')\n",
    "\n",
    "        plt.show()\n",
    "\n",
    "\n",
    "    def report(self):\n",
    "        average_error = sum(self.errors) / self.size\n",
    "        rmsle = math.sqrt(sum(self.sles) / self.size)\n",
    "        hits = sum(1 for color in self.colors if color==\"green\")\n",
    "        title = f\"{self.title} Error=${average_error:,.2f} RMSLE={rmsle:,.2f} Hits={hits/self.size*100:.1f}%\"\n",
    "        self.chart(title)\n",
    "\n",
    "    def run(self):\n",
    "        self.error = 0\n",
    "        for i in range(self.size):\n",
    "            self.run_datapoint(i)\n",
    "        self.report()\n",
    "\n",
    "    @classmethod\n",
    "    def test(cls, function, data):\n",
    "        cls(function, data).run()"
   ]
  },
  {
   "cell_type": "code",
   "execution_count": 0,
   "metadata": {
    "application/vnd.databricks.v1+cell": {
     "cellMetadata": {},
     "inputWidgets": {},
     "nuid": "cf2513cd-e0c2-4491-b989-085219b9f955",
     "showTitle": false,
     "tableResultSettingsMap": {},
     "title": ""
    },
    "colab": {
     "base_uri": "https://localhost:8080/",
     "height": 692
    },
    "id": "1wA5uVgpTWLC",
    "outputId": "5a597437-50c8-419c-c1da-af0166dabe0f"
   },
   "outputs": [],
   "source": [
    "Tester.test(model_predict, test)"
   ]
  },
  {
   "cell_type": "markdown",
   "metadata": {
    "application/vnd.databricks.v1+cell": {
     "cellMetadata": {},
     "inputWidgets": {},
     "nuid": "d2b37ea6-540c-4a72-8204-369491687c2f",
     "showTitle": false,
     "tableResultSettingsMap": {},
     "title": ""
    },
    "id": "lSfPbebIq2Ml"
   },
   "source": [
    "![image.png](attachment:image.png)\n",
    "\n",
    "Alright — now that we know where things stand, it’s time to shake things up.\n",
    "\n",
    "Can QLoRA fine-tuning unlock the true power of LLaMA 3.1?\n",
    "\n",
    "👀 Let’s find out... in the [next notebook](https://github.com/lisekarimi/lexo/blob/main/09_part6_ft_llama_qlora.ipynb)"
   ]
  }
 ],
 "metadata": {
  "accelerator": "GPU",
  "application/vnd.databricks.v1+notebook": {
   "computePreferences": null,
   "dashboards": [],
   "environmentMetadata": null,
   "inputWidgetPreferences": null,
   "language": "python",
   "notebookMetadata": {},
   "notebookName": "09_part5_llama31_8b_quant",
   "widgets": {}
  },
  "colab": {
   "gpuType": "T4",
   "provenance": []
  },
  "kernelspec": {
   "display_name": "Python 3 (ipykernel)",
   "language": "python",
   "name": "python3"
  },
  "language_info": {
   "name": "python"
  }
 },
 "nbformat": 4,
 "nbformat_minor": 0
}
