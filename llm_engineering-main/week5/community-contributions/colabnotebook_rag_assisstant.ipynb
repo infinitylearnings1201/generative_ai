{
 "cells": [
  {
   "cell_type": "markdown",
   "metadata": {
    "application/vnd.databricks.v1+cell": {
     "cellMetadata": {},
     "inputWidgets": {},
     "nuid": "687fc959-4c20-4924-9d2b-1c3044e1d934",
     "showTitle": false,
     "tableResultSettingsMap": {},
     "title": ""
    }
   },
   "source": [
    "# Colab Notebook RAG Assistant\n",
    "\n",
    "Short Notebook Description:\n",
    "\n",
    "This Jupyter/Colab notebook builds a Retrieval-Augmented Generation (RAG) assistant over your own collection of .ipynb files in Google Colab. It:\n",
    "\n",
    "1. Loads all notebooks from a local folder or mounted Google Drive.\n",
    "\n",
    "2. Chunks their content into manageable pieces.\n",
    "\n",
    "3. Embeds each chunk with OpenAI embeddings and stores them in a persistent Chroma vector database.\n",
    "\n",
    "4. Provides a ConversationalRetrievalChain with memory and a Gradio chat interface.\n",
    "\n",
    "5. For any user question, it returns both an answer and the names of the exact notebooks where the relevant information was found.\n",
    "\n",
    "This setup lets you query your entire notebook history—whether local or in Colab—just like a personal knowledge base."
   ]
  },
  {
   "cell_type": "markdown",
   "metadata": {
    "application/vnd.databricks.v1+cell": {
     "cellMetadata": {},
     "inputWidgets": {},
     "nuid": "9f1042cb-e345-4a60-a679-a3d8c1dd6099",
     "showTitle": false,
     "tableResultSettingsMap": {},
     "title": ""
    }
   },
   "source": [
    "## Imports"
   ]
  },
  {
   "cell_type": "code",
   "execution_count": 0,
   "metadata": {
    "application/vnd.databricks.v1+cell": {
     "cellMetadata": {},
     "inputWidgets": {},
     "nuid": "674dbb59-9cfd-4344-86e7-b6ea5227ca44",
     "showTitle": false,
     "tableResultSettingsMap": {},
     "title": ""
    }
   },
   "outputs": [],
   "source": [
    "import os\n",
    "import glob\n",
    "from dotenv import load_dotenv\n",
    "import gradio as gr\n",
    "\n",
    "from langchain_openai import OpenAIEmbeddings, ChatOpenAI\n",
    "from langchain.document_loaders import DirectoryLoader, NotebookLoader\n",
    "from langchain.text_splitter import CharacterTextSplitter, RecursiveCharacterTextSplitter\n",
    "from langchain_chroma import Chroma\n",
    "from langchain.memory import ConversationBufferMemory\n",
    "from langchain.chains import ConversationalRetrievalChain\n",
    "from langchain.chains import RetrievalQA\n",
    "\n",
    "from sklearn.manifold import TSNE\n",
    "import plotly.graph_objects as go\n",
    "import matplotlib.pyplot as plt\n",
    "\n",
    "import numpy as np"
   ]
  },
  {
   "cell_type": "markdown",
   "metadata": {
    "application/vnd.databricks.v1+cell": {
     "cellMetadata": {},
     "inputWidgets": {},
     "nuid": "14e3ed1b-a3b9-416c-870a-f5a2f52ea884",
     "showTitle": false,
     "tableResultSettingsMap": {},
     "title": ""
    }
   },
   "source": [
    "## Configuration & Set Environment"
   ]
  },
  {
   "cell_type": "code",
   "execution_count": 0,
   "metadata": {
    "application/vnd.databricks.v1+cell": {
     "cellMetadata": {},
     "inputWidgets": {},
     "nuid": "58607d66-f415-4228-874e-8522337981a3",
     "showTitle": false,
     "tableResultSettingsMap": {},
     "title": ""
    }
   },
   "outputs": [],
   "source": [
    "load_dotenv(override = True)\n",
    "\n",
    "OPENAI_KEY = os.getenv('OPENAI_API_KEY')\n",
    "NOTEBOOKS_DIR = os.getenv('NOTEBOOKS_DIR')\n",
    "VECTOR_DB_DIR = os.getenv('VECTOR_DB_DIR')"
   ]
  },
  {
   "cell_type": "code",
   "execution_count": 0,
   "metadata": {
    "application/vnd.databricks.v1+cell": {
     "cellMetadata": {},
     "inputWidgets": {},
     "nuid": "0b0a4cc2-3bf1-4004-b53f-0d096fb1d20c",
     "showTitle": false,
     "tableResultSettingsMap": {},
     "title": ""
    }
   },
   "outputs": [],
   "source": [
    "MODEL = 'gpt-4o-mini'\n",
    "CHUNK_SIZE = 1000\n",
    "CHUNK_OVERLAP = 200"
   ]
  },
  {
   "cell_type": "code",
   "execution_count": 0,
   "metadata": {
    "application/vnd.databricks.v1+cell": {
     "cellMetadata": {},
     "inputWidgets": {},
     "nuid": "05d07087-8c72-4361-adda-f210864ff77f",
     "showTitle": false,
     "tableResultSettingsMap": {},
     "title": ""
    }
   },
   "outputs": [],
   "source": [
    "try:\n",
    "    # Colab\n",
    "    from google.colab import drive\n",
    "    print(\"Running in Colab: mounting Google Drive...\")\n",
    "    drive.mount('/content/drive')\n",
    "    is_colab = True\n",
    "\n",
    "    # Colab defaults\n",
    "    NOTEBOOKS_DIR = '/content/drive/MyDrive/ColabNotebooks'\n",
    "    DB_DIR = VECTOR_DB_DIR or '/content/drive/MyDrive/colab_vector_db'\n",
    "\n",
    "except ImportError:\n",
    "    # Local Jupyter Lab:\n",
    "    print(\"Not in Colab: using local notebooks directory.\")\n",
    "    NOTEBOOKS_DIR = os.path.expanduser(NOTEBOOKS_DIR)\n",
    "    DB_DIR = VECTOR_DB_DIR\n",
    "\n",
    "    # Verify the local notebooks directory exists\n",
    "    if not os.path.isdir(NOTEBOOKS_DIR):\n",
    "        raise FileNotFoundError(\n",
    "            f\"Local notebooks directory '{NOTEBOOKS_DIR}' not found.\" \n",
    "            \"\\nPlease sync your Google Drive folder (e.g., via Drive for Desktop) \"\n",
    "            \"or set NOTEBOOKS_DIR in your .env to the correct path.\"\n",
    "        )\n",
    "# Confirm final paths\n",
    "# print(f\"Indexing notebooks from: {NOTEBOOKS_DIR}\")\n",
    "# print(f\"Chroma will store embeddings in: {DB_DIR}\")"
   ]
  },
  {
   "cell_type": "markdown",
   "metadata": {
    "application/vnd.databricks.v1+cell": {
     "cellMetadata": {},
     "inputWidgets": {},
     "nuid": "90e1d54e-d14b-4f6d-8d84-ff10f9940151",
     "showTitle": false,
     "tableResultSettingsMap": {},
     "title": ""
    }
   },
   "source": [
    "## Read in Notebook files"
   ]
  },
  {
   "cell_type": "code",
   "execution_count": 0,
   "metadata": {
    "application/vnd.databricks.v1+cell": {
     "cellMetadata": {},
     "inputWidgets": {},
     "nuid": "a310c583-e2f8-4c93-bee3-824e8647845c",
     "showTitle": false,
     "tableResultSettingsMap": {},
     "title": ""
    }
   },
   "outputs": [],
   "source": [
    "notebooks = glob.glob(\n",
    "    os.path.join(NOTEBOOKS_DIR, \"**\", \"*.ipynb\"),\n",
    "    recursive=True\n",
    ")\n",
    "print(f\"Notebooks found: {len(notebooks)}\")\n",
    "\n",
    "\n",
    "loader = DirectoryLoader(NOTEBOOKS_DIR,\n",
    "                         glob = '**/*.ipynb',\n",
    "                         loader_cls = NotebookLoader\n",
    "                        )\n",
    "docs = loader.load()"
   ]
  },
  {
   "cell_type": "code",
   "execution_count": 0,
   "metadata": {
    "application/vnd.databricks.v1+cell": {
     "cellMetadata": {},
     "inputWidgets": {},
     "nuid": "10d6bab6-d884-438c-9dac-4392c7a2e9b9",
     "showTitle": false,
     "tableResultSettingsMap": {},
     "title": ""
    }
   },
   "outputs": [],
   "source": [
    "splitter = RecursiveCharacterTextSplitter(\n",
    "    chunk_size = CHUNK_SIZE, \n",
    "    chunk_overlap = CHUNK_OVERLAP, \n",
    "    separators=[\"\\n## \", \"\\n### \", \"\\n#### \", \"\\n\\n\", \"\\n\", \" \", \"\"]\n",
    ")\n",
    "\n",
    "chunks = splitter.split_documents(docs)\n",
    "print(f'Created {len(chunks)} chunks from your notebooks')"
   ]
  },
  {
   "cell_type": "markdown",
   "metadata": {
    "application/vnd.databricks.v1+cell": {
     "cellMetadata": {},
     "inputWidgets": {},
     "nuid": "a91a120b-f586-4dc9-b4d6-cf77688d4e4d",
     "showTitle": false,
     "tableResultSettingsMap": {},
     "title": ""
    }
   },
   "source": [
    "## Embedding"
   ]
  },
  {
   "cell_type": "code",
   "execution_count": 0,
   "metadata": {
    "application/vnd.databricks.v1+cell": {
     "cellMetadata": {},
     "inputWidgets": {},
     "nuid": "88f797d6-503a-46f7-acbf-3b34f1f83cde",
     "showTitle": false,
     "tableResultSettingsMap": {},
     "title": ""
    }
   },
   "outputs": [],
   "source": [
    "embeddings = OpenAIEmbeddings(openai_api_key=OPENAI_KEY)\n",
    "\n",
    "if os.path.exists(DB_DIR):\n",
    "    Chroma(persist_directory = DB_DIR, embedding_function = embeddings).delete_collection()\n",
    "\n",
    "\n",
    "vectorstore = Chroma.from_documents(\n",
    "    documents = chunks,\n",
    "    embedding = embeddings,\n",
    "    persist_directory = VECTOR_DB_DIR\n",
    ")\n",
    "\n",
    "vector_count = vectorstore._collection.count()\n",
    "print(f\"Vectorstore contains {vector_count} vectors.\")"
   ]
  },
  {
   "cell_type": "code",
   "execution_count": 0,
   "metadata": {
    "application/vnd.databricks.v1+cell": {
     "cellMetadata": {},
     "inputWidgets": {},
     "nuid": "2645d4e4-9b25-4d88-a4e0-d1ff5003f088",
     "showTitle": false,
     "tableResultSettingsMap": {},
     "title": ""
    }
   },
   "outputs": [],
   "source": [
    "sample_embedding = vectorstore._collection.get(limit=1, include=[\"embeddings\"])[\"embeddings\"][0]\n",
    "dimensions = len(sample_embedding)\n",
    "print(f\"There are {vectorstore._collection.count():,} vectors with {dimensions:,} dimensions in the vector store.\")"
   ]
  },
  {
   "cell_type": "markdown",
   "metadata": {
    "application/vnd.databricks.v1+cell": {
     "cellMetadata": {},
     "inputWidgets": {},
     "nuid": "bda6ce2d-bf89-48f9-9d2f-cf459ca5b600",
     "showTitle": false,
     "tableResultSettingsMap": {},
     "title": ""
    }
   },
   "source": [
    "## Visualize in 3D"
   ]
  },
  {
   "cell_type": "code",
   "execution_count": 0,
   "metadata": {
    "application/vnd.databricks.v1+cell": {
     "cellMetadata": {},
     "inputWidgets": {},
     "nuid": "7c455173-1552-4818-b160-373d3fdb99a5",
     "showTitle": false,
     "tableResultSettingsMap": {},
     "title": ""
    }
   },
   "outputs": [],
   "source": [
    "result = vectorstore._collection.get(include=['embeddings', 'documents',])\n",
    "vectors = np.array(result['embeddings'])\n",
    "documents = result['documents']\n",
    "colors = ['blue'] * len(vectors)"
   ]
  },
  {
   "cell_type": "code",
   "execution_count": 0,
   "metadata": {
    "application/vnd.databricks.v1+cell": {
     "cellMetadata": {},
     "inputWidgets": {},
     "nuid": "66ffce76-4e55-40fd-9c7e-67f2c04e045c",
     "showTitle": false,
     "tableResultSettingsMap": {},
     "title": ""
    }
   },
   "outputs": [],
   "source": [
    "tsne = TSNE(n_components=3, random_state=42)\n",
    "reduced_vectors = tsne.fit_transform(vectors)\n",
    "\n",
    "fig = go.Figure(data=[go.Scatter3d(\n",
    "    x=reduced_vectors[:, 0],\n",
    "    y=reduced_vectors[:, 1],\n",
    "    z=reduced_vectors[:, 2],\n",
    "    mode='markers',\n",
    "    marker=dict(size=4, color=colors, opacity=0.8),\n",
    "    text=[d[:100] + \"...\" for d in documents],\n",
    "    hoverinfo='text'\n",
    ")])\n",
    "\n",
    "fig.update_layout(\n",
    "    title='3D TSNE of Notebook-Chunks',\n",
    "    scene=dict(\n",
    "        xaxis_title=\"TSNE-1\",\n",
    "        yaxis_title=\"TSNE-2\",\n",
    "        zaxis_title=\"TSNE-3\"\n",
    "    ),\n",
    "    width=800,\n",
    "    height=600,\n",
    "    margin=dict(r=10, b=10, l=10, t=40)\n",
    ")\n",
    "\n",
    "fig.show()"
   ]
  },
  {
   "cell_type": "markdown",
   "metadata": {
    "application/vnd.databricks.v1+cell": {
     "cellMetadata": {},
     "inputWidgets": {},
     "nuid": "d20694b0-8391-4482-8d3c-d01aecf755e1",
     "showTitle": false,
     "tableResultSettingsMap": {},
     "title": ""
    }
   },
   "source": [
    "## Build LLM"
   ]
  },
  {
   "cell_type": "code",
   "execution_count": 0,
   "metadata": {
    "application/vnd.databricks.v1+cell": {
     "cellMetadata": {},
     "inputWidgets": {},
     "nuid": "c68628c3-7e1c-4017-9ca4-5dd0af0a2f90",
     "showTitle": false,
     "tableResultSettingsMap": {},
     "title": ""
    }
   },
   "outputs": [],
   "source": [
    "llm = ChatOpenAI(model_name = MODEL, temperature = 0.6)"
   ]
  },
  {
   "cell_type": "code",
   "execution_count": 0,
   "metadata": {
    "application/vnd.databricks.v1+cell": {
     "cellMetadata": {},
     "inputWidgets": {},
     "nuid": "fbc89ca9-216d-4b91-87a6-008be836f05c",
     "showTitle": false,
     "tableResultSettingsMap": {},
     "title": ""
    }
   },
   "outputs": [],
   "source": [
    "qa = RetrievalQA.from_chain_type(\n",
    "    llm = llm,\n",
    "    chain_type=\"stuff\",\n",
    "    retriever=vectorstore.as_retriever(search_kwargs={\"k\": 4}),\n",
    "    return_source_documents=True\n",
    ")"
   ]
  },
  {
   "cell_type": "code",
   "execution_count": 0,
   "metadata": {
    "application/vnd.databricks.v1+cell": {
     "cellMetadata": {},
     "inputWidgets": {},
     "nuid": "2fc2b70e-a85c-4fad-8dbc-5075b658aa0b",
     "showTitle": false,
     "tableResultSettingsMap": {},
     "title": ""
    }
   },
   "outputs": [],
   "source": [
    "memory = ConversationBufferMemory(\n",
    "    memory_key = 'chat_history',\n",
    "    return_messages = True\n",
    ")\n",
    "\n",
    "conv_chain = ConversationalRetrievalChain.from_llm(\n",
    "    llm = llm,\n",
    "    retriever = vectorstore.as_retriever(search_kwargs = {'k': 10}),\n",
    "    memory = memory\n",
    ")"
   ]
  },
  {
   "cell_type": "code",
   "execution_count": 0,
   "metadata": {
    "application/vnd.databricks.v1+cell": {
     "cellMetadata": {},
     "inputWidgets": {},
     "nuid": "7d5f97ab-66d4-4287-8b6c-17975ba49dd7",
     "showTitle": false,
     "tableResultSettingsMap": {},
     "title": ""
    }
   },
   "outputs": [],
   "source": [
    "def chat_with_memory_and_sources(message, chat_history):\n",
    "    # Get the conversational answer (memory included)\n",
    "    conv_res = conv_chain.invoke({\n",
    "        \"question\":     message,\n",
    "        \"chat_history\": chat_history\n",
    "    })\n",
    "    answer = conv_res[\"answer\"]\n",
    "\n",
    "    # Retrieve source documents  \n",
    "    src_res  = qa({\"query\": message})\n",
    "    src_docs = src_res[\"source_documents\"]\n",
    "\n",
    "    # Extract and dedupe notebook filenames from metadata\n",
    "    notebooks = [\n",
    "        os.path.basename(doc.metadata.get(\"source\", \"\"))\n",
    "        for doc in src_docs\n",
    "        if doc.metadata.get(\"source\")\n",
    "    ]\n",
    "    unique = []\n",
    "    for n in notebooks:\n",
    "        if n not in unique:\n",
    "            unique.append(n)\n",
    "\n",
    "    # Append the list of notebook filenames\n",
    "    if unique:\n",
    "        answer += \"\\n\\n**Found Notebooks:**\\n\" + \"\\n\".join(f\"- {n}\" for n in unique)\n",
    "    else:\n",
    "        answer += \"\\n\\n_No Notebooks found._\"\n",
    "\n",
    "    return answer"
   ]
  },
  {
   "cell_type": "markdown",
   "metadata": {
    "application/vnd.databricks.v1+cell": {
     "cellMetadata": {},
     "inputWidgets": {},
     "nuid": "813b989f-a113-4606-b621-1ecbc8e53204",
     "showTitle": false,
     "tableResultSettingsMap": {},
     "title": ""
    }
   },
   "source": [
    "## Gradio UI"
   ]
  },
  {
   "cell_type": "code",
   "execution_count": 0,
   "metadata": {
    "application/vnd.databricks.v1+cell": {
     "cellMetadata": {},
     "inputWidgets": {},
     "nuid": "269b518d-2c39-408d-8ca7-7cf079122e29",
     "showTitle": false,
     "tableResultSettingsMap": {},
     "title": ""
    }
   },
   "outputs": [],
   "source": [
    "view = gr.ChatInterface(chat_with_memory_and_sources, \n",
    "                        title=\"Notebook-RAG-Assistant mit Memory & Quellen\",\n",
    "                       type = 'messages').launch(inbrowser=True)"
   ]
  }
 ],
 "metadata": {
  "application/vnd.databricks.v1+notebook": {
   "computePreferences": null,
   "dashboards": [],
   "environmentMetadata": null,
   "inputWidgetPreferences": null,
   "language": "python",
   "notebookMetadata": {},
   "notebookName": "colabnotebook_rag_assisstant",
   "widgets": {}
  },
  "kernelspec": {
   "display_name": "Python 3 (ipykernel)",
   "language": "python",
   "name": "python3"
  },
  "language_info": {
   "name": "python"
  }
 },
 "nbformat": 4,
 "nbformat_minor": 0
}
