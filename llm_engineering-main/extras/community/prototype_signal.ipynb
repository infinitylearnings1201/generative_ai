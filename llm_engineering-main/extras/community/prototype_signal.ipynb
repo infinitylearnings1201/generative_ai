{
 "cells": [
  {
   "cell_type": "markdown",
   "metadata": {
    "application/vnd.databricks.v1+cell": {
     "cellMetadata": {},
     "inputWidgets": {},
     "nuid": "b0b7b25c-c299-4012-a608-d344f29eed93",
     "showTitle": false,
     "tableResultSettingsMap": {},
     "title": ""
    }
   },
   "source": [
    "## First step - generate training data from examples"
   ]
  },
  {
   "cell_type": "code",
   "execution_count": 0,
   "metadata": {
    "application/vnd.databricks.v1+cell": {
     "cellMetadata": {},
     "inputWidgets": {},
     "nuid": "05c4c0b0-53ac-4157-acd2-d8612a222521",
     "showTitle": false,
     "tableResultSettingsMap": {},
     "title": ""
    }
   },
   "outputs": [],
   "source": [
    "import requests\n",
    "import pandas as pd\n",
    "from datetime import datetime, timedelta,timezone\n",
    "from datasets import load_dataset, Dataset\n",
    "from dotenv import load_dotenv\n",
    "import os\n",
    "from openai import OpenAI\n",
    "import json\n",
    "import tiktoken\n",
    "from IPython.display import display, Markdown\n",
    "\n"
   ]
  },
  {
   "cell_type": "code",
   "execution_count": 0,
   "metadata": {
    "application/vnd.databricks.v1+cell": {
     "cellMetadata": {},
     "inputWidgets": {},
     "nuid": "e08b6cd4-6e7b-470a-84a5-bbe310d9dcc6",
     "showTitle": false,
     "tableResultSettingsMap": {},
     "title": ""
    }
   },
   "outputs": [],
   "source": [
    "# Load environment variables in a file called .env\n",
    "load_dotenv()\n",
    "\n",
    "# Replace with your CoinAPI key\n",
    "API_KEY = os.getenv('YOUR_COINAPI_KEY')\n",
    "\n",
    "# Define the base URL for CoinAPI\n",
    "BASE_URL = 'https://rest.coinapi.io/v1/ohlcv/'\n",
    "OLLAMA_URL = \"http://localhost:11434/v1\"\n",
    "\n",
    "os.environ['OPENAI_API_KEY'] = os.getenv('OPENAI_API_KEY', 'your-key-if-not-using-env')\n",
    "# URL to fetch the OHLCV data\n"
   ]
  },
  {
   "cell_type": "code",
   "execution_count": 0,
   "metadata": {
    "application/vnd.databricks.v1+cell": {
     "cellMetadata": {},
     "inputWidgets": {},
     "nuid": "6344f3d5-1a33-4098-ad03-bf480715e2da",
     "showTitle": false,
     "tableResultSettingsMap": {},
     "title": ""
    }
   },
   "outputs": [],
   "source": [
    "openai = OpenAI()\n",
    "\n",
    "ollama = OpenAI(\n",
    "    base_url=OLLAMA_URL,\n",
    "    api_key='OLAMMA'\n",
    ")\n"
   ]
  },
  {
   "cell_type": "code",
   "execution_count": 0,
   "metadata": {
    "application/vnd.databricks.v1+cell": {
     "cellMetadata": {},
     "inputWidgets": {},
     "nuid": "c4a81ab0-06f3-494b-98ae-a36b8ba030c9",
     "showTitle": false,
     "tableResultSettingsMap": {},
     "title": ""
    }
   },
   "outputs": [],
   "source": [
    "# Define the symbol and timeframe\n",
    "base_data = {\n",
    "    'name': 'Cardano',\n",
    "    'symbol': f'BINANCE_SPOT_ADA_USDT',\n",
    "    'timeframe': '1DAY',\n",
    "    'time_range': 365 * 2\n",
    "}\n",
    "\n",
    "\n",
    "# Calculate the start date for one year ago\n",
    "end_date = datetime.now(tz=timezone.utc)\n",
    "\n",
    "start_date = end_date - timedelta(days=base_data['time_range'])\n",
    "\n",
    "# Format the dates in the required format (ISO 8601)\n",
    "start_date_str = start_date.strftime('%Y-%m-%dT%H:%M:%S')\n",
    "end_date_str = end_date.strftime('%Y-%m-%dT%H:%M:%S')\n",
    "\n",
    "# Headers for authentication\n",
    "headers = {\n",
    "    'X-CoinAPI-Key': API_KEY\n",
    "}\n",
    "\n",
    "# URL to fetch the OHLCV base_data\n",
    "url = f'{BASE_URL}{base_data['symbol']}/history'\n",
    "\n",
    "# Request parameters\n",
    "params = {\n",
    "    'period_id': base_data['timeframe'],\n",
    "    'time_start': start_date_str,\n",
    "    'time_end': end_date_str,\n",
    "    'limit': 1000  # Maximum number of records per request\n",
    "}"
   ]
  },
  {
   "cell_type": "code",
   "execution_count": 0,
   "metadata": {
    "application/vnd.databricks.v1+cell": {
     "cellMetadata": {},
     "inputWidgets": {},
     "nuid": "c6bb2331-fbe8-4c12-a1c3-3a29e1cab83f",
     "showTitle": false,
     "tableResultSettingsMap": {},
     "title": ""
    }
   },
   "outputs": [],
   "source": [
    "# Fetch the data\n",
    "response = requests.get(url, headers=headers, params=params)     \n",
    "len(response.json())"
   ]
  },
  {
   "cell_type": "code",
   "execution_count": 0,
   "metadata": {
    "application/vnd.databricks.v1+cell": {
     "cellMetadata": {},
     "inputWidgets": {},
     "nuid": "51cf6e0d-ff25-406d-8296-67bb41452637",
     "showTitle": false,
     "tableResultSettingsMap": {},
     "title": ""
    }
   },
   "outputs": [],
   "source": [
    "# Check for successful response\n",
    "if response.status_code == 200:\n",
    "    data = response.json()\n",
    "\n",
    "    if data:\n",
    "        # Convert to DataFrame for better readability\n",
    "        df = pd.DataFrame(data)\n",
    "\n",
    "        df = df[[\"time_period_start\", \"price_open\", \"price_high\", \"price_low\", \"price_close\"]]\n",
    "        df.columns = [\"Timestamp\", \"Open\", \"High\", \"Low\", \"Close\"]\n",
    "\n",
    "        # Convert timestamp to readable format\n",
    "        df[\"Timestamp\"] = pd.to_datetime(df[\"Timestamp\"]).dt.strftime(\"%Y-%m-%d\")\n",
    "\n",
    "        # Display the first few rows of the data\n",
    "        print(df.tail())\n",
    "        \n",
    "        # Convert last 365 days of data into JSON format\n",
    "        price_history = df.to_dict(orient=\"records\")\n",
    "       \n",
    "    else:\n",
    "        print('No data found for the given period.')\n",
    "else:\n",
    "    print(f'Error fetching data: {response.status_code}, {response.text}')"
   ]
  },
  {
   "cell_type": "code",
   "execution_count": 0,
   "metadata": {
    "application/vnd.databricks.v1+cell": {
     "cellMetadata": {},
     "inputWidgets": {},
     "nuid": "504e5770-5fa8-45c2-a598-b2642d6a97b8",
     "showTitle": false,
     "tableResultSettingsMap": {},
     "title": ""
    }
   },
   "outputs": [],
   "source": [
    "def count_tokens(text, model=\"gpt-4o\"):\n",
    "    encoding = tiktoken.encoding_for_model(model)\n",
    "    return len(encoding.encode(text))\n"
   ]
  },
  {
   "cell_type": "code",
   "execution_count": 0,
   "metadata": {
    "application/vnd.databricks.v1+cell": {
     "cellMetadata": {},
     "inputWidgets": {},
     "nuid": "1d48a1ec-2d6a-418a-85f4-facbb3b84780",
     "showTitle": false,
     "tableResultSettingsMap": {},
     "title": ""
    }
   },
   "outputs": [],
   "source": [
    "  # Construct prompt \n",
    "\n",
    "prompt = f\"\"\"\n",
    "  Given the last 365 days of ${base_data['name']} OHLC data:\n",
    "\n",
    "  {json.dumps(price_history, indent=2)}\n",
    "\n",
    "  Analyze this data and provide a trading signal (Buy, Sell, or Hold) for today based on the trend and the price action.\n",
    "  Note that today is {end_date.strftime('%Y-%m-%d')}\n",
    "  Also, provide short term ,mid term and long term signals.\n",
    "  \"\"\"\n",
    "num_tokens = count_tokens(prompt)\n",
    "print(f\"Estimated Tokens: {num_tokens}\")\n",
    "\n",
    "print(prompt)"
   ]
  },
  {
   "cell_type": "code",
   "execution_count": 0,
   "metadata": {
    "application/vnd.databricks.v1+cell": {
     "cellMetadata": {},
     "inputWidgets": {},
     "nuid": "eb7a3f77-bf15-4ea4-9a3d-2c1c7bf84e44",
     "showTitle": false,
     "tableResultSettingsMap": {},
     "title": ""
    }
   },
   "outputs": [],
   "source": [
    "def get_response(prompt):\n",
    "    new_response = ollama.chat.completions.create(model=\"llama3.2\",\n",
    "    messages=[\n",
    "        {\"role\": \"system\", \"content\": f\"You are a trading analyst providing Buy/Sell/Hold signals based on ${base_data['name']} price history.Note that today is {end_date.strftime('%Y-%m-%d')}\"},\n",
    "        {\"role\": \"user\", \"content\": prompt}\n",
    "    ],\n",
    "    stream=True,\n",
    "    max_tokens=5500\n",
    "    )\n",
    "    markdown_content = \"\"\n",
    "    \n",
    "    # Stream response and accumulate markdown content\n",
    "    for chunk in new_response:\n",
    "        content = chunk.choices[0].delta.content or ''\n",
    "        markdown_content += content\n",
    "        \n",
    "        # Clear output and display updated markdown\n",
    "        display(Markdown(markdown_content), clear=True)\n",
    "        \n",
    "        yield content\n",
    "\n",
    "# Call the function and consume the generator to start streaming\n",
    "for _ in get_response(prompt):\n",
    "    pass"
   ]
  },
  {
   "cell_type": "code",
   "execution_count": 0,
   "metadata": {
    "application/vnd.databricks.v1+cell": {
     "cellMetadata": {},
     "inputWidgets": {},
     "nuid": "aab6e1dc-08a1-429e-a261-6be32120a5db",
     "showTitle": false,
     "tableResultSettingsMap": {},
     "title": ""
    }
   },
   "outputs": [],
   "source": [
    "def get_response(prompt):\n",
    "    new_response = openai.chat.completions.create(model=\"gpt-4o-mini\",\n",
    "    messages=[\n",
    "        {\"role\": \"system\", \"content\": f\"You are a trading analyst providing Buy/Sell/Hold signals based on ${base_data['name']} price history. Format your response in markdown.Note that today is {end_date.strftime('%Y-%m-%d')}\"},\n",
    "        {\"role\": \"user\", \"content\": prompt}\n",
    "    ],\n",
    "    stream=True,\n",
    "    max_tokens=5500\n",
    "    )\n",
    "    \n",
    "    # Initialize markdown cell output\n",
    "    markdown_content = \"\"\n",
    "    \n",
    "    # Stream response and accumulate markdown content\n",
    "    for chunk in new_response:\n",
    "        content = chunk.choices[0].delta.content or ''\n",
    "        markdown_content += content\n",
    "        \n",
    "        # Clear output and display updated markdown\n",
    "        display(Markdown(markdown_content), clear=True)\n",
    "        \n",
    "        yield content\n",
    "\n",
    "# Call the function and consume the generator to start streaming\n",
    "for _ in get_response(prompt):\n",
    "    pass"
   ]
  },
  {
   "cell_type": "code",
   "execution_count": 0,
   "metadata": {
    "application/vnd.databricks.v1+cell": {
     "cellMetadata": {},
     "inputWidgets": {},
     "nuid": "254ab1cf-d151-4708-8e3b-2755d5367d7b",
     "showTitle": false,
     "tableResultSettingsMap": {},
     "title": ""
    }
   },
   "outputs": [],
   "source": []
  }
 ],
 "metadata": {
  "application/vnd.databricks.v1+notebook": {
   "computePreferences": null,
   "dashboards": [],
   "environmentMetadata": null,
   "inputWidgetPreferences": null,
   "language": "python",
   "notebookMetadata": {},
   "notebookName": "prototype_signal",
   "widgets": {}
  },
  "kernelspec": {
   "display_name": "venv",
   "language": "python",
   "name": "python3"
  },
  "language_info": {
   "name": "python"
  }
 },
 "nbformat": 4,
 "nbformat_minor": 0
}
