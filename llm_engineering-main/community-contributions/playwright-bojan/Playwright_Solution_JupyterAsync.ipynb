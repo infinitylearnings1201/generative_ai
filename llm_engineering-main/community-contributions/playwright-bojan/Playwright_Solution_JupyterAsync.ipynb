{
 "cells": [
  {
   "cell_type": "markdown",
   "metadata": {
    "application/vnd.databricks.v1+cell": {
     "cellMetadata": {},
     "inputWidgets": {},
     "nuid": "b2812de3-3a73-497e-89e2-8a410db802bb",
     "showTitle": false,
     "tableResultSettingsMap": {},
     "title": ""
    }
   },
   "source": [
    "# Playwright Scraper Showcase (Async in Jupyter)\n",
    "\n",
    "This notebook demonstrates how to run async Playwright-based scraping code inside JupyterLab using `nest_asyncio`.\n",
    "\n",
    "**Note:** Requires `openai_scraper_playwright.py` to be in the same directory."
   ]
  },
  {
   "cell_type": "code",
   "execution_count": 0,
   "metadata": {
    "application/vnd.databricks.v1+cell": {
     "cellMetadata": {},
     "inputWidgets": {},
     "nuid": "419ced8c-658e-4543-ac8f-fc27b2b7ab8a",
     "showTitle": false,
     "tableResultSettingsMap": {},
     "title": ""
    }
   },
   "outputs": [],
   "source": [
    "import nest_asyncio\n",
    "import asyncio\n",
    "nest_asyncio.apply()"
   ]
  },
  {
   "cell_type": "code",
   "execution_count": 0,
   "metadata": {
    "application/vnd.databricks.v1+cell": {
     "cellMetadata": {},
     "inputWidgets": {},
     "nuid": "47d5d9ae-6ef4-4525-bb13-1b577607f891",
     "showTitle": false,
     "tableResultSettingsMap": {},
     "title": ""
    }
   },
   "outputs": [],
   "source": [
    "from openai_scraper_playwright import EnhancedOpenAIScraper, analyze_content"
   ]
  },
  {
   "cell_type": "code",
   "execution_count": 0,
   "metadata": {
    "application/vnd.databricks.v1+cell": {
     "cellMetadata": {},
     "inputWidgets": {},
     "nuid": "dd0d6470-4175-4c98-b410-0314c9779719",
     "showTitle": false,
     "tableResultSettingsMap": {},
     "title": ""
    }
   },
   "outputs": [],
   "source": [
    "result = asyncio.run(analyze_content())\n",
    "print(result)"
   ]
  },
  {
   "cell_type": "markdown",
   "metadata": {
    "application/vnd.databricks.v1+cell": {
     "cellMetadata": {},
     "inputWidgets": {},
     "nuid": "afe4a732-0b7c-4cde-9e2b-ba1e9f32e96a",
     "showTitle": false,
     "tableResultSettingsMap": {},
     "title": ""
    }
   },
   "source": [
    "✅ If you see structured analysis above, the async code ran successfully in Jupyter!"
   ]
  },
  {
   "cell_type": "markdown",
   "metadata": {
    "application/vnd.databricks.v1+cell": {
     "cellMetadata": {},
     "inputWidgets": {},
     "nuid": "7bf0c1b6-9801-4ef3-b01c-900e03017b4d",
     "showTitle": false,
     "tableResultSettingsMap": {},
     "title": ""
    }
   },
   "source": [
    "# 🧪 Playwright Scraper Output (Formatted)\n",
    "\n",
    "---\n",
    "\n",
    "## 🧭 1. **Overall Summary of the Website**\n",
    "\n",
    "*The website appears to be focused on showcasing various applications and updates related to OpenAI's technology, specifically ChatGPT and other AI tools. It provides information on product releases, company updates, and educational content on how to use AI technologies in different scenarios such as planning trips, learning games, coding, and more.*\n",
    "\n",
    "---\n",
    "\n",
    "## 🧑‍💼 2. **Key Individuals or Entities**\n",
    "\n",
    "- **OpenAI** — Company behind the technologies and updates discussed on the website  \n",
    "- **Lyndon Barrois & Sora** — Featured in a story, possibly highlighting user experiences or contributions\n",
    "\n",
    "---\n",
    "\n",
    "## 📰 3. **Recent Announcements or Updates**\n",
    "\n",
    "- 📢 **Introducing GPT-4.1 in the API** — *(no date provided)*\n",
    "- 🖼️ **Introducing 4o Image Generation** — *(no date provided)*\n",
    "- 🐟 **Catching halibut with ChatGPT** — *(no date provided)*\n",
    "- 🧠 **Thinking with images** — *Apr 16, 2025*\n",
    "- 🧑‍⚖️ **Nonprofit commission advisors announced** — *Apr 15, 2025*\n",
    "- ⚙️ **Updated Preparedness Framework** — *Apr 15, 2025*\n",
    "- 🌐 **BrowseComp benchmark for browsing agents** — *Apr 10, 2025*\n",
    "- 🚀 **OpenAI Pioneers Program launched** — *Apr 9, 2025*\n",
    "- 📊 **PaperBench research benchmark published** — *Apr 2, 2025*\n",
    "\n",
    "---\n",
    "\n",
    "## 📚 4. **Main Topics or Themes**\n",
    "\n",
    "- 🤖 **AI Technology Applications** — Using AI for tasks like planning, learning, and troubleshooting  \n",
    "- 🧩 **Product and Feature Releases** — Updates on new capabilities  \n",
    "- 📘 **Educational Content** — Guides for using AI effectively  \n",
    "- 🧪 **Research and Development** — Publications and technical benchmarks\n",
    "\n",
    "---\n",
    "\n",
    "## ⭐ 5. **Noteworthy Features or Projects**\n",
    "\n",
    "- ✅ **GPT-4.1** — A new API-accessible version of the language model  \n",
    "- 🖼️ **4o Image Generation** — Feature focused on AI-generated images  \n",
    "- 🚀 **OpenAI Pioneers Program** — Initiative likely fostering innovation in AI  \n",
    "- 📊 **BrowseComp & PaperBench** — Benchmarks for evaluating AI agents\n",
    "\n",
    "---\n",
    "\n",
    "✅ *If you're reading this inside Jupyter and seeing clean structure — your async notebook setup is working beautifully.*\n"
   ]
  },
  {
   "cell_type": "markdown",
   "metadata": {
    "application/vnd.databricks.v1+cell": {
     "cellMetadata": {},
     "inputWidgets": {},
     "nuid": "dd1f5d71-123e-4872-ad71-97e0235ff7c8",
     "showTitle": false,
     "tableResultSettingsMap": {},
     "title": ""
    }
   },
   "source": []
  }
 ],
 "metadata": {
  "application/vnd.databricks.v1+notebook": {
   "computePreferences": null,
   "dashboards": [],
   "environmentMetadata": null,
   "inputWidgetPreferences": null,
   "language": "python",
   "notebookMetadata": {},
   "notebookName": "Playwright_Solution_JupyterAsync",
   "widgets": {}
  },
  "kernelspec": {
   "display_name": "Python 3 (ipykernel)",
   "language": "python",
   "name": "python3"
  },
  "language_info": {
   "name": "python"
  }
 },
 "nbformat": 4,
 "nbformat_minor": 0
}
