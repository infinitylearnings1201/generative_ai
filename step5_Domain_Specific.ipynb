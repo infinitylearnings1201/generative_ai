{
  "cells": [
    {
      "cell_type": "markdown",
      "metadata": {
        "id": "view-in-github",
        "colab_type": "text"
      },
      "source": [
        "<a href=\"https://colab.research.google.com/github/infinitylearnings1201/generative_ai/blob/gen_ai_fundamentals/step5_Domain_Specific.ipynb\" target=\"_parent\"><img src=\"https://colab.research.google.com/assets/colab-badge.svg\" alt=\"Open In Colab\"/></a>"
      ]
    },
    {
      "cell_type": "code",
      "source": [
        "import os\n",
        "\n",
        "# Set the environment variable for the API key\n",
        "os.environ[\"OPENAI_API_KEY\"] = \"\""
      ],
      "metadata": {
        "id": "DQO-iQP5dK4y"
      },
      "execution_count": 12,
      "outputs": []
    },
    {
      "cell_type": "code",
      "source": [
        "\n",
        "import os\n",
        "from openai import OpenAI\n",
        "\n",
        "client = OpenAI(\n",
        "    api_key = os.getenv(\"OPENAI_API_KEY\"),\n",
        ")\n",
        "\n",
        "# Sample financial report content\n",
        "financial_report = \"\"\"\n",
        "Company XYZ reported a total revenue of $10 million in Q3 2023, up 15% from the previous quarter.\n",
        "Net profit margin improved to 8% due to reduced operating expenses. However, marketing expenses increased by 5%,\n",
        "reflecting the company’s efforts to expand market share.\n",
        "\"\"\"\n",
        "\n",
        "# Generate a summary of the financial report\n",
        "completion = client.chat.completions.create(\n",
        "    model=\"gpt-3.5-turbo\",\n",
        "    messages=[\n",
        "        {\"role\": \"system\", \"content\": \"You are a financial analyst who summarizes financial reports.\"},\n",
        "        {\"role\": \"user\", \"content\": f\"Summarize the following financial report: {financial_report}\"}\n",
        "    ],\n",
        "    max_tokens=100,\n",
        "    temperature=0.5\n",
        ")\n",
        "\n",
        "print(\"Summary:\", completion.choices[0].message.content.strip())\n"
      ],
      "metadata": {
        "colab": {
          "base_uri": "https://localhost:8080/"
        },
        "id": "aOsd99JreaWP",
        "outputId": "4ce3dc39-fc0c-4860-b322-555c8d1b9e8f"
      },
      "execution_count": 17,
      "outputs": [
        {
          "output_type": "stream",
          "name": "stdout",
          "text": [
            "Summary: In Q3 2023, Company XYZ reported a total revenue of $10 million, which represents a 15% increase from the previous quarter. The net profit margin improved to 8% primarily because of reduced operating expenses. Despite this improvement, marketing expenses increased by 5%, indicating the company's focus on expanding its market share.\n"
          ]
        }
      ]
    },
    {
      "cell_type": "markdown",
      "source": [
        "Markets Insights Generator"
      ],
      "metadata": {
        "id": "4eBukhxqfpnq"
      }
    },
    {
      "cell_type": "code",
      "source": [
        "import os\n",
        "from openai import OpenAI\n",
        "\n",
        "client = OpenAI(\n",
        "    api_key = os.getenv(\"OPENAI_API_KEY\"),\n",
        ")\n",
        "# Example market analysis query\n",
        "market_query = \"Provide a brief analysis of the current stock market, focusing on key sectors showing growth.\"\n",
        "\n",
        "# Generate market insights\n",
        "completion = client.chat.completions.create(\n",
        "    model=\"gpt-3.5-turbo\",\n",
        "    messages=[\n",
        "        {\"role\": \"system\", \"content\": \"You are a market analyst who provides concise and accurate market insights.\"},\n",
        "        {\"role\": \"user\", \"content\": market_query}\n",
        "    ],\n",
        "    max_tokens=100,\n",
        "    temperature=0.6\n",
        ")\n",
        "\n",
        "print(\"Market Insights:\", completion.choices[0].message.content.strip())\n"
      ],
      "metadata": {
        "colab": {
          "base_uri": "https://localhost:8080/"
        },
        "id": "pLXlOJ89fspJ",
        "outputId": "a5b84f86-c85e-4918-dce2-0d99de6feb8b"
      },
      "execution_count": 18,
      "outputs": [
        {
          "output_type": "stream",
          "name": "stdout",
          "text": [
            "Market Insights: Currently, the stock market is showing overall strength, with key sectors such as technology, healthcare, and consumer discretionary leading the way in terms of growth. Technology stocks continue to benefit from the increasing digitization of the economy, while healthcare companies are seeing growth driven by innovation and an aging population. Consumer discretionary sectors are performing well as consumer confidence remains high. Investors should keep an eye on these sectors for potential investment opportunities.\n"
          ]
        }
      ]
    },
    {
      "cell_type": "markdown",
      "source": [
        "Portfolio Analyzer"
      ],
      "metadata": {
        "id": "3e_zaAQZf0Hr"
      }
    },
    {
      "cell_type": "code",
      "source": [
        "import os\n",
        "from openai import OpenAI\n",
        "\n",
        "client = OpenAI(\n",
        "    api_key = os.getenv(\"OPENAI_API_KEY\"),\n",
        ")\n",
        "# Sample portfolio information\n",
        "portfolio_info = \"\"\"\n",
        "The portfolio consists of 50% equities, 30% bonds, and 20% real estate.\n",
        "The equities are primarily in technology stocks, which have shown high volatility recently.\n",
        "\"\"\"\n",
        "\n",
        "# Generate a risk assessment\n",
        "completion = client.chat.completions.create(\n",
        "    model=\"gpt-3.5-turbo\",\n",
        "    messages=[\n",
        "        {\"role\": \"system\", \"content\": \"You are a financial advisor who explains investment risks in simple terms.\"},\n",
        "        {\"role\": \"user\", \"content\": f\"Assess the risk for the following investment portfolio: {portfolio_info}\"}\n",
        "    ],\n",
        "    max_tokens=100,\n",
        "    temperature=0.5\n",
        ")\n",
        "\n",
        "print(\"Risk Assessment:\", completion.choices[0].message.content.strip())\n"
      ],
      "metadata": {
        "colab": {
          "base_uri": "https://localhost:8080/"
        },
        "id": "T3tMk8BVfzeU",
        "outputId": "12c9f25b-2090-4d21-c410-49cf0ce18db1"
      },
      "execution_count": 19,
      "outputs": [
        {
          "output_type": "stream",
          "name": "stdout",
          "text": [
            "Risk Assessment: Investing in equities, bonds, and real estate provides diversification in your portfolio, which can help reduce risk. However, the high volatility of technology stocks can introduce additional risk to your portfolio.\n",
            "\n",
            "Equities, especially in technology stocks, are known for their price fluctuations, which can lead to significant gains but also losses. This volatility means that the value of your equity investments can change rapidly and unpredictably.\n",
            "\n",
            "Bonds are generally considered less risky than equities, but they still carry some level of\n"
          ]
        }
      ]
    }
  ],
  "metadata": {
    "colab": {
      "name": "Welcome To Colab",
      "toc_visible": true,
      "provenance": [],
      "include_colab_link": true
    },
    "kernelspec": {
      "display_name": "Python 3",
      "name": "python3"
    }
  },
  "nbformat": 4,
  "nbformat_minor": 0
}