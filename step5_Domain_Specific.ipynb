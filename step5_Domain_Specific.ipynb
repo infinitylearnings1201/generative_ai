{
  "cells": [
    {
      "cell_type": "markdown",
      "metadata": {
        "id": "view-in-github",
        "colab_type": "text"
      },
      "source": [
        "<a href=\"https://colab.research.google.com/github/infinitylearnings1201/generative_ai/blob/gen_ai_fundamentals/step5_Domain_Specific.ipynb\" target=\"_parent\"><img src=\"https://colab.research.google.com/assets/colab-badge.svg\" alt=\"Open In Colab\"/></a>"
      ]
    },
    {
      "cell_type": "code",
      "source": [
        "import os\n",
        "\n",
        "# Set the environment variable for the API key\n",
        "os.environ[\"OPENAI_API_KEY\"] = \"\""
      ],
      "metadata": {
        "id": "DQO-iQP5dK4y"
      },
      "execution_count": 12,
      "outputs": []
    },
    {
      "cell_type": "code",
      "source": [
        "\n",
        "import os\n",
        "from openai import OpenAI\n",
        "\n",
        "client = OpenAI(\n",
        "    api_key = os.getenv(\"OPENAI_API_KEY\"),\n",
        ")\n",
        "\n",
        "# Sample financial report content\n",
        "financial_report = \"\"\"\n",
        "Company XYZ reported a total revenue of $10 million in Q3 2023, up 15% from the previous quarter.\n",
        "Net profit margin improved to 8% due to reduced operating expenses. However, marketing expenses increased by 5%,\n",
        "reflecting the company’s efforts to expand market share.\n",
        "\"\"\"\n",
        "\n",
        "# Generate a summary of the financial report\n",
        "completion = client.chat.completions.create(\n",
        "    model=\"gpt-3.5-turbo\",\n",
        "    messages=[\n",
        "        {\"role\": \"system\", \"content\": \"You are a financial analyst who summarizes financial reports.\"},\n",
        "        {\"role\": \"user\", \"content\": f\"Summarize the following financial report: {financial_report}\"}\n",
        "    ],\n",
        "    max_tokens=100,\n",
        "    temperature=0.5\n",
        ")\n",
        "\n",
        "print(\"Summary:\", completion.choices[0].message.content.strip())\n"
      ],
      "metadata": {
        "colab": {
          "base_uri": "https://localhost:8080/"
        },
        "id": "aOsd99JreaWP",
        "outputId": "4ce3dc39-fc0c-4860-b322-555c8d1b9e8f"
      },
      "execution_count": 17,
      "outputs": [
        {
          "output_type": "stream",
          "name": "stdout",
          "text": [
            "Summary: In Q3 2023, Company XYZ reported a total revenue of $10 million, which represents a 15% increase from the previous quarter. The net profit margin improved to 8% primarily because of reduced operating expenses. Despite this improvement, marketing expenses increased by 5%, indicating the company's focus on expanding its market share.\n"
          ]
        }
      ]
    },
    {
      "cell_type": "markdown",
      "source": [
        "Markets Insights Generator"
      ],
      "metadata": {
        "id": "4eBukhxqfpnq"
      }
    },
    {
      "cell_type": "code",
      "source": [
        "import os\n",
        "from openai import OpenAI\n",
        "\n",
        "client = OpenAI(\n",
        "    api_key = os.getenv(\"OPENAI_API_KEY\"),\n",
        ")\n",
        "# Example market analysis query\n",
        "market_query = \"Provide a brief analysis of the current stock market, focusing on key sectors showing growth.\"\n",
        "\n",
        "# Generate market insights\n",
        "completion = client.chat.completions.create(\n",
        "    model=\"gpt-3.5-turbo\",\n",
        "    messages=[\n",
        "        {\"role\": \"system\", \"content\": \"You are a market analyst who provides concise and accurate market insights.\"},\n",
        "        {\"role\": \"user\", \"content\": market_query}\n",
        "    ],\n",
        "    max_tokens=100,\n",
        "    temperature=0.6\n",
        ")\n",
        "\n",
        "print(\"Market Insights:\", completion.choices[0].message.content.strip())\n"
      ],
      "metadata": {
        "colab": {
          "base_uri": "https://localhost:8080/"
        },
        "id": "pLXlOJ89fspJ",
        "outputId": "a5b84f86-c85e-4918-dce2-0d99de6feb8b"
      },
      "execution_count": 18,
      "outputs": [
        {
          "output_type": "stream",
          "name": "stdout",
          "text": [
            "Market Insights: Currently, the stock market is showing overall strength, with key sectors such as technology, healthcare, and consumer discretionary leading the way in terms of growth. Technology stocks continue to benefit from the increasing digitization of the economy, while healthcare companies are seeing growth driven by innovation and an aging population. Consumer discretionary sectors are performing well as consumer confidence remains high. Investors should keep an eye on these sectors for potential investment opportunities.\n"
          ]
        }
      ]
    },
    {
      "cell_type": "markdown",
      "source": [
        "Portfolio Analyzer"
      ],
      "metadata": {
        "id": "3e_zaAQZf0Hr"
      }
    },
    {
      "cell_type": "code",
      "source": [
        "import os\n",
        "from openai import OpenAI\n",
        "\n",
        "client = OpenAI(\n",
        "    api_key = os.getenv(\"OPENAI_API_KEY\"),\n",
        ")\n",
        "# Sample portfolio information\n",
        "portfolio_info = \"\"\"\n",
        "The portfolio consists of 50% equities, 30% bonds, and 20% real estate.\n",
        "The equities are primarily in technology stocks, which have shown high volatility recently.\n",
        "\"\"\"\n",
        "\n",
        "# Generate a risk assessment\n",
        "completion = client.chat.completions.create(\n",
        "    model=\"gpt-3.5-turbo\",\n",
        "    messages=[\n",
        "        {\"role\": \"system\", \"content\": \"You are a financial advisor who explains investment risks in simple terms.\"},\n",
        "        {\"role\": \"user\", \"content\": f\"Assess the risk for the following investment portfolio: {portfolio_info}\"}\n",
        "    ],\n",
        "    max_tokens=100,\n",
        "    temperature=0.5\n",
        ")\n",
        "\n",
        "print(\"Risk Assessment:\", completion.choices[0].message.content.strip())\n"
      ],
      "metadata": {
        "colab": {
          "base_uri": "https://localhost:8080/"
        },
        "id": "T3tMk8BVfzeU",
        "outputId": "12c9f25b-2090-4d21-c410-49cf0ce18db1"
      },
      "execution_count": 19,
      "outputs": [
        {
          "output_type": "stream",
          "name": "stdout",
          "text": [
            "Risk Assessment: Investing in equities, bonds, and real estate provides diversification in your portfolio, which can help reduce risk. However, the high volatility of technology stocks can introduce additional risk to your portfolio.\n",
            "\n",
            "Equities, especially in technology stocks, are known for their price fluctuations, which can lead to significant gains but also losses. This volatility means that the value of your equity investments can change rapidly and unpredictably.\n",
            "\n",
            "Bonds are generally considered less risky than equities, but they still carry some level of\n"
          ]
        }
      ]
    },
    {
      "cell_type": "markdown",
      "source": [
        "Compliance and safety"
      ],
      "metadata": {
        "id": "LtiaEns4g5BT"
      }
    },
    {
      "cell_type": "code",
      "source": [
        "import openai\n",
        "import os\n",
        "from datetime import datetime\n",
        "\n",
        "# Set up your OpenAI API key\n",
        "openai.api_key = os.getenv(\"OPENAI_API_KEY\")\n",
        "\n",
        "# Sample query for testing\n",
        "query = \"Explain the importance of risk management in finance.\"\n",
        "\n",
        "# Log file setup\n",
        "log_file = \"ai_interactions_log.txt\"\n",
        "\n",
        "# Generate a response using GPT-3.5 Turbo\n",
        "completion = client.chat.completions.create(\n",
        "    model=\"gpt-3.5-turbo\",\n",
        "    messages=[\n",
        "        {\"role\": \"system\", \"content\": \"You are a financial expert providing advice on risk management.\"},\n",
        "        {\"role\": \"user\", \"content\": query}\n",
        "    ],\n",
        "    max_tokens=100,\n",
        "    temperature=0.5\n",
        ")\n",
        "\n",
        "# Extract the response content\n",
        "output = completion.choices[0].message.content.strip()\n",
        "\n",
        "# Log the interaction\n",
        "with open(log_file, \"a\") as log:\n",
        "    log.write(f\"Timestamp: {datetime.now()}\\n\")\n",
        "    log.write(f\"Query: {query}\\n\")\n",
        "    log.write(f\"Response: {output}\\n\")\n",
        "    log.write(\"=\"*50 + \"\\n\")\n",
        "\n",
        "print(\"Response:\", output)\n"
      ],
      "metadata": {
        "id": "6UY6O5u0g2sN",
        "outputId": "6cda6ba3-5267-49b7-fa89-52c5948028d6",
        "colab": {
          "base_uri": "https://localhost:8080/"
        }
      },
      "execution_count": 22,
      "outputs": [
        {
          "output_type": "stream",
          "name": "stdout",
          "text": [
            "Response: Risk management is crucial in finance to protect assets, investments, and overall financial well-being. Here are some key reasons why risk management is important:\n",
            "\n",
            "1. Protecting Investments: By identifying, assessing, and mitigating risks, individuals and organizations can protect their investments from potential losses. This is essential in ensuring long-term financial stability and growth.\n",
            "\n",
            "2. Ensuring Financial Stability: Effective risk management helps to ensure financial stability by minimizing the impact of unexpected events or market fluctuations. This can prevent financial crises and\n"
          ]
        }
      ]
    },
    {
      "cell_type": "code",
      "source": [
        "import openai\n",
        "import os\n",
        "from datetime import datetime\n",
        "\n",
        "# Set up your OpenAI API key\n",
        "openai.api_key = os.getenv(\"OPENAI_API_KEY\")\n",
        "\n",
        "# Example query for testing\n",
        "query = \"What are the current trends in the stock market?\"\n",
        "\n",
        "# Track start time\n",
        "start_time = datetime.now()\n",
        "\n",
        "# Generate a response using GPT-3.5 Turbo\n",
        "completion = client.chat.completions.create(\n",
        "    model=\"gpt-3.5-turbo\",\n",
        "    messages=[\n",
        "        {\"role\": \"system\", \"content\": \"You are a market analyst providing insights on stock market trends.\"},\n",
        "        {\"role\": \"user\", \"content\": query}\n",
        "    ],\n",
        "    max_tokens=100,\n",
        "    temperature=0.6\n",
        ")\n",
        "\n",
        "# Track end time\n",
        "end_time = datetime.now()\n",
        "\n",
        "# Calculate latency\n",
        "latency = (end_time - start_time).total_seconds()\n",
        "\n",
        "# Extract the response content\n",
        "output = completion.choices[0].message.content.strip()\n",
        "\n",
        "# Log performance metrics\n",
        "performance_log = \"performance_log.txt\"\n",
        "with open(performance_log, \"a\") as log:\n",
        "    log.write(f\"Timestamp: {datetime.now()}\\n\")\n",
        "    log.write(f\"Query: {query}\\n\")\n",
        "    log.write(f\"Response: {output}\\n\")\n",
        "    log.write(f\"Latency (seconds): {latency}\\n\")\n",
        "    log.write(\"=\"*50 + \"\\n\")\n",
        "\n",
        "print(\"Response:\", output)\n",
        "print(\"Latency (seconds):\", latency)\n"
      ],
      "metadata": {
        "id": "2pp0ePpmhg-R",
        "outputId": "19caf3cc-d3f7-4610-97d1-98ba133de201",
        "colab": {
          "base_uri": "https://localhost:8080/"
        }
      },
      "execution_count": 23,
      "outputs": [
        {
          "output_type": "stream",
          "name": "stdout",
          "text": [
            "Response: As of now, the stock market is experiencing volatility due to various factors such as geopolitical tensions, inflation concerns, and uncertainty surrounding the global economic recovery. Tech stocks have been particularly volatile, with investors closely monitoring interest rate movements and regulatory changes that could impact the sector.\n",
            "\n",
            "Value stocks have been performing well as investors seek opportunities in sectors that are expected to benefit from the economic reopening and infrastructure spending. Energy and financial sectors have also been gaining momentum as oil prices rise and interest rates potentially increase.\n",
            "\n",
            "Overall, it\n",
            "Latency (seconds): 1.594145\n"
          ]
        }
      ]
    }
  ],
  "metadata": {
    "colab": {
      "name": "Welcome To Colab",
      "toc_visible": true,
      "provenance": [],
      "include_colab_link": true
    },
    "kernelspec": {
      "display_name": "Python 3",
      "name": "python3"
    }
  },
  "nbformat": 4,
  "nbformat_minor": 0
}