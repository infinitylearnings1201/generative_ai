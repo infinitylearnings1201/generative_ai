{
  "nbformat": 4,
  "nbformat_minor": 0,
  "metadata": {
    "colab": {
      "provenance": [],
      "authorship_tag": "ABX9TyNnrhbZxvm0zx8/mgHSh+ns",
      "include_colab_link": true
    },
    "kernelspec": {
      "name": "python3",
      "display_name": "Python 3"
    },
    "language_info": {
      "name": "python"
    }
  },
  "cells": [
    {
      "cell_type": "markdown",
      "metadata": {
        "id": "view-in-github",
        "colab_type": "text"
      },
      "source": [
        "<a href=\"https://colab.research.google.com/github/infinitylearnings1201/generative_ai/blob/gen_ai_fundamentals/prompt_engineering.ipynb\" target=\"_parent\"><img src=\"https://colab.research.google.com/assets/colab-badge.svg\" alt=\"Open In Colab\"/></a>"
      ]
    },
    {
      "cell_type": "code",
      "execution_count": 7,
      "metadata": {
        "id": "z9JI2GovJoOa",
        "outputId": "50f6b5ac-c6be-4c57-af39-20da9f2df467",
        "colab": {
          "base_uri": "https://localhost:8080/"
        }
      },
      "outputs": [
        {
          "output_type": "stream",
          "name": "stderr",
          "text": [
            "Truncation was not explicitly activated but `max_length` is provided a specific value, please use `truncation=True` to explicitly truncate examples to max length. Defaulting to 'longest_first' truncation strategy. If you encode pairs of sequences (GLUE-style) with the tokenizer you can select this strategy more precisely by providing a specific strategy to `truncation`.\n",
            "Setting `pad_token_id` to `eos_token_id`:50256 for open-end generation.\n"
          ]
        },
        {
          "output_type": "stream",
          "name": "stdout",
          "text": [
            "Zero-Shot Response: What are the benefits of using AI in healthcare?\n",
            "\n",
            "The short answer is yes. AI in healthcare can dramatically improve patient care and reduce costs while maintaining patient satisfaction.\n",
            "\n",
            "In the past few decades, artificial intelligence has become the world's most\n"
          ]
        }
      ],
      "source": [
        "from transformers import pipeline\n",
        "\n",
        "# Initialize a text-generation pipeline\n",
        "generator = pipeline(\"text-generation\", model=\"gpt2\")\n",
        "\n",
        "# Zero-shot prompt\n",
        "prompt = \"What are the benefits of using AI in healthcare?\"\n",
        "response = generator(prompt, max_length=50, num_return_sequences=1)\n",
        "print(\"Zero-Shot Response:\", response[0][\"generated_text\"])\n"
      ]
    },
    {
      "cell_type": "code",
      "source": [
        "# Few-shot prompt with examples\n",
        "few_shot_prompt = \"\"\"\n",
        "Q: What is AI?\n",
        "A: AI stands for Artificial Intelligence, the simulation of human intelligence in machines.\n",
        "\n",
        "Q: What is machine learning?\n",
        "A: Machine learning is a subset of AI that enables machines to improve over time with experience.\n",
        "\n",
        "Q: What are neural networks?\n",
        "A:\n",
        "\"\"\"\n",
        "response = generator(few_shot_prompt, max_length=100, num_return_sequences=1)\n",
        "print(\"Few-Shot Response:\", response[0][\"generated_text\"])\n"
      ],
      "metadata": {
        "id": "OL7GnJWwKNFR",
        "outputId": "f7909e89-0b5c-41ad-99dc-9bc2e3b05907",
        "colab": {
          "base_uri": "https://localhost:8080/"
        }
      },
      "execution_count": 3,
      "outputs": [
        {
          "output_type": "stream",
          "name": "stderr",
          "text": [
            "Setting `pad_token_id` to `eos_token_id`:50256 for open-end generation.\n"
          ]
        },
        {
          "output_type": "stream",
          "name": "stdout",
          "text": [
            "Few-Shot Response: \n",
            "Q: What is AI?\n",
            "A: AI stands for Artificial Intelligence, the simulation of human intelligence in machines.\n",
            "\n",
            "Q: What is machine learning?\n",
            "A: Machine learning is a subset of AI that enables machines to improve over time with experience.\n",
            "\n",
            "Q: What are neural networks?\n",
            "A:\n",
            "\n",
            "Q: What are neural networks?\n",
            "\n",
            "A:\n",
            "\n",
            "Q: What is Neural network?\n",
            "\n",
            "A:\n",
            "\n",
            "Q: How do machines learn?\n"
          ]
        }
      ]
    },
    {
      "cell_type": "code",
      "source": [
        "# Test different phrasing\n",
        "prompts = [\n",
        "    \"Explain the benefits of AI in education.\",\n",
        "    \"List advantages of using AI in education.\",\n",
        "    \"How can AI improve educational outcomes?\",\n",
        "]\n",
        "\n",
        "for prompt in prompts:\n",
        "    response = generator(prompt, max_length=50, num_return_sequences=1)\n",
        "    print(f\"Prompt: {prompt}\")\n",
        "    print(\"Response:\", response[0][\"generated_text\"])\n",
        "    print(\"-\" * 50)\n"
      ],
      "metadata": {
        "id": "CkMgbFTDLG3l",
        "outputId": "a3ead816-626d-4091-8a5d-013965e18e73",
        "colab": {
          "base_uri": "https://localhost:8080/"
        }
      },
      "execution_count": 4,
      "outputs": [
        {
          "output_type": "stream",
          "name": "stderr",
          "text": [
            "Setting `pad_token_id` to `eos_token_id`:50256 for open-end generation.\n",
            "Setting `pad_token_id` to `eos_token_id`:50256 for open-end generation.\n"
          ]
        },
        {
          "output_type": "stream",
          "name": "stdout",
          "text": [
            "Prompt: Explain the benefits of AI in education.\n",
            "Response: Explain the benefits of AI in education.\n",
            "\n",
            "\n",
            "http://lafk.org/talks/technology/technorati/2016/10/22/technology-explain-the-benefits-of-autonomous-education\n",
            "--------------------------------------------------\n"
          ]
        },
        {
          "output_type": "stream",
          "name": "stderr",
          "text": [
            "Setting `pad_token_id` to `eos_token_id`:50256 for open-end generation.\n"
          ]
        },
        {
          "output_type": "stream",
          "name": "stdout",
          "text": [
            "Prompt: List advantages of using AI in education.\n",
            "Response: List advantages of using AI in education. While our understanding of artificial intelligence has improved in recent years, there is still an enormous gap in understanding the effects of such a large number of traits. While there are some benefits of having such a large number of\n",
            "--------------------------------------------------\n",
            "Prompt: How can AI improve educational outcomes?\n",
            "Response: How can AI improve educational outcomes?\n",
            "\n",
            "The AI approach is not necessarily that simple. A more rigorous approach is probably needed to understand how real-world artificial intelligence works and how the research in this area is progressing. As part of that work,\n",
            "--------------------------------------------------\n"
          ]
        }
      ]
    }
  ]
}