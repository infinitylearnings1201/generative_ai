{
  "nbformat": 4,
  "nbformat_minor": 0,
  "metadata": {
    "colab": {
      "provenance": [],
      "authorship_tag": "ABX9TyOXG/dltq273ge9Ix30aHA/",
      "include_colab_link": true
    },
    "kernelspec": {
      "name": "python3",
      "display_name": "Python 3"
    },
    "language_info": {
      "name": "python"
    }
  },
  "cells": [
    {
      "cell_type": "markdown",
      "metadata": {
        "id": "view-in-github",
        "colab_type": "text"
      },
      "source": [
        "<a href=\"https://colab.research.google.com/github/infinitylearnings1201/generative_ai/blob/gen_ai_fundamentals/BusinessAppsWithGenAI.ipynb\" target=\"_parent\"><img src=\"https://colab.research.google.com/assets/colab-badge.svg\" alt=\"Open In Colab\"/></a>"
      ]
    },
    {
      "cell_type": "code",
      "execution_count": null,
      "metadata": {
        "id": "H5cjvcGOKsxb"
      },
      "outputs": [],
      "source": [
        "import os\n",
        "\n",
        "# Set the environment variable for the API key\n",
        "os.environ[\"OPENAI_API_KEY\"] = \"\""
      ]
    },
    {
      "cell_type": "code",
      "source": [
        "import os\n",
        "from openai import OpenAI\n",
        "\n",
        "client = OpenAI(\n",
        "    api_key = os.getenv(\"OPENAI_API_KEY\"),\n",
        ")\n",
        "\n",
        "completion = client.chat.completions.create(\n",
        "  model = \"gpt-3.5-turbo\",\n",
        "  messages = [\n",
        "    {\"role\": \"system\", \"content\": \"You are a helpful assistant.\"},\n",
        "    {\"role\": \"user\", \"content\": \"Hello!\"},\n",
        "  ]\n",
        ")\n",
        "\n",
        "print(completion.choices[0].message.content.strip())\n"
      ],
      "metadata": {
        "id": "WMZe82Y8Nbj9",
        "outputId": "b71b6d8b-b617-40cc-d715-fa6c62cf63b0",
        "colab": {
          "base_uri": "https://localhost:8080/"
        }
      },
      "execution_count": null,
      "outputs": [
        {
          "output_type": "stream",
          "name": "stdout",
          "text": [
            "Hello! How can I assist you today?\n"
          ]
        }
      ]
    },
    {
      "cell_type": "code",
      "source": [
        "import os\n",
        "from openai import OpenAI\n",
        "\n",
        "# Initialize the OpenAI client with the API key from the environment variable\n",
        "client = OpenAI(\n",
        "    api_key=os.getenv(\"OPENAI_API_KEY\"),\n",
        ")\n",
        "\n",
        "# Sample document content for summarization\n",
        "document_content = \"\"\"\n",
        "Artificial intelligence (AI) is transforming industries by providing innovative solutions that enhance efficiency, productivity, and decision-making.\n",
        "In finance, AI applications range from automated trading to fraud detection. In healthcare, AI assists in diagnosis, treatment recommendations, and patient monitoring.\n",
        "The impact of AI is growing, and businesses are increasingly adopting these technologies to gain a competitive edge.\n",
        "\"\"\"\n",
        "\n",
        "# Generate a summary with GPT-3.5 Turbo\n",
        "completion = client.chat.completions.create(\n",
        "    model=\"gpt-3.5-turbo\",\n",
        "    messages=[\n",
        "        {\"role\": \"system\", \"content\": \"You are a helpful assistant that summarizes text.\"},\n",
        "        {\"role\": \"user\", \"content\": f\"Please summarize the following document briefly:\\n\\n{document_content}\"}\n",
        "    ],\n",
        "    max_tokens=50  # Limits the response length to control cost\n",
        ")\n",
        "\n",
        "# Print the summarized content\n",
        "print(completion.choices[0].message.content.strip())\n"
      ],
      "metadata": {
        "id": "YcMgNbgiOCah",
        "outputId": "bdd2fb05-7a5b-425f-ba49-ce738b3b1c52",
        "colab": {
          "base_uri": "https://localhost:8080/"
        }
      },
      "execution_count": null,
      "outputs": [
        {
          "output_type": "stream",
          "name": "stdout",
          "text": [
            "The document highlights that artificial intelligence (AI) is revolutionizing various industries, offering efficient solutions that improve productivity and decision-making. AI applications are transforming finance through automated trading and fraud detection, while in healthcare, AI aids in diagnosis, treatment recommendations, and\n"
          ]
        }
      ]
    },
    {
      "cell_type": "code",
      "source": [
        "import os\n",
        "from openai import OpenAI\n",
        "\n",
        "client = OpenAI(api_key=os.getenv(\"OPENAI_API_KEY\"))\n",
        "\n",
        "# Customer question example\n",
        "customer_query = \"How can I reset my password?\"\n",
        "\n",
        "# Generate a response for customer support\n",
        "completion = client.chat.completions.create(\n",
        "    model=\"gpt-3.5-turbo\",\n",
        "    messages=[\n",
        "        {\"role\": \"system\", \"content\": \"You are a customer support assistant.\"},\n",
        "        {\"role\": \"user\", \"content\": customer_query}\n",
        "    ],\n",
        "    max_tokens=50\n",
        ")\n",
        "\n",
        "print(\"Customer Support Response:\", completion.choices[0].message.content.strip())\n"
      ],
      "metadata": {
        "id": "TXhHaerhO9iG",
        "outputId": "f6bc5208-5420-4b4b-ba94-47d5ceb27384",
        "colab": {
          "base_uri": "https://localhost:8080/"
        }
      },
      "execution_count": 15,
      "outputs": [
        {
          "output_type": "stream",
          "name": "stdout",
          "text": [
            "Customer Support Response: To reset your password, please follow these steps:\n",
            "1. Go to the login page of the website or app where you need to reset your password.\n",
            "2. Look for an option that says \"Forgot Password?\" or something similar. Click on that option\n"
          ]
        }
      ]
    },
    {
      "cell_type": "code",
      "source": [
        "import os\n",
        "from openai import OpenAI\n",
        "\n",
        "client = OpenAI(api_key=os.getenv(\"OPENAI_API_KEY\"))\n",
        "\n",
        "# Product description example\n",
        "product_name = \"Eco-Friendly Water Bottle\"\n",
        "product_details = \"Made from 100% recycled materials, keeps beverages cold for 24 hours.\"\n",
        "\n",
        "# Generate a catchy product description\n",
        "completion = client.chat.completions.create(\n",
        "    model=\"gpt-3.5-turbo\",\n",
        "    messages=[\n",
        "        {\"role\": \"system\", \"content\": \"You are a creative marketing assistant.\"},\n",
        "        {\"role\": \"user\", \"content\": f\"Write a catchy product description for {product_name}: {product_details}\"}\n",
        "    ],\n",
        "    max_tokens=60\n",
        ")\n",
        "\n",
        "print(\"Product Description:\", completion.choices[0].message.content.strip())\n"
      ],
      "metadata": {
        "id": "LNnyS_JuPGuu",
        "outputId": "f4713e4b-c940-4736-c106-83e24fa797ba",
        "colab": {
          "base_uri": "https://localhost:8080/"
        }
      },
      "execution_count": 16,
      "outputs": [
        {
          "output_type": "stream",
          "name": "stdout",
          "text": [
            "Product Description: Introducing our Eco-Friendly Water Bottle - the sustainable solution for hydrating on the go! Crafted from 100% recycled materials, this stylish bottle not only helps reduce waste but also keeps your beverages icy cold for a refreshing 24 hours. Stay cool, stay eco-conscious with our Eco-F\n"
          ]
        }
      ]
    }
  ]
}